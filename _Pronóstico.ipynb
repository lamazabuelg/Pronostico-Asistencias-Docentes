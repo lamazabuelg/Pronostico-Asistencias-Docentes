{
 "cells": [
  {
   "cell_type": "markdown",
   "metadata": {
    "colab_type": "text",
    "id": "M8WItGpcpj3W"
   },
   "source": [
    "# Importación de la base"
   ]
  },
  {
   "cell_type": "code",
   "execution_count": 2,
   "metadata": {
    "colab": {
     "base_uri": "https://localhost:8080/",
     "height": 71
    },
    "colab_type": "code",
    "executionInfo": {
     "elapsed": 5769,
     "status": "ok",
     "timestamp": 1594245559633,
     "user": {
      "displayName": "Carlos Alberto Galindo Rojas",
      "photoUrl": "https://lh3.googleusercontent.com/a-/AOh14Gj5JBL13GeQ-dXVWRyPNRmQqYgvAmHXhSs_kz_xeA=s64",
      "userId": "08125390419017637646"
     },
     "user_tz": 300
    },
    "id": "MpKYOsRONzjV",
    "outputId": "3fe2954f-0929-44b3-d6b5-f6cdd90d1895"
   },
   "outputs": [
    {
     "name": "stderr",
     "output_type": "stream",
     "text": [
      "/usr/local/lib/python3.6/dist-packages/statsmodels/tools/_testing.py:19: FutureWarning: pandas.util.testing is deprecated. Use the functions in the public API at pandas.testing instead.\n",
      "  import pandas.util.testing as tm\n"
     ]
    }
   ],
   "source": [
    "#Paquetes a usar\n",
    "import numpy as np\n",
    "import pandas as pd\n",
    "import matplotlib.pyplot as plt\n",
    "import statsmodels.api as sm"
   ]
  },
  {
   "cell_type": "code",
   "execution_count": 3,
   "metadata": {
    "colab": {
     "base_uri": "https://localhost:8080/",
     "height": 34
    },
    "colab_type": "code",
    "executionInfo": {
     "elapsed": 7056,
     "status": "ok",
     "timestamp": 1594245561007,
     "user": {
      "displayName": "Carlos Alberto Galindo Rojas",
      "photoUrl": "https://lh3.googleusercontent.com/a-/AOh14Gj5JBL13GeQ-dXVWRyPNRmQqYgvAmHXhSs_kz_xeA=s64",
      "userId": "08125390419017637646"
     },
     "user_tz": 300
    },
    "id": "OPMaY3hDp89R",
    "outputId": "e780d78e-41ed-440d-baa0-4af5a5da9edc"
   },
   "outputs": [
    {
     "name": "stdout",
     "output_type": "stream",
     "text": [
      "Drive already mounted at /content/drive; to attempt to forcibly remount, call drive.mount(\"/content/drive\", force_remount=True).\n"
     ]
    }
   ],
   "source": [
    "#Conectar con Google Drive:\n",
    "\n",
    "from google.colab import drive\n",
    "drive.mount('/content/drive')"
   ]
  },
  {
   "cell_type": "code",
   "execution_count": 4,
   "metadata": {
    "colab": {
     "base_uri": "https://localhost:8080/",
     "height": 623
    },
    "colab_type": "code",
    "executionInfo": {
     "elapsed": 8306,
     "status": "ok",
     "timestamp": 1594245562361,
     "user": {
      "displayName": "Carlos Alberto Galindo Rojas",
      "photoUrl": "https://lh3.googleusercontent.com/a-/AOh14Gj5JBL13GeQ-dXVWRyPNRmQqYgvAmHXhSs_kz_xeA=s64",
      "userId": "08125390419017637646"
     },
     "user_tz": 300
    },
    "id": "TefA7wFuqBZN",
    "outputId": "bdc5b282-892e-40b1-ef44-ff68881ebfad"
   },
   "outputs": [
    {
     "data": {
      "text/html": [
       "<div>\n",
       "<style scoped>\n",
       "    .dataframe tbody tr th:only-of-type {\n",
       "        vertical-align: middle;\n",
       "    }\n",
       "\n",
       "    .dataframe tbody tr th {\n",
       "        vertical-align: top;\n",
       "    }\n",
       "\n",
       "    .dataframe thead th {\n",
       "        text-align: right;\n",
       "    }\n",
       "</style>\n",
       "<table border=\"1\" class=\"dataframe\">\n",
       "  <thead>\n",
       "    <tr style=\"text-align: right;\">\n",
       "      <th></th>\n",
       "      <th>Id_Asistencia</th>\n",
       "      <th>Materia</th>\n",
       "      <th>Software</th>\n",
       "      <th>Profesor Encargado</th>\n",
       "      <th>Programa Curricular</th>\n",
       "      <th>Nivel académico</th>\n",
       "      <th>Fecha</th>\n",
       "      <th>Día de la semana</th>\n",
       "      <th>Horario</th>\n",
       "      <th>Número de participantes</th>\n",
       "      <th>Semestre</th>\n",
       "      <th>Semana del semestre</th>\n",
       "    </tr>\n",
       "  </thead>\n",
       "  <tbody>\n",
       "    <tr>\n",
       "      <th>0</th>\n",
       "      <td>AD20170101</td>\n",
       "      <td>Fundamentos de Finanzas</td>\n",
       "      <td>Excel</td>\n",
       "      <td>Luis German Ome</td>\n",
       "      <td>Administración de Empresas</td>\n",
       "      <td>Pregrado</td>\n",
       "      <td>2017-02-06</td>\n",
       "      <td>lunes</td>\n",
       "      <td>18:00 - 20:00</td>\n",
       "      <td>NaN</td>\n",
       "      <td>2017-01</td>\n",
       "      <td>2</td>\n",
       "    </tr>\n",
       "    <tr>\n",
       "      <th>1</th>\n",
       "      <td>AD20170102</td>\n",
       "      <td>Estrategia de Mercados</td>\n",
       "      <td>Moodle</td>\n",
       "      <td>Alvaro Viña</td>\n",
       "      <td>Administración de Empresas</td>\n",
       "      <td>Pregrado</td>\n",
       "      <td>2017-02-08</td>\n",
       "      <td>miércoles</td>\n",
       "      <td>10:00 - 11:00</td>\n",
       "      <td>NaN</td>\n",
       "      <td>2017-01</td>\n",
       "      <td>2</td>\n",
       "    </tr>\n",
       "    <tr>\n",
       "      <th>2</th>\n",
       "      <td>AD20170103</td>\n",
       "      <td>Maestría en Administración</td>\n",
       "      <td>Moodle</td>\n",
       "      <td>Luis Alejandro Rodríguez</td>\n",
       "      <td>Maestría en Administración</td>\n",
       "      <td>Posgrado</td>\n",
       "      <td>2017-02-10</td>\n",
       "      <td>viernes</td>\n",
       "      <td>09:00 - 10:00</td>\n",
       "      <td>NaN</td>\n",
       "      <td>2017-01</td>\n",
       "      <td>2</td>\n",
       "    </tr>\n",
       "    <tr>\n",
       "      <th>3</th>\n",
       "      <td>AD20170104</td>\n",
       "      <td>Fundamentos de Finanzas</td>\n",
       "      <td>Excel</td>\n",
       "      <td>Luis German Ome</td>\n",
       "      <td>Administración de Empresas</td>\n",
       "      <td>Pregrado</td>\n",
       "      <td>2017-02-13</td>\n",
       "      <td>lunes</td>\n",
       "      <td>18:00 - 20:00</td>\n",
       "      <td>NaN</td>\n",
       "      <td>2017-01</td>\n",
       "      <td>3</td>\n",
       "    </tr>\n",
       "    <tr>\n",
       "      <th>4</th>\n",
       "      <td>AD20170105</td>\n",
       "      <td>Teoría Contemporanea de la Organización</td>\n",
       "      <td>Moodle</td>\n",
       "      <td>Alex Árias</td>\n",
       "      <td>Administración de Empresas</td>\n",
       "      <td>Pregrado</td>\n",
       "      <td>2017-02-13</td>\n",
       "      <td>lunes</td>\n",
       "      <td>10:00 - 11:00</td>\n",
       "      <td>NaN</td>\n",
       "      <td>2017-01</td>\n",
       "      <td>3</td>\n",
       "    </tr>\n",
       "    <tr>\n",
       "      <th>...</th>\n",
       "      <td>...</td>\n",
       "      <td>...</td>\n",
       "      <td>...</td>\n",
       "      <td>...</td>\n",
       "      <td>...</td>\n",
       "      <td>...</td>\n",
       "      <td>...</td>\n",
       "      <td>...</td>\n",
       "      <td>...</td>\n",
       "      <td>...</td>\n",
       "      <td>...</td>\n",
       "      <td>...</td>\n",
       "    </tr>\n",
       "    <tr>\n",
       "      <th>302</th>\n",
       "      <td>AD20190242</td>\n",
       "      <td>Seminario de Investigación I y II</td>\n",
       "      <td>Latex</td>\n",
       "      <td>Karoll Gomez Portilla</td>\n",
       "      <td>Economía</td>\n",
       "      <td>Posgrado</td>\n",
       "      <td>2019-11-19</td>\n",
       "      <td>martes</td>\n",
       "      <td>11:00 - 13:00</td>\n",
       "      <td>5.0</td>\n",
       "      <td>2019-02</td>\n",
       "      <td>13</td>\n",
       "    </tr>\n",
       "    <tr>\n",
       "      <th>303</th>\n",
       "      <td>AD20190243</td>\n",
       "      <td>Diseño, gestión y evaluación de proyectos</td>\n",
       "      <td>Microsoft Project</td>\n",
       "      <td>Natali Barrera</td>\n",
       "      <td>Administración de Empresas</td>\n",
       "      <td>Pregrado</td>\n",
       "      <td>2019-11-19</td>\n",
       "      <td>martes</td>\n",
       "      <td>16:00 - 18:00</td>\n",
       "      <td>30.0</td>\n",
       "      <td>2019-02</td>\n",
       "      <td>13</td>\n",
       "    </tr>\n",
       "    <tr>\n",
       "      <th>304</th>\n",
       "      <td>AD20190244</td>\n",
       "      <td>Diseño, gestión y evaluación de proyectos</td>\n",
       "      <td>Microsoft Project</td>\n",
       "      <td>Natali Barrera</td>\n",
       "      <td>Administración de Empresas</td>\n",
       "      <td>Pregrado</td>\n",
       "      <td>2019-11-21</td>\n",
       "      <td>jueves</td>\n",
       "      <td>16:00 - 18:00</td>\n",
       "      <td>30.0</td>\n",
       "      <td>2019-02</td>\n",
       "      <td>13</td>\n",
       "    </tr>\n",
       "    <tr>\n",
       "      <th>305</th>\n",
       "      <td>AD20190245</td>\n",
       "      <td>Decisiones, comportamiento y neuroeconomía</td>\n",
       "      <td>Z-tree</td>\n",
       "      <td>Mario Garcia Molina</td>\n",
       "      <td>Economía</td>\n",
       "      <td>Posgrado</td>\n",
       "      <td>2019-12-03</td>\n",
       "      <td>martes</td>\n",
       "      <td>18:00 - 20:00</td>\n",
       "      <td>10.0</td>\n",
       "      <td>2019-02</td>\n",
       "      <td>15</td>\n",
       "    </tr>\n",
       "    <tr>\n",
       "      <th>306</th>\n",
       "      <td>AD20190246</td>\n",
       "      <td>Decisiones, comportamiento y neuroeconomía</td>\n",
       "      <td>Z-tree</td>\n",
       "      <td>Mario Garcia Molina</td>\n",
       "      <td>Economía</td>\n",
       "      <td>Posgrado</td>\n",
       "      <td>2019-12-05</td>\n",
       "      <td>jueves</td>\n",
       "      <td>18:00 - 20:00</td>\n",
       "      <td>10.0</td>\n",
       "      <td>2019-02</td>\n",
       "      <td>15</td>\n",
       "    </tr>\n",
       "  </tbody>\n",
       "</table>\n",
       "<p>307 rows × 12 columns</p>\n",
       "</div>"
      ],
      "text/plain": [
       "    Id_Asistencia  ... Semana del semestre\n",
       "0      AD20170101  ...                   2\n",
       "1      AD20170102  ...                   2\n",
       "2      AD20170103  ...                   2\n",
       "3      AD20170104  ...                   3\n",
       "4      AD20170105  ...                   3\n",
       "..            ...  ...                 ...\n",
       "302    AD20190242  ...                  13\n",
       "303    AD20190243  ...                  13\n",
       "304    AD20190244  ...                  13\n",
       "305    AD20190245  ...                  15\n",
       "306    AD20190246  ...                  15\n",
       "\n",
       "[307 rows x 12 columns]"
      ]
     },
     "execution_count": 4,
     "metadata": {
      "tags": []
     },
     "output_type": "execute_result"
    }
   ],
   "source": [
    "#Base de datos:\n",
    "\n",
    "data=pd.read_excel('/content/drive/My Drive/UIFCE/Actividades 2020-1/Base de datos asistencias docentes/Base de datos definitiva.xlsx')\n",
    "data"
   ]
  },
  {
   "cell_type": "code",
   "execution_count": 5,
   "metadata": {
    "colab": {
     "base_uri": "https://localhost:8080/",
     "height": 340
    },
    "colab_type": "code",
    "executionInfo": {
     "elapsed": 8237,
     "status": "ok",
     "timestamp": 1594245562372,
     "user": {
      "displayName": "Carlos Alberto Galindo Rojas",
      "photoUrl": "https://lh3.googleusercontent.com/a-/AOh14Gj5JBL13GeQ-dXVWRyPNRmQqYgvAmHXhSs_kz_xeA=s64",
      "userId": "08125390419017637646"
     },
     "user_tz": 300
    },
    "id": "z9X5SuNHNzlK",
    "outputId": "9c263aae-4b88-428f-efd9-643bf37ccf08"
   },
   "outputs": [
    {
     "name": "stdout",
     "output_type": "stream",
     "text": [
      "<class 'pandas.core.frame.DataFrame'>\n",
      "RangeIndex: 307 entries, 0 to 306\n",
      "Data columns (total 12 columns):\n",
      " #   Column                   Non-Null Count  Dtype         \n",
      "---  ------                   --------------  -----         \n",
      " 0   Id_Asistencia            307 non-null    object        \n",
      " 1   Materia                  303 non-null    object        \n",
      " 2   Software                 307 non-null    object        \n",
      " 3   Profesor Encargado       307 non-null    object        \n",
      " 4   Programa Curricular      305 non-null    object        \n",
      " 5   Nivel académico          307 non-null    object        \n",
      " 6   Fecha                    307 non-null    datetime64[ns]\n",
      " 7   Día de la semana         307 non-null    object        \n",
      " 8   Horario                  265 non-null    object        \n",
      " 9   Número de participantes  209 non-null    float64       \n",
      " 10  Semestre                 307 non-null    object        \n",
      " 11  Semana del semestre      307 non-null    int64         \n",
      "dtypes: datetime64[ns](1), float64(1), int64(1), object(9)\n",
      "memory usage: 28.9+ KB\n"
     ]
    }
   ],
   "source": [
    "data.info()"
   ]
  },
  {
   "cell_type": "markdown",
   "metadata": {
    "colab_type": "text",
    "id": "Z3aUKPajNzll"
   },
   "source": [
    "# 1. Modelo de MCO"
   ]
  },
  {
   "cell_type": "code",
   "execution_count": 6,
   "metadata": {
    "colab": {},
    "colab_type": "code",
    "executionInfo": {
     "elapsed": 8204,
     "status": "ok",
     "timestamp": 1594245562374,
     "user": {
      "displayName": "Carlos Alberto Galindo Rojas",
      "photoUrl": "https://lh3.googleusercontent.com/a-/AOh14Gj5JBL13GeQ-dXVWRyPNRmQqYgvAmHXhSs_kz_xeA=s64",
      "userId": "08125390419017637646"
     },
     "user_tz": 300
    },
    "id": "leEQwsQsNzln"
   },
   "outputs": [],
   "source": [
    "numero_asistencias = data.groupby(\"Fecha\").count()[[\"Id_Asistencia\"]]"
   ]
  },
  {
   "cell_type": "code",
   "execution_count": 7,
   "metadata": {
    "colab": {},
    "colab_type": "code",
    "executionInfo": {
     "elapsed": 8189,
     "status": "ok",
     "timestamp": 1594245562378,
     "user": {
      "displayName": "Carlos Alberto Galindo Rojas",
      "photoUrl": "https://lh3.googleusercontent.com/a-/AOh14Gj5JBL13GeQ-dXVWRyPNRmQqYgvAmHXhSs_kz_xeA=s64",
      "userId": "08125390419017637646"
     },
     "user_tz": 300
    },
    "id": "a-dy4emdNzl0"
   },
   "outputs": [],
   "source": [
    "numero_asistencias.rename(columns = {\"Id_Asistencia\": \"Número de asistencias\"}, inplace = True)"
   ]
  },
  {
   "cell_type": "code",
   "execution_count": 8,
   "metadata": {
    "colab": {
     "base_uri": "https://localhost:8080/",
     "height": 228
    },
    "colab_type": "code",
    "executionInfo": {
     "elapsed": 9231,
     "status": "ok",
     "timestamp": 1594245563496,
     "user": {
      "displayName": "Carlos Alberto Galindo Rojas",
      "photoUrl": "https://lh3.googleusercontent.com/a-/AOh14Gj5JBL13GeQ-dXVWRyPNRmQqYgvAmHXhSs_kz_xeA=s64",
      "userId": "08125390419017637646"
     },
     "user_tz": 300
    },
    "id": "3SbWVG5dNzmg",
    "outputId": "fbe3cf14-7252-4c0e-d366-ed5bed158360"
   },
   "outputs": [
    {
     "data": {
      "text/plain": [
       "<matplotlib.collections.PathCollection at 0x7feeccfb7c50>"
      ]
     },
     "execution_count": 8,
     "metadata": {
      "tags": []
     },
     "output_type": "execute_result"
    },
    {
     "data": {
      "image/png": "[encoded data removed]",
      "text/plain": [
       "<Figure size 864x216 with 1 Axes>"
      ]
     },
     "metadata": {
      "needs_background": "light",
      "tags": []
     },
     "output_type": "display_data"
    }
   ],
   "source": [
    "fig, ax = plt.subplots(figsize = (12,3))\n",
    "ax.scatter(numero_asistencias.index, numero_asistencias[\"Número de asistencias\"])"
   ]
  },
  {
   "cell_type": "code",
   "execution_count": 9,
   "metadata": {
    "colab": {},
    "colab_type": "code",
    "executionInfo": {
     "elapsed": 9163,
     "status": "ok",
     "timestamp": 1594245563501,
     "user": {
      "displayName": "Carlos Alberto Galindo Rojas",
      "photoUrl": "https://lh3.googleusercontent.com/a-/AOh14Gj5JBL13GeQ-dXVWRyPNRmQqYgvAmHXhSs_kz_xeA=s64",
      "userId": "08125390419017637646"
     },
     "user_tz": 300
    },
    "id": "7RaEeYHZNznJ"
   },
   "outputs": [],
   "source": [
    "info_explicativas = data[[\"Día de la semana\", \"Semestre\", \"Semana del semestre\", \"Fecha\"]].set_index(\"Fecha\")"
   ]
  },
  {
   "cell_type": "code",
   "execution_count": 10,
   "metadata": {
    "colab": {},
    "colab_type": "code",
    "executionInfo": {
     "elapsed": 9141,
     "status": "ok",
     "timestamp": 1594245563504,
     "user": {
      "displayName": "Carlos Alberto Galindo Rojas",
      "photoUrl": "https://lh3.googleusercontent.com/a-/AOh14Gj5JBL13GeQ-dXVWRyPNRmQqYgvAmHXhSs_kz_xeA=s64",
      "userId": "08125390419017637646"
     },
     "user_tz": 300
    },
    "id": "ePRZzohyNznX"
   },
   "outputs": [],
   "source": [
    "dataset_modelo = pd.concat([numero_asistencias, info_explicativas], axis = 1)"
   ]
  },
  {
   "cell_type": "code",
   "execution_count": 11,
   "metadata": {
    "colab": {
     "base_uri": "https://localhost:8080/",
     "height": 235
    },
    "colab_type": "code",
    "executionInfo": {
     "elapsed": 9054,
     "status": "ok",
     "timestamp": 1594245563507,
     "user": {
      "displayName": "Carlos Alberto Galindo Rojas",
      "photoUrl": "https://lh3.googleusercontent.com/a-/AOh14Gj5JBL13GeQ-dXVWRyPNRmQqYgvAmHXhSs_kz_xeA=s64",
      "userId": "08125390419017637646"
     },
     "user_tz": 300
    },
    "id": "ucbq-EzaNzoO",
    "outputId": "b378e3ba-613c-4529-8dcc-bfa5482c8fc8"
   },
   "outputs": [
    {
     "data": {
      "text/html": [
       "<div>\n",
       "<style scoped>\n",
       "    .dataframe tbody tr th:only-of-type {\n",
       "        vertical-align: middle;\n",
       "    }\n",
       "\n",
       "    .dataframe tbody tr th {\n",
       "        vertical-align: top;\n",
       "    }\n",
       "\n",
       "    .dataframe thead th {\n",
       "        text-align: right;\n",
       "    }\n",
       "</style>\n",
       "<table border=\"1\" class=\"dataframe\">\n",
       "  <thead>\n",
       "    <tr style=\"text-align: right;\">\n",
       "      <th></th>\n",
       "      <th>Número de asistencias</th>\n",
       "      <th>Día de la semana</th>\n",
       "      <th>Semestre</th>\n",
       "      <th>Semana del semestre</th>\n",
       "    </tr>\n",
       "    <tr>\n",
       "      <th>Fecha</th>\n",
       "      <th></th>\n",
       "      <th></th>\n",
       "      <th></th>\n",
       "      <th></th>\n",
       "    </tr>\n",
       "  </thead>\n",
       "  <tbody>\n",
       "    <tr>\n",
       "      <th>2017-02-06</th>\n",
       "      <td>1</td>\n",
       "      <td>lunes</td>\n",
       "      <td>2017-01</td>\n",
       "      <td>2</td>\n",
       "    </tr>\n",
       "    <tr>\n",
       "      <th>2017-02-08</th>\n",
       "      <td>1</td>\n",
       "      <td>miércoles</td>\n",
       "      <td>2017-01</td>\n",
       "      <td>2</td>\n",
       "    </tr>\n",
       "    <tr>\n",
       "      <th>2017-02-10</th>\n",
       "      <td>1</td>\n",
       "      <td>viernes</td>\n",
       "      <td>2017-01</td>\n",
       "      <td>2</td>\n",
       "    </tr>\n",
       "    <tr>\n",
       "      <th>2017-02-13</th>\n",
       "      <td>2</td>\n",
       "      <td>lunes</td>\n",
       "      <td>2017-01</td>\n",
       "      <td>3</td>\n",
       "    </tr>\n",
       "    <tr>\n",
       "      <th>2017-02-13</th>\n",
       "      <td>2</td>\n",
       "      <td>lunes</td>\n",
       "      <td>2017-01</td>\n",
       "      <td>3</td>\n",
       "    </tr>\n",
       "  </tbody>\n",
       "</table>\n",
       "</div>"
      ],
      "text/plain": [
       "            Número de asistencias  ... Semana del semestre\n",
       "Fecha                              ...                    \n",
       "2017-02-06                      1  ...                   2\n",
       "2017-02-08                      1  ...                   2\n",
       "2017-02-10                      1  ...                   2\n",
       "2017-02-13                      2  ...                   3\n",
       "2017-02-13                      2  ...                   3\n",
       "\n",
       "[5 rows x 4 columns]"
      ]
     },
     "execution_count": 11,
     "metadata": {
      "tags": []
     },
     "output_type": "execute_result"
    }
   ],
   "source": [
    "dataset_modelo.head()"
   ]
  },
  {
   "cell_type": "code",
   "execution_count": 12,
   "metadata": {
    "colab": {},
    "colab_type": "code",
    "executionInfo": {
     "elapsed": 9008,
     "status": "ok",
     "timestamp": 1594245563510,
     "user": {
      "displayName": "Carlos Alberto Galindo Rojas",
      "photoUrl": "https://lh3.googleusercontent.com/a-/AOh14Gj5JBL13GeQ-dXVWRyPNRmQqYgvAmHXhSs_kz_xeA=s64",
      "userId": "08125390419017637646"
     },
     "user_tz": 300
    },
    "id": "LE1CnC_rNzog"
   },
   "outputs": [],
   "source": [
    "dataset_modelo.drop_duplicates(inplace = True)"
   ]
  },
  {
   "cell_type": "code",
   "execution_count": 13,
   "metadata": {
    "colab": {
     "base_uri": "https://localhost:8080/",
     "height": 51
    },
    "colab_type": "code",
    "executionInfo": {
     "elapsed": 8983,
     "status": "ok",
     "timestamp": 1594245563536,
     "user": {
      "displayName": "Carlos Alberto Galindo Rojas",
      "photoUrl": "https://lh3.googleusercontent.com/a-/AOh14Gj5JBL13GeQ-dXVWRyPNRmQqYgvAmHXhSs_kz_xeA=s64",
      "userId": "08125390419017637646"
     },
     "user_tz": 300
    },
    "id": "JGbRaBJBNzo-",
    "outputId": "87788afd-b060-4131-e54c-f23943ab1759"
   },
   "outputs": [
    {
     "data": {
      "text/plain": [
       "array(['2017-01', '2017-02', '2018-01', '2018-02', '2019-01', '2019-02'],\n",
       "      dtype=object)"
      ]
     },
     "execution_count": 13,
     "metadata": {
      "tags": []
     },
     "output_type": "execute_result"
    }
   ],
   "source": [
    "dataset_modelo[\"Semestre\"].unique()"
   ]
  },
  {
   "cell_type": "code",
   "execution_count": 14,
   "metadata": {
    "colab": {},
    "colab_type": "code",
    "executionInfo": {
     "elapsed": 8968,
     "status": "ok",
     "timestamp": 1594245563539,
     "user": {
      "displayName": "Carlos Alberto Galindo Rojas",
      "photoUrl": "https://lh3.googleusercontent.com/a-/AOh14Gj5JBL13GeQ-dXVWRyPNRmQqYgvAmHXhSs_kz_xeA=s64",
      "userId": "08125390419017637646"
     },
     "user_tz": 300
    },
    "id": "_wK1Ggq4Nzpm"
   },
   "outputs": [],
   "source": [
    "# Mapear semestre:\n",
    "dataset_modelo[\"Semestre\"] = dataset_modelo[\"Semestre\"].map({\"2017-01\": 1, \n",
    "                                                             \"2017-02\": 2, \n",
    "                                                             \"2018-01\": 3, \n",
    "                                                             \"2018-02\": 4, \n",
    "                                                             \"2019-01\": 5, \n",
    "                                                             \"2019-02\": 6})"
   ]
  },
  {
   "cell_type": "code",
   "execution_count": 15,
   "metadata": {
    "colab": {},
    "colab_type": "code",
    "executionInfo": {
     "elapsed": 8928,
     "status": "ok",
     "timestamp": 1594245563541,
     "user": {
      "displayName": "Carlos Alberto Galindo Rojas",
      "photoUrl": "https://lh3.googleusercontent.com/a-/AOh14Gj5JBL13GeQ-dXVWRyPNRmQqYgvAmHXhSs_kz_xeA=s64",
      "userId": "08125390419017637646"
     },
     "user_tz": 300
    },
    "id": "hjo-Daj0Nzpw"
   },
   "outputs": [],
   "source": [
    "# Convertir semana del semestre a categórica: \n",
    "dataset_modelo[\"Semana del semestre\"] = dataset_modelo[\"Semana del semestre\"].astype(str)"
   ]
  },
  {
   "cell_type": "code",
   "execution_count": 16,
   "metadata": {
    "colab": {},
    "colab_type": "code",
    "executionInfo": {
     "elapsed": 8869,
     "status": "ok",
     "timestamp": 1594245563549,
     "user": {
      "displayName": "Carlos Alberto Galindo Rojas",
      "photoUrl": "https://lh3.googleusercontent.com/a-/AOh14Gj5JBL13GeQ-dXVWRyPNRmQqYgvAmHXhSs_kz_xeA=s64",
      "userId": "08125390419017637646"
     },
     "user_tz": 300
    },
    "id": "5ZcMnniANzp6"
   },
   "outputs": [],
   "source": [
    "dataset_modelo = pd.get_dummies(dataset_modelo)"
   ]
  },
  {
   "cell_type": "code",
   "execution_count": 17,
   "metadata": {
    "colab": {},
    "colab_type": "code",
    "executionInfo": {
     "elapsed": 8841,
     "status": "ok",
     "timestamp": 1594245563557,
     "user": {
      "displayName": "Carlos Alberto Galindo Rojas",
      "photoUrl": "https://lh3.googleusercontent.com/a-/AOh14Gj5JBL13GeQ-dXVWRyPNRmQqYgvAmHXhSs_kz_xeA=s64",
      "userId": "08125390419017637646"
     },
     "user_tz": 300
    },
    "id": "C9VPAwCnNzqw"
   },
   "outputs": [],
   "source": [
    "Dependiente = dataset_modelo[\"Número de asistencias\"]"
   ]
  },
  {
   "cell_type": "code",
   "execution_count": 18,
   "metadata": {
    "colab": {},
    "colab_type": "code",
    "executionInfo": {
     "elapsed": 8827,
     "status": "ok",
     "timestamp": 1594245563566,
     "user": {
      "displayName": "Carlos Alberto Galindo Rojas",
      "photoUrl": "https://lh3.googleusercontent.com/a-/AOh14Gj5JBL13GeQ-dXVWRyPNRmQqYgvAmHXhSs_kz_xeA=s64",
      "userId": "08125390419017637646"
     },
     "user_tz": 300
    },
    "id": "yVDwxykzNzq6"
   },
   "outputs": [],
   "source": [
    "Explicativas = dataset_modelo.loc[:, \"Semestre\":].drop(columns = [\"Día de la semana_lunes\", \"Semana del semestre_2\"])"
   ]
  },
  {
   "cell_type": "code",
   "execution_count": 19,
   "metadata": {
    "colab": {
     "base_uri": "https://localhost:8080/",
     "height": 816
    },
    "colab_type": "code",
    "executionInfo": {
     "elapsed": 8768,
     "status": "ok",
     "timestamp": 1594245563571,
     "user": {
      "displayName": "Carlos Alberto Galindo Rojas",
      "photoUrl": "https://lh3.googleusercontent.com/a-/AOh14Gj5JBL13GeQ-dXVWRyPNRmQqYgvAmHXhSs_kz_xeA=s64",
      "userId": "08125390419017637646"
     },
     "user_tz": 300
    },
    "id": "YYUgIrl-NzrS",
    "outputId": "322fa55b-bb99-4c50-d6ed-33e4f7574a40"
   },
   "outputs": [
    {
     "name": "stdout",
     "output_type": "stream",
     "text": [
      "                              OLS Regression Results                             \n",
      "=================================================================================\n",
      "Dep. Variable:     Número de asistencias   R-squared:                       0.096\n",
      "Model:                               OLS   Adj. R-squared:                 -0.015\n",
      "Method:                    Least Squares   F-statistic:                    0.8640\n",
      "Date:                   Wed, 08 Jul 2020   Prob (F-statistic):              0.646\n",
      "Time:                           21:59:23   Log-Likelihood:                -240.29\n",
      "No. Observations:                    212   AIC:                             528.6\n",
      "Df Residuals:                        188   BIC:                             609.1\n",
      "Df Model:                             23                                         \n",
      "Covariance Type:               nonrobust                                         \n",
      "==============================================================================================\n",
      "                                 coef    std err          t      P>|t|      [0.025      0.975]\n",
      "----------------------------------------------------------------------------------------------\n",
      "const                          1.1052      0.350      3.155      0.002       0.414       1.796\n",
      "Semestre                      -0.0323      0.034     -0.954      0.342      -0.099       0.035\n",
      "Día de la semana_jueves       -0.0824      0.198     -0.416      0.678      -0.474       0.309\n",
      "Día de la semana_martes        0.1576      0.186      0.848      0.398      -0.209       0.524\n",
      "Día de la semana_miércoles     0.0633      0.204      0.311      0.756      -0.338       0.465\n",
      "Día de la semana_sábado       -0.2892      0.204     -1.417      0.158      -0.692       0.114\n",
      "Día de la semana_viernes      -0.2394      0.173     -1.385      0.168      -0.580       0.102\n",
      "Semana del semestre_10         0.6433      0.370      1.739      0.084      -0.086       1.373\n",
      "Semana del semestre_11         0.4855      0.381      1.276      0.204      -0.265       1.236\n",
      "Semana del semestre_12         0.2290      0.379      0.603      0.547      -0.519       0.977\n",
      "Semana del semestre_13         0.5476      0.397      1.379      0.170      -0.236       1.331\n",
      "Semana del semestre_14         0.7005      0.401      1.748      0.082      -0.090       1.491\n",
      "Semana del semestre_15         0.5786      0.408      1.419      0.158      -0.226       1.383\n",
      "Semana del semestre_16         0.6611      0.447      1.480      0.141      -0.220       1.542\n",
      "Semana del semestre_17         0.4177      0.415      1.007      0.315      -0.400       1.236\n",
      "Semana del semestre_18         0.0096      0.873      0.011      0.991      -1.713       1.732\n",
      "Semana del semestre_19        -0.0667      0.567     -0.118      0.906      -1.185       1.051\n",
      "Semana del semestre_3          0.3690      0.475      0.776      0.438      -0.569       1.307\n",
      "Semana del semestre_4          0.3643      0.413      0.882      0.379      -0.450       1.179\n",
      "Semana del semestre_5          0.4452      0.428      1.039      0.300      -0.400       1.290\n",
      "Semana del semestre_6          0.3805      0.404      0.943      0.347      -0.416       1.177\n",
      "Semana del semestre_7          0.7547      0.382      1.973      0.050       0.000       1.509\n",
      "Semana del semestre_8          0.6570      0.396      1.659      0.099      -0.124       1.438\n",
      "Semana del semestre_9          0.5999      0.382      1.571      0.118      -0.154       1.353\n",
      "==============================================================================\n",
      "Omnibus:                       81.097   Durbin-Watson:                   2.180\n",
      "Prob(Omnibus):                  0.000   Jarque-Bera (JB):              203.819\n",
      "Skew:                           1.748   Prob(JB):                     5.51e-45\n",
      "Kurtosis:                       6.295   Cond. No.                         94.4\n",
      "==============================================================================\n",
      "\n",
      "Warnings:\n",
      "[1] Standard Errors assume that the covariance matrix of the errors is correctly specified.\n"
     ]
    }
   ],
   "source": [
    "Modelo = sm.OLS(Dependiente, sm.add_constant(Explicativas))\n",
    "Resultados = Modelo.fit()\n",
    "print(Resultados.summary())"
   ]
  },
  {
   "cell_type": "code",
   "execution_count": 20,
   "metadata": {
    "colab": {
     "base_uri": "https://localhost:8080/",
     "height": 228
    },
    "colab_type": "code",
    "executionInfo": {
     "elapsed": 8675,
     "status": "ok",
     "timestamp": 1594245563575,
     "user": {
      "displayName": "Carlos Alberto Galindo Rojas",
      "photoUrl": "https://lh3.googleusercontent.com/a-/AOh14Gj5JBL13GeQ-dXVWRyPNRmQqYgvAmHXhSs_kz_xeA=s64",
      "userId": "08125390419017637646"
     },
     "user_tz": 300
    },
    "id": "bC_vaTYTNzrl",
    "outputId": "40102bd7-c48e-4a78-eac4-c4960b03025a"
   },
   "outputs": [
    {
     "data": {
      "text/plain": [
       "<matplotlib.collections.PathCollection at 0x7feecca01630>"
      ]
     },
     "execution_count": 20,
     "metadata": {
      "tags": []
     },
     "output_type": "execute_result"
    },
    {
     "data": {
      "image/png": "[encoded data removed]",
      "text/plain": [
       "<Figure size 864x216 with 1 Axes>"
      ]
     },
     "metadata": {
      "needs_background": "light",
      "tags": []
     },
     "output_type": "display_data"
    }
   ],
   "source": [
    "fig, ax = plt.subplots(figsize = (12,3))\n",
    "ax.scatter(numero_asistencias.index, numero_asistencias[\"Número de asistencias\"])\n",
    "ax.scatter(Explicativas.index, Resultados.predict(), color = 'orange')"
   ]
  },
  {
   "cell_type": "code",
   "execution_count": 21,
   "metadata": {
    "colab": {},
    "colab_type": "code",
    "executionInfo": {
     "elapsed": 8640,
     "status": "ok",
     "timestamp": 1594245563578,
     "user": {
      "displayName": "Carlos Alberto Galindo Rojas",
      "photoUrl": "https://lh3.googleusercontent.com/a-/AOh14Gj5JBL13GeQ-dXVWRyPNRmQqYgvAmHXhSs_kz_xeA=s64",
      "userId": "08125390419017637646"
     },
     "user_tz": 300
    },
    "id": "0SeUjK7sNzrz"
   },
   "outputs": [],
   "source": [
    "Explicativas = Explicativas[['Día de la semana_jueves', 'Día de la semana_martes',\n",
    "                            'Día de la semana_miércoles', 'Día de la semana_sábado',\n",
    "                            'Día de la semana_viernes', 'Semana del semestre_10',\n",
    "                            'Semana del semestre_11', 'Semana del semestre_12',\n",
    "                            'Semana del semestre_13', 'Semana del semestre_14',\n",
    "                            'Semana del semestre_15', 'Semana del semestre_16',\n",
    "                            'Semana del semestre_17', 'Semana del semestre_18',\n",
    "                            'Semana del semestre_19', 'Semana del semestre_3',\n",
    "                            'Semana del semestre_4', 'Semana del semestre_5',\n",
    "                            'Semana del semestre_6', 'Semana del semestre_7',\n",
    "                            'Semana del semestre_8', 'Semana del semestre_9']]"
   ]
  },
  {
   "cell_type": "code",
   "execution_count": 22,
   "metadata": {
    "colab": {
     "base_uri": "https://localhost:8080/",
     "height": 221
    },
    "colab_type": "code",
    "executionInfo": {
     "elapsed": 8579,
     "status": "ok",
     "timestamp": 1594245563581,
     "user": {
      "displayName": "Carlos Alberto Galindo Rojas",
      "photoUrl": "https://lh3.googleusercontent.com/a-/AOh14Gj5JBL13GeQ-dXVWRyPNRmQqYgvAmHXhSs_kz_xeA=s64",
      "userId": "08125390419017637646"
     },
     "user_tz": 300
    },
    "id": "FA0zpjIxNzr8",
    "outputId": "fe5a918e-8dfe-4ccd-e8b3-dfb1bc4eeb50"
   },
   "outputs": [
    {
     "data": {
      "text/plain": [
       "Index(['Día de la semana_jueves', 'Día de la semana_martes',\n",
       "       'Día de la semana_miércoles', 'Día de la semana_sábado',\n",
       "       'Día de la semana_viernes', 'Semana del semestre_10',\n",
       "       'Semana del semestre_11', 'Semana del semestre_12',\n",
       "       'Semana del semestre_13', 'Semana del semestre_14',\n",
       "       'Semana del semestre_15', 'Semana del semestre_16',\n",
       "       'Semana del semestre_17', 'Semana del semestre_18',\n",
       "       'Semana del semestre_19', 'Semana del semestre_3',\n",
       "       'Semana del semestre_4', 'Semana del semestre_5',\n",
       "       'Semana del semestre_6', 'Semana del semestre_7',\n",
       "       'Semana del semestre_8', 'Semana del semestre_9'],\n",
       "      dtype='object')"
      ]
     },
     "execution_count": 22,
     "metadata": {
      "tags": []
     },
     "output_type": "execute_result"
    }
   ],
   "source": [
    "Explicativas.columns"
   ]
  },
  {
   "cell_type": "markdown",
   "metadata": {
    "colab_type": "text",
    "id": "Td-NbWwZNzsW"
   },
   "source": [
    "# 2. Regresión Poisson:"
   ]
  },
  {
   "cell_type": "code",
   "execution_count": 23,
   "metadata": {
    "colab": {},
    "colab_type": "code",
    "executionInfo": {
     "elapsed": 8523,
     "status": "ok",
     "timestamp": 1594245563583,
     "user": {
      "displayName": "Carlos Alberto Galindo Rojas",
      "photoUrl": "https://lh3.googleusercontent.com/a-/AOh14Gj5JBL13GeQ-dXVWRyPNRmQqYgvAmHXhSs_kz_xeA=s64",
      "userId": "08125390419017637646"
     },
     "user_tz": 300
    },
    "id": "1UGe_DC0NzsY"
   },
   "outputs": [],
   "source": [
    "from patsy import dmatrices"
   ]
  },
  {
   "cell_type": "code",
   "execution_count": 24,
   "metadata": {
    "colab": {},
    "colab_type": "code",
    "executionInfo": {
     "elapsed": 8459,
     "status": "ok",
     "timestamp": 1594245563587,
     "user": {
      "displayName": "Carlos Alberto Galindo Rojas",
      "photoUrl": "https://lh3.googleusercontent.com/a-/AOh14Gj5JBL13GeQ-dXVWRyPNRmQqYgvAmHXhSs_kz_xeA=s64",
      "userId": "08125390419017637646"
     },
     "user_tz": 300
    },
    "id": "w9Dayp5RNzsg"
   },
   "outputs": [],
   "source": [
    "data_poisson = numero_asistencias\n",
    "ds = numero_asistencias.index.to_series()\n",
    "data_poisson['Mes'] = ds.dt.month\n",
    "data_poisson['Dia_de_la_semana'] = ds.dt.dayofweek\n",
    "data_poisson['Dia'] = ds.dt.day\n",
    "data_poisson.rename(columns = {\"Número de asistencias\": \"Numero_de_asistencias\"}, \n",
    "                    inplace = True)"
   ]
  },
  {
   "cell_type": "code",
   "execution_count": 25,
   "metadata": {
    "colab": {
     "base_uri": "https://localhost:8080/",
     "height": 450
    },
    "colab_type": "code",
    "executionInfo": {
     "elapsed": 8359,
     "status": "ok",
     "timestamp": 1594245563591,
     "user": {
      "displayName": "Carlos Alberto Galindo Rojas",
      "photoUrl": "https://lh3.googleusercontent.com/a-/AOh14Gj5JBL13GeQ-dXVWRyPNRmQqYgvAmHXhSs_kz_xeA=s64",
      "userId": "08125390419017637646"
     },
     "user_tz": 300
    },
    "id": "IW7-aM7nNzsu",
    "outputId": "81141199-4b9a-4637-b338-1eac7e5f8b9d"
   },
   "outputs": [
    {
     "data": {
      "text/html": [
       "<div>\n",
       "<style scoped>\n",
       "    .dataframe tbody tr th:only-of-type {\n",
       "        vertical-align: middle;\n",
       "    }\n",
       "\n",
       "    .dataframe tbody tr th {\n",
       "        vertical-align: top;\n",
       "    }\n",
       "\n",
       "    .dataframe thead th {\n",
       "        text-align: right;\n",
       "    }\n",
       "</style>\n",
       "<table border=\"1\" class=\"dataframe\">\n",
       "  <thead>\n",
       "    <tr style=\"text-align: right;\">\n",
       "      <th></th>\n",
       "      <th>Numero_de_asistencias</th>\n",
       "      <th>Mes</th>\n",
       "      <th>Dia_de_la_semana</th>\n",
       "      <th>Dia</th>\n",
       "    </tr>\n",
       "    <tr>\n",
       "      <th>Fecha</th>\n",
       "      <th></th>\n",
       "      <th></th>\n",
       "      <th></th>\n",
       "      <th></th>\n",
       "    </tr>\n",
       "  </thead>\n",
       "  <tbody>\n",
       "    <tr>\n",
       "      <th>2017-02-06</th>\n",
       "      <td>1</td>\n",
       "      <td>2</td>\n",
       "      <td>0</td>\n",
       "      <td>6</td>\n",
       "    </tr>\n",
       "    <tr>\n",
       "      <th>2017-02-08</th>\n",
       "      <td>1</td>\n",
       "      <td>2</td>\n",
       "      <td>2</td>\n",
       "      <td>8</td>\n",
       "    </tr>\n",
       "    <tr>\n",
       "      <th>2017-02-10</th>\n",
       "      <td>1</td>\n",
       "      <td>2</td>\n",
       "      <td>4</td>\n",
       "      <td>10</td>\n",
       "    </tr>\n",
       "    <tr>\n",
       "      <th>2017-02-13</th>\n",
       "      <td>2</td>\n",
       "      <td>2</td>\n",
       "      <td>0</td>\n",
       "      <td>13</td>\n",
       "    </tr>\n",
       "    <tr>\n",
       "      <th>2017-02-20</th>\n",
       "      <td>2</td>\n",
       "      <td>2</td>\n",
       "      <td>0</td>\n",
       "      <td>20</td>\n",
       "    </tr>\n",
       "    <tr>\n",
       "      <th>...</th>\n",
       "      <td>...</td>\n",
       "      <td>...</td>\n",
       "      <td>...</td>\n",
       "      <td>...</td>\n",
       "    </tr>\n",
       "    <tr>\n",
       "      <th>2019-11-12</th>\n",
       "      <td>1</td>\n",
       "      <td>11</td>\n",
       "      <td>1</td>\n",
       "      <td>12</td>\n",
       "    </tr>\n",
       "    <tr>\n",
       "      <th>2019-11-19</th>\n",
       "      <td>2</td>\n",
       "      <td>11</td>\n",
       "      <td>1</td>\n",
       "      <td>19</td>\n",
       "    </tr>\n",
       "    <tr>\n",
       "      <th>2019-11-21</th>\n",
       "      <td>1</td>\n",
       "      <td>11</td>\n",
       "      <td>3</td>\n",
       "      <td>21</td>\n",
       "    </tr>\n",
       "    <tr>\n",
       "      <th>2019-12-03</th>\n",
       "      <td>1</td>\n",
       "      <td>12</td>\n",
       "      <td>1</td>\n",
       "      <td>3</td>\n",
       "    </tr>\n",
       "    <tr>\n",
       "      <th>2019-12-05</th>\n",
       "      <td>1</td>\n",
       "      <td>12</td>\n",
       "      <td>3</td>\n",
       "      <td>5</td>\n",
       "    </tr>\n",
       "  </tbody>\n",
       "</table>\n",
       "<p>212 rows × 4 columns</p>\n",
       "</div>"
      ],
      "text/plain": [
       "            Numero_de_asistencias  Mes  Dia_de_la_semana  Dia\n",
       "Fecha                                                        \n",
       "2017-02-06                      1    2                 0    6\n",
       "2017-02-08                      1    2                 2    8\n",
       "2017-02-10                      1    2                 4   10\n",
       "2017-02-13                      2    2                 0   13\n",
       "2017-02-20                      2    2                 0   20\n",
       "...                           ...  ...               ...  ...\n",
       "2019-11-12                      1   11                 1   12\n",
       "2019-11-19                      2   11                 1   19\n",
       "2019-11-21                      1   11                 3   21\n",
       "2019-12-03                      1   12                 1    3\n",
       "2019-12-05                      1   12                 3    5\n",
       "\n",
       "[212 rows x 4 columns]"
      ]
     },
     "execution_count": 25,
     "metadata": {
      "tags": []
     },
     "output_type": "execute_result"
    }
   ],
   "source": [
    "data_poisson"
   ]
  },
  {
   "cell_type": "code",
   "execution_count": 26,
   "metadata": {
    "colab": {},
    "colab_type": "code",
    "executionInfo": {
     "elapsed": 8340,
     "status": "ok",
     "timestamp": 1594245563599,
     "user": {
      "displayName": "Carlos Alberto Galindo Rojas",
      "photoUrl": "https://lh3.googleusercontent.com/a-/AOh14Gj5JBL13GeQ-dXVWRyPNRmQqYgvAmHXhSs_kz_xeA=s64",
      "userId": "08125390419017637646"
     },
     "user_tz": 300
    },
    "id": "UX8HFfsXNztD"
   },
   "outputs": [],
   "source": [
    "expr = \"\"\"Numero_de_asistencias ~ Dia  + Dia_de_la_semana + Mes\"\"\""
   ]
  },
  {
   "cell_type": "code",
   "execution_count": 27,
   "metadata": {
    "colab": {},
    "colab_type": "code",
    "executionInfo": {
     "elapsed": 8326,
     "status": "ok",
     "timestamp": 1594245563602,
     "user": {
      "displayName": "Carlos Alberto Galindo Rojas",
      "photoUrl": "https://lh3.googleusercontent.com/a-/AOh14Gj5JBL13GeQ-dXVWRyPNRmQqYgvAmHXhSs_kz_xeA=s64",
      "userId": "08125390419017637646"
     },
     "user_tz": 300
    },
    "id": "W4VCRo1qNztP"
   },
   "outputs": [],
   "source": [
    "y_train, X_train = dmatrices(expr, data_poisson, return_type='dataframe')"
   ]
  },
  {
   "cell_type": "code",
   "execution_count": 28,
   "metadata": {
    "colab": {
     "base_uri": "https://localhost:8080/",
     "height": 340
    },
    "colab_type": "code",
    "executionInfo": {
     "elapsed": 8248,
     "status": "ok",
     "timestamp": 1594245563605,
     "user": {
      "displayName": "Carlos Alberto Galindo Rojas",
      "photoUrl": "https://lh3.googleusercontent.com/a-/AOh14Gj5JBL13GeQ-dXVWRyPNRmQqYgvAmHXhSs_kz_xeA=s64",
      "userId": "08125390419017637646"
     },
     "user_tz": 300
    },
    "id": "nsqlTNobNztf",
    "outputId": "a849aff5-f50d-4316-ba39-733ae5428edf"
   },
   "outputs": [
    {
     "name": "stdout",
     "output_type": "stream",
     "text": [
      "                   Generalized Linear Model Regression Results                   \n",
      "=================================================================================\n",
      "Dep. Variable:     Numero_de_asistencias   No. Observations:                  212\n",
      "Model:                               GLM   Df Residuals:                      208\n",
      "Model Family:                    Poisson   Df Model:                            3\n",
      "Link Function:                       log   Scale:                          1.0000\n",
      "Method:                             IRLS   Log-Likelihood:                -272.71\n",
      "Date:                   Wed, 08 Jul 2020   Deviance:                       71.310\n",
      "Time:                           21:59:24   Pearson chi2:                     87.4\n",
      "No. Iterations:                        4                                         \n",
      "Covariance Type:               nonrobust                                         \n",
      "====================================================================================\n",
      "                       coef    std err          z      P>|z|      [0.025      0.975]\n",
      "------------------------------------------------------------------------------------\n",
      "Intercept            0.3669      0.180      2.043      0.041       0.015       0.719\n",
      "Dia                  0.0013      0.007      0.192      0.847      -0.012       0.014\n",
      "Dia_de_la_semana    -0.0544      0.034     -1.610      0.107      -0.121       0.012\n",
      "Mes                  0.0182      0.019      0.966      0.334      -0.019       0.055\n",
      "====================================================================================\n"
     ]
    }
   ],
   "source": [
    "Modelo_Poisson = sm.GLM(y_train, X_train, family=sm.families.Poisson())\n",
    "Resultados_Poisson = Modelo_Poisson.fit()\n",
    "print(Resultados_Poisson.summary())"
   ]
  },
  {
   "cell_type": "code",
   "execution_count": 29,
   "metadata": {
    "colab": {},
    "colab_type": "code",
    "executionInfo": {
     "elapsed": 8229,
     "status": "ok",
     "timestamp": 1594245563608,
     "user": {
      "displayName": "Carlos Alberto Galindo Rojas",
      "photoUrl": "https://lh3.googleusercontent.com/a-/AOh14Gj5JBL13GeQ-dXVWRyPNRmQqYgvAmHXhSs_kz_xeA=s64",
      "userId": "08125390419017637646"
     },
     "user_tz": 300
    },
    "id": "QY8JPD09Nztp"
   },
   "outputs": [],
   "source": [
    "Predicciones_Poisson = Resultados_Poisson.get_prediction(X_train)\n",
    "Predicciones_Poisson_summary_frame = Predicciones_Poisson.summary_frame()"
   ]
  },
  {
   "cell_type": "code",
   "execution_count": 30,
   "metadata": {
    "colab": {
     "base_uri": "https://localhost:8080/",
     "height": 233
    },
    "colab_type": "code",
    "executionInfo": {
     "elapsed": 8997,
     "status": "ok",
     "timestamp": 1594245564439,
     "user": {
      "displayName": "Carlos Alberto Galindo Rojas",
      "photoUrl": "https://lh3.googleusercontent.com/a-/AOh14Gj5JBL13GeQ-dXVWRyPNRmQqYgvAmHXhSs_kz_xeA=s64",
      "userId": "08125390419017637646"
     },
     "user_tz": 300
    },
    "id": "uH_OX_QTNzuh",
    "outputId": "9d609332-fece-4f1c-8226-9d2d95cb764b"
   },
   "outputs": [
    {
     "data": {
      "image/png": "[encoded data removed]",
      "text/plain": [
       "<Figure size 864x216 with 1 Axes>"
      ]
     },
     "metadata": {
      "needs_background": "light",
      "tags": []
     },
     "output_type": "display_data"
    }
   ],
   "source": [
    "prediccion_de_cuenta = Predicciones_Poisson_summary_frame['mean']\n",
    "verdadera_cuenta = y_train['Numero_de_asistencias']\n",
    "fig, ax = plt.subplots(figsize = (12,3))\n",
    "fig.suptitle('Predicción vs verdaderos valores')\n",
    "ax.scatter(X_train.index, prediccion_de_cuenta, color = 'red', label='Predicción')\n",
    "ax.scatter(X_train.index, verdadera_cuenta, color = 'darkblue', label='Verdaderos')\n",
    "plt.legend()\n",
    "plt.show()"
   ]
  },
  {
   "cell_type": "code",
   "execution_count": 31,
   "metadata": {
    "colab": {
     "base_uri": "https://localhost:8080/",
     "height": 356
    },
    "colab_type": "code",
    "executionInfo": {
     "elapsed": 8962,
     "status": "ok",
     "timestamp": 1594245564445,
     "user": {
      "displayName": "Carlos Alberto Galindo Rojas",
      "photoUrl": "https://lh3.googleusercontent.com/a-/AOh14Gj5JBL13GeQ-dXVWRyPNRmQqYgvAmHXhSs_kz_xeA=s64",
      "userId": "08125390419017637646"
     },
     "user_tz": 300
    },
    "id": "MRseBydQNzus",
    "outputId": "ea0874b0-e2c4-454e-8a6e-ab50e5249342"
   },
   "outputs": [
    {
     "data": {
      "image/png": "[encoded data removed]",
      "text/plain": [
       "<Figure size 576x360 with 1 Axes>"
      ]
     },
     "metadata": {
      "needs_background": "light",
      "tags": []
     },
     "output_type": "display_data"
    }
   ],
   "source": [
    "fig, ax = plt.subplots(figsize = (8,5))\n",
    "fig.suptitle('Predicción vs verdaderos valores')\n",
    "ax.scatter(prediccion_de_cuenta, verdadera_cuenta, color = 'green')\n",
    "plt.show()"
   ]
  },
  {
   "cell_type": "markdown",
   "metadata": {
    "colab_type": "text",
    "id": "TVR01XqqNzu_"
   },
   "source": [
    "# 3. Regresión logística:"
   ]
  },
  {
   "cell_type": "code",
   "execution_count": 32,
   "metadata": {
    "colab": {},
    "colab_type": "code",
    "executionInfo": {
     "elapsed": 8881,
     "status": "ok",
     "timestamp": 1594245564450,
     "user": {
      "displayName": "Carlos Alberto Galindo Rojas",
      "photoUrl": "https://lh3.googleusercontent.com/a-/AOh14Gj5JBL13GeQ-dXVWRyPNRmQqYgvAmHXhSs_kz_xeA=s64",
      "userId": "08125390419017637646"
     },
     "user_tz": 300
    },
    "id": "zzYCFNkfNzvB"
   },
   "outputs": [],
   "source": [
    "Dependiente = dataset_modelo[[\"Número de asistencias\"]]"
   ]
  },
  {
   "cell_type": "code",
   "execution_count": 33,
   "metadata": {
    "colab": {
     "base_uri": "https://localhost:8080/",
     "height": 357
    },
    "colab_type": "code",
    "executionInfo": {
     "elapsed": 8824,
     "status": "ok",
     "timestamp": 1594245564454,
     "user": {
      "displayName": "Carlos Alberto Galindo Rojas",
      "photoUrl": "https://lh3.googleusercontent.com/a-/AOh14Gj5JBL13GeQ-dXVWRyPNRmQqYgvAmHXhSs_kz_xeA=s64",
      "userId": "08125390419017637646"
     },
     "user_tz": 300
    },
    "id": "3utjmshKNzvk",
    "outputId": "1fb1670e-825e-463d-f460-09005e61be7f"
   },
   "outputs": [
    {
     "data": {
      "text/html": [
       "<div>\n",
       "<style scoped>\n",
       "    .dataframe tbody tr th:only-of-type {\n",
       "        vertical-align: middle;\n",
       "    }\n",
       "\n",
       "    .dataframe tbody tr th {\n",
       "        vertical-align: top;\n",
       "    }\n",
       "\n",
       "    .dataframe thead th {\n",
       "        text-align: right;\n",
       "    }\n",
       "</style>\n",
       "<table border=\"1\" class=\"dataframe\">\n",
       "  <thead>\n",
       "    <tr style=\"text-align: right;\">\n",
       "      <th></th>\n",
       "      <th>Día de la semana_jueves</th>\n",
       "      <th>Día de la semana_martes</th>\n",
       "      <th>Día de la semana_miércoles</th>\n",
       "      <th>Día de la semana_sábado</th>\n",
       "      <th>Día de la semana_viernes</th>\n",
       "      <th>Semana del semestre_10</th>\n",
       "      <th>Semana del semestre_11</th>\n",
       "      <th>Semana del semestre_12</th>\n",
       "      <th>Semana del semestre_13</th>\n",
       "      <th>Semana del semestre_14</th>\n",
       "      <th>Semana del semestre_15</th>\n",
       "      <th>Semana del semestre_16</th>\n",
       "      <th>Semana del semestre_17</th>\n",
       "      <th>Semana del semestre_18</th>\n",
       "      <th>Semana del semestre_19</th>\n",
       "      <th>Semana del semestre_3</th>\n",
       "      <th>Semana del semestre_4</th>\n",
       "      <th>Semana del semestre_5</th>\n",
       "      <th>Semana del semestre_6</th>\n",
       "      <th>Semana del semestre_7</th>\n",
       "      <th>Semana del semestre_8</th>\n",
       "      <th>Semana del semestre_9</th>\n",
       "    </tr>\n",
       "    <tr>\n",
       "      <th>Fecha</th>\n",
       "      <th></th>\n",
       "      <th></th>\n",
       "      <th></th>\n",
       "      <th></th>\n",
       "      <th></th>\n",
       "      <th></th>\n",
       "      <th></th>\n",
       "      <th></th>\n",
       "      <th></th>\n",
       "      <th></th>\n",
       "      <th></th>\n",
       "      <th></th>\n",
       "      <th></th>\n",
       "      <th></th>\n",
       "      <th></th>\n",
       "      <th></th>\n",
       "      <th></th>\n",
       "      <th></th>\n",
       "      <th></th>\n",
       "      <th></th>\n",
       "      <th></th>\n",
       "      <th></th>\n",
       "    </tr>\n",
       "  </thead>\n",
       "  <tbody>\n",
       "    <tr>\n",
       "      <th>2017-02-06</th>\n",
       "      <td>0</td>\n",
       "      <td>0</td>\n",
       "      <td>0</td>\n",
       "      <td>0</td>\n",
       "      <td>0</td>\n",
       "      <td>0</td>\n",
       "      <td>0</td>\n",
       "      <td>0</td>\n",
       "      <td>0</td>\n",
       "      <td>0</td>\n",
       "      <td>0</td>\n",
       "      <td>0</td>\n",
       "      <td>0</td>\n",
       "      <td>0</td>\n",
       "      <td>0</td>\n",
       "      <td>0</td>\n",
       "      <td>0</td>\n",
       "      <td>0</td>\n",
       "      <td>0</td>\n",
       "      <td>0</td>\n",
       "      <td>0</td>\n",
       "      <td>0</td>\n",
       "    </tr>\n",
       "    <tr>\n",
       "      <th>2017-02-08</th>\n",
       "      <td>0</td>\n",
       "      <td>0</td>\n",
       "      <td>1</td>\n",
       "      <td>0</td>\n",
       "      <td>0</td>\n",
       "      <td>0</td>\n",
       "      <td>0</td>\n",
       "      <td>0</td>\n",
       "      <td>0</td>\n",
       "      <td>0</td>\n",
       "      <td>0</td>\n",
       "      <td>0</td>\n",
       "      <td>0</td>\n",
       "      <td>0</td>\n",
       "      <td>0</td>\n",
       "      <td>0</td>\n",
       "      <td>0</td>\n",
       "      <td>0</td>\n",
       "      <td>0</td>\n",
       "      <td>0</td>\n",
       "      <td>0</td>\n",
       "      <td>0</td>\n",
       "    </tr>\n",
       "    <tr>\n",
       "      <th>2017-02-10</th>\n",
       "      <td>0</td>\n",
       "      <td>0</td>\n",
       "      <td>0</td>\n",
       "      <td>0</td>\n",
       "      <td>1</td>\n",
       "      <td>0</td>\n",
       "      <td>0</td>\n",
       "      <td>0</td>\n",
       "      <td>0</td>\n",
       "      <td>0</td>\n",
       "      <td>0</td>\n",
       "      <td>0</td>\n",
       "      <td>0</td>\n",
       "      <td>0</td>\n",
       "      <td>0</td>\n",
       "      <td>0</td>\n",
       "      <td>0</td>\n",
       "      <td>0</td>\n",
       "      <td>0</td>\n",
       "      <td>0</td>\n",
       "      <td>0</td>\n",
       "      <td>0</td>\n",
       "    </tr>\n",
       "    <tr>\n",
       "      <th>2017-02-13</th>\n",
       "      <td>0</td>\n",
       "      <td>0</td>\n",
       "      <td>0</td>\n",
       "      <td>0</td>\n",
       "      <td>0</td>\n",
       "      <td>0</td>\n",
       "      <td>0</td>\n",
       "      <td>0</td>\n",
       "      <td>0</td>\n",
       "      <td>0</td>\n",
       "      <td>0</td>\n",
       "      <td>0</td>\n",
       "      <td>0</td>\n",
       "      <td>0</td>\n",
       "      <td>0</td>\n",
       "      <td>1</td>\n",
       "      <td>0</td>\n",
       "      <td>0</td>\n",
       "      <td>0</td>\n",
       "      <td>0</td>\n",
       "      <td>0</td>\n",
       "      <td>0</td>\n",
       "    </tr>\n",
       "    <tr>\n",
       "      <th>2017-02-20</th>\n",
       "      <td>0</td>\n",
       "      <td>0</td>\n",
       "      <td>0</td>\n",
       "      <td>0</td>\n",
       "      <td>0</td>\n",
       "      <td>0</td>\n",
       "      <td>0</td>\n",
       "      <td>0</td>\n",
       "      <td>0</td>\n",
       "      <td>0</td>\n",
       "      <td>0</td>\n",
       "      <td>0</td>\n",
       "      <td>0</td>\n",
       "      <td>0</td>\n",
       "      <td>0</td>\n",
       "      <td>0</td>\n",
       "      <td>1</td>\n",
       "      <td>0</td>\n",
       "      <td>0</td>\n",
       "      <td>0</td>\n",
       "      <td>0</td>\n",
       "      <td>0</td>\n",
       "    </tr>\n",
       "  </tbody>\n",
       "</table>\n",
       "</div>"
      ],
      "text/plain": [
       "            Día de la semana_jueves  ...  Semana del semestre_9\n",
       "Fecha                                ...                       \n",
       "2017-02-06                        0  ...                      0\n",
       "2017-02-08                        0  ...                      0\n",
       "2017-02-10                        0  ...                      0\n",
       "2017-02-13                        0  ...                      0\n",
       "2017-02-20                        0  ...                      0\n",
       "\n",
       "[5 rows x 22 columns]"
      ]
     },
     "execution_count": 33,
     "metadata": {
      "tags": []
     },
     "output_type": "execute_result"
    }
   ],
   "source": [
    "Explicativas.head()"
   ]
  },
  {
   "cell_type": "code",
   "execution_count": 34,
   "metadata": {
    "colab": {
     "base_uri": "https://localhost:8080/",
     "height": 997
    },
    "colab_type": "code",
    "executionInfo": {
     "elapsed": 8771,
     "status": "ok",
     "timestamp": 1594245564457,
     "user": {
      "displayName": "Carlos Alberto Galindo Rojas",
      "photoUrl": "https://lh3.googleusercontent.com/a-/AOh14Gj5JBL13GeQ-dXVWRyPNRmQqYgvAmHXhSs_kz_xeA=s64",
      "userId": "08125390419017637646"
     },
     "user_tz": 300
    },
    "id": "hwNkDt5XNzvu",
    "outputId": "b48fbbfe-b185-4e12-b77b-2a685d214c05"
   },
   "outputs": [
    {
     "name": "stderr",
     "output_type": "stream",
     "text": [
      "/usr/local/lib/python3.6/dist-packages/ipykernel_launcher.py:1: SettingWithCopyWarning: \n",
      "A value is trying to be set on a copy of a slice from a DataFrame.\n",
      "Try using .loc[row_indexer,col_indexer] = value instead\n",
      "\n",
      "See the caveats in the documentation: https://pandas.pydata.org/pandas-docs/stable/user_guide/indexing.html#returning-a-view-versus-a-copy\n",
      "  \"\"\"Entry point for launching an IPython kernel.\n",
      "/usr/local/lib/python3.6/dist-packages/ipykernel_launcher.py:2: SettingWithCopyWarning: \n",
      "A value is trying to be set on a copy of a slice from a DataFrame.\n",
      "Try using .loc[row_indexer,col_indexer] = value instead\n",
      "\n",
      "See the caveats in the documentation: https://pandas.pydata.org/pandas-docs/stable/user_guide/indexing.html#returning-a-view-versus-a-copy\n",
      "  \n"
     ]
    },
    {
     "data": {
      "text/html": [
       "<div>\n",
       "<style scoped>\n",
       "    .dataframe tbody tr th:only-of-type {\n",
       "        vertical-align: middle;\n",
       "    }\n",
       "\n",
       "    .dataframe tbody tr th {\n",
       "        vertical-align: top;\n",
       "    }\n",
       "\n",
       "    .dataframe thead th {\n",
       "        text-align: right;\n",
       "    }\n",
       "</style>\n",
       "<table border=\"1\" class=\"dataframe\">\n",
       "  <thead>\n",
       "    <tr style=\"text-align: right;\">\n",
       "      <th></th>\n",
       "      <th>Número de asistencias</th>\n",
       "      <th>Categoría</th>\n",
       "    </tr>\n",
       "    <tr>\n",
       "      <th>Fecha</th>\n",
       "      <th></th>\n",
       "      <th></th>\n",
       "    </tr>\n",
       "  </thead>\n",
       "  <tbody>\n",
       "    <tr>\n",
       "      <th>2017-03-15</th>\n",
       "      <td>4</td>\n",
       "      <td>1</td>\n",
       "    </tr>\n",
       "    <tr>\n",
       "      <th>2017-03-22</th>\n",
       "      <td>3</td>\n",
       "      <td>1</td>\n",
       "    </tr>\n",
       "    <tr>\n",
       "      <th>2017-04-20</th>\n",
       "      <td>3</td>\n",
       "      <td>1</td>\n",
       "    </tr>\n",
       "    <tr>\n",
       "      <th>2017-04-27</th>\n",
       "      <td>5</td>\n",
       "      <td>1</td>\n",
       "    </tr>\n",
       "    <tr>\n",
       "      <th>2017-05-04</th>\n",
       "      <td>3</td>\n",
       "      <td>1</td>\n",
       "    </tr>\n",
       "    <tr>\n",
       "      <th>2017-05-08</th>\n",
       "      <td>4</td>\n",
       "      <td>1</td>\n",
       "    </tr>\n",
       "    <tr>\n",
       "      <th>2017-05-15</th>\n",
       "      <td>3</td>\n",
       "      <td>1</td>\n",
       "    </tr>\n",
       "    <tr>\n",
       "      <th>2017-05-22</th>\n",
       "      <td>3</td>\n",
       "      <td>1</td>\n",
       "    </tr>\n",
       "    <tr>\n",
       "      <th>2017-10-02</th>\n",
       "      <td>3</td>\n",
       "      <td>1</td>\n",
       "    </tr>\n",
       "    <tr>\n",
       "      <th>2017-10-06</th>\n",
       "      <td>4</td>\n",
       "      <td>1</td>\n",
       "    </tr>\n",
       "    <tr>\n",
       "      <th>2017-10-09</th>\n",
       "      <td>3</td>\n",
       "      <td>1</td>\n",
       "    </tr>\n",
       "    <tr>\n",
       "      <th>2017-10-13</th>\n",
       "      <td>3</td>\n",
       "      <td>1</td>\n",
       "    </tr>\n",
       "    <tr>\n",
       "      <th>2017-11-04</th>\n",
       "      <td>4</td>\n",
       "      <td>1</td>\n",
       "    </tr>\n",
       "    <tr>\n",
       "      <th>2018-04-10</th>\n",
       "      <td>3</td>\n",
       "      <td>1</td>\n",
       "    </tr>\n",
       "    <tr>\n",
       "      <th>2019-05-15</th>\n",
       "      <td>3</td>\n",
       "      <td>1</td>\n",
       "    </tr>\n",
       "    <tr>\n",
       "      <th>2019-05-17</th>\n",
       "      <td>3</td>\n",
       "      <td>1</td>\n",
       "    </tr>\n",
       "    <tr>\n",
       "      <th>2019-05-22</th>\n",
       "      <td>3</td>\n",
       "      <td>1</td>\n",
       "    </tr>\n",
       "    <tr>\n",
       "      <th>2019-05-24</th>\n",
       "      <td>3</td>\n",
       "      <td>1</td>\n",
       "    </tr>\n",
       "    <tr>\n",
       "      <th>2019-05-28</th>\n",
       "      <td>4</td>\n",
       "      <td>1</td>\n",
       "    </tr>\n",
       "    <tr>\n",
       "      <th>2019-09-17</th>\n",
       "      <td>3</td>\n",
       "      <td>1</td>\n",
       "    </tr>\n",
       "    <tr>\n",
       "      <th>2019-10-01</th>\n",
       "      <td>3</td>\n",
       "      <td>1</td>\n",
       "    </tr>\n",
       "    <tr>\n",
       "      <th>2019-10-22</th>\n",
       "      <td>4</td>\n",
       "      <td>1</td>\n",
       "    </tr>\n",
       "    <tr>\n",
       "      <th>2019-10-29</th>\n",
       "      <td>3</td>\n",
       "      <td>1</td>\n",
       "    </tr>\n",
       "  </tbody>\n",
       "</table>\n",
       "</div>"
      ],
      "text/plain": [
       "            Número de asistencias  Categoría\n",
       "Fecha                                       \n",
       "2017-03-15                      4          1\n",
       "2017-03-22                      3          1\n",
       "2017-04-20                      3          1\n",
       "2017-04-27                      5          1\n",
       "2017-05-04                      3          1\n",
       "2017-05-08                      4          1\n",
       "2017-05-15                      3          1\n",
       "2017-05-22                      3          1\n",
       "2017-10-02                      3          1\n",
       "2017-10-06                      4          1\n",
       "2017-10-09                      3          1\n",
       "2017-10-13                      3          1\n",
       "2017-11-04                      4          1\n",
       "2018-04-10                      3          1\n",
       "2019-05-15                      3          1\n",
       "2019-05-17                      3          1\n",
       "2019-05-22                      3          1\n",
       "2019-05-24                      3          1\n",
       "2019-05-28                      4          1\n",
       "2019-09-17                      3          1\n",
       "2019-10-01                      3          1\n",
       "2019-10-22                      4          1\n",
       "2019-10-29                      3          1"
      ]
     },
     "execution_count": 34,
     "metadata": {
      "tags": []
     },
     "output_type": "execute_result"
    }
   ],
   "source": [
    "Dependiente[\"Categoría\"] = 1\n",
    "Dependiente[\"Categoría\"] = Dependiente[\"Categoría\"].where(Dependiente[\"Número de asistencias\"]>2, 0)\n",
    "Dependiente[Dependiente['Categoría']==1]"
   ]
  },
  {
   "cell_type": "code",
   "execution_count": 35,
   "metadata": {
    "colab": {},
    "colab_type": "code",
    "executionInfo": {
     "elapsed": 8761,
     "status": "ok",
     "timestamp": 1594245564461,
     "user": {
      "displayName": "Carlos Alberto Galindo Rojas",
      "photoUrl": "https://lh3.googleusercontent.com/a-/AOh14Gj5JBL13GeQ-dXVWRyPNRmQqYgvAmHXhSs_kz_xeA=s64",
      "userId": "08125390419017637646"
     },
     "user_tz": 300
    },
    "id": "nZcvQZRBNzv2"
   },
   "outputs": [],
   "source": [
    "Var_Dependiente = Dependiente[\"Categoría\"]"
   ]
  },
  {
   "cell_type": "code",
   "execution_count": 36,
   "metadata": {
    "colab": {
     "base_uri": "https://localhost:8080/",
     "height": 119
    },
    "colab_type": "code",
    "executionInfo": {
     "elapsed": 13068,
     "status": "ok",
     "timestamp": 1594245568828,
     "user": {
      "displayName": "Carlos Alberto Galindo Rojas",
      "photoUrl": "https://lh3.googleusercontent.com/a-/AOh14Gj5JBL13GeQ-dXVWRyPNRmQqYgvAmHXhSs_kz_xeA=s64",
      "userId": "08125390419017637646"
     },
     "user_tz": 300
    },
    "id": "9Lu1_CMCNzwC",
    "outputId": "1b0a518d-db37-47ec-81a6-9fd03c3b82aa"
   },
   "outputs": [
    {
     "name": "stdout",
     "output_type": "stream",
     "text": [
      "Requirement already satisfied: imblearn in /usr/local/lib/python3.6/dist-packages (0.0)\n",
      "Requirement already satisfied: imbalanced-learn in /usr/local/lib/python3.6/dist-packages (from imblearn) (0.4.3)\n",
      "Requirement already satisfied: scipy>=0.13.3 in /usr/local/lib/python3.6/dist-packages (from imbalanced-learn->imblearn) (1.4.1)\n",
      "Requirement already satisfied: numpy>=1.8.2 in /usr/local/lib/python3.6/dist-packages (from imbalanced-learn->imblearn) (1.18.5)\n",
      "Requirement already satisfied: scikit-learn>=0.20 in /usr/local/lib/python3.6/dist-packages (from imbalanced-learn->imblearn) (0.22.2.post1)\n",
      "Requirement already satisfied: joblib>=0.11 in /usr/local/lib/python3.6/dist-packages (from scikit-learn>=0.20->imbalanced-learn->imblearn) (0.15.1)\n"
     ]
    }
   ],
   "source": [
    "!pip install imblearn"
   ]
  },
  {
   "cell_type": "code",
   "execution_count": 37,
   "metadata": {
    "colab": {},
    "colab_type": "code",
    "executionInfo": {
     "elapsed": 13035,
     "status": "ok",
     "timestamp": 1594245568832,
     "user": {
      "displayName": "Carlos Alberto Galindo Rojas",
      "photoUrl": "https://lh3.googleusercontent.com/a-/AOh14Gj5JBL13GeQ-dXVWRyPNRmQqYgvAmHXhSs_kz_xeA=s64",
      "userId": "08125390419017637646"
     },
     "user_tz": 300
    },
    "id": "HxpNHgRJNzwX"
   },
   "outputs": [],
   "source": [
    "# Balanceo de clases:"
   ]
  },
  {
   "cell_type": "code",
   "execution_count": 38,
   "metadata": {
    "colab": {
     "base_uri": "https://localhost:8080/",
     "height": 105
    },
    "colab_type": "code",
    "executionInfo": {
     "elapsed": 13771,
     "status": "ok",
     "timestamp": 1594245569591,
     "user": {
      "displayName": "Carlos Alberto Galindo Rojas",
      "photoUrl": "https://lh3.googleusercontent.com/a-/AOh14Gj5JBL13GeQ-dXVWRyPNRmQqYgvAmHXhSs_kz_xeA=s64",
      "userId": "08125390419017637646"
     },
     "user_tz": 300
    },
    "id": "DnkhaCGfNzwo",
    "outputId": "7cfd718a-8407-43b9-b434-368d94b7d7eb"
   },
   "outputs": [
    {
     "name": "stderr",
     "output_type": "stream",
     "text": [
      "/usr/local/lib/python3.6/dist-packages/sklearn/externals/six.py:31: FutureWarning: The module is deprecated in version 0.21 and will be removed in version 0.23 since we've dropped support for Python 2.7. Please rely on the official version of six (https://pypi.org/project/six/).\n",
      "  \"(https://pypi.org/project/six/).\", FutureWarning)\n",
      "/usr/local/lib/python3.6/dist-packages/sklearn/utils/deprecation.py:144: FutureWarning: The sklearn.neighbors.base module is  deprecated in version 0.22 and will be removed in version 0.24. The corresponding classes / functions should instead be imported from sklearn.neighbors. Anything that cannot be imported from sklearn.neighbors is now part of the private API.\n",
      "  warnings.warn(message, FutureWarning)\n"
     ]
    }
   ],
   "source": [
    "from imblearn.over_sampling import SMOTE"
   ]
  },
  {
   "cell_type": "code",
   "execution_count": 39,
   "metadata": {
    "colab": {},
    "colab_type": "code",
    "executionInfo": {
     "elapsed": 13722,
     "status": "ok",
     "timestamp": 1594245569595,
     "user": {
      "displayName": "Carlos Alberto Galindo Rojas",
      "photoUrl": "https://lh3.googleusercontent.com/a-/AOh14Gj5JBL13GeQ-dXVWRyPNRmQqYgvAmHXhSs_kz_xeA=s64",
      "userId": "08125390419017637646"
     },
     "user_tz": 300
    },
    "id": "FJpCdOEJNzw3"
   },
   "outputs": [],
   "source": [
    "os = SMOTE(random_state=0)"
   ]
  },
  {
   "cell_type": "code",
   "execution_count": 40,
   "metadata": {
    "colab": {
     "base_uri": "https://localhost:8080/",
     "height": 691
    },
    "colab_type": "code",
    "executionInfo": {
     "elapsed": 13679,
     "status": "ok",
     "timestamp": 1594245569598,
     "user": {
      "displayName": "Carlos Alberto Galindo Rojas",
      "photoUrl": "https://lh3.googleusercontent.com/a-/AOh14Gj5JBL13GeQ-dXVWRyPNRmQqYgvAmHXhSs_kz_xeA=s64",
      "userId": "08125390419017637646"
     },
     "user_tz": 300
    },
    "id": "lLJriHQfNzxC",
    "outputId": "7f7b5966-0d28-4146-f23f-d962df64deae"
   },
   "outputs": [
    {
     "name": "stderr",
     "output_type": "stream",
     "text": [
      "/usr/local/lib/python3.6/dist-packages/sklearn/utils/deprecation.py:87: FutureWarning: Function safe_indexing is deprecated; safe_indexing is deprecated in version 0.22 and will be removed in version 0.24.\n",
      "  warnings.warn(msg, category=FutureWarning)\n"
     ]
    },
    {
     "data": {
      "text/html": [
       "<div>\n",
       "<style scoped>\n",
       "    .dataframe tbody tr th:only-of-type {\n",
       "        vertical-align: middle;\n",
       "    }\n",
       "\n",
       "    .dataframe tbody tr th {\n",
       "        vertical-align: top;\n",
       "    }\n",
       "\n",
       "    .dataframe thead th {\n",
       "        text-align: right;\n",
       "    }\n",
       "</style>\n",
       "<table border=\"1\" class=\"dataframe\">\n",
       "  <thead>\n",
       "    <tr style=\"text-align: right;\">\n",
       "      <th></th>\n",
       "      <th>Día de la semana_jueves</th>\n",
       "      <th>Día de la semana_martes</th>\n",
       "      <th>Día de la semana_miércoles</th>\n",
       "      <th>Día de la semana_sábado</th>\n",
       "      <th>Día de la semana_viernes</th>\n",
       "      <th>Semana del semestre_10</th>\n",
       "      <th>Semana del semestre_11</th>\n",
       "      <th>Semana del semestre_12</th>\n",
       "      <th>Semana del semestre_13</th>\n",
       "      <th>Semana del semestre_14</th>\n",
       "      <th>Semana del semestre_15</th>\n",
       "      <th>Semana del semestre_16</th>\n",
       "      <th>Semana del semestre_17</th>\n",
       "      <th>Semana del semestre_18</th>\n",
       "      <th>Semana del semestre_19</th>\n",
       "      <th>Semana del semestre_3</th>\n",
       "      <th>Semana del semestre_4</th>\n",
       "      <th>Semana del semestre_5</th>\n",
       "      <th>Semana del semestre_6</th>\n",
       "      <th>Semana del semestre_7</th>\n",
       "      <th>Semana del semestre_8</th>\n",
       "      <th>Semana del semestre_9</th>\n",
       "    </tr>\n",
       "    <tr>\n",
       "      <th>Fecha</th>\n",
       "      <th></th>\n",
       "      <th></th>\n",
       "      <th></th>\n",
       "      <th></th>\n",
       "      <th></th>\n",
       "      <th></th>\n",
       "      <th></th>\n",
       "      <th></th>\n",
       "      <th></th>\n",
       "      <th></th>\n",
       "      <th></th>\n",
       "      <th></th>\n",
       "      <th></th>\n",
       "      <th></th>\n",
       "      <th></th>\n",
       "      <th></th>\n",
       "      <th></th>\n",
       "      <th></th>\n",
       "      <th></th>\n",
       "      <th></th>\n",
       "      <th></th>\n",
       "      <th></th>\n",
       "    </tr>\n",
       "  </thead>\n",
       "  <tbody>\n",
       "    <tr>\n",
       "      <th>2017-02-06</th>\n",
       "      <td>0</td>\n",
       "      <td>0</td>\n",
       "      <td>0</td>\n",
       "      <td>0</td>\n",
       "      <td>0</td>\n",
       "      <td>0</td>\n",
       "      <td>0</td>\n",
       "      <td>0</td>\n",
       "      <td>0</td>\n",
       "      <td>0</td>\n",
       "      <td>0</td>\n",
       "      <td>0</td>\n",
       "      <td>0</td>\n",
       "      <td>0</td>\n",
       "      <td>0</td>\n",
       "      <td>0</td>\n",
       "      <td>0</td>\n",
       "      <td>0</td>\n",
       "      <td>0</td>\n",
       "      <td>0</td>\n",
       "      <td>0</td>\n",
       "      <td>0</td>\n",
       "    </tr>\n",
       "    <tr>\n",
       "      <th>2017-02-08</th>\n",
       "      <td>0</td>\n",
       "      <td>0</td>\n",
       "      <td>1</td>\n",
       "      <td>0</td>\n",
       "      <td>0</td>\n",
       "      <td>0</td>\n",
       "      <td>0</td>\n",
       "      <td>0</td>\n",
       "      <td>0</td>\n",
       "      <td>0</td>\n",
       "      <td>0</td>\n",
       "      <td>0</td>\n",
       "      <td>0</td>\n",
       "      <td>0</td>\n",
       "      <td>0</td>\n",
       "      <td>0</td>\n",
       "      <td>0</td>\n",
       "      <td>0</td>\n",
       "      <td>0</td>\n",
       "      <td>0</td>\n",
       "      <td>0</td>\n",
       "      <td>0</td>\n",
       "    </tr>\n",
       "    <tr>\n",
       "      <th>2017-02-10</th>\n",
       "      <td>0</td>\n",
       "      <td>0</td>\n",
       "      <td>0</td>\n",
       "      <td>0</td>\n",
       "      <td>1</td>\n",
       "      <td>0</td>\n",
       "      <td>0</td>\n",
       "      <td>0</td>\n",
       "      <td>0</td>\n",
       "      <td>0</td>\n",
       "      <td>0</td>\n",
       "      <td>0</td>\n",
       "      <td>0</td>\n",
       "      <td>0</td>\n",
       "      <td>0</td>\n",
       "      <td>0</td>\n",
       "      <td>0</td>\n",
       "      <td>0</td>\n",
       "      <td>0</td>\n",
       "      <td>0</td>\n",
       "      <td>0</td>\n",
       "      <td>0</td>\n",
       "    </tr>\n",
       "    <tr>\n",
       "      <th>2017-02-13</th>\n",
       "      <td>0</td>\n",
       "      <td>0</td>\n",
       "      <td>0</td>\n",
       "      <td>0</td>\n",
       "      <td>0</td>\n",
       "      <td>0</td>\n",
       "      <td>0</td>\n",
       "      <td>0</td>\n",
       "      <td>0</td>\n",
       "      <td>0</td>\n",
       "      <td>0</td>\n",
       "      <td>0</td>\n",
       "      <td>0</td>\n",
       "      <td>0</td>\n",
       "      <td>0</td>\n",
       "      <td>1</td>\n",
       "      <td>0</td>\n",
       "      <td>0</td>\n",
       "      <td>0</td>\n",
       "      <td>0</td>\n",
       "      <td>0</td>\n",
       "      <td>0</td>\n",
       "    </tr>\n",
       "    <tr>\n",
       "      <th>2017-02-20</th>\n",
       "      <td>0</td>\n",
       "      <td>0</td>\n",
       "      <td>0</td>\n",
       "      <td>0</td>\n",
       "      <td>0</td>\n",
       "      <td>0</td>\n",
       "      <td>0</td>\n",
       "      <td>0</td>\n",
       "      <td>0</td>\n",
       "      <td>0</td>\n",
       "      <td>0</td>\n",
       "      <td>0</td>\n",
       "      <td>0</td>\n",
       "      <td>0</td>\n",
       "      <td>0</td>\n",
       "      <td>0</td>\n",
       "      <td>1</td>\n",
       "      <td>0</td>\n",
       "      <td>0</td>\n",
       "      <td>0</td>\n",
       "      <td>0</td>\n",
       "      <td>0</td>\n",
       "    </tr>\n",
       "    <tr>\n",
       "      <th>...</th>\n",
       "      <td>...</td>\n",
       "      <td>...</td>\n",
       "      <td>...</td>\n",
       "      <td>...</td>\n",
       "      <td>...</td>\n",
       "      <td>...</td>\n",
       "      <td>...</td>\n",
       "      <td>...</td>\n",
       "      <td>...</td>\n",
       "      <td>...</td>\n",
       "      <td>...</td>\n",
       "      <td>...</td>\n",
       "      <td>...</td>\n",
       "      <td>...</td>\n",
       "      <td>...</td>\n",
       "      <td>...</td>\n",
       "      <td>...</td>\n",
       "      <td>...</td>\n",
       "      <td>...</td>\n",
       "      <td>...</td>\n",
       "      <td>...</td>\n",
       "      <td>...</td>\n",
       "    </tr>\n",
       "    <tr>\n",
       "      <th>2019-11-12</th>\n",
       "      <td>0</td>\n",
       "      <td>1</td>\n",
       "      <td>0</td>\n",
       "      <td>0</td>\n",
       "      <td>0</td>\n",
       "      <td>0</td>\n",
       "      <td>0</td>\n",
       "      <td>1</td>\n",
       "      <td>0</td>\n",
       "      <td>0</td>\n",
       "      <td>0</td>\n",
       "      <td>0</td>\n",
       "      <td>0</td>\n",
       "      <td>0</td>\n",
       "      <td>0</td>\n",
       "      <td>0</td>\n",
       "      <td>0</td>\n",
       "      <td>0</td>\n",
       "      <td>0</td>\n",
       "      <td>0</td>\n",
       "      <td>0</td>\n",
       "      <td>0</td>\n",
       "    </tr>\n",
       "    <tr>\n",
       "      <th>2019-11-19</th>\n",
       "      <td>0</td>\n",
       "      <td>1</td>\n",
       "      <td>0</td>\n",
       "      <td>0</td>\n",
       "      <td>0</td>\n",
       "      <td>0</td>\n",
       "      <td>0</td>\n",
       "      <td>0</td>\n",
       "      <td>1</td>\n",
       "      <td>0</td>\n",
       "      <td>0</td>\n",
       "      <td>0</td>\n",
       "      <td>0</td>\n",
       "      <td>0</td>\n",
       "      <td>0</td>\n",
       "      <td>0</td>\n",
       "      <td>0</td>\n",
       "      <td>0</td>\n",
       "      <td>0</td>\n",
       "      <td>0</td>\n",
       "      <td>0</td>\n",
       "      <td>0</td>\n",
       "    </tr>\n",
       "    <tr>\n",
       "      <th>2019-11-21</th>\n",
       "      <td>1</td>\n",
       "      <td>0</td>\n",
       "      <td>0</td>\n",
       "      <td>0</td>\n",
       "      <td>0</td>\n",
       "      <td>0</td>\n",
       "      <td>0</td>\n",
       "      <td>0</td>\n",
       "      <td>1</td>\n",
       "      <td>0</td>\n",
       "      <td>0</td>\n",
       "      <td>0</td>\n",
       "      <td>0</td>\n",
       "      <td>0</td>\n",
       "      <td>0</td>\n",
       "      <td>0</td>\n",
       "      <td>0</td>\n",
       "      <td>0</td>\n",
       "      <td>0</td>\n",
       "      <td>0</td>\n",
       "      <td>0</td>\n",
       "      <td>0</td>\n",
       "    </tr>\n",
       "    <tr>\n",
       "      <th>2019-12-03</th>\n",
       "      <td>0</td>\n",
       "      <td>1</td>\n",
       "      <td>0</td>\n",
       "      <td>0</td>\n",
       "      <td>0</td>\n",
       "      <td>0</td>\n",
       "      <td>0</td>\n",
       "      <td>0</td>\n",
       "      <td>0</td>\n",
       "      <td>0</td>\n",
       "      <td>1</td>\n",
       "      <td>0</td>\n",
       "      <td>0</td>\n",
       "      <td>0</td>\n",
       "      <td>0</td>\n",
       "      <td>0</td>\n",
       "      <td>0</td>\n",
       "      <td>0</td>\n",
       "      <td>0</td>\n",
       "      <td>0</td>\n",
       "      <td>0</td>\n",
       "      <td>0</td>\n",
       "    </tr>\n",
       "    <tr>\n",
       "      <th>2019-12-05</th>\n",
       "      <td>1</td>\n",
       "      <td>0</td>\n",
       "      <td>0</td>\n",
       "      <td>0</td>\n",
       "      <td>0</td>\n",
       "      <td>0</td>\n",
       "      <td>0</td>\n",
       "      <td>0</td>\n",
       "      <td>0</td>\n",
       "      <td>0</td>\n",
       "      <td>1</td>\n",
       "      <td>0</td>\n",
       "      <td>0</td>\n",
       "      <td>0</td>\n",
       "      <td>0</td>\n",
       "      <td>0</td>\n",
       "      <td>0</td>\n",
       "      <td>0</td>\n",
       "      <td>0</td>\n",
       "      <td>0</td>\n",
       "      <td>0</td>\n",
       "      <td>0</td>\n",
       "    </tr>\n",
       "  </tbody>\n",
       "</table>\n",
       "<p>212 rows × 22 columns</p>\n",
       "</div>"
      ],
      "text/plain": [
       "            Día de la semana_jueves  ...  Semana del semestre_9\n",
       "Fecha                                ...                       \n",
       "2017-02-06                        0  ...                      0\n",
       "2017-02-08                        0  ...                      0\n",
       "2017-02-10                        0  ...                      0\n",
       "2017-02-13                        0  ...                      0\n",
       "2017-02-20                        0  ...                      0\n",
       "...                             ...  ...                    ...\n",
       "2019-11-12                        0  ...                      0\n",
       "2019-11-19                        0  ...                      0\n",
       "2019-11-21                        1  ...                      0\n",
       "2019-12-03                        0  ...                      0\n",
       "2019-12-05                        1  ...                      0\n",
       "\n",
       "[212 rows x 22 columns]"
      ]
     },
     "execution_count": 40,
     "metadata": {
      "tags": []
     },
     "output_type": "execute_result"
    }
   ],
   "source": [
    "X_os, Y_os = os.fit_sample(Explicativas, Var_Dependiente)\n",
    "Explicativas\n",
    "#Var_Dependiente"
   ]
  },
  {
   "cell_type": "code",
   "execution_count": 41,
   "metadata": {
    "colab": {},
    "colab_type": "code",
    "executionInfo": {
     "elapsed": 13667,
     "status": "ok",
     "timestamp": 1594245569601,
     "user": {
      "displayName": "Carlos Alberto Galindo Rojas",
      "photoUrl": "https://lh3.googleusercontent.com/a-/AOh14Gj5JBL13GeQ-dXVWRyPNRmQqYgvAmHXhSs_kz_xeA=s64",
      "userId": "08125390419017637646"
     },
     "user_tz": 300
    },
    "id": "yxyIhACcP1no"
   },
   "outputs": [],
   "source": [
    "X_os=pd.DataFrame(X_os,columns=Explicativas.columns)"
   ]
  },
  {
   "cell_type": "code",
   "execution_count": 42,
   "metadata": {
    "colab": {
     "base_uri": "https://localhost:8080/",
     "height": 265
    },
    "colab_type": "code",
    "executionInfo": {
     "elapsed": 13612,
     "status": "ok",
     "timestamp": 1594245569604,
     "user": {
      "displayName": "Carlos Alberto Galindo Rojas",
      "photoUrl": "https://lh3.googleusercontent.com/a-/AOh14Gj5JBL13GeQ-dXVWRyPNRmQqYgvAmHXhSs_kz_xeA=s64",
      "userId": "08125390419017637646"
     },
     "user_tz": 300
    },
    "id": "o-wJATH8Nzxi",
    "outputId": "c88ef6a6-475d-4aad-9552-8df37272020e"
   },
   "outputs": [
    {
     "data": {
      "image/png": "[encoded data removed]",
      "text/plain": [
       "<Figure size 432x288 with 1 Axes>"
      ]
     },
     "metadata": {
      "needs_background": "light",
      "tags": []
     },
     "output_type": "display_data"
    }
   ],
   "source": [
    "# clases balanceadas:\n",
    "fig, ax = plt.subplots()\n",
    "ax.hist(Y_os)\n",
    "plt.show()"
   ]
  },
  {
   "cell_type": "code",
   "execution_count": 43,
   "metadata": {
    "colab": {
     "base_uri": "https://localhost:8080/",
     "height": 782
    },
    "colab_type": "code",
    "executionInfo": {
     "elapsed": 13546,
     "status": "ok",
     "timestamp": 1594245569606,
     "user": {
      "displayName": "Carlos Alberto Galindo Rojas",
      "photoUrl": "https://lh3.googleusercontent.com/a-/AOh14Gj5JBL13GeQ-dXVWRyPNRmQqYgvAmHXhSs_kz_xeA=s64",
      "userId": "08125390419017637646"
     },
     "user_tz": 300
    },
    "id": "keGczZcjNzy7",
    "outputId": "475b7c1e-46ef-45d4-bb5a-60fb3349a150"
   },
   "outputs": [
    {
     "name": "stdout",
     "output_type": "stream",
     "text": [
      "Warning: Maximum number of iterations has been exceeded.\n",
      "         Current function value: 0.219237\n",
      "         Iterations: 35\n",
      "                           Logit Regression Results                           \n",
      "==============================================================================\n",
      "Dep. Variable:                      y   No. Observations:                  378\n",
      "Model:                          Logit   Df Residuals:                      355\n",
      "Method:                           MLE   Df Model:                           22\n",
      "Date:                Wed, 08 Jul 2020   Pseudo R-squ.:                  0.6837\n",
      "Time:                        21:59:30   Log-Likelihood:                -82.872\n",
      "converged:                      False   LL-Null:                       -262.01\n",
      "Covariance Type:            nonrobust   LLR p-value:                 1.579e-62\n",
      "==============================================================================================\n",
      "                                 coef    std err          z      P>|z|      [0.025      0.975]\n",
      "----------------------------------------------------------------------------------------------\n",
      "const                        -60.6561   7.66e+06  -7.92e-06      1.000    -1.5e+07     1.5e+07\n",
      "Día de la semana_jueves       -0.1568      0.725     -0.216      0.829      -1.577       1.264\n",
      "Día de la semana_martes        1.2438      0.526      2.365      0.018       0.213       2.274\n",
      "Día de la semana_miércoles     1.6721      0.537      3.114      0.002       0.620       2.724\n",
      "Día de la semana_sábado        0.0404      0.063      0.641      0.521      -0.083       0.164\n",
      "Día de la semana_viernes       0.2723      0.206      1.322      0.186      -0.131       0.676\n",
      "Semana del semestre_10        59.0948   7.66e+06   7.72e-06      1.000    -1.5e+07     1.5e+07\n",
      "Semana del semestre_11        58.4336   7.66e+06   7.63e-06      1.000    -1.5e+07     1.5e+07\n",
      "Semana del semestre_12        57.2411   7.66e+06   7.47e-06      1.000    -1.5e+07     1.5e+07\n",
      "Semana del semestre_13        57.6288   7.66e+06   7.52e-06      1.000    -1.5e+07     1.5e+07\n",
      "Semana del semestre_14        58.4195   7.66e+06   7.63e-06      1.000    -1.5e+07     1.5e+07\n",
      "Semana del semestre_15        57.4016   7.66e+06    7.5e-06      1.000    -1.5e+07     1.5e+07\n",
      "Semana del semestre_16        58.3891   7.66e+06   7.62e-06      1.000    -1.5e+07     1.5e+07\n",
      "Semana del semestre_17        57.6220   7.66e+06   7.52e-06      1.000    -1.5e+07     1.5e+07\n",
      "Semana del semestre_18        -8.4689   1.11e+15  -7.65e-15      1.000   -2.17e+15    2.17e+15\n",
      "Semana del semestre_19        -9.5109   5.42e+14  -1.75e-14      1.000   -1.06e+15    1.06e+15\n",
      "Semana del semestre_3         -9.3775   3.89e+14  -2.41e-14      1.000   -7.63e+14    7.63e+14\n",
      "Semana del semestre_4         57.6294   7.66e+06   7.52e-06      1.000    -1.5e+07     1.5e+07\n",
      "Semana del semestre_5         -8.9446   3.21e+14  -2.78e-14      1.000    -6.3e+14     6.3e+14\n",
      "Semana del semestre_6         57.7073   7.66e+06   7.53e-06      1.000    -1.5e+07     1.5e+07\n",
      "Semana del semestre_7         59.3992   7.66e+06   7.76e-06      1.000    -1.5e+07     1.5e+07\n",
      "Semana del semestre_8         59.2231   7.66e+06   7.73e-06      1.000    -1.5e+07     1.5e+07\n",
      "Semana del semestre_9         58.2370   7.66e+06    7.6e-06      1.000    -1.5e+07     1.5e+07\n",
      "==============================================================================================\n",
      "\n",
      "Possibly complete quasi-separation: A fraction 0.45 of observations can be\n",
      "perfectly predicted. This might indicate that there is complete\n",
      "quasi-separation. In this case some parameters will not be identified.\n"
     ]
    },
    {
     "name": "stderr",
     "output_type": "stream",
     "text": [
      "/usr/local/lib/python3.6/dist-packages/statsmodels/base/model.py:512: ConvergenceWarning: Maximum Likelihood optimization failed to converge. Check mle_retvals\n",
      "  \"Check mle_retvals\", ConvergenceWarning)\n"
     ]
    }
   ],
   "source": [
    "ModeloLogit = sm.Logit(Y_os, sm.add_constant(X_os))\n",
    "ResultadosLogit = ModeloLogit.fit()\n",
    "print(ResultadosLogit.summary())"
   ]
  },
  {
   "cell_type": "code",
   "execution_count": 44,
   "metadata": {
    "colab": {},
    "colab_type": "code",
    "executionInfo": {
     "elapsed": 13531,
     "status": "ok",
     "timestamp": 1594245569610,
     "user": {
      "displayName": "Carlos Alberto Galindo Rojas",
      "photoUrl": "https://lh3.googleusercontent.com/a-/AOh14Gj5JBL13GeQ-dXVWRyPNRmQqYgvAmHXhSs_kz_xeA=s64",
      "userId": "08125390419017637646"
     },
     "user_tz": 300
    },
    "id": "4jUKSTJDNzzy"
   },
   "outputs": [],
   "source": [
    "Predicciones = ResultadosLogit.predict(sm.add_constant(Explicativas))"
   ]
  },
  {
   "cell_type": "code",
   "execution_count": 45,
   "metadata": {
    "colab": {},
    "colab_type": "code",
    "executionInfo": {
     "elapsed": 13503,
     "status": "ok",
     "timestamp": 1594245569612,
     "user": {
      "displayName": "Carlos Alberto Galindo Rojas",
      "photoUrl": "https://lh3.googleusercontent.com/a-/AOh14Gj5JBL13GeQ-dXVWRyPNRmQqYgvAmHXhSs_kz_xeA=s64",
      "userId": "08125390419017637646"
     },
     "user_tz": 300
    },
    "id": "CKH8DFV0Nzz8"
   },
   "outputs": [],
   "source": [
    "Predicciones = pd.DataFrame({\"Predicción puntual\":Predicciones})"
   ]
  },
  {
   "cell_type": "code",
   "execution_count": 46,
   "metadata": {
    "colab": {},
    "colab_type": "code",
    "executionInfo": {
     "elapsed": 13485,
     "status": "ok",
     "timestamp": 1594245569615,
     "user": {
      "displayName": "Carlos Alberto Galindo Rojas",
      "photoUrl": "https://lh3.googleusercontent.com/a-/AOh14Gj5JBL13GeQ-dXVWRyPNRmQqYgvAmHXhSs_kz_xeA=s64",
      "userId": "08125390419017637646"
     },
     "user_tz": 300
    },
    "id": "bAjKdKKENz0a"
   },
   "outputs": [],
   "source": [
    "Predicciones[\"Categoría\"] = 0"
   ]
  },
  {
   "cell_type": "code",
   "execution_count": 47,
   "metadata": {
    "colab": {
     "base_uri": "https://localhost:8080/",
     "height": 187
    },
    "colab_type": "code",
    "executionInfo": {
     "elapsed": 13410,
     "status": "ok",
     "timestamp": 1594245569617,
     "user": {
      "displayName": "Carlos Alberto Galindo Rojas",
      "photoUrl": "https://lh3.googleusercontent.com/a-/AOh14Gj5JBL13GeQ-dXVWRyPNRmQqYgvAmHXhSs_kz_xeA=s64",
      "userId": "08125390419017637646"
     },
     "user_tz": 300
    },
    "id": "8Q6iG3LANz0v",
    "outputId": "289cd203-40c9-425f-f208-b279a54a2307"
   },
   "outputs": [
    {
     "name": "stderr",
     "output_type": "stream",
     "text": [
      "/usr/local/lib/python3.6/dist-packages/ipykernel_launcher.py:5: SettingWithCopyWarning: \n",
      "A value is trying to be set on a copy of a slice from a DataFrame\n",
      "\n",
      "See the caveats in the documentation: https://pandas.pydata.org/pandas-docs/stable/user_guide/indexing.html#returning-a-view-versus-a-copy\n",
      "  \"\"\"\n",
      "/usr/local/lib/python3.6/dist-packages/ipykernel_launcher.py:3: SettingWithCopyWarning: \n",
      "A value is trying to be set on a copy of a slice from a DataFrame\n",
      "\n",
      "See the caveats in the documentation: https://pandas.pydata.org/pandas-docs/stable/user_guide/indexing.html#returning-a-view-versus-a-copy\n",
      "  This is separate from the ipykernel package so we can avoid doing imports until\n"
     ]
    }
   ],
   "source": [
    "for i in range(len(Predicciones)):\n",
    "    if Predicciones[\"Predicción puntual\"][i] > 0.5:\n",
    "        Predicciones[\"Categoría\"][i] = 1\n",
    "    else: \n",
    "        Predicciones[\"Categoría\"][i] = 0"
   ]
  },
  {
   "cell_type": "code",
   "execution_count": 48,
   "metadata": {
    "colab": {},
    "colab_type": "code",
    "executionInfo": {
     "elapsed": 13397,
     "status": "ok",
     "timestamp": 1594245569620,
     "user": {
      "displayName": "Carlos Alberto Galindo Rojas",
      "photoUrl": "https://lh3.googleusercontent.com/a-/AOh14Gj5JBL13GeQ-dXVWRyPNRmQqYgvAmHXhSs_kz_xeA=s64",
      "userId": "08125390419017637646"
     },
     "user_tz": 300
    },
    "id": "FyOKiAvYNz1B"
   },
   "outputs": [],
   "source": [
    "from sklearn.metrics import confusion_matrix"
   ]
  },
  {
   "cell_type": "code",
   "execution_count": 49,
   "metadata": {
    "colab": {},
    "colab_type": "code",
    "executionInfo": {
     "elapsed": 13309,
     "status": "ok",
     "timestamp": 1594245569623,
     "user": {
      "displayName": "Carlos Alberto Galindo Rojas",
      "photoUrl": "https://lh3.googleusercontent.com/a-/AOh14Gj5JBL13GeQ-dXVWRyPNRmQqYgvAmHXhSs_kz_xeA=s64",
      "userId": "08125390419017637646"
     },
     "user_tz": 300
    },
    "id": "P_suAJMlNz1Q"
   },
   "outputs": [],
   "source": [
    "matriz_confusion = confusion_matrix(Var_Dependiente, Predicciones[\"Categoría\"])"
   ]
  },
  {
   "cell_type": "code",
   "execution_count": 50,
   "metadata": {
    "colab": {},
    "colab_type": "code",
    "executionInfo": {
     "elapsed": 13299,
     "status": "ok",
     "timestamp": 1594245569626,
     "user": {
      "displayName": "Carlos Alberto Galindo Rojas",
      "photoUrl": "https://lh3.googleusercontent.com/a-/AOh14Gj5JBL13GeQ-dXVWRyPNRmQqYgvAmHXhSs_kz_xeA=s64",
      "userId": "08125390419017637646"
     },
     "user_tz": 300
    },
    "id": "4R_SHKfvNz1W"
   },
   "outputs": [],
   "source": [
    "Originales_Prediccion = pd.concat([Predicciones, pd.DataFrame({\"Categoría original\": Var_Dependiente})], axis = 1)"
   ]
  },
  {
   "cell_type": "code",
   "execution_count": 51,
   "metadata": {
    "colab": {},
    "colab_type": "code",
    "executionInfo": {
     "elapsed": 13947,
     "status": "ok",
     "timestamp": 1594245570289,
     "user": {
      "displayName": "Carlos Alberto Galindo Rojas",
      "photoUrl": "https://lh3.googleusercontent.com/a-/AOh14Gj5JBL13GeQ-dXVWRyPNRmQqYgvAmHXhSs_kz_xeA=s64",
      "userId": "08125390419017637646"
     },
     "user_tz": 300
    },
    "id": "dKU81g2aNz1v"
   },
   "outputs": [],
   "source": [
    "Originales_Prediccion[\"Estado\"] = \"Ninguno\"\n",
    "for i in range(Originales_Prediccion.shape[0]):\n",
    "    if Originales_Prediccion.iloc[i, 1] == Originales_Prediccion.iloc[i,2]:\n",
    "        Originales_Prediccion.iloc[i, 3] = True\n",
    "    else:\n",
    "        Originales_Prediccion.iloc[i, 3] = False"
   ]
  },
  {
   "cell_type": "code",
   "execution_count": 52,
   "metadata": {
    "colab": {
     "base_uri": "https://localhost:8080/",
     "height": 119
    },
    "colab_type": "code",
    "executionInfo": {
     "elapsed": 13910,
     "status": "ok",
     "timestamp": 1594245570293,
     "user": {
      "displayName": "Carlos Alberto Galindo Rojas",
      "photoUrl": "https://lh3.googleusercontent.com/a-/AOh14Gj5JBL13GeQ-dXVWRyPNRmQqYgvAmHXhSs_kz_xeA=s64",
      "userId": "08125390419017637646"
     },
     "user_tz": 300
    },
    "id": "x-rllK_aNz1-",
    "outputId": "dd6dfc60-9d4e-46d0-b235-79d6c3996b26"
   },
   "outputs": [
    {
     "name": "stdout",
     "output_type": "stream",
     "text": [
      "Predicciones correctas:  190\n",
      "Accuracy:  89.62 %\n",
      "Verdaderos positivos:  4\n",
      "Verdaderos negativos:  186\n",
      "Falsos positivos:  3\n",
      "Falsos negativos:  19\n"
     ]
    }
   ],
   "source": [
    "print(\"Predicciones correctas: \", Originales_Prediccion[\"Estado\"].sum())\n",
    "print(\"Accuracy: \", round((((Originales_Prediccion[\"Estado\"].sum())/Originales_Prediccion.shape[0])*100),2), \"%\")\n",
    "print(\"Verdaderos positivos: \", matriz_confusion[1][1])\n",
    "print(\"Verdaderos negativos: \", matriz_confusion[0][0])\n",
    "print(\"Falsos positivos: \", matriz_confusion[0][1])\n",
    "print(\"Falsos negativos: \", matriz_confusion[1][0])"
   ]
  },
  {
   "cell_type": "code",
   "execution_count": 53,
   "metadata": {
    "colab": {},
    "colab_type": "code",
    "executionInfo": {
     "elapsed": 13877,
     "status": "ok",
     "timestamp": 1594245570296,
     "user": {
      "displayName": "Carlos Alberto Galindo Rojas",
      "photoUrl": "https://lh3.googleusercontent.com/a-/AOh14Gj5JBL13GeQ-dXVWRyPNRmQqYgvAmHXhSs_kz_xeA=s64",
      "userId": "08125390419017637646"
     },
     "user_tz": 300
    },
    "id": "15yiYVgeNz2L"
   },
   "outputs": [],
   "source": [
    "import seaborn as sns"
   ]
  },
  {
   "cell_type": "code",
   "execution_count": 54,
   "metadata": {
    "colab": {
     "base_uri": "https://localhost:8080/",
     "height": 295
    },
    "colab_type": "code",
    "executionInfo": {
     "elapsed": 13855,
     "status": "ok",
     "timestamp": 1594245570299,
     "user": {
      "displayName": "Carlos Alberto Galindo Rojas",
      "photoUrl": "https://lh3.googleusercontent.com/a-/AOh14Gj5JBL13GeQ-dXVWRyPNRmQqYgvAmHXhSs_kz_xeA=s64",
      "userId": "08125390419017637646"
     },
     "user_tz": 300
    },
    "id": "2Id2vS2LNz2h",
    "outputId": "ad166d0b-3666-4a4a-f1a7-cf5eb81f6c00"
   },
   "outputs": [
    {
     "data": {
      "image/png": "[encoded data removed]",
      "text/plain": [
       "<Figure size 432x288 with 2 Axes>"
      ]
     },
     "metadata": {
      "needs_background": "light",
      "tags": []
     },
     "output_type": "display_data"
    }
   ],
   "source": [
    "fig, ax = plt.subplots()\n",
    "sns.heatmap(matriz_confusion, annot = True, square = True, \n",
    "            cmap = \"Blues\", vmin = 0, fmt = \"g\")\n",
    "ax.set(xlabel = \"Predicción\", ylabel = \"Real\", \n",
    "       title = \"Matriz de confusión\")\n",
    "plt.show()"
   ]
  },
  {
   "cell_type": "code",
   "execution_count": 55,
   "metadata": {
    "colab": {},
    "colab_type": "code",
    "executionInfo": {
     "elapsed": 13825,
     "status": "ok",
     "timestamp": 1594245570302,
     "user": {
      "displayName": "Carlos Alberto Galindo Rojas",
      "photoUrl": "https://lh3.googleusercontent.com/a-/AOh14Gj5JBL13GeQ-dXVWRyPNRmQqYgvAmHXhSs_kz_xeA=s64",
      "userId": "08125390419017637646"
     },
     "user_tz": 300
    },
    "id": "taVONDzeNz3L"
   },
   "outputs": [],
   "source": [
    "from sklearn.metrics import classification_report"
   ]
  },
  {
   "cell_type": "code",
   "execution_count": 56,
   "metadata": {
    "colab": {
     "base_uri": "https://localhost:8080/",
     "height": 456
    },
    "colab_type": "code",
    "executionInfo": {
     "elapsed": 13803,
     "status": "ok",
     "timestamp": 1594245570305,
     "user": {
      "displayName": "Carlos Alberto Galindo Rojas",
      "photoUrl": "https://lh3.googleusercontent.com/a-/AOh14Gj5JBL13GeQ-dXVWRyPNRmQqYgvAmHXhSs_kz_xeA=s64",
      "userId": "08125390419017637646"
     },
     "user_tz": 300
    },
    "id": "Y00mh_c2O0qY",
    "outputId": "1d03dfcd-abcd-429a-9e0c-3700743efad2"
   },
   "outputs": [
    {
     "data": {
      "text/html": [
       "<div>\n",
       "<style scoped>\n",
       "    .dataframe tbody tr th:only-of-type {\n",
       "        vertical-align: middle;\n",
       "    }\n",
       "\n",
       "    .dataframe tbody tr th {\n",
       "        vertical-align: top;\n",
       "    }\n",
       "\n",
       "    .dataframe thead th {\n",
       "        text-align: right;\n",
       "    }\n",
       "</style>\n",
       "<table border=\"1\" class=\"dataframe\">\n",
       "  <thead>\n",
       "    <tr style=\"text-align: right;\">\n",
       "      <th></th>\n",
       "      <th>Día de la semana_jueves</th>\n",
       "      <th>Día de la semana_martes</th>\n",
       "      <th>Día de la semana_miércoles</th>\n",
       "      <th>Día de la semana_sábado</th>\n",
       "      <th>Día de la semana_viernes</th>\n",
       "      <th>Semana del semestre_10</th>\n",
       "      <th>Semana del semestre_11</th>\n",
       "      <th>Semana del semestre_12</th>\n",
       "      <th>Semana del semestre_13</th>\n",
       "      <th>Semana del semestre_14</th>\n",
       "      <th>Semana del semestre_15</th>\n",
       "      <th>Semana del semestre_16</th>\n",
       "      <th>Semana del semestre_17</th>\n",
       "      <th>Semana del semestre_18</th>\n",
       "      <th>Semana del semestre_19</th>\n",
       "      <th>Semana del semestre_3</th>\n",
       "      <th>Semana del semestre_4</th>\n",
       "      <th>Semana del semestre_5</th>\n",
       "      <th>Semana del semestre_6</th>\n",
       "      <th>Semana del semestre_7</th>\n",
       "      <th>Semana del semestre_8</th>\n",
       "      <th>Semana del semestre_9</th>\n",
       "    </tr>\n",
       "  </thead>\n",
       "  <tbody>\n",
       "    <tr>\n",
       "      <th>0</th>\n",
       "      <td>0</td>\n",
       "      <td>0</td>\n",
       "      <td>0</td>\n",
       "      <td>0</td>\n",
       "      <td>0</td>\n",
       "      <td>0</td>\n",
       "      <td>0</td>\n",
       "      <td>0</td>\n",
       "      <td>0</td>\n",
       "      <td>0</td>\n",
       "      <td>0</td>\n",
       "      <td>0</td>\n",
       "      <td>0</td>\n",
       "      <td>0</td>\n",
       "      <td>0</td>\n",
       "      <td>0</td>\n",
       "      <td>0</td>\n",
       "      <td>0</td>\n",
       "      <td>0</td>\n",
       "      <td>0</td>\n",
       "      <td>0</td>\n",
       "      <td>0</td>\n",
       "    </tr>\n",
       "    <tr>\n",
       "      <th>1</th>\n",
       "      <td>0</td>\n",
       "      <td>0</td>\n",
       "      <td>1</td>\n",
       "      <td>0</td>\n",
       "      <td>0</td>\n",
       "      <td>0</td>\n",
       "      <td>0</td>\n",
       "      <td>0</td>\n",
       "      <td>0</td>\n",
       "      <td>0</td>\n",
       "      <td>0</td>\n",
       "      <td>0</td>\n",
       "      <td>0</td>\n",
       "      <td>0</td>\n",
       "      <td>0</td>\n",
       "      <td>0</td>\n",
       "      <td>0</td>\n",
       "      <td>0</td>\n",
       "      <td>0</td>\n",
       "      <td>0</td>\n",
       "      <td>0</td>\n",
       "      <td>0</td>\n",
       "    </tr>\n",
       "    <tr>\n",
       "      <th>2</th>\n",
       "      <td>0</td>\n",
       "      <td>0</td>\n",
       "      <td>0</td>\n",
       "      <td>0</td>\n",
       "      <td>1</td>\n",
       "      <td>0</td>\n",
       "      <td>0</td>\n",
       "      <td>0</td>\n",
       "      <td>0</td>\n",
       "      <td>0</td>\n",
       "      <td>0</td>\n",
       "      <td>0</td>\n",
       "      <td>0</td>\n",
       "      <td>0</td>\n",
       "      <td>0</td>\n",
       "      <td>0</td>\n",
       "      <td>0</td>\n",
       "      <td>0</td>\n",
       "      <td>0</td>\n",
       "      <td>0</td>\n",
       "      <td>0</td>\n",
       "      <td>0</td>\n",
       "    </tr>\n",
       "    <tr>\n",
       "      <th>3</th>\n",
       "      <td>0</td>\n",
       "      <td>0</td>\n",
       "      <td>0</td>\n",
       "      <td>0</td>\n",
       "      <td>0</td>\n",
       "      <td>0</td>\n",
       "      <td>0</td>\n",
       "      <td>0</td>\n",
       "      <td>0</td>\n",
       "      <td>0</td>\n",
       "      <td>0</td>\n",
       "      <td>0</td>\n",
       "      <td>0</td>\n",
       "      <td>0</td>\n",
       "      <td>0</td>\n",
       "      <td>1</td>\n",
       "      <td>0</td>\n",
       "      <td>0</td>\n",
       "      <td>0</td>\n",
       "      <td>0</td>\n",
       "      <td>0</td>\n",
       "      <td>0</td>\n",
       "    </tr>\n",
       "    <tr>\n",
       "      <th>4</th>\n",
       "      <td>0</td>\n",
       "      <td>0</td>\n",
       "      <td>0</td>\n",
       "      <td>0</td>\n",
       "      <td>0</td>\n",
       "      <td>0</td>\n",
       "      <td>0</td>\n",
       "      <td>0</td>\n",
       "      <td>0</td>\n",
       "      <td>0</td>\n",
       "      <td>0</td>\n",
       "      <td>0</td>\n",
       "      <td>0</td>\n",
       "      <td>0</td>\n",
       "      <td>0</td>\n",
       "      <td>0</td>\n",
       "      <td>1</td>\n",
       "      <td>0</td>\n",
       "      <td>0</td>\n",
       "      <td>0</td>\n",
       "      <td>0</td>\n",
       "      <td>0</td>\n",
       "    </tr>\n",
       "    <tr>\n",
       "      <th>...</th>\n",
       "      <td>...</td>\n",
       "      <td>...</td>\n",
       "      <td>...</td>\n",
       "      <td>...</td>\n",
       "      <td>...</td>\n",
       "      <td>...</td>\n",
       "      <td>...</td>\n",
       "      <td>...</td>\n",
       "      <td>...</td>\n",
       "      <td>...</td>\n",
       "      <td>...</td>\n",
       "      <td>...</td>\n",
       "      <td>...</td>\n",
       "      <td>...</td>\n",
       "      <td>...</td>\n",
       "      <td>...</td>\n",
       "      <td>...</td>\n",
       "      <td>...</td>\n",
       "      <td>...</td>\n",
       "      <td>...</td>\n",
       "      <td>...</td>\n",
       "      <td>...</td>\n",
       "    </tr>\n",
       "    <tr>\n",
       "      <th>373</th>\n",
       "      <td>0</td>\n",
       "      <td>1</td>\n",
       "      <td>0</td>\n",
       "      <td>0</td>\n",
       "      <td>0</td>\n",
       "      <td>0</td>\n",
       "      <td>0</td>\n",
       "      <td>0</td>\n",
       "      <td>0</td>\n",
       "      <td>0</td>\n",
       "      <td>0</td>\n",
       "      <td>0</td>\n",
       "      <td>0</td>\n",
       "      <td>0</td>\n",
       "      <td>0</td>\n",
       "      <td>0</td>\n",
       "      <td>0</td>\n",
       "      <td>0</td>\n",
       "      <td>0</td>\n",
       "      <td>0</td>\n",
       "      <td>0</td>\n",
       "      <td>26</td>\n",
       "    </tr>\n",
       "    <tr>\n",
       "      <th>374</th>\n",
       "      <td>1</td>\n",
       "      <td>0</td>\n",
       "      <td>0</td>\n",
       "      <td>0</td>\n",
       "      <td>0</td>\n",
       "      <td>0</td>\n",
       "      <td>0</td>\n",
       "      <td>0</td>\n",
       "      <td>0</td>\n",
       "      <td>235</td>\n",
       "      <td>0</td>\n",
       "      <td>0</td>\n",
       "      <td>0</td>\n",
       "      <td>0</td>\n",
       "      <td>0</td>\n",
       "      <td>0</td>\n",
       "      <td>0</td>\n",
       "      <td>0</td>\n",
       "      <td>0</td>\n",
       "      <td>0</td>\n",
       "      <td>0</td>\n",
       "      <td>0</td>\n",
       "    </tr>\n",
       "    <tr>\n",
       "      <th>375</th>\n",
       "      <td>0</td>\n",
       "      <td>0</td>\n",
       "      <td>1</td>\n",
       "      <td>0</td>\n",
       "      <td>0</td>\n",
       "      <td>0</td>\n",
       "      <td>0</td>\n",
       "      <td>0</td>\n",
       "      <td>0</td>\n",
       "      <td>0</td>\n",
       "      <td>0</td>\n",
       "      <td>0</td>\n",
       "      <td>0</td>\n",
       "      <td>0</td>\n",
       "      <td>0</td>\n",
       "      <td>0</td>\n",
       "      <td>0</td>\n",
       "      <td>0</td>\n",
       "      <td>0</td>\n",
       "      <td>0</td>\n",
       "      <td>116</td>\n",
       "      <td>0</td>\n",
       "    </tr>\n",
       "    <tr>\n",
       "      <th>376</th>\n",
       "      <td>0</td>\n",
       "      <td>0</td>\n",
       "      <td>0</td>\n",
       "      <td>0</td>\n",
       "      <td>0</td>\n",
       "      <td>0</td>\n",
       "      <td>0</td>\n",
       "      <td>0</td>\n",
       "      <td>0</td>\n",
       "      <td>0</td>\n",
       "      <td>107</td>\n",
       "      <td>0</td>\n",
       "      <td>0</td>\n",
       "      <td>0</td>\n",
       "      <td>0</td>\n",
       "      <td>0</td>\n",
       "      <td>0</td>\n",
       "      <td>0</td>\n",
       "      <td>0</td>\n",
       "      <td>0</td>\n",
       "      <td>0</td>\n",
       "      <td>0</td>\n",
       "    </tr>\n",
       "    <tr>\n",
       "      <th>377</th>\n",
       "      <td>0</td>\n",
       "      <td>0</td>\n",
       "      <td>1</td>\n",
       "      <td>0</td>\n",
       "      <td>0</td>\n",
       "      <td>0</td>\n",
       "      <td>0</td>\n",
       "      <td>0</td>\n",
       "      <td>0</td>\n",
       "      <td>0</td>\n",
       "      <td>0</td>\n",
       "      <td>0</td>\n",
       "      <td>0</td>\n",
       "      <td>0</td>\n",
       "      <td>0</td>\n",
       "      <td>0</td>\n",
       "      <td>0</td>\n",
       "      <td>0</td>\n",
       "      <td>0</td>\n",
       "      <td>0</td>\n",
       "      <td>1</td>\n",
       "      <td>0</td>\n",
       "    </tr>\n",
       "  </tbody>\n",
       "</table>\n",
       "<p>378 rows × 22 columns</p>\n",
       "</div>"
      ],
      "text/plain": [
       "     Día de la semana_jueves  ...  Semana del semestre_9\n",
       "0                          0  ...                      0\n",
       "1                          0  ...                      0\n",
       "2                          0  ...                      0\n",
       "3                          0  ...                      0\n",
       "4                          0  ...                      0\n",
       "..                       ...  ...                    ...\n",
       "373                        0  ...                     26\n",
       "374                        1  ...                      0\n",
       "375                        0  ...                      0\n",
       "376                        0  ...                      0\n",
       "377                        0  ...                      0\n",
       "\n",
       "[378 rows x 22 columns]"
      ]
     },
     "execution_count": 56,
     "metadata": {
      "tags": []
     },
     "output_type": "execute_result"
    }
   ],
   "source": [
    "X_os"
   ]
  },
  {
   "cell_type": "code",
   "execution_count": 57,
   "metadata": {
    "colab": {
     "base_uri": "https://localhost:8080/",
     "height": 170
    },
    "colab_type": "code",
    "executionInfo": {
     "elapsed": 13728,
     "status": "ok",
     "timestamp": 1594245570308,
     "user": {
      "displayName": "Carlos Alberto Galindo Rojas",
      "photoUrl": "https://lh3.googleusercontent.com/a-/AOh14Gj5JBL13GeQ-dXVWRyPNRmQqYgvAmHXhSs_kz_xeA=s64",
      "userId": "08125390419017637646"
     },
     "user_tz": 300
    },
    "id": "2cpqZUNaNz3k",
    "outputId": "06761291-5b59-4a58-d151-5e0d60c780b6"
   },
   "outputs": [
    {
     "name": "stdout",
     "output_type": "stream",
     "text": [
      "              precision    recall  f1-score   support\n",
      "\n",
      "           0       0.91      0.98      0.94       189\n",
      "           1       0.57      0.17      0.27        23\n",
      "\n",
      "    accuracy                           0.90       212\n",
      "   macro avg       0.74      0.58      0.61       212\n",
      "weighted avg       0.87      0.90      0.87       212\n",
      "\n"
     ]
    }
   ],
   "source": [
    "print(classification_report(Var_Dependiente, Predicciones[\"Categoría\"]))"
   ]
  },
  {
   "cell_type": "markdown",
   "metadata": {
    "colab_type": "text",
    "id": "Rjj_CKmTNz4e"
   },
   "source": [
    "**Recall**:\n",
    "\\begin{equation}\n",
    "\\frac{TP}{TP+FN}\n",
    "\\end{equation}\n",
    "\n",
    "**Precision**:\n",
    "\\begin{equation}\n",
    "\\frac{TN}{TN+FP}\n",
    "\\end{equation}"
   ]
  },
  {
   "cell_type": "code",
   "execution_count": 58,
   "metadata": {
    "colab": {},
    "colab_type": "code",
    "executionInfo": {
     "elapsed": 13679,
     "status": "ok",
     "timestamp": 1594245570311,
     "user": {
      "displayName": "Carlos Alberto Galindo Rojas",
      "photoUrl": "https://lh3.googleusercontent.com/a-/AOh14Gj5JBL13GeQ-dXVWRyPNRmQqYgvAmHXhSs_kz_xeA=s64",
      "userId": "08125390419017637646"
     },
     "user_tz": 300
    },
    "id": "G9sUaS9c8nJJ"
   },
   "outputs": [],
   "source": [
    "#Resultados.predict([2,4,2])"
   ]
  },
  {
   "cell_type": "markdown",
   "metadata": {
    "colab_type": "text",
    "id": "oKVvVq51H3QQ"
   },
   "source": [
    "# Uso del modelo"
   ]
  },
  {
   "cell_type": "code",
   "execution_count": 59,
   "metadata": {
    "colab": {},
    "colab_type": "code",
    "executionInfo": {
     "elapsed": 13668,
     "status": "ok",
     "timestamp": 1594245570313,
     "user": {
      "displayName": "Carlos Alberto Galindo Rojas",
      "photoUrl": "https://lh3.googleusercontent.com/a-/AOh14Gj5JBL13GeQ-dXVWRyPNRmQqYgvAmHXhSs_kz_xeA=s64",
      "userId": "08125390419017637646"
     },
     "user_tz": 300
    },
    "id": "fppgha1gH6iv"
   },
   "outputs": [],
   "source": [
    "def prediccion(dia, semana, semestre):\n",
    "    dia_de_referencia = \"Día de la semana_\"+ str(dia)\n",
    "    semana_de_referencia = \"Semana del semestre_\" + str(semana)\n",
    "    \n",
    "    dias = ['Día de la semana_jueves', 'Día de la semana_martes',\n",
    "            'Día de la semana_miércoles', 'Día de la semana_sábado',\n",
    "            'Día de la semana_viernes']\n",
    "    \n",
    "    semanas = ['Semana del semestre_10', 'Semana del semestre_11',\n",
    "               'Semana del semestre_12', 'Semana del semestre_13',\n",
    "               'Semana del semestre_14', 'Semana del semestre_15',\n",
    "               'Semana del semestre_16', 'Semana del semestre_17',\n",
    "               'Semana del semestre_18', 'Semana del semestre_19',\n",
    "               'Semana del semestre_3', 'Semana del semestre_4',\n",
    "               'Semana del semestre_5', 'Semana del semestre_6',\n",
    "               'Semana del semestre_7', 'Semana del semestre_8',\n",
    "               'Semana del semestre_9']\n",
    "    \n",
    "    X = pd.DataFrame({'Día de la semana_jueves': [0], 'Día de la semana_martes': [0],\n",
    "                      'Día de la semana_miércoles': [0], 'Día de la semana_sábado': [0],\n",
    "                      'Día de la semana_viernes': [0], 'Semana del semestre_10': [0],\n",
    "                      'Semana del semestre_11': [0], 'Semana del semestre_12': [0],\n",
    "                      'Semana del semestre_13': [0], 'Semana del semestre_14': [0],\n",
    "                      'Semana del semestre_15': [0], 'Semana del semestre_16': [0],\n",
    "                      'Semana del semestre_17': [0], 'Semana del semestre_18': [0],\n",
    "                      'Semana del semestre_19': [0], 'Semana del semestre_3': [0],\n",
    "                      'Semana del semestre_4': [0], 'Semana del semestre_5': [0],\n",
    "                      'Semana del semestre_6': [0], 'Semana del semestre_7': [0],\n",
    "                      'Semana del semestre_8': [0], 'Semana del semestre_9': [0]})\n",
    "    Z = pd.DataFrame({'Día de la semana_jueves': [0], 'Día de la semana_martes': [0],\n",
    "                      'Día de la semana_miércoles': [0], 'Día de la semana_sábado': [0],\n",
    "                      'Día de la semana_viernes': [0], 'Semana del semestre_10': [0],\n",
    "                      'Semana del semestre_11': [0], 'Semana del semestre_12': [0],\n",
    "                      'Semana del semestre_13': [0], 'Semana del semestre_14': [0],\n",
    "                      'Semana del semestre_15': [0], 'Semana del semestre_16': [0],\n",
    "                      'Semana del semestre_17': [0], 'Semana del semestre_18': [0],\n",
    "                      'Semana del semestre_19': [0], 'Semana del semestre_3': [0],\n",
    "                      'Semana del semestre_4': [0], 'Semana del semestre_5': [0],\n",
    "                      'Semana del semestre_6': [0], 'Semana del semestre_7': [0],\n",
    "                      'Semana del semestre_8': [0], 'Semana del semestre_9': [0]})\n",
    "    \n",
    "    Falso = pd.DataFrame({'Día de la semana_jueves': [1], 'Día de la semana_martes': [0],\n",
    "                          'Día de la semana_miércoles': [0], 'Día de la semana_sábado': [0],\n",
    "                          'Día de la semana_viernes': [0], 'Semana del semestre_10': [0],\n",
    "                          'Semana del semestre_11': [0], 'Semana del semestre_12': [0],\n",
    "                          'Semana del semestre_13': [0], 'Semana del semestre_14': [0],\n",
    "                          'Semana del semestre_15': [0], 'Semana del semestre_16': [0],\n",
    "                          'Semana del semestre_17': [0], 'Semana del semestre_18': [0],\n",
    "                          'Semana del semestre_19': [0], 'Semana del semestre_3': [0],\n",
    "                          'Semana del semestre_4': [0], 'Semana del semestre_5': [0],\n",
    "                          'Semana del semestre_6': [0], 'Semana del semestre_7': [0],\n",
    "                          'Semana del semestre_8': [0], 'Semana del semestre_9': [0]})\n",
    "    resultado = \"Nada\"\n",
    "    \n",
    "    if dia_de_referencia in dias:\n",
    "        X[dia_de_referencia] = 1\n",
    "    else:\n",
    "        resultado = \"Día incorrecto\"\n",
    "    \n",
    "    if semana_de_referencia in semanas:\n",
    "        X[semana_de_referencia] = 1\n",
    "    else:\n",
    "        resultado = \"Semana incorrecta\"\n",
    "    \n",
    "    if resultado in [\"Día incorrecto\", \"Semana incorrecta\"]:\n",
    "        resultado_final = resultado\n",
    "    else:\n",
    "        X = pd.concat([X, Falso])\n",
    "        prediccion = ResultadosLogit.predict(sm.add_constant(X))\n",
    "        prediccion = prediccion.reset_index(drop = True)\n",
    "        prediccion = prediccion[0]\n",
    "        if prediccion > 0.5:\n",
    "            resultado_final = \"Para este día se estiman más de dos asistencias\"\n",
    "        else:\n",
    "            resultado_final = \"Para este día se estiman dos o menos asistencias\"\n",
    "    return(resultado_final)"
   ]
  },
  {
   "cell_type": "code",
   "execution_count": 63,
   "metadata": {
    "colab": {
     "base_uri": "https://localhost:8080/",
     "height": 69
    },
    "colab_type": "code",
    "executionInfo": {
     "elapsed": 37369,
     "status": "ok",
     "timestamp": 1594246775634,
     "user": {
      "displayName": "Carlos Alberto Galindo Rojas",
      "photoUrl": "https://lh3.googleusercontent.com/a-/AOh14Gj5JBL13GeQ-dXVWRyPNRmQqYgvAmHXhSs_kz_xeA=s64",
      "userId": "08125390419017637646"
     },
     "user_tz": 300
    },
    "id": "ZH2mPKSQQX4o",
    "outputId": "d81e0bc0-5ba6-4c45-b868-6576b911efff"
   },
   "outputs": [
    {
     "name": "stdout",
     "output_type": "stream",
     "text": [
      "Ingrese el día de la semana para el que desea realizar la predicción:martes\n",
      "Ingrese el número de la semana para el que desea realizar la predicción:11\n"
     ]
    },
    {
     "data": {
      "application/vnd.google.colaboratory.intrinsic": {
       "type": "string"
      },
      "text/plain": [
       "'Para este día se estiman dos o menos asistencias'"
      ]
     },
     "execution_count": 63,
     "metadata": {
      "tags": []
     },
     "output_type": "execute_result"
    }
   ],
   "source": [
    "# PRONÓSTICO\n",
    "\n",
    "dia = input(\"Ingrese el día de la semana para el que desea realizar la predicción:\")\n",
    "semana = input(\"Ingrese el número de la semana para el que desea realizar la predicción:\")\n",
    "semestre=0\n",
    "prediccion(dia, semana,semestre)\n",
    "\n",
    "#Nota: el día debe entrar en minúscula con la tilde respectiva.\n",
    "#La semana debe ser superior a 2 y menor que 19"
   ]
  }
 ],
 "metadata": {
  "colab": {
   "name": "Pronóstico",
   "provenance": []
  },
  "kernelspec": {
   "display_name": "Python 3",
   "language": "python",
   "name": "python3"
  },
  "language_info": {
   "codemirror_mode": {
    "name": "ipython",
    "version": 3
   },
   "file_extension": ".py",
   "mimetype": "text/x-python",
   "name": "python",
   "nbconvert_exporter": "python",
   "pygments_lexer": "ipython3",
   "version": "3.7.6"
  }
 },
 "nbformat": 4,
 "nbformat_minor": 1
}
