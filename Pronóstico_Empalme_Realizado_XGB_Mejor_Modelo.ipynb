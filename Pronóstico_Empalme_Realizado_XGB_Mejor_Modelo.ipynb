{
 "cells": [
  {
   "cell_type": "markdown",
   "metadata": {
    "colab_type": "text",
    "id": "M8WItGpcpj3W"
   },
   "source": [
    "# Importación de la base"
   ]
  },
  {
   "cell_type": "code",
   "execution_count": 1,
   "metadata": {},
   "outputs": [],
   "source": [
    "#pip install google"
   ]
  },
  {
   "cell_type": "code",
   "execution_count": 2,
   "metadata": {},
   "outputs": [],
   "source": [
    "#pip install xgboost"
   ]
  },
  {
   "cell_type": "code",
   "execution_count": 3,
   "metadata": {},
   "outputs": [],
   "source": [
    "#pip install imblearn"
   ]
  },
  {
   "cell_type": "code",
   "execution_count": 4,
   "metadata": {},
   "outputs": [],
   "source": [
    "#pip install hyperopt"
   ]
  },
  {
   "cell_type": "code",
   "execution_count": 5,
   "metadata": {},
   "outputs": [],
   "source": [
    "#pip install graphviz"
   ]
  },
  {
   "cell_type": "code",
   "execution_count": 6,
   "metadata": {
    "colab": {
     "base_uri": "https://localhost:8080/",
     "height": 71
    },
    "colab_type": "code",
    "executionInfo": {
     "elapsed": 5769,
     "status": "ok",
     "timestamp": 1594245559633,
     "user": {
      "displayName": "Carlos Alberto Galindo Rojas",
      "photoUrl": "https://lh3.googleusercontent.com/a-/AOh14Gj5JBL13GeQ-dXVWRyPNRmQqYgvAmHXhSs_kz_xeA=s64",
      "userId": "08125390419017637646"
     },
     "user_tz": 300
    },
    "id": "MpKYOsRONzjV",
    "outputId": "3fe2954f-0929-44b3-d6b5-f6cdd90d1895"
   },
   "outputs": [],
   "source": [
    "#Paquetes a usar\n",
    "import numpy as np\n",
    "import pandas as pd\n",
    "import matplotlib.pyplot as plt\n",
    "import statsmodels.api as sm"
   ]
  },
  {
   "cell_type": "code",
   "execution_count": 7,
   "metadata": {},
   "outputs": [],
   "source": [
    "# Machine Learning Packages\n",
    "import xgboost as xgb\n",
    "from xgboost import XGBClassifier, plot_tree, plot_importance\n",
    "import seaborn as sns\n",
    "import math\n",
    "import statistics \n",
    "\n",
    "\n",
    "import warnings\n",
    "warnings.simplefilter(action='ignore', category=FutureWarning)\n",
    "\n",
    "from sklearn.utils import resample\n",
    "from sklearn.model_selection import train_test_split\n",
    "from imblearn.over_sampling import SMOTE\n",
    "from sklearn.model_selection import cross_val_score\n",
    "from sklearn.preprocessing import StandardScaler, MinMaxScaler\n",
    "from hyperopt import fmin, tpe, hp, STATUS_OK, Trials\n",
    "\n",
    "from sklearn.metrics import mean_squared_error\n",
    "\n",
    "from sklearn.linear_model import LogisticRegression\n",
    "from sklearn.naive_bayes import BernoulliNB\n",
    "from sklearn.neighbors import KNeighborsClassifier\n",
    "from sklearn.tree import DecisionTreeClassifier\n",
    "from sklearn.ensemble import RandomForestClassifier\n",
    "from sklearn.ensemble import GradientBoostingClassifier\n",
    "\n",
    "from sklearn.metrics import f1_score, roc_auc_score, roc_curve\n",
    "\n",
    "from sklearn.model_selection import GridSearchCV\n",
    "\n",
    "import graphviz"
   ]
  },
  {
   "cell_type": "code",
   "execution_count": 8,
   "metadata": {
    "colab": {
     "base_uri": "https://localhost:8080/",
     "height": 34
    },
    "colab_type": "code",
    "executionInfo": {
     "elapsed": 7056,
     "status": "ok",
     "timestamp": 1594245561007,
     "user": {
      "displayName": "Carlos Alberto Galindo Rojas",
      "photoUrl": "https://lh3.googleusercontent.com/a-/AOh14Gj5JBL13GeQ-dXVWRyPNRmQqYgvAmHXhSs_kz_xeA=s64",
      "userId": "08125390419017637646"
     },
     "user_tz": 300
    },
    "id": "OPMaY3hDp89R",
    "outputId": "e780d78e-41ed-440d-baa0-4af5a5da9edc"
   },
   "outputs": [],
   "source": [
    "#Conectar con Google Drive:\n",
    "\n",
    "#from google.colab import drive\n",
    "#drive.mount('/content/drive')"
   ]
  },
  {
   "cell_type": "code",
   "execution_count": 9,
   "metadata": {
    "colab": {
     "base_uri": "https://localhost:8080/",
     "height": 623
    },
    "colab_type": "code",
    "executionInfo": {
     "elapsed": 8306,
     "status": "ok",
     "timestamp": 1594245562361,
     "user": {
      "displayName": "Carlos Alberto Galindo Rojas",
      "photoUrl": "https://lh3.googleusercontent.com/a-/AOh14Gj5JBL13GeQ-dXVWRyPNRmQqYgvAmHXhSs_kz_xeA=s64",
      "userId": "08125390419017637646"
     },
     "user_tz": 300
    },
    "id": "TefA7wFuqBZN",
    "outputId": "bdc5b282-892e-40b1-ef44-ff68881ebfad"
   },
   "outputs": [
    {
     "data": {
      "text/html": [
       "<div>\n",
       "<style scoped>\n",
       "    .dataframe tbody tr th:only-of-type {\n",
       "        vertical-align: middle;\n",
       "    }\n",
       "\n",
       "    .dataframe tbody tr th {\n",
       "        vertical-align: top;\n",
       "    }\n",
       "\n",
       "    .dataframe thead th {\n",
       "        text-align: right;\n",
       "    }\n",
       "</style>\n",
       "<table border=\"1\" class=\"dataframe\">\n",
       "  <thead>\n",
       "    <tr style=\"text-align: right;\">\n",
       "      <th></th>\n",
       "      <th>Id_Asistencia</th>\n",
       "      <th>Materia</th>\n",
       "      <th>Software</th>\n",
       "      <th>Profesor Encargado</th>\n",
       "      <th>Programa Curricular</th>\n",
       "      <th>Nivel académico</th>\n",
       "      <th>Fecha</th>\n",
       "      <th>Día de la semana</th>\n",
       "      <th>Horario</th>\n",
       "      <th>Número de participantes</th>\n",
       "      <th>Semestre</th>\n",
       "      <th>Semana del semestre</th>\n",
       "    </tr>\n",
       "  </thead>\n",
       "  <tbody>\n",
       "    <tr>\n",
       "      <th>0</th>\n",
       "      <td>AD20170101</td>\n",
       "      <td>Fundamentos de Finanzas</td>\n",
       "      <td>Excel</td>\n",
       "      <td>Luis German Ome</td>\n",
       "      <td>Administración de Empresas</td>\n",
       "      <td>Pregrado</td>\n",
       "      <td>2017-02-06</td>\n",
       "      <td>lunes</td>\n",
       "      <td>18:00 - 20:00</td>\n",
       "      <td>NaN</td>\n",
       "      <td>2017-01</td>\n",
       "      <td>2</td>\n",
       "    </tr>\n",
       "    <tr>\n",
       "      <th>1</th>\n",
       "      <td>AD20170102</td>\n",
       "      <td>Estrategia de Mercados</td>\n",
       "      <td>Moodle</td>\n",
       "      <td>Alvaro Viña</td>\n",
       "      <td>Administración de Empresas</td>\n",
       "      <td>Pregrado</td>\n",
       "      <td>2017-02-08</td>\n",
       "      <td>miércoles</td>\n",
       "      <td>10:00 - 11:00</td>\n",
       "      <td>NaN</td>\n",
       "      <td>2017-01</td>\n",
       "      <td>2</td>\n",
       "    </tr>\n",
       "    <tr>\n",
       "      <th>2</th>\n",
       "      <td>AD20170103</td>\n",
       "      <td>Maestría en Administración</td>\n",
       "      <td>Moodle</td>\n",
       "      <td>Luis Alejandro Rodriguez</td>\n",
       "      <td>Maestría en Administración</td>\n",
       "      <td>Posgrado</td>\n",
       "      <td>2017-02-10</td>\n",
       "      <td>viernes</td>\n",
       "      <td>09:00 - 10:00</td>\n",
       "      <td>NaN</td>\n",
       "      <td>2017-01</td>\n",
       "      <td>2</td>\n",
       "    </tr>\n",
       "    <tr>\n",
       "      <th>3</th>\n",
       "      <td>AD20170104</td>\n",
       "      <td>Fundamentos de Finanzas</td>\n",
       "      <td>Excel</td>\n",
       "      <td>Luis German Ome</td>\n",
       "      <td>Administración de Empresas</td>\n",
       "      <td>Pregrado</td>\n",
       "      <td>2017-02-13</td>\n",
       "      <td>lunes</td>\n",
       "      <td>18:00 - 20:00</td>\n",
       "      <td>NaN</td>\n",
       "      <td>2017-01</td>\n",
       "      <td>3</td>\n",
       "    </tr>\n",
       "    <tr>\n",
       "      <th>4</th>\n",
       "      <td>AD20170105</td>\n",
       "      <td>Teoría Contemporanea de la Organización</td>\n",
       "      <td>Moodle</td>\n",
       "      <td>Alex Árias</td>\n",
       "      <td>Administración de Empresas</td>\n",
       "      <td>Pregrado</td>\n",
       "      <td>2017-02-13</td>\n",
       "      <td>lunes</td>\n",
       "      <td>10:00 - 11:00</td>\n",
       "      <td>NaN</td>\n",
       "      <td>2017-01</td>\n",
       "      <td>3</td>\n",
       "    </tr>\n",
       "    <tr>\n",
       "      <th>...</th>\n",
       "      <td>...</td>\n",
       "      <td>...</td>\n",
       "      <td>...</td>\n",
       "      <td>...</td>\n",
       "      <td>...</td>\n",
       "      <td>...</td>\n",
       "      <td>...</td>\n",
       "      <td>...</td>\n",
       "      <td>...</td>\n",
       "      <td>...</td>\n",
       "      <td>...</td>\n",
       "      <td>...</td>\n",
       "    </tr>\n",
       "    <tr>\n",
       "      <th>366</th>\n",
       "      <td>AD2020164</td>\n",
       "      <td>Revista Intercambio</td>\n",
       "      <td>Inkscape</td>\n",
       "      <td>NaN</td>\n",
       "      <td>NaN</td>\n",
       "      <td>NaN</td>\n",
       "      <td>2020-06-09</td>\n",
       "      <td>martes</td>\n",
       "      <td>14:00 - 16:00</td>\n",
       "      <td>4.0</td>\n",
       "      <td>2020-01</td>\n",
       "      <td>15</td>\n",
       "    </tr>\n",
       "    <tr>\n",
       "      <th>367</th>\n",
       "      <td>AD2020165</td>\n",
       "      <td>Sistemas de Información Gerencial</td>\n",
       "      <td>SAP</td>\n",
       "      <td>Henry Martinez Sarmiento</td>\n",
       "      <td>Administración de Empresas</td>\n",
       "      <td>Pregrado</td>\n",
       "      <td>2020-06-10</td>\n",
       "      <td>miércoles</td>\n",
       "      <td>14:00 - 16:00</td>\n",
       "      <td>38.0</td>\n",
       "      <td>2020-01</td>\n",
       "      <td>15</td>\n",
       "    </tr>\n",
       "    <tr>\n",
       "      <th>368</th>\n",
       "      <td>AD2020166</td>\n",
       "      <td>Sistemas de Información Gerencial</td>\n",
       "      <td>SAP</td>\n",
       "      <td>Henry Martinez Sarmiento</td>\n",
       "      <td>Administración de Empresas</td>\n",
       "      <td>Pregrado</td>\n",
       "      <td>2020-06-17</td>\n",
       "      <td>miércoles</td>\n",
       "      <td>14:00 - 16:00</td>\n",
       "      <td>38.0</td>\n",
       "      <td>2020-01</td>\n",
       "      <td>16</td>\n",
       "    </tr>\n",
       "    <tr>\n",
       "      <th>369</th>\n",
       "      <td>AD2020167</td>\n",
       "      <td>Requisitos del Sistema Integrado de Gestión pa...</td>\n",
       "      <td>Nvivo</td>\n",
       "      <td>PEC</td>\n",
       "      <td>NaN</td>\n",
       "      <td>NaN</td>\n",
       "      <td>2020-06-20</td>\n",
       "      <td>sábado</td>\n",
       "      <td>11:00 - 13:00</td>\n",
       "      <td>NaN</td>\n",
       "      <td>2020-01</td>\n",
       "      <td>16</td>\n",
       "    </tr>\n",
       "    <tr>\n",
       "      <th>370</th>\n",
       "      <td>AD2020168</td>\n",
       "      <td>Gestión de las Operaciones y la Producción II</td>\n",
       "      <td>SAP</td>\n",
       "      <td>Luis Alejandro Rodriguez</td>\n",
       "      <td>Gestión de las Operaciones y la Producción II</td>\n",
       "      <td>Pregrado</td>\n",
       "      <td>2020-06-23</td>\n",
       "      <td>martes</td>\n",
       "      <td>07:00 - 09:00</td>\n",
       "      <td>21.0</td>\n",
       "      <td>2020-01</td>\n",
       "      <td>17</td>\n",
       "    </tr>\n",
       "  </tbody>\n",
       "</table>\n",
       "<p>371 rows × 12 columns</p>\n",
       "</div>"
      ],
      "text/plain": [
       "    Id_Asistencia                                            Materia  \\\n",
       "0      AD20170101                            Fundamentos de Finanzas   \n",
       "1      AD20170102                             Estrategia de Mercados   \n",
       "2      AD20170103                         Maestría en Administración   \n",
       "3      AD20170104                            Fundamentos de Finanzas   \n",
       "4      AD20170105            Teoría Contemporanea de la Organización   \n",
       "..            ...                                                ...   \n",
       "366     AD2020164                                Revista Intercambio   \n",
       "367     AD2020165                  Sistemas de Información Gerencial   \n",
       "368     AD2020166                  Sistemas de Información Gerencial   \n",
       "369     AD2020167  Requisitos del Sistema Integrado de Gestión pa...   \n",
       "370     AD2020168      Gestión de las Operaciones y la Producción II   \n",
       "\n",
       "     Software        Profesor Encargado  \\\n",
       "0       Excel           Luis German Ome   \n",
       "1      Moodle               Alvaro Viña   \n",
       "2      Moodle  Luis Alejandro Rodriguez   \n",
       "3       Excel           Luis German Ome   \n",
       "4      Moodle                Alex Árias   \n",
       "..        ...                       ...   \n",
       "366  Inkscape                       NaN   \n",
       "367       SAP  Henry Martinez Sarmiento   \n",
       "368       SAP  Henry Martinez Sarmiento   \n",
       "369     Nvivo                       PEC   \n",
       "370       SAP  Luis Alejandro Rodriguez   \n",
       "\n",
       "                               Programa Curricular Nivel académico      Fecha  \\\n",
       "0                       Administración de Empresas        Pregrado 2017-02-06   \n",
       "1                       Administración de Empresas        Pregrado 2017-02-08   \n",
       "2                       Maestría en Administración        Posgrado 2017-02-10   \n",
       "3                       Administración de Empresas        Pregrado 2017-02-13   \n",
       "4                       Administración de Empresas        Pregrado 2017-02-13   \n",
       "..                                             ...             ...        ...   \n",
       "366                                            NaN             NaN 2020-06-09   \n",
       "367                     Administración de Empresas        Pregrado 2020-06-10   \n",
       "368                     Administración de Empresas        Pregrado 2020-06-17   \n",
       "369                                            NaN             NaN 2020-06-20   \n",
       "370  Gestión de las Operaciones y la Producción II        Pregrado 2020-06-23   \n",
       "\n",
       "    Día de la semana        Horario  Número de participantes Semestre  \\\n",
       "0              lunes  18:00 - 20:00                      NaN  2017-01   \n",
       "1          miércoles  10:00 - 11:00                      NaN  2017-01   \n",
       "2            viernes  09:00 - 10:00                      NaN  2017-01   \n",
       "3              lunes  18:00 - 20:00                      NaN  2017-01   \n",
       "4              lunes  10:00 - 11:00                      NaN  2017-01   \n",
       "..               ...            ...                      ...      ...   \n",
       "366           martes  14:00 - 16:00                      4.0  2020-01   \n",
       "367        miércoles  14:00 - 16:00                     38.0  2020-01   \n",
       "368        miércoles  14:00 - 16:00                     38.0  2020-01   \n",
       "369           sábado  11:00 - 13:00                      NaN  2020-01   \n",
       "370           martes  07:00 - 09:00                     21.0  2020-01   \n",
       "\n",
       "     Semana del semestre  \n",
       "0                      2  \n",
       "1                      2  \n",
       "2                      2  \n",
       "3                      3  \n",
       "4                      3  \n",
       "..                   ...  \n",
       "366                   15  \n",
       "367                   15  \n",
       "368                   16  \n",
       "369                   16  \n",
       "370                   17  \n",
       "\n",
       "[371 rows x 12 columns]"
      ]
     },
     "execution_count": 9,
     "metadata": {},
     "output_type": "execute_result"
    }
   ],
   "source": [
    "#Base de datos:\n",
    "data = pd.read_excel('BD 2020-1.xlsx')\n",
    "#data=pd.read_excel('/content/drive/My Drive/UIFCE/Actividades 2020-1/Base de datos asistencias docentes/Base de datos definitiva.xlsx')\n",
    "data"
   ]
  },
  {
   "cell_type": "code",
   "execution_count": 10,
   "metadata": {
    "colab": {
     "base_uri": "https://localhost:8080/",
     "height": 340
    },
    "colab_type": "code",
    "executionInfo": {
     "elapsed": 8237,
     "status": "ok",
     "timestamp": 1594245562372,
     "user": {
      "displayName": "Carlos Alberto Galindo Rojas",
      "photoUrl": "https://lh3.googleusercontent.com/a-/AOh14Gj5JBL13GeQ-dXVWRyPNRmQqYgvAmHXhSs_kz_xeA=s64",
      "userId": "08125390419017637646"
     },
     "user_tz": 300
    },
    "id": "z9X5SuNHNzlK",
    "outputId": "9c263aae-4b88-428f-efd9-643bf37ccf08"
   },
   "outputs": [
    {
     "name": "stdout",
     "output_type": "stream",
     "text": [
      "<class 'pandas.core.frame.DataFrame'>\n",
      "RangeIndex: 371 entries, 0 to 370\n",
      "Data columns (total 12 columns):\n",
      " #   Column                   Non-Null Count  Dtype         \n",
      "---  ------                   --------------  -----         \n",
      " 0   Id_Asistencia            371 non-null    object        \n",
      " 1   Materia                  371 non-null    object        \n",
      " 2   Software                 371 non-null    object        \n",
      " 3   Profesor Encargado       360 non-null    object        \n",
      " 4   Programa Curricular      368 non-null    object        \n",
      " 5   Nivel académico          355 non-null    object        \n",
      " 6   Fecha                    371 non-null    datetime64[ns]\n",
      " 7   Día de la semana         371 non-null    object        \n",
      " 8   Horario                  326 non-null    object        \n",
      " 9   Número de participantes  263 non-null    float64       \n",
      " 10  Semestre                 371 non-null    object        \n",
      " 11  Semana del semestre      371 non-null    int64         \n",
      "dtypes: datetime64[ns](1), float64(1), int64(1), object(9)\n",
      "memory usage: 34.9+ KB\n"
     ]
    }
   ],
   "source": [
    "data.info()"
   ]
  },
  {
   "cell_type": "markdown",
   "metadata": {
    "colab_type": "text",
    "id": "Z3aUKPajNzll"
   },
   "source": [
    "# 1. Modelo de MCO"
   ]
  },
  {
   "cell_type": "code",
   "execution_count": 11,
   "metadata": {
    "colab": {},
    "colab_type": "code",
    "executionInfo": {
     "elapsed": 8204,
     "status": "ok",
     "timestamp": 1594245562374,
     "user": {
      "displayName": "Carlos Alberto Galindo Rojas",
      "photoUrl": "https://lh3.googleusercontent.com/a-/AOh14Gj5JBL13GeQ-dXVWRyPNRmQqYgvAmHXhSs_kz_xeA=s64",
      "userId": "08125390419017637646"
     },
     "user_tz": 300
    },
    "id": "leEQwsQsNzln"
   },
   "outputs": [],
   "source": [
    "numero_asistencias = data.groupby(\"Fecha\").count()[[\"Id_Asistencia\"]]"
   ]
  },
  {
   "cell_type": "code",
   "execution_count": 12,
   "metadata": {
    "colab": {},
    "colab_type": "code",
    "executionInfo": {
     "elapsed": 8189,
     "status": "ok",
     "timestamp": 1594245562378,
     "user": {
      "displayName": "Carlos Alberto Galindo Rojas",
      "photoUrl": "https://lh3.googleusercontent.com/a-/AOh14Gj5JBL13GeQ-dXVWRyPNRmQqYgvAmHXhSs_kz_xeA=s64",
      "userId": "08125390419017637646"
     },
     "user_tz": 300
    },
    "id": "a-dy4emdNzl0"
   },
   "outputs": [],
   "source": [
    "numero_asistencias.rename(columns = {\"Id_Asistencia\": \"Número de asistencias\"}, inplace = True)"
   ]
  },
  {
   "cell_type": "code",
   "execution_count": 13,
   "metadata": {
    "colab": {
     "base_uri": "https://localhost:8080/",
     "height": 228
    },
    "colab_type": "code",
    "executionInfo": {
     "elapsed": 9231,
     "status": "ok",
     "timestamp": 1594245563496,
     "user": {
      "displayName": "Carlos Alberto Galindo Rojas",
      "photoUrl": "https://lh3.googleusercontent.com/a-/AOh14Gj5JBL13GeQ-dXVWRyPNRmQqYgvAmHXhSs_kz_xeA=s64",
      "userId": "08125390419017637646"
     },
     "user_tz": 300
    },
    "id": "3SbWVG5dNzmg",
    "outputId": "fbe3cf14-7252-4c0e-d366-ed5bed158360"
   },
   "outputs": [
    {
     "data": {
      "text/plain": [
       "<matplotlib.collections.PathCollection at 0x2c308d5bac0>"
      ]
     },
     "execution_count": 13,
     "metadata": {},
     "output_type": "execute_result"
    },
    {
     "data": {
      "image/png": "[encoded data removed]",
      "text/plain": [
       "<Figure size 864x216 with 1 Axes>"
      ]
     },
     "metadata": {
      "needs_background": "light"
     },
     "output_type": "display_data"
    }
   ],
   "source": [
    "fig, ax = plt.subplots(figsize = (12,3))\n",
    "ax.scatter(numero_asistencias.index, numero_asistencias[\"Número de asistencias\"])"
   ]
  },
  {
   "cell_type": "code",
   "execution_count": 14,
   "metadata": {
    "colab": {},
    "colab_type": "code",
    "executionInfo": {
     "elapsed": 9163,
     "status": "ok",
     "timestamp": 1594245563501,
     "user": {
      "displayName": "Carlos Alberto Galindo Rojas",
      "photoUrl": "https://lh3.googleusercontent.com/a-/AOh14Gj5JBL13GeQ-dXVWRyPNRmQqYgvAmHXhSs_kz_xeA=s64",
      "userId": "08125390419017637646"
     },
     "user_tz": 300
    },
    "id": "7RaEeYHZNznJ"
   },
   "outputs": [],
   "source": [
    "info_explicativas = data[[\"Día de la semana\", \"Semestre\", \"Semana del semestre\", \"Fecha\"]].set_index(\"Fecha\")"
   ]
  },
  {
   "cell_type": "code",
   "execution_count": 15,
   "metadata": {
    "colab": {},
    "colab_type": "code",
    "executionInfo": {
     "elapsed": 9141,
     "status": "ok",
     "timestamp": 1594245563504,
     "user": {
      "displayName": "Carlos Alberto Galindo Rojas",
      "photoUrl": "https://lh3.googleusercontent.com/a-/AOh14Gj5JBL13GeQ-dXVWRyPNRmQqYgvAmHXhSs_kz_xeA=s64",
      "userId": "08125390419017637646"
     },
     "user_tz": 300
    },
    "id": "ePRZzohyNznX"
   },
   "outputs": [],
   "source": [
    "dataset_modelo = pd.concat([numero_asistencias, info_explicativas], axis = 1)"
   ]
  },
  {
   "cell_type": "code",
   "execution_count": 16,
   "metadata": {
    "colab": {
     "base_uri": "https://localhost:8080/",
     "height": 235
    },
    "colab_type": "code",
    "executionInfo": {
     "elapsed": 9054,
     "status": "ok",
     "timestamp": 1594245563507,
     "user": {
      "displayName": "Carlos Alberto Galindo Rojas",
      "photoUrl": "https://lh3.googleusercontent.com/a-/AOh14Gj5JBL13GeQ-dXVWRyPNRmQqYgvAmHXhSs_kz_xeA=s64",
      "userId": "08125390419017637646"
     },
     "user_tz": 300
    },
    "id": "ucbq-EzaNzoO",
    "outputId": "b378e3ba-613c-4529-8dcc-bfa5482c8fc8"
   },
   "outputs": [
    {
     "data": {
      "text/html": [
       "<div>\n",
       "<style scoped>\n",
       "    .dataframe tbody tr th:only-of-type {\n",
       "        vertical-align: middle;\n",
       "    }\n",
       "\n",
       "    .dataframe tbody tr th {\n",
       "        vertical-align: top;\n",
       "    }\n",
       "\n",
       "    .dataframe thead th {\n",
       "        text-align: right;\n",
       "    }\n",
       "</style>\n",
       "<table border=\"1\" class=\"dataframe\">\n",
       "  <thead>\n",
       "    <tr style=\"text-align: right;\">\n",
       "      <th></th>\n",
       "      <th>Número de asistencias</th>\n",
       "      <th>Día de la semana</th>\n",
       "      <th>Semestre</th>\n",
       "      <th>Semana del semestre</th>\n",
       "    </tr>\n",
       "    <tr>\n",
       "      <th>Fecha</th>\n",
       "      <th></th>\n",
       "      <th></th>\n",
       "      <th></th>\n",
       "      <th></th>\n",
       "    </tr>\n",
       "  </thead>\n",
       "  <tbody>\n",
       "    <tr>\n",
       "      <th>2017-02-06</th>\n",
       "      <td>1</td>\n",
       "      <td>lunes</td>\n",
       "      <td>2017-01</td>\n",
       "      <td>2</td>\n",
       "    </tr>\n",
       "    <tr>\n",
       "      <th>2017-02-08</th>\n",
       "      <td>1</td>\n",
       "      <td>miércoles</td>\n",
       "      <td>2017-01</td>\n",
       "      <td>2</td>\n",
       "    </tr>\n",
       "    <tr>\n",
       "      <th>2017-02-10</th>\n",
       "      <td>1</td>\n",
       "      <td>viernes</td>\n",
       "      <td>2017-01</td>\n",
       "      <td>2</td>\n",
       "    </tr>\n",
       "    <tr>\n",
       "      <th>2017-02-13</th>\n",
       "      <td>2</td>\n",
       "      <td>lunes</td>\n",
       "      <td>2017-01</td>\n",
       "      <td>3</td>\n",
       "    </tr>\n",
       "    <tr>\n",
       "      <th>2017-02-13</th>\n",
       "      <td>2</td>\n",
       "      <td>lunes</td>\n",
       "      <td>2017-01</td>\n",
       "      <td>3</td>\n",
       "    </tr>\n",
       "  </tbody>\n",
       "</table>\n",
       "</div>"
      ],
      "text/plain": [
       "            Número de asistencias Día de la semana Semestre  \\\n",
       "Fecha                                                         \n",
       "2017-02-06                      1            lunes  2017-01   \n",
       "2017-02-08                      1        miércoles  2017-01   \n",
       "2017-02-10                      1          viernes  2017-01   \n",
       "2017-02-13                      2            lunes  2017-01   \n",
       "2017-02-13                      2            lunes  2017-01   \n",
       "\n",
       "            Semana del semestre  \n",
       "Fecha                            \n",
       "2017-02-06                    2  \n",
       "2017-02-08                    2  \n",
       "2017-02-10                    2  \n",
       "2017-02-13                    3  \n",
       "2017-02-13                    3  "
      ]
     },
     "execution_count": 16,
     "metadata": {},
     "output_type": "execute_result"
    }
   ],
   "source": [
    "dataset_modelo.head()"
   ]
  },
  {
   "cell_type": "code",
   "execution_count": 17,
   "metadata": {
    "colab": {},
    "colab_type": "code",
    "executionInfo": {
     "elapsed": 9008,
     "status": "ok",
     "timestamp": 1594245563510,
     "user": {
      "displayName": "Carlos Alberto Galindo Rojas",
      "photoUrl": "https://lh3.googleusercontent.com/a-/AOh14Gj5JBL13GeQ-dXVWRyPNRmQqYgvAmHXhSs_kz_xeA=s64",
      "userId": "08125390419017637646"
     },
     "user_tz": 300
    },
    "id": "LE1CnC_rNzog"
   },
   "outputs": [],
   "source": [
    "dataset_modelo.drop_duplicates(inplace = True)"
   ]
  },
  {
   "cell_type": "code",
   "execution_count": 18,
   "metadata": {
    "colab": {
     "base_uri": "https://localhost:8080/",
     "height": 51
    },
    "colab_type": "code",
    "executionInfo": {
     "elapsed": 8983,
     "status": "ok",
     "timestamp": 1594245563536,
     "user": {
      "displayName": "Carlos Alberto Galindo Rojas",
      "photoUrl": "https://lh3.googleusercontent.com/a-/AOh14Gj5JBL13GeQ-dXVWRyPNRmQqYgvAmHXhSs_kz_xeA=s64",
      "userId": "08125390419017637646"
     },
     "user_tz": 300
    },
    "id": "JGbRaBJBNzo-",
    "outputId": "87788afd-b060-4131-e54c-f23943ab1759"
   },
   "outputs": [
    {
     "data": {
      "text/plain": [
       "array(['2017-01', '2017-02', '2018-01', '2018-02', '2019-01', '2019-02',\n",
       "       '2020-01'], dtype=object)"
      ]
     },
     "execution_count": 18,
     "metadata": {},
     "output_type": "execute_result"
    }
   ],
   "source": [
    "dataset_modelo[\"Semestre\"].unique()"
   ]
  },
  {
   "cell_type": "code",
   "execution_count": 19,
   "metadata": {
    "colab": {},
    "colab_type": "code",
    "executionInfo": {
     "elapsed": 8968,
     "status": "ok",
     "timestamp": 1594245563539,
     "user": {
      "displayName": "Carlos Alberto Galindo Rojas",
      "photoUrl": "https://lh3.googleusercontent.com/a-/AOh14Gj5JBL13GeQ-dXVWRyPNRmQqYgvAmHXhSs_kz_xeA=s64",
      "userId": "08125390419017637646"
     },
     "user_tz": 300
    },
    "id": "_wK1Ggq4Nzpm"
   },
   "outputs": [],
   "source": [
    "# Mapear semestre:\n",
    "dataset_modelo[\"Semestre\"] = dataset_modelo[\"Semestre\"].map({\"2017-01\": 1, \n",
    "                                                             \"2017-02\": 2, \n",
    "                                                             \"2018-01\": 3, \n",
    "                                                             \"2018-02\": 4, \n",
    "                                                             \"2019-01\": 5, \n",
    "                                                             \"2019-02\": 6,\n",
    "                                                             \"2020-01\": 7})"
   ]
  },
  {
   "cell_type": "code",
   "execution_count": 20,
   "metadata": {
    "colab": {},
    "colab_type": "code",
    "executionInfo": {
     "elapsed": 8928,
     "status": "ok",
     "timestamp": 1594245563541,
     "user": {
      "displayName": "Carlos Alberto Galindo Rojas",
      "photoUrl": "https://lh3.googleusercontent.com/a-/AOh14Gj5JBL13GeQ-dXVWRyPNRmQqYgvAmHXhSs_kz_xeA=s64",
      "userId": "08125390419017637646"
     },
     "user_tz": 300
    },
    "id": "hjo-Daj0Nzpw"
   },
   "outputs": [],
   "source": [
    "# Convertir semana del semestre a categórica: \n",
    "dataset_modelo[\"Semana del semestre\"] = dataset_modelo[\"Semana del semestre\"].astype(str)"
   ]
  },
  {
   "cell_type": "code",
   "execution_count": 21,
   "metadata": {
    "colab": {},
    "colab_type": "code",
    "executionInfo": {
     "elapsed": 8869,
     "status": "ok",
     "timestamp": 1594245563549,
     "user": {
      "displayName": "Carlos Alberto Galindo Rojas",
      "photoUrl": "https://lh3.googleusercontent.com/a-/AOh14Gj5JBL13GeQ-dXVWRyPNRmQqYgvAmHXhSs_kz_xeA=s64",
      "userId": "08125390419017637646"
     },
     "user_tz": 300
    },
    "id": "5ZcMnniANzp6"
   },
   "outputs": [],
   "source": [
    "dataset_modelo = pd.get_dummies(dataset_modelo)"
   ]
  },
  {
   "cell_type": "code",
   "execution_count": 22,
   "metadata": {
    "colab": {},
    "colab_type": "code",
    "executionInfo": {
     "elapsed": 8841,
     "status": "ok",
     "timestamp": 1594245563557,
     "user": {
      "displayName": "Carlos Alberto Galindo Rojas",
      "photoUrl": "https://lh3.googleusercontent.com/a-/AOh14Gj5JBL13GeQ-dXVWRyPNRmQqYgvAmHXhSs_kz_xeA=s64",
      "userId": "08125390419017637646"
     },
     "user_tz": 300
    },
    "id": "C9VPAwCnNzqw"
   },
   "outputs": [],
   "source": [
    "Dependiente = dataset_modelo[\"Número de asistencias\"]"
   ]
  },
  {
   "cell_type": "code",
   "execution_count": 23,
   "metadata": {
    "colab": {},
    "colab_type": "code",
    "executionInfo": {
     "elapsed": 8827,
     "status": "ok",
     "timestamp": 1594245563566,
     "user": {
      "displayName": "Carlos Alberto Galindo Rojas",
      "photoUrl": "https://lh3.googleusercontent.com/a-/AOh14Gj5JBL13GeQ-dXVWRyPNRmQqYgvAmHXhSs_kz_xeA=s64",
      "userId": "08125390419017637646"
     },
     "user_tz": 300
    },
    "id": "yVDwxykzNzq6"
   },
   "outputs": [],
   "source": [
    "Explicativas = dataset_modelo.loc[:, \"Semestre\":].drop(columns = [\"Día de la semana_lunes\", \"Semana del semestre_2\"])"
   ]
  },
  {
   "cell_type": "code",
   "execution_count": 24,
   "metadata": {
    "colab": {
     "base_uri": "https://localhost:8080/",
     "height": 816
    },
    "colab_type": "code",
    "executionInfo": {
     "elapsed": 8768,
     "status": "ok",
     "timestamp": 1594245563571,
     "user": {
      "displayName": "Carlos Alberto Galindo Rojas",
      "photoUrl": "https://lh3.googleusercontent.com/a-/AOh14Gj5JBL13GeQ-dXVWRyPNRmQqYgvAmHXhSs_kz_xeA=s64",
      "userId": "08125390419017637646"
     },
     "user_tz": 300
    },
    "id": "YYUgIrl-NzrS",
    "outputId": "322fa55b-bb99-4c50-d6ed-33e4f7574a40"
   },
   "outputs": [
    {
     "name": "stdout",
     "output_type": "stream",
     "text": [
      "                              OLS Regression Results                             \n",
      "=================================================================================\n",
      "Dep. Variable:     Número de asistencias   R-squared:                       0.096\n",
      "Model:                               OLS   Adj. R-squared:                  0.003\n",
      "Method:                    Least Squares   F-statistic:                     1.036\n",
      "Date:                   Sat, 14 Nov 2020   Prob (F-statistic):              0.421\n",
      "Time:                           17:54:59   Log-Likelihood:                -287.70\n",
      "No. Observations:                    258   AIC:                             625.4\n",
      "Df Residuals:                        233   BIC:                             714.2\n",
      "Df Model:                             24                                         \n",
      "Covariance Type:               nonrobust                                         \n",
      "==============================================================================================\n",
      "                                 coef    std err          t      P>|t|      [0.025      0.975]\n",
      "----------------------------------------------------------------------------------------------\n",
      "const                          1.0836      0.303      3.577      0.000       0.487       1.681\n",
      "Semestre                      -0.0312      0.024     -1.299      0.195      -0.079       0.016\n",
      "Día de la semana_jueves       -0.0093      0.179     -0.052      0.959      -0.362       0.344\n",
      "Día de la semana_martes        0.1505      0.167      0.900      0.369      -0.179       0.480\n",
      "Día de la semana_miércoles     0.1473      0.177      0.830      0.407      -0.202       0.497\n",
      "Día de la semana_sábado       -0.3091      0.187     -1.657      0.099      -0.677       0.058\n",
      "Día de la semana_viernes      -0.1906      0.160     -1.190      0.235      -0.506       0.125\n",
      "Semana del semestre_1          0.1152      0.454      0.253      0.800      -0.780       1.010\n",
      "Semana del semestre_10         0.5887      0.316      1.863      0.064      -0.034       1.211\n",
      "Semana del semestre_11         0.5648      0.323      1.750      0.081      -0.071       1.201\n",
      "Semana del semestre_12         0.2155      0.325      0.664      0.507      -0.424       0.855\n",
      "Semana del semestre_13         0.6187      0.338      1.828      0.069      -0.048       1.286\n",
      "Semana del semestre_14         0.7770      0.334      2.324      0.021       0.118       1.436\n",
      "Semana del semestre_15         0.4695      0.351      1.338      0.182      -0.222       1.161\n",
      "Semana del semestre_16         0.5539      0.382      1.451      0.148      -0.198       1.306\n",
      "Semana del semestre_17         0.3768      0.364      1.036      0.301      -0.340       1.093\n",
      "Semana del semestre_18        -0.0431      0.832     -0.052      0.959      -1.683       1.596\n",
      "Semana del semestre_19        -0.0882      0.530     -0.166      0.868      -1.132       0.956\n",
      "Semana del semestre_3          0.2533      0.386      0.656      0.513      -0.508       1.015\n",
      "Semana del semestre_4          0.6482      0.339      1.910      0.057      -0.020       1.317\n",
      "Semana del semestre_5          0.5807      0.366      1.587      0.114      -0.140       1.302\n",
      "Semana del semestre_6          0.3822      0.357      1.070      0.286      -0.321       1.086\n",
      "Semana del semestre_7          0.6355      0.324      1.960      0.051      -0.003       1.274\n",
      "Semana del semestre_8          0.6076      0.335      1.813      0.071      -0.053       1.268\n",
      "Semana del semestre_9          0.5119      0.326      1.572      0.117      -0.130       1.154\n",
      "==============================================================================\n",
      "Omnibus:                       89.802   Durbin-Watson:                   2.094\n",
      "Prob(Omnibus):                  0.000   Jarque-Bera (JB):              211.323\n",
      "Skew:                           1.676   Prob(JB):                     1.29e-46\n",
      "Kurtosis:                       5.903   Cond. No.                         114.\n",
      "==============================================================================\n",
      "\n",
      "Warnings:\n",
      "[1] Standard Errors assume that the covariance matrix of the errors is correctly specified.\n"
     ]
    }
   ],
   "source": [
    "Modelo = sm.OLS(Dependiente, sm.add_constant(Explicativas))\n",
    "Resultados = Modelo.fit()\n",
    "print(Resultados.summary())"
   ]
  },
  {
   "cell_type": "code",
   "execution_count": 25,
   "metadata": {
    "colab": {
     "base_uri": "https://localhost:8080/",
     "height": 228
    },
    "colab_type": "code",
    "executionInfo": {
     "elapsed": 8675,
     "status": "ok",
     "timestamp": 1594245563575,
     "user": {
      "displayName": "Carlos Alberto Galindo Rojas",
      "photoUrl": "https://lh3.googleusercontent.com/a-/AOh14Gj5JBL13GeQ-dXVWRyPNRmQqYgvAmHXhSs_kz_xeA=s64",
      "userId": "08125390419017637646"
     },
     "user_tz": 300
    },
    "id": "bC_vaTYTNzrl",
    "outputId": "40102bd7-c48e-4a78-eac4-c4960b03025a"
   },
   "outputs": [
    {
     "data": {
      "text/plain": [
       "<matplotlib.collections.PathCollection at 0x2c309efa2e0>"
      ]
     },
     "execution_count": 25,
     "metadata": {},
     "output_type": "execute_result"
    },
    {
     "data": {
      "image/png": "[encoded data removed]",
      "text/plain": [
       "<Figure size 864x216 with 1 Axes>"
      ]
     },
     "metadata": {
      "needs_background": "light"
     },
     "output_type": "display_data"
    }
   ],
   "source": [
    "fig, ax = plt.subplots(figsize = (12,3))\n",
    "ax.scatter(numero_asistencias.index, numero_asistencias[\"Número de asistencias\"])\n",
    "ax.scatter(Explicativas.index, Resultados.predict(), color = 'orange')"
   ]
  },
  {
   "cell_type": "code",
   "execution_count": 26,
   "metadata": {
    "colab": {},
    "colab_type": "code",
    "executionInfo": {
     "elapsed": 8640,
     "status": "ok",
     "timestamp": 1594245563578,
     "user": {
      "displayName": "Carlos Alberto Galindo Rojas",
      "photoUrl": "https://lh3.googleusercontent.com/a-/AOh14Gj5JBL13GeQ-dXVWRyPNRmQqYgvAmHXhSs_kz_xeA=s64",
      "userId": "08125390419017637646"
     },
     "user_tz": 300
    },
    "id": "0SeUjK7sNzrz"
   },
   "outputs": [],
   "source": [
    "Explicativas = Explicativas[['Día de la semana_jueves', 'Día de la semana_martes',\n",
    "                            'Día de la semana_miércoles', 'Día de la semana_sábado',\n",
    "                            'Día de la semana_viernes', 'Semana del semestre_10',\n",
    "                            'Semana del semestre_11', 'Semana del semestre_12',\n",
    "                            'Semana del semestre_13', 'Semana del semestre_14',\n",
    "                            'Semana del semestre_15', 'Semana del semestre_16',\n",
    "                            'Semana del semestre_17', 'Semana del semestre_18',\n",
    "                            'Semana del semestre_19', 'Semana del semestre_3',\n",
    "                            'Semana del semestre_4', 'Semana del semestre_5',\n",
    "                            'Semana del semestre_6', 'Semana del semestre_7',\n",
    "                            'Semana del semestre_8', 'Semana del semestre_9']]"
   ]
  },
  {
   "cell_type": "code",
   "execution_count": 27,
   "metadata": {
    "colab": {
     "base_uri": "https://localhost:8080/",
     "height": 221
    },
    "colab_type": "code",
    "executionInfo": {
     "elapsed": 8579,
     "status": "ok",
     "timestamp": 1594245563581,
     "user": {
      "displayName": "Carlos Alberto Galindo Rojas",
      "photoUrl": "https://lh3.googleusercontent.com/a-/AOh14Gj5JBL13GeQ-dXVWRyPNRmQqYgvAmHXhSs_kz_xeA=s64",
      "userId": "08125390419017637646"
     },
     "user_tz": 300
    },
    "id": "FA0zpjIxNzr8",
    "outputId": "fe5a918e-8dfe-4ccd-e8b3-dfb1bc4eeb50"
   },
   "outputs": [
    {
     "data": {
      "text/plain": [
       "Index(['Día de la semana_jueves', 'Día de la semana_martes',\n",
       "       'Día de la semana_miércoles', 'Día de la semana_sábado',\n",
       "       'Día de la semana_viernes', 'Semana del semestre_10',\n",
       "       'Semana del semestre_11', 'Semana del semestre_12',\n",
       "       'Semana del semestre_13', 'Semana del semestre_14',\n",
       "       'Semana del semestre_15', 'Semana del semestre_16',\n",
       "       'Semana del semestre_17', 'Semana del semestre_18',\n",
       "       'Semana del semestre_19', 'Semana del semestre_3',\n",
       "       'Semana del semestre_4', 'Semana del semestre_5',\n",
       "       'Semana del semestre_6', 'Semana del semestre_7',\n",
       "       'Semana del semestre_8', 'Semana del semestre_9'],\n",
       "      dtype='object')"
      ]
     },
     "execution_count": 27,
     "metadata": {},
     "output_type": "execute_result"
    }
   ],
   "source": [
    "Explicativas.columns"
   ]
  },
  {
   "cell_type": "markdown",
   "metadata": {
    "colab_type": "text",
    "id": "Td-NbWwZNzsW"
   },
   "source": [
    "# 2. Regresión Poisson:"
   ]
  },
  {
   "cell_type": "code",
   "execution_count": 28,
   "metadata": {
    "colab": {},
    "colab_type": "code",
    "executionInfo": {
     "elapsed": 8523,
     "status": "ok",
     "timestamp": 1594245563583,
     "user": {
      "displayName": "Carlos Alberto Galindo Rojas",
      "photoUrl": "https://lh3.googleusercontent.com/a-/AOh14Gj5JBL13GeQ-dXVWRyPNRmQqYgvAmHXhSs_kz_xeA=s64",
      "userId": "08125390419017637646"
     },
     "user_tz": 300
    },
    "id": "1UGe_DC0NzsY"
   },
   "outputs": [],
   "source": [
    "from patsy import dmatrices"
   ]
  },
  {
   "cell_type": "code",
   "execution_count": 29,
   "metadata": {
    "colab": {},
    "colab_type": "code",
    "executionInfo": {
     "elapsed": 8459,
     "status": "ok",
     "timestamp": 1594245563587,
     "user": {
      "displayName": "Carlos Alberto Galindo Rojas",
      "photoUrl": "https://lh3.googleusercontent.com/a-/AOh14Gj5JBL13GeQ-dXVWRyPNRmQqYgvAmHXhSs_kz_xeA=s64",
      "userId": "08125390419017637646"
     },
     "user_tz": 300
    },
    "id": "w9Dayp5RNzsg"
   },
   "outputs": [],
   "source": [
    "data_poisson = numero_asistencias\n",
    "ds = numero_asistencias.index.to_series()\n",
    "data_poisson['Mes'] = ds.dt.month\n",
    "data_poisson['Dia_de_la_semana'] = ds.dt.dayofweek\n",
    "data_poisson['Dia'] = ds.dt.day\n",
    "data_poisson.rename(columns = {\"Número de asistencias\": \"Numero_de_asistencias\"}, \n",
    "                    inplace = True)"
   ]
  },
  {
   "cell_type": "code",
   "execution_count": 30,
   "metadata": {
    "colab": {
     "base_uri": "https://localhost:8080/",
     "height": 450
    },
    "colab_type": "code",
    "executionInfo": {
     "elapsed": 8359,
     "status": "ok",
     "timestamp": 1594245563591,
     "user": {
      "displayName": "Carlos Alberto Galindo Rojas",
      "photoUrl": "https://lh3.googleusercontent.com/a-/AOh14Gj5JBL13GeQ-dXVWRyPNRmQqYgvAmHXhSs_kz_xeA=s64",
      "userId": "08125390419017637646"
     },
     "user_tz": 300
    },
    "id": "IW7-aM7nNzsu",
    "outputId": "81141199-4b9a-4637-b338-1eac7e5f8b9d"
   },
   "outputs": [
    {
     "data": {
      "text/html": [
       "<div>\n",
       "<style scoped>\n",
       "    .dataframe tbody tr th:only-of-type {\n",
       "        vertical-align: middle;\n",
       "    }\n",
       "\n",
       "    .dataframe tbody tr th {\n",
       "        vertical-align: top;\n",
       "    }\n",
       "\n",
       "    .dataframe thead th {\n",
       "        text-align: right;\n",
       "    }\n",
       "</style>\n",
       "<table border=\"1\" class=\"dataframe\">\n",
       "  <thead>\n",
       "    <tr style=\"text-align: right;\">\n",
       "      <th></th>\n",
       "      <th>Numero_de_asistencias</th>\n",
       "      <th>Mes</th>\n",
       "      <th>Dia_de_la_semana</th>\n",
       "      <th>Dia</th>\n",
       "    </tr>\n",
       "    <tr>\n",
       "      <th>Fecha</th>\n",
       "      <th></th>\n",
       "      <th></th>\n",
       "      <th></th>\n",
       "      <th></th>\n",
       "    </tr>\n",
       "  </thead>\n",
       "  <tbody>\n",
       "    <tr>\n",
       "      <th>2017-02-06</th>\n",
       "      <td>1</td>\n",
       "      <td>2</td>\n",
       "      <td>0</td>\n",
       "      <td>6</td>\n",
       "    </tr>\n",
       "    <tr>\n",
       "      <th>2017-02-08</th>\n",
       "      <td>1</td>\n",
       "      <td>2</td>\n",
       "      <td>2</td>\n",
       "      <td>8</td>\n",
       "    </tr>\n",
       "    <tr>\n",
       "      <th>2017-02-10</th>\n",
       "      <td>1</td>\n",
       "      <td>2</td>\n",
       "      <td>4</td>\n",
       "      <td>10</td>\n",
       "    </tr>\n",
       "    <tr>\n",
       "      <th>2017-02-13</th>\n",
       "      <td>2</td>\n",
       "      <td>2</td>\n",
       "      <td>0</td>\n",
       "      <td>13</td>\n",
       "    </tr>\n",
       "    <tr>\n",
       "      <th>2017-02-20</th>\n",
       "      <td>2</td>\n",
       "      <td>2</td>\n",
       "      <td>0</td>\n",
       "      <td>20</td>\n",
       "    </tr>\n",
       "    <tr>\n",
       "      <th>...</th>\n",
       "      <td>...</td>\n",
       "      <td>...</td>\n",
       "      <td>...</td>\n",
       "      <td>...</td>\n",
       "    </tr>\n",
       "    <tr>\n",
       "      <th>2020-06-09</th>\n",
       "      <td>1</td>\n",
       "      <td>6</td>\n",
       "      <td>1</td>\n",
       "      <td>9</td>\n",
       "    </tr>\n",
       "    <tr>\n",
       "      <th>2020-06-10</th>\n",
       "      <td>1</td>\n",
       "      <td>6</td>\n",
       "      <td>2</td>\n",
       "      <td>10</td>\n",
       "    </tr>\n",
       "    <tr>\n",
       "      <th>2020-06-17</th>\n",
       "      <td>1</td>\n",
       "      <td>6</td>\n",
       "      <td>2</td>\n",
       "      <td>17</td>\n",
       "    </tr>\n",
       "    <tr>\n",
       "      <th>2020-06-20</th>\n",
       "      <td>1</td>\n",
       "      <td>6</td>\n",
       "      <td>5</td>\n",
       "      <td>20</td>\n",
       "    </tr>\n",
       "    <tr>\n",
       "      <th>2020-06-23</th>\n",
       "      <td>1</td>\n",
       "      <td>6</td>\n",
       "      <td>1</td>\n",
       "      <td>23</td>\n",
       "    </tr>\n",
       "  </tbody>\n",
       "</table>\n",
       "<p>258 rows × 4 columns</p>\n",
       "</div>"
      ],
      "text/plain": [
       "            Numero_de_asistencias  Mes  Dia_de_la_semana  Dia\n",
       "Fecha                                                        \n",
       "2017-02-06                      1    2                 0    6\n",
       "2017-02-08                      1    2                 2    8\n",
       "2017-02-10                      1    2                 4   10\n",
       "2017-02-13                      2    2                 0   13\n",
       "2017-02-20                      2    2                 0   20\n",
       "...                           ...  ...               ...  ...\n",
       "2020-06-09                      1    6                 1    9\n",
       "2020-06-10                      1    6                 2   10\n",
       "2020-06-17                      1    6                 2   17\n",
       "2020-06-20                      1    6                 5   20\n",
       "2020-06-23                      1    6                 1   23\n",
       "\n",
       "[258 rows x 4 columns]"
      ]
     },
     "execution_count": 30,
     "metadata": {},
     "output_type": "execute_result"
    }
   ],
   "source": [
    "data_poisson"
   ]
  },
  {
   "cell_type": "code",
   "execution_count": 31,
   "metadata": {
    "colab": {},
    "colab_type": "code",
    "executionInfo": {
     "elapsed": 8340,
     "status": "ok",
     "timestamp": 1594245563599,
     "user": {
      "displayName": "Carlos Alberto Galindo Rojas",
      "photoUrl": "https://lh3.googleusercontent.com/a-/AOh14Gj5JBL13GeQ-dXVWRyPNRmQqYgvAmHXhSs_kz_xeA=s64",
      "userId": "08125390419017637646"
     },
     "user_tz": 300
    },
    "id": "UX8HFfsXNztD"
   },
   "outputs": [],
   "source": [
    "expr = \"\"\"Numero_de_asistencias ~ Dia  + Dia_de_la_semana + Mes\"\"\""
   ]
  },
  {
   "cell_type": "code",
   "execution_count": 32,
   "metadata": {
    "colab": {},
    "colab_type": "code",
    "executionInfo": {
     "elapsed": 8326,
     "status": "ok",
     "timestamp": 1594245563602,
     "user": {
      "displayName": "Carlos Alberto Galindo Rojas",
      "photoUrl": "https://lh3.googleusercontent.com/a-/AOh14Gj5JBL13GeQ-dXVWRyPNRmQqYgvAmHXhSs_kz_xeA=s64",
      "userId": "08125390419017637646"
     },
     "user_tz": 300
    },
    "id": "W4VCRo1qNztP"
   },
   "outputs": [],
   "source": [
    "y_train, X_train = dmatrices(expr, data_poisson, return_type='dataframe')"
   ]
  },
  {
   "cell_type": "code",
   "execution_count": 33,
   "metadata": {
    "colab": {
     "base_uri": "https://localhost:8080/",
     "height": 340
    },
    "colab_type": "code",
    "executionInfo": {
     "elapsed": 8248,
     "status": "ok",
     "timestamp": 1594245563605,
     "user": {
      "displayName": "Carlos Alberto Galindo Rojas",
      "photoUrl": "https://lh3.googleusercontent.com/a-/AOh14Gj5JBL13GeQ-dXVWRyPNRmQqYgvAmHXhSs_kz_xeA=s64",
      "userId": "08125390419017637646"
     },
     "user_tz": 300
    },
    "id": "nsqlTNobNztf",
    "outputId": "a849aff5-f50d-4316-ba39-733ae5428edf"
   },
   "outputs": [
    {
     "name": "stdout",
     "output_type": "stream",
     "text": [
      "                   Generalized Linear Model Regression Results                   \n",
      "=================================================================================\n",
      "Dep. Variable:     Numero_de_asistencias   No. Observations:                  258\n",
      "Model:                               GLM   Df Residuals:                      254\n",
      "Model Family:                    Poisson   Df Model:                            3\n",
      "Link Function:                       log   Scale:                          1.0000\n",
      "Method:                             IRLS   Log-Likelihood:                -330.54\n",
      "Date:                   Sat, 14 Nov 2020   Deviance:                       85.345\n",
      "Time:                           17:55:00   Pearson chi2:                     104.\n",
      "No. Iterations:                        4                                         \n",
      "Covariance Type:               nonrobust                                         \n",
      "====================================================================================\n",
      "                       coef    std err          z      P>|z|      [0.025      0.975]\n",
      "------------------------------------------------------------------------------------\n",
      "Intercept            0.3548      0.166      2.139      0.032       0.030       0.680\n",
      "Dia                  0.0011      0.006      0.182      0.856      -0.011       0.013\n",
      "Dia_de_la_semana    -0.0493      0.032     -1.564      0.118      -0.111       0.012\n",
      "Mes                  0.0185      0.018      1.032      0.302      -0.017       0.054\n",
      "====================================================================================\n"
     ]
    }
   ],
   "source": [
    "Modelo_Poisson = sm.GLM(y_train, X_train, family=sm.families.Poisson())\n",
    "Resultados_Poisson = Modelo_Poisson.fit()\n",
    "print(Resultados_Poisson.summary())"
   ]
  },
  {
   "cell_type": "code",
   "execution_count": 34,
   "metadata": {
    "colab": {},
    "colab_type": "code",
    "executionInfo": {
     "elapsed": 8229,
     "status": "ok",
     "timestamp": 1594245563608,
     "user": {
      "displayName": "Carlos Alberto Galindo Rojas",
      "photoUrl": "https://lh3.googleusercontent.com/a-/AOh14Gj5JBL13GeQ-dXVWRyPNRmQqYgvAmHXhSs_kz_xeA=s64",
      "userId": "08125390419017637646"
     },
     "user_tz": 300
    },
    "id": "QY8JPD09Nztp"
   },
   "outputs": [],
   "source": [
    "Predicciones_Poisson = Resultados_Poisson.get_prediction(X_train)\n",
    "Predicciones_Poisson_summary_frame = Predicciones_Poisson.summary_frame()"
   ]
  },
  {
   "cell_type": "code",
   "execution_count": 35,
   "metadata": {
    "colab": {
     "base_uri": "https://localhost:8080/",
     "height": 233
    },
    "colab_type": "code",
    "executionInfo": {
     "elapsed": 8997,
     "status": "ok",
     "timestamp": 1594245564439,
     "user": {
      "displayName": "Carlos Alberto Galindo Rojas",
      "photoUrl": "https://lh3.googleusercontent.com/a-/AOh14Gj5JBL13GeQ-dXVWRyPNRmQqYgvAmHXhSs_kz_xeA=s64",
      "userId": "08125390419017637646"
     },
     "user_tz": 300
    },
    "id": "uH_OX_QTNzuh",
    "outputId": "9d609332-fece-4f1c-8226-9d2d95cb764b"
   },
   "outputs": [
    {
     "data": {
      "image/png": "[encoded data removed]",
      "text/plain": [
       "<Figure size 864x216 with 1 Axes>"
      ]
     },
     "metadata": {
      "needs_background": "light"
     },
     "output_type": "display_data"
    }
   ],
   "source": [
    "prediccion_de_cuenta = Predicciones_Poisson_summary_frame['mean']\n",
    "verdadera_cuenta = y_train['Numero_de_asistencias']\n",
    "fig, ax = plt.subplots(figsize = (12,3))\n",
    "fig.suptitle('Predicción vs verdaderos valores')\n",
    "ax.scatter(X_train.index, prediccion_de_cuenta, color = 'red', label='Predicción')\n",
    "ax.scatter(X_train.index, verdadera_cuenta, color = 'darkblue', label='Verdaderos')\n",
    "plt.legend()\n",
    "plt.show()"
   ]
  },
  {
   "cell_type": "code",
   "execution_count": 36,
   "metadata": {
    "colab": {
     "base_uri": "https://localhost:8080/",
     "height": 356
    },
    "colab_type": "code",
    "executionInfo": {
     "elapsed": 8962,
     "status": "ok",
     "timestamp": 1594245564445,
     "user": {
      "displayName": "Carlos Alberto Galindo Rojas",
      "photoUrl": "https://lh3.googleusercontent.com/a-/AOh14Gj5JBL13GeQ-dXVWRyPNRmQqYgvAmHXhSs_kz_xeA=s64",
      "userId": "08125390419017637646"
     },
     "user_tz": 300
    },
    "id": "MRseBydQNzus",
    "outputId": "ea0874b0-e2c4-454e-8a6e-ab50e5249342"
   },
   "outputs": [
    {
     "data": {
      "image/png": "[encoded data removed]",
      "text/plain": [
       "<Figure size 576x360 with 1 Axes>"
      ]
     },
     "metadata": {
      "needs_background": "light"
     },
     "output_type": "display_data"
    }
   ],
   "source": [
    "fig, ax = plt.subplots(figsize = (8,5))\n",
    "fig.suptitle('Predicción vs verdaderos valores')\n",
    "ax.scatter(prediccion_de_cuenta, verdadera_cuenta, color = 'green')\n",
    "plt.show()"
   ]
  },
  {
   "cell_type": "markdown",
   "metadata": {
    "colab_type": "text",
    "id": "TVR01XqqNzu_"
   },
   "source": [
    "# 3. Regresión logística:"
   ]
  },
  {
   "cell_type": "code",
   "execution_count": 37,
   "metadata": {
    "colab": {},
    "colab_type": "code",
    "executionInfo": {
     "elapsed": 8881,
     "status": "ok",
     "timestamp": 1594245564450,
     "user": {
      "displayName": "Carlos Alberto Galindo Rojas",
      "photoUrl": "https://lh3.googleusercontent.com/a-/AOh14Gj5JBL13GeQ-dXVWRyPNRmQqYgvAmHXhSs_kz_xeA=s64",
      "userId": "08125390419017637646"
     },
     "user_tz": 300
    },
    "id": "zzYCFNkfNzvB"
   },
   "outputs": [],
   "source": [
    "Dependiente = dataset_modelo[[\"Número de asistencias\"]]"
   ]
  },
  {
   "cell_type": "code",
   "execution_count": 38,
   "metadata": {
    "colab": {
     "base_uri": "https://localhost:8080/",
     "height": 357
    },
    "colab_type": "code",
    "executionInfo": {
     "elapsed": 8824,
     "status": "ok",
     "timestamp": 1594245564454,
     "user": {
      "displayName": "Carlos Alberto Galindo Rojas",
      "photoUrl": "https://lh3.googleusercontent.com/a-/AOh14Gj5JBL13GeQ-dXVWRyPNRmQqYgvAmHXhSs_kz_xeA=s64",
      "userId": "08125390419017637646"
     },
     "user_tz": 300
    },
    "id": "3utjmshKNzvk",
    "outputId": "1fb1670e-825e-463d-f460-09005e61be7f"
   },
   "outputs": [
    {
     "data": {
      "text/html": [
       "<div>\n",
       "<style scoped>\n",
       "    .dataframe tbody tr th:only-of-type {\n",
       "        vertical-align: middle;\n",
       "    }\n",
       "\n",
       "    .dataframe tbody tr th {\n",
       "        vertical-align: top;\n",
       "    }\n",
       "\n",
       "    .dataframe thead th {\n",
       "        text-align: right;\n",
       "    }\n",
       "</style>\n",
       "<table border=\"1\" class=\"dataframe\">\n",
       "  <thead>\n",
       "    <tr style=\"text-align: right;\">\n",
       "      <th></th>\n",
       "      <th>Día de la semana_jueves</th>\n",
       "      <th>Día de la semana_martes</th>\n",
       "      <th>Día de la semana_miércoles</th>\n",
       "      <th>Día de la semana_sábado</th>\n",
       "      <th>Día de la semana_viernes</th>\n",
       "      <th>Semana del semestre_10</th>\n",
       "      <th>Semana del semestre_11</th>\n",
       "      <th>Semana del semestre_12</th>\n",
       "      <th>Semana del semestre_13</th>\n",
       "      <th>Semana del semestre_14</th>\n",
       "      <th>...</th>\n",
       "      <th>Semana del semestre_17</th>\n",
       "      <th>Semana del semestre_18</th>\n",
       "      <th>Semana del semestre_19</th>\n",
       "      <th>Semana del semestre_3</th>\n",
       "      <th>Semana del semestre_4</th>\n",
       "      <th>Semana del semestre_5</th>\n",
       "      <th>Semana del semestre_6</th>\n",
       "      <th>Semana del semestre_7</th>\n",
       "      <th>Semana del semestre_8</th>\n",
       "      <th>Semana del semestre_9</th>\n",
       "    </tr>\n",
       "    <tr>\n",
       "      <th>Fecha</th>\n",
       "      <th></th>\n",
       "      <th></th>\n",
       "      <th></th>\n",
       "      <th></th>\n",
       "      <th></th>\n",
       "      <th></th>\n",
       "      <th></th>\n",
       "      <th></th>\n",
       "      <th></th>\n",
       "      <th></th>\n",
       "      <th></th>\n",
       "      <th></th>\n",
       "      <th></th>\n",
       "      <th></th>\n",
       "      <th></th>\n",
       "      <th></th>\n",
       "      <th></th>\n",
       "      <th></th>\n",
       "      <th></th>\n",
       "      <th></th>\n",
       "      <th></th>\n",
       "    </tr>\n",
       "  </thead>\n",
       "  <tbody>\n",
       "    <tr>\n",
       "      <th>2017-02-06</th>\n",
       "      <td>0</td>\n",
       "      <td>0</td>\n",
       "      <td>0</td>\n",
       "      <td>0</td>\n",
       "      <td>0</td>\n",
       "      <td>0</td>\n",
       "      <td>0</td>\n",
       "      <td>0</td>\n",
       "      <td>0</td>\n",
       "      <td>0</td>\n",
       "      <td>...</td>\n",
       "      <td>0</td>\n",
       "      <td>0</td>\n",
       "      <td>0</td>\n",
       "      <td>0</td>\n",
       "      <td>0</td>\n",
       "      <td>0</td>\n",
       "      <td>0</td>\n",
       "      <td>0</td>\n",
       "      <td>0</td>\n",
       "      <td>0</td>\n",
       "    </tr>\n",
       "    <tr>\n",
       "      <th>2017-02-08</th>\n",
       "      <td>0</td>\n",
       "      <td>0</td>\n",
       "      <td>1</td>\n",
       "      <td>0</td>\n",
       "      <td>0</td>\n",
       "      <td>0</td>\n",
       "      <td>0</td>\n",
       "      <td>0</td>\n",
       "      <td>0</td>\n",
       "      <td>0</td>\n",
       "      <td>...</td>\n",
       "      <td>0</td>\n",
       "      <td>0</td>\n",
       "      <td>0</td>\n",
       "      <td>0</td>\n",
       "      <td>0</td>\n",
       "      <td>0</td>\n",
       "      <td>0</td>\n",
       "      <td>0</td>\n",
       "      <td>0</td>\n",
       "      <td>0</td>\n",
       "    </tr>\n",
       "    <tr>\n",
       "      <th>2017-02-10</th>\n",
       "      <td>0</td>\n",
       "      <td>0</td>\n",
       "      <td>0</td>\n",
       "      <td>0</td>\n",
       "      <td>1</td>\n",
       "      <td>0</td>\n",
       "      <td>0</td>\n",
       "      <td>0</td>\n",
       "      <td>0</td>\n",
       "      <td>0</td>\n",
       "      <td>...</td>\n",
       "      <td>0</td>\n",
       "      <td>0</td>\n",
       "      <td>0</td>\n",
       "      <td>0</td>\n",
       "      <td>0</td>\n",
       "      <td>0</td>\n",
       "      <td>0</td>\n",
       "      <td>0</td>\n",
       "      <td>0</td>\n",
       "      <td>0</td>\n",
       "    </tr>\n",
       "    <tr>\n",
       "      <th>2017-02-13</th>\n",
       "      <td>0</td>\n",
       "      <td>0</td>\n",
       "      <td>0</td>\n",
       "      <td>0</td>\n",
       "      <td>0</td>\n",
       "      <td>0</td>\n",
       "      <td>0</td>\n",
       "      <td>0</td>\n",
       "      <td>0</td>\n",
       "      <td>0</td>\n",
       "      <td>...</td>\n",
       "      <td>0</td>\n",
       "      <td>0</td>\n",
       "      <td>0</td>\n",
       "      <td>1</td>\n",
       "      <td>0</td>\n",
       "      <td>0</td>\n",
       "      <td>0</td>\n",
       "      <td>0</td>\n",
       "      <td>0</td>\n",
       "      <td>0</td>\n",
       "    </tr>\n",
       "    <tr>\n",
       "      <th>2017-02-20</th>\n",
       "      <td>0</td>\n",
       "      <td>0</td>\n",
       "      <td>0</td>\n",
       "      <td>0</td>\n",
       "      <td>0</td>\n",
       "      <td>0</td>\n",
       "      <td>0</td>\n",
       "      <td>0</td>\n",
       "      <td>0</td>\n",
       "      <td>0</td>\n",
       "      <td>...</td>\n",
       "      <td>0</td>\n",
       "      <td>0</td>\n",
       "      <td>0</td>\n",
       "      <td>0</td>\n",
       "      <td>1</td>\n",
       "      <td>0</td>\n",
       "      <td>0</td>\n",
       "      <td>0</td>\n",
       "      <td>0</td>\n",
       "      <td>0</td>\n",
       "    </tr>\n",
       "  </tbody>\n",
       "</table>\n",
       "<p>5 rows × 22 columns</p>\n",
       "</div>"
      ],
      "text/plain": [
       "            Día de la semana_jueves  Día de la semana_martes  \\\n",
       "Fecha                                                          \n",
       "2017-02-06                        0                        0   \n",
       "2017-02-08                        0                        0   \n",
       "2017-02-10                        0                        0   \n",
       "2017-02-13                        0                        0   \n",
       "2017-02-20                        0                        0   \n",
       "\n",
       "            Día de la semana_miércoles  Día de la semana_sábado  \\\n",
       "Fecha                                                             \n",
       "2017-02-06                           0                        0   \n",
       "2017-02-08                           1                        0   \n",
       "2017-02-10                           0                        0   \n",
       "2017-02-13                           0                        0   \n",
       "2017-02-20                           0                        0   \n",
       "\n",
       "            Día de la semana_viernes  Semana del semestre_10  \\\n",
       "Fecha                                                          \n",
       "2017-02-06                         0                       0   \n",
       "2017-02-08                         0                       0   \n",
       "2017-02-10                         1                       0   \n",
       "2017-02-13                         0                       0   \n",
       "2017-02-20                         0                       0   \n",
       "\n",
       "            Semana del semestre_11  Semana del semestre_12  \\\n",
       "Fecha                                                        \n",
       "2017-02-06                       0                       0   \n",
       "2017-02-08                       0                       0   \n",
       "2017-02-10                       0                       0   \n",
       "2017-02-13                       0                       0   \n",
       "2017-02-20                       0                       0   \n",
       "\n",
       "            Semana del semestre_13  Semana del semestre_14  ...  \\\n",
       "Fecha                                                       ...   \n",
       "2017-02-06                       0                       0  ...   \n",
       "2017-02-08                       0                       0  ...   \n",
       "2017-02-10                       0                       0  ...   \n",
       "2017-02-13                       0                       0  ...   \n",
       "2017-02-20                       0                       0  ...   \n",
       "\n",
       "            Semana del semestre_17  Semana del semestre_18  \\\n",
       "Fecha                                                        \n",
       "2017-02-06                       0                       0   \n",
       "2017-02-08                       0                       0   \n",
       "2017-02-10                       0                       0   \n",
       "2017-02-13                       0                       0   \n",
       "2017-02-20                       0                       0   \n",
       "\n",
       "            Semana del semestre_19  Semana del semestre_3  \\\n",
       "Fecha                                                       \n",
       "2017-02-06                       0                      0   \n",
       "2017-02-08                       0                      0   \n",
       "2017-02-10                       0                      0   \n",
       "2017-02-13                       0                      1   \n",
       "2017-02-20                       0                      0   \n",
       "\n",
       "            Semana del semestre_4  Semana del semestre_5  \\\n",
       "Fecha                                                      \n",
       "2017-02-06                      0                      0   \n",
       "2017-02-08                      0                      0   \n",
       "2017-02-10                      0                      0   \n",
       "2017-02-13                      0                      0   \n",
       "2017-02-20                      1                      0   \n",
       "\n",
       "            Semana del semestre_6  Semana del semestre_7  \\\n",
       "Fecha                                                      \n",
       "2017-02-06                      0                      0   \n",
       "2017-02-08                      0                      0   \n",
       "2017-02-10                      0                      0   \n",
       "2017-02-13                      0                      0   \n",
       "2017-02-20                      0                      0   \n",
       "\n",
       "            Semana del semestre_8  Semana del semestre_9  \n",
       "Fecha                                                     \n",
       "2017-02-06                      0                      0  \n",
       "2017-02-08                      0                      0  \n",
       "2017-02-10                      0                      0  \n",
       "2017-02-13                      0                      0  \n",
       "2017-02-20                      0                      0  \n",
       "\n",
       "[5 rows x 22 columns]"
      ]
     },
     "execution_count": 38,
     "metadata": {},
     "output_type": "execute_result"
    }
   ],
   "source": [
    "Explicativas.head()"
   ]
  },
  {
   "cell_type": "code",
   "execution_count": 39,
   "metadata": {
    "colab": {
     "base_uri": "https://localhost:8080/",
     "height": 997
    },
    "colab_type": "code",
    "executionInfo": {
     "elapsed": 8771,
     "status": "ok",
     "timestamp": 1594245564457,
     "user": {
      "displayName": "Carlos Alberto Galindo Rojas",
      "photoUrl": "https://lh3.googleusercontent.com/a-/AOh14Gj5JBL13GeQ-dXVWRyPNRmQqYgvAmHXhSs_kz_xeA=s64",
      "userId": "08125390419017637646"
     },
     "user_tz": 300
    },
    "id": "hwNkDt5XNzvu",
    "outputId": "b48fbbfe-b185-4e12-b77b-2a685d214c05"
   },
   "outputs": [
    {
     "name": "stderr",
     "output_type": "stream",
     "text": [
      "<ipython-input-39-cd2f4cece594>:1: SettingWithCopyWarning: \n",
      "A value is trying to be set on a copy of a slice from a DataFrame.\n",
      "Try using .loc[row_indexer,col_indexer] = value instead\n",
      "\n",
      "See the caveats in the documentation: https://pandas.pydata.org/pandas-docs/stable/user_guide/indexing.html#returning-a-view-versus-a-copy\n",
      "  Dependiente[\"Categoría\"] = 1\n",
      "<ipython-input-39-cd2f4cece594>:2: SettingWithCopyWarning: \n",
      "A value is trying to be set on a copy of a slice from a DataFrame.\n",
      "Try using .loc[row_indexer,col_indexer] = value instead\n",
      "\n",
      "See the caveats in the documentation: https://pandas.pydata.org/pandas-docs/stable/user_guide/indexing.html#returning-a-view-versus-a-copy\n",
      "  Dependiente[\"Categoría\"] = Dependiente[\"Categoría\"].where(Dependiente[\"Número de asistencias\"]>2, 0)\n"
     ]
    },
    {
     "data": {
      "text/html": [
       "<div>\n",
       "<style scoped>\n",
       "    .dataframe tbody tr th:only-of-type {\n",
       "        vertical-align: middle;\n",
       "    }\n",
       "\n",
       "    .dataframe tbody tr th {\n",
       "        vertical-align: top;\n",
       "    }\n",
       "\n",
       "    .dataframe thead th {\n",
       "        text-align: right;\n",
       "    }\n",
       "</style>\n",
       "<table border=\"1\" class=\"dataframe\">\n",
       "  <thead>\n",
       "    <tr style=\"text-align: right;\">\n",
       "      <th></th>\n",
       "      <th>Número de asistencias</th>\n",
       "      <th>Categoría</th>\n",
       "    </tr>\n",
       "    <tr>\n",
       "      <th>Fecha</th>\n",
       "      <th></th>\n",
       "      <th></th>\n",
       "    </tr>\n",
       "  </thead>\n",
       "  <tbody>\n",
       "    <tr>\n",
       "      <th>2017-03-15</th>\n",
       "      <td>4</td>\n",
       "      <td>1</td>\n",
       "    </tr>\n",
       "    <tr>\n",
       "      <th>2017-03-22</th>\n",
       "      <td>3</td>\n",
       "      <td>1</td>\n",
       "    </tr>\n",
       "    <tr>\n",
       "      <th>2017-04-20</th>\n",
       "      <td>3</td>\n",
       "      <td>1</td>\n",
       "    </tr>\n",
       "    <tr>\n",
       "      <th>2017-04-27</th>\n",
       "      <td>5</td>\n",
       "      <td>1</td>\n",
       "    </tr>\n",
       "    <tr>\n",
       "      <th>2017-05-04</th>\n",
       "      <td>3</td>\n",
       "      <td>1</td>\n",
       "    </tr>\n",
       "    <tr>\n",
       "      <th>2017-05-08</th>\n",
       "      <td>4</td>\n",
       "      <td>1</td>\n",
       "    </tr>\n",
       "    <tr>\n",
       "      <th>2017-05-15</th>\n",
       "      <td>3</td>\n",
       "      <td>1</td>\n",
       "    </tr>\n",
       "    <tr>\n",
       "      <th>2017-05-22</th>\n",
       "      <td>3</td>\n",
       "      <td>1</td>\n",
       "    </tr>\n",
       "    <tr>\n",
       "      <th>2017-10-02</th>\n",
       "      <td>3</td>\n",
       "      <td>1</td>\n",
       "    </tr>\n",
       "    <tr>\n",
       "      <th>2017-10-06</th>\n",
       "      <td>4</td>\n",
       "      <td>1</td>\n",
       "    </tr>\n",
       "    <tr>\n",
       "      <th>2017-10-09</th>\n",
       "      <td>3</td>\n",
       "      <td>1</td>\n",
       "    </tr>\n",
       "    <tr>\n",
       "      <th>2017-10-13</th>\n",
       "      <td>3</td>\n",
       "      <td>1</td>\n",
       "    </tr>\n",
       "    <tr>\n",
       "      <th>2017-11-04</th>\n",
       "      <td>4</td>\n",
       "      <td>1</td>\n",
       "    </tr>\n",
       "    <tr>\n",
       "      <th>2018-04-10</th>\n",
       "      <td>3</td>\n",
       "      <td>1</td>\n",
       "    </tr>\n",
       "    <tr>\n",
       "      <th>2019-05-15</th>\n",
       "      <td>3</td>\n",
       "      <td>1</td>\n",
       "    </tr>\n",
       "    <tr>\n",
       "      <th>2019-05-17</th>\n",
       "      <td>3</td>\n",
       "      <td>1</td>\n",
       "    </tr>\n",
       "    <tr>\n",
       "      <th>2019-05-22</th>\n",
       "      <td>3</td>\n",
       "      <td>1</td>\n",
       "    </tr>\n",
       "    <tr>\n",
       "      <th>2019-05-24</th>\n",
       "      <td>3</td>\n",
       "      <td>1</td>\n",
       "    </tr>\n",
       "    <tr>\n",
       "      <th>2019-05-28</th>\n",
       "      <td>4</td>\n",
       "      <td>1</td>\n",
       "    </tr>\n",
       "    <tr>\n",
       "      <th>2019-09-17</th>\n",
       "      <td>3</td>\n",
       "      <td>1</td>\n",
       "    </tr>\n",
       "    <tr>\n",
       "      <th>2019-10-01</th>\n",
       "      <td>3</td>\n",
       "      <td>1</td>\n",
       "    </tr>\n",
       "    <tr>\n",
       "      <th>2019-10-22</th>\n",
       "      <td>4</td>\n",
       "      <td>1</td>\n",
       "    </tr>\n",
       "    <tr>\n",
       "      <th>2019-10-29</th>\n",
       "      <td>3</td>\n",
       "      <td>1</td>\n",
       "    </tr>\n",
       "    <tr>\n",
       "      <th>2020-03-25</th>\n",
       "      <td>3</td>\n",
       "      <td>1</td>\n",
       "    </tr>\n",
       "    <tr>\n",
       "      <th>2020-03-26</th>\n",
       "      <td>3</td>\n",
       "      <td>1</td>\n",
       "    </tr>\n",
       "    <tr>\n",
       "      <th>2020-04-01</th>\n",
       "      <td>3</td>\n",
       "      <td>1</td>\n",
       "    </tr>\n",
       "    <tr>\n",
       "      <th>2020-05-13</th>\n",
       "      <td>3</td>\n",
       "      <td>1</td>\n",
       "    </tr>\n",
       "    <tr>\n",
       "      <th>2020-05-28</th>\n",
       "      <td>3</td>\n",
       "      <td>1</td>\n",
       "    </tr>\n",
       "    <tr>\n",
       "      <th>2020-06-02</th>\n",
       "      <td>3</td>\n",
       "      <td>1</td>\n",
       "    </tr>\n",
       "  </tbody>\n",
       "</table>\n",
       "</div>"
      ],
      "text/plain": [
       "            Número de asistencias  Categoría\n",
       "Fecha                                       \n",
       "2017-03-15                      4          1\n",
       "2017-03-22                      3          1\n",
       "2017-04-20                      3          1\n",
       "2017-04-27                      5          1\n",
       "2017-05-04                      3          1\n",
       "2017-05-08                      4          1\n",
       "2017-05-15                      3          1\n",
       "2017-05-22                      3          1\n",
       "2017-10-02                      3          1\n",
       "2017-10-06                      4          1\n",
       "2017-10-09                      3          1\n",
       "2017-10-13                      3          1\n",
       "2017-11-04                      4          1\n",
       "2018-04-10                      3          1\n",
       "2019-05-15                      3          1\n",
       "2019-05-17                      3          1\n",
       "2019-05-22                      3          1\n",
       "2019-05-24                      3          1\n",
       "2019-05-28                      4          1\n",
       "2019-09-17                      3          1\n",
       "2019-10-01                      3          1\n",
       "2019-10-22                      4          1\n",
       "2019-10-29                      3          1\n",
       "2020-03-25                      3          1\n",
       "2020-03-26                      3          1\n",
       "2020-04-01                      3          1\n",
       "2020-05-13                      3          1\n",
       "2020-05-28                      3          1\n",
       "2020-06-02                      3          1"
      ]
     },
     "execution_count": 39,
     "metadata": {},
     "output_type": "execute_result"
    }
   ],
   "source": [
    "Dependiente[\"Categoría\"] = 1\n",
    "Dependiente[\"Categoría\"] = Dependiente[\"Categoría\"].where(Dependiente[\"Número de asistencias\"]>2, 0)\n",
    "Dependiente[Dependiente['Categoría']==1]"
   ]
  },
  {
   "cell_type": "code",
   "execution_count": 40,
   "metadata": {
    "colab": {},
    "colab_type": "code",
    "executionInfo": {
     "elapsed": 8761,
     "status": "ok",
     "timestamp": 1594245564461,
     "user": {
      "displayName": "Carlos Alberto Galindo Rojas",
      "photoUrl": "https://lh3.googleusercontent.com/a-/AOh14Gj5JBL13GeQ-dXVWRyPNRmQqYgvAmHXhSs_kz_xeA=s64",
      "userId": "08125390419017637646"
     },
     "user_tz": 300
    },
    "id": "nZcvQZRBNzv2"
   },
   "outputs": [],
   "source": [
    "Var_Dependiente = Dependiente[\"Categoría\"]"
   ]
  },
  {
   "cell_type": "code",
   "execution_count": 41,
   "metadata": {
    "colab": {},
    "colab_type": "code",
    "executionInfo": {
     "elapsed": 13035,
     "status": "ok",
     "timestamp": 1594245568832,
     "user": {
      "displayName": "Carlos Alberto Galindo Rojas",
      "photoUrl": "https://lh3.googleusercontent.com/a-/AOh14Gj5JBL13GeQ-dXVWRyPNRmQqYgvAmHXhSs_kz_xeA=s64",
      "userId": "08125390419017637646"
     },
     "user_tz": 300
    },
    "id": "HxpNHgRJNzwX"
   },
   "outputs": [],
   "source": [
    "# Balanceo de clases:"
   ]
  },
  {
   "cell_type": "code",
   "execution_count": 42,
   "metadata": {},
   "outputs": [],
   "source": [
    "#pip install imblearn --user"
   ]
  },
  {
   "cell_type": "code",
   "execution_count": 43,
   "metadata": {
    "colab": {
     "base_uri": "https://localhost:8080/",
     "height": 105
    },
    "colab_type": "code",
    "executionInfo": {
     "elapsed": 13771,
     "status": "ok",
     "timestamp": 1594245569591,
     "user": {
      "displayName": "Carlos Alberto Galindo Rojas",
      "photoUrl": "https://lh3.googleusercontent.com/a-/AOh14Gj5JBL13GeQ-dXVWRyPNRmQqYgvAmHXhSs_kz_xeA=s64",
      "userId": "08125390419017637646"
     },
     "user_tz": 300
    },
    "id": "DnkhaCGfNzwo",
    "outputId": "7cfd718a-8407-43b9-b434-368d94b7d7eb"
   },
   "outputs": [],
   "source": [
    "from imblearn.over_sampling import SMOTE"
   ]
  },
  {
   "cell_type": "code",
   "execution_count": 44,
   "metadata": {
    "colab": {},
    "colab_type": "code",
    "executionInfo": {
     "elapsed": 13722,
     "status": "ok",
     "timestamp": 1594245569595,
     "user": {
      "displayName": "Carlos Alberto Galindo Rojas",
      "photoUrl": "https://lh3.googleusercontent.com/a-/AOh14Gj5JBL13GeQ-dXVWRyPNRmQqYgvAmHXhSs_kz_xeA=s64",
      "userId": "08125390419017637646"
     },
     "user_tz": 300
    },
    "id": "FJpCdOEJNzw3"
   },
   "outputs": [],
   "source": [
    "os = SMOTE(random_state=0)"
   ]
  },
  {
   "cell_type": "code",
   "execution_count": 45,
   "metadata": {
    "colab": {
     "base_uri": "https://localhost:8080/",
     "height": 691
    },
    "colab_type": "code",
    "executionInfo": {
     "elapsed": 13679,
     "status": "ok",
     "timestamp": 1594245569598,
     "user": {
      "displayName": "Carlos Alberto Galindo Rojas",
      "photoUrl": "https://lh3.googleusercontent.com/a-/AOh14Gj5JBL13GeQ-dXVWRyPNRmQqYgvAmHXhSs_kz_xeA=s64",
      "userId": "08125390419017637646"
     },
     "user_tz": 300
    },
    "id": "lLJriHQfNzxC",
    "outputId": "7f7b5966-0d28-4146-f23f-d962df64deae"
   },
   "outputs": [
    {
     "data": {
      "text/html": [
       "<div>\n",
       "<style scoped>\n",
       "    .dataframe tbody tr th:only-of-type {\n",
       "        vertical-align: middle;\n",
       "    }\n",
       "\n",
       "    .dataframe tbody tr th {\n",
       "        vertical-align: top;\n",
       "    }\n",
       "\n",
       "    .dataframe thead th {\n",
       "        text-align: right;\n",
       "    }\n",
       "</style>\n",
       "<table border=\"1\" class=\"dataframe\">\n",
       "  <thead>\n",
       "    <tr style=\"text-align: right;\">\n",
       "      <th></th>\n",
       "      <th>Día de la semana_jueves</th>\n",
       "      <th>Día de la semana_martes</th>\n",
       "      <th>Día de la semana_miércoles</th>\n",
       "      <th>Día de la semana_sábado</th>\n",
       "      <th>Día de la semana_viernes</th>\n",
       "      <th>Semana del semestre_10</th>\n",
       "      <th>Semana del semestre_11</th>\n",
       "      <th>Semana del semestre_12</th>\n",
       "      <th>Semana del semestre_13</th>\n",
       "      <th>Semana del semestre_14</th>\n",
       "      <th>...</th>\n",
       "      <th>Semana del semestre_17</th>\n",
       "      <th>Semana del semestre_18</th>\n",
       "      <th>Semana del semestre_19</th>\n",
       "      <th>Semana del semestre_3</th>\n",
       "      <th>Semana del semestre_4</th>\n",
       "      <th>Semana del semestre_5</th>\n",
       "      <th>Semana del semestre_6</th>\n",
       "      <th>Semana del semestre_7</th>\n",
       "      <th>Semana del semestre_8</th>\n",
       "      <th>Semana del semestre_9</th>\n",
       "    </tr>\n",
       "    <tr>\n",
       "      <th>Fecha</th>\n",
       "      <th></th>\n",
       "      <th></th>\n",
       "      <th></th>\n",
       "      <th></th>\n",
       "      <th></th>\n",
       "      <th></th>\n",
       "      <th></th>\n",
       "      <th></th>\n",
       "      <th></th>\n",
       "      <th></th>\n",
       "      <th></th>\n",
       "      <th></th>\n",
       "      <th></th>\n",
       "      <th></th>\n",
       "      <th></th>\n",
       "      <th></th>\n",
       "      <th></th>\n",
       "      <th></th>\n",
       "      <th></th>\n",
       "      <th></th>\n",
       "      <th></th>\n",
       "    </tr>\n",
       "  </thead>\n",
       "  <tbody>\n",
       "    <tr>\n",
       "      <th>2017-02-06</th>\n",
       "      <td>0</td>\n",
       "      <td>0</td>\n",
       "      <td>0</td>\n",
       "      <td>0</td>\n",
       "      <td>0</td>\n",
       "      <td>0</td>\n",
       "      <td>0</td>\n",
       "      <td>0</td>\n",
       "      <td>0</td>\n",
       "      <td>0</td>\n",
       "      <td>...</td>\n",
       "      <td>0</td>\n",
       "      <td>0</td>\n",
       "      <td>0</td>\n",
       "      <td>0</td>\n",
       "      <td>0</td>\n",
       "      <td>0</td>\n",
       "      <td>0</td>\n",
       "      <td>0</td>\n",
       "      <td>0</td>\n",
       "      <td>0</td>\n",
       "    </tr>\n",
       "    <tr>\n",
       "      <th>2017-02-08</th>\n",
       "      <td>0</td>\n",
       "      <td>0</td>\n",
       "      <td>1</td>\n",
       "      <td>0</td>\n",
       "      <td>0</td>\n",
       "      <td>0</td>\n",
       "      <td>0</td>\n",
       "      <td>0</td>\n",
       "      <td>0</td>\n",
       "      <td>0</td>\n",
       "      <td>...</td>\n",
       "      <td>0</td>\n",
       "      <td>0</td>\n",
       "      <td>0</td>\n",
       "      <td>0</td>\n",
       "      <td>0</td>\n",
       "      <td>0</td>\n",
       "      <td>0</td>\n",
       "      <td>0</td>\n",
       "      <td>0</td>\n",
       "      <td>0</td>\n",
       "    </tr>\n",
       "    <tr>\n",
       "      <th>2017-02-10</th>\n",
       "      <td>0</td>\n",
       "      <td>0</td>\n",
       "      <td>0</td>\n",
       "      <td>0</td>\n",
       "      <td>1</td>\n",
       "      <td>0</td>\n",
       "      <td>0</td>\n",
       "      <td>0</td>\n",
       "      <td>0</td>\n",
       "      <td>0</td>\n",
       "      <td>...</td>\n",
       "      <td>0</td>\n",
       "      <td>0</td>\n",
       "      <td>0</td>\n",
       "      <td>0</td>\n",
       "      <td>0</td>\n",
       "      <td>0</td>\n",
       "      <td>0</td>\n",
       "      <td>0</td>\n",
       "      <td>0</td>\n",
       "      <td>0</td>\n",
       "    </tr>\n",
       "    <tr>\n",
       "      <th>2017-02-13</th>\n",
       "      <td>0</td>\n",
       "      <td>0</td>\n",
       "      <td>0</td>\n",
       "      <td>0</td>\n",
       "      <td>0</td>\n",
       "      <td>0</td>\n",
       "      <td>0</td>\n",
       "      <td>0</td>\n",
       "      <td>0</td>\n",
       "      <td>0</td>\n",
       "      <td>...</td>\n",
       "      <td>0</td>\n",
       "      <td>0</td>\n",
       "      <td>0</td>\n",
       "      <td>1</td>\n",
       "      <td>0</td>\n",
       "      <td>0</td>\n",
       "      <td>0</td>\n",
       "      <td>0</td>\n",
       "      <td>0</td>\n",
       "      <td>0</td>\n",
       "    </tr>\n",
       "    <tr>\n",
       "      <th>2017-02-20</th>\n",
       "      <td>0</td>\n",
       "      <td>0</td>\n",
       "      <td>0</td>\n",
       "      <td>0</td>\n",
       "      <td>0</td>\n",
       "      <td>0</td>\n",
       "      <td>0</td>\n",
       "      <td>0</td>\n",
       "      <td>0</td>\n",
       "      <td>0</td>\n",
       "      <td>...</td>\n",
       "      <td>0</td>\n",
       "      <td>0</td>\n",
       "      <td>0</td>\n",
       "      <td>0</td>\n",
       "      <td>1</td>\n",
       "      <td>0</td>\n",
       "      <td>0</td>\n",
       "      <td>0</td>\n",
       "      <td>0</td>\n",
       "      <td>0</td>\n",
       "    </tr>\n",
       "    <tr>\n",
       "      <th>...</th>\n",
       "      <td>...</td>\n",
       "      <td>...</td>\n",
       "      <td>...</td>\n",
       "      <td>...</td>\n",
       "      <td>...</td>\n",
       "      <td>...</td>\n",
       "      <td>...</td>\n",
       "      <td>...</td>\n",
       "      <td>...</td>\n",
       "      <td>...</td>\n",
       "      <td>...</td>\n",
       "      <td>...</td>\n",
       "      <td>...</td>\n",
       "      <td>...</td>\n",
       "      <td>...</td>\n",
       "      <td>...</td>\n",
       "      <td>...</td>\n",
       "      <td>...</td>\n",
       "      <td>...</td>\n",
       "      <td>...</td>\n",
       "      <td>...</td>\n",
       "    </tr>\n",
       "    <tr>\n",
       "      <th>2020-06-09</th>\n",
       "      <td>0</td>\n",
       "      <td>1</td>\n",
       "      <td>0</td>\n",
       "      <td>0</td>\n",
       "      <td>0</td>\n",
       "      <td>0</td>\n",
       "      <td>0</td>\n",
       "      <td>0</td>\n",
       "      <td>0</td>\n",
       "      <td>0</td>\n",
       "      <td>...</td>\n",
       "      <td>0</td>\n",
       "      <td>0</td>\n",
       "      <td>0</td>\n",
       "      <td>0</td>\n",
       "      <td>0</td>\n",
       "      <td>0</td>\n",
       "      <td>0</td>\n",
       "      <td>0</td>\n",
       "      <td>0</td>\n",
       "      <td>0</td>\n",
       "    </tr>\n",
       "    <tr>\n",
       "      <th>2020-06-10</th>\n",
       "      <td>0</td>\n",
       "      <td>0</td>\n",
       "      <td>1</td>\n",
       "      <td>0</td>\n",
       "      <td>0</td>\n",
       "      <td>0</td>\n",
       "      <td>0</td>\n",
       "      <td>0</td>\n",
       "      <td>0</td>\n",
       "      <td>0</td>\n",
       "      <td>...</td>\n",
       "      <td>0</td>\n",
       "      <td>0</td>\n",
       "      <td>0</td>\n",
       "      <td>0</td>\n",
       "      <td>0</td>\n",
       "      <td>0</td>\n",
       "      <td>0</td>\n",
       "      <td>0</td>\n",
       "      <td>0</td>\n",
       "      <td>0</td>\n",
       "    </tr>\n",
       "    <tr>\n",
       "      <th>2020-06-17</th>\n",
       "      <td>0</td>\n",
       "      <td>0</td>\n",
       "      <td>1</td>\n",
       "      <td>0</td>\n",
       "      <td>0</td>\n",
       "      <td>0</td>\n",
       "      <td>0</td>\n",
       "      <td>0</td>\n",
       "      <td>0</td>\n",
       "      <td>0</td>\n",
       "      <td>...</td>\n",
       "      <td>0</td>\n",
       "      <td>0</td>\n",
       "      <td>0</td>\n",
       "      <td>0</td>\n",
       "      <td>0</td>\n",
       "      <td>0</td>\n",
       "      <td>0</td>\n",
       "      <td>0</td>\n",
       "      <td>0</td>\n",
       "      <td>0</td>\n",
       "    </tr>\n",
       "    <tr>\n",
       "      <th>2020-06-20</th>\n",
       "      <td>0</td>\n",
       "      <td>0</td>\n",
       "      <td>0</td>\n",
       "      <td>1</td>\n",
       "      <td>0</td>\n",
       "      <td>0</td>\n",
       "      <td>0</td>\n",
       "      <td>0</td>\n",
       "      <td>0</td>\n",
       "      <td>0</td>\n",
       "      <td>...</td>\n",
       "      <td>0</td>\n",
       "      <td>0</td>\n",
       "      <td>0</td>\n",
       "      <td>0</td>\n",
       "      <td>0</td>\n",
       "      <td>0</td>\n",
       "      <td>0</td>\n",
       "      <td>0</td>\n",
       "      <td>0</td>\n",
       "      <td>0</td>\n",
       "    </tr>\n",
       "    <tr>\n",
       "      <th>2020-06-23</th>\n",
       "      <td>0</td>\n",
       "      <td>1</td>\n",
       "      <td>0</td>\n",
       "      <td>0</td>\n",
       "      <td>0</td>\n",
       "      <td>0</td>\n",
       "      <td>0</td>\n",
       "      <td>0</td>\n",
       "      <td>0</td>\n",
       "      <td>0</td>\n",
       "      <td>...</td>\n",
       "      <td>1</td>\n",
       "      <td>0</td>\n",
       "      <td>0</td>\n",
       "      <td>0</td>\n",
       "      <td>0</td>\n",
       "      <td>0</td>\n",
       "      <td>0</td>\n",
       "      <td>0</td>\n",
       "      <td>0</td>\n",
       "      <td>0</td>\n",
       "    </tr>\n",
       "  </tbody>\n",
       "</table>\n",
       "<p>258 rows × 22 columns</p>\n",
       "</div>"
      ],
      "text/plain": [
       "            Día de la semana_jueves  Día de la semana_martes  \\\n",
       "Fecha                                                          \n",
       "2017-02-06                        0                        0   \n",
       "2017-02-08                        0                        0   \n",
       "2017-02-10                        0                        0   \n",
       "2017-02-13                        0                        0   \n",
       "2017-02-20                        0                        0   \n",
       "...                             ...                      ...   \n",
       "2020-06-09                        0                        1   \n",
       "2020-06-10                        0                        0   \n",
       "2020-06-17                        0                        0   \n",
       "2020-06-20                        0                        0   \n",
       "2020-06-23                        0                        1   \n",
       "\n",
       "            Día de la semana_miércoles  Día de la semana_sábado  \\\n",
       "Fecha                                                             \n",
       "2017-02-06                           0                        0   \n",
       "2017-02-08                           1                        0   \n",
       "2017-02-10                           0                        0   \n",
       "2017-02-13                           0                        0   \n",
       "2017-02-20                           0                        0   \n",
       "...                                ...                      ...   \n",
       "2020-06-09                           0                        0   \n",
       "2020-06-10                           1                        0   \n",
       "2020-06-17                           1                        0   \n",
       "2020-06-20                           0                        1   \n",
       "2020-06-23                           0                        0   \n",
       "\n",
       "            Día de la semana_viernes  Semana del semestre_10  \\\n",
       "Fecha                                                          \n",
       "2017-02-06                         0                       0   \n",
       "2017-02-08                         0                       0   \n",
       "2017-02-10                         1                       0   \n",
       "2017-02-13                         0                       0   \n",
       "2017-02-20                         0                       0   \n",
       "...                              ...                     ...   \n",
       "2020-06-09                         0                       0   \n",
       "2020-06-10                         0                       0   \n",
       "2020-06-17                         0                       0   \n",
       "2020-06-20                         0                       0   \n",
       "2020-06-23                         0                       0   \n",
       "\n",
       "            Semana del semestre_11  Semana del semestre_12  \\\n",
       "Fecha                                                        \n",
       "2017-02-06                       0                       0   \n",
       "2017-02-08                       0                       0   \n",
       "2017-02-10                       0                       0   \n",
       "2017-02-13                       0                       0   \n",
       "2017-02-20                       0                       0   \n",
       "...                            ...                     ...   \n",
       "2020-06-09                       0                       0   \n",
       "2020-06-10                       0                       0   \n",
       "2020-06-17                       0                       0   \n",
       "2020-06-20                       0                       0   \n",
       "2020-06-23                       0                       0   \n",
       "\n",
       "            Semana del semestre_13  Semana del semestre_14  ...  \\\n",
       "Fecha                                                       ...   \n",
       "2017-02-06                       0                       0  ...   \n",
       "2017-02-08                       0                       0  ...   \n",
       "2017-02-10                       0                       0  ...   \n",
       "2017-02-13                       0                       0  ...   \n",
       "2017-02-20                       0                       0  ...   \n",
       "...                            ...                     ...  ...   \n",
       "2020-06-09                       0                       0  ...   \n",
       "2020-06-10                       0                       0  ...   \n",
       "2020-06-17                       0                       0  ...   \n",
       "2020-06-20                       0                       0  ...   \n",
       "2020-06-23                       0                       0  ...   \n",
       "\n",
       "            Semana del semestre_17  Semana del semestre_18  \\\n",
       "Fecha                                                        \n",
       "2017-02-06                       0                       0   \n",
       "2017-02-08                       0                       0   \n",
       "2017-02-10                       0                       0   \n",
       "2017-02-13                       0                       0   \n",
       "2017-02-20                       0                       0   \n",
       "...                            ...                     ...   \n",
       "2020-06-09                       0                       0   \n",
       "2020-06-10                       0                       0   \n",
       "2020-06-17                       0                       0   \n",
       "2020-06-20                       0                       0   \n",
       "2020-06-23                       1                       0   \n",
       "\n",
       "            Semana del semestre_19  Semana del semestre_3  \\\n",
       "Fecha                                                       \n",
       "2017-02-06                       0                      0   \n",
       "2017-02-08                       0                      0   \n",
       "2017-02-10                       0                      0   \n",
       "2017-02-13                       0                      1   \n",
       "2017-02-20                       0                      0   \n",
       "...                            ...                    ...   \n",
       "2020-06-09                       0                      0   \n",
       "2020-06-10                       0                      0   \n",
       "2020-06-17                       0                      0   \n",
       "2020-06-20                       0                      0   \n",
       "2020-06-23                       0                      0   \n",
       "\n",
       "            Semana del semestre_4  Semana del semestre_5  \\\n",
       "Fecha                                                      \n",
       "2017-02-06                      0                      0   \n",
       "2017-02-08                      0                      0   \n",
       "2017-02-10                      0                      0   \n",
       "2017-02-13                      0                      0   \n",
       "2017-02-20                      1                      0   \n",
       "...                           ...                    ...   \n",
       "2020-06-09                      0                      0   \n",
       "2020-06-10                      0                      0   \n",
       "2020-06-17                      0                      0   \n",
       "2020-06-20                      0                      0   \n",
       "2020-06-23                      0                      0   \n",
       "\n",
       "            Semana del semestre_6  Semana del semestre_7  \\\n",
       "Fecha                                                      \n",
       "2017-02-06                      0                      0   \n",
       "2017-02-08                      0                      0   \n",
       "2017-02-10                      0                      0   \n",
       "2017-02-13                      0                      0   \n",
       "2017-02-20                      0                      0   \n",
       "...                           ...                    ...   \n",
       "2020-06-09                      0                      0   \n",
       "2020-06-10                      0                      0   \n",
       "2020-06-17                      0                      0   \n",
       "2020-06-20                      0                      0   \n",
       "2020-06-23                      0                      0   \n",
       "\n",
       "            Semana del semestre_8  Semana del semestre_9  \n",
       "Fecha                                                     \n",
       "2017-02-06                      0                      0  \n",
       "2017-02-08                      0                      0  \n",
       "2017-02-10                      0                      0  \n",
       "2017-02-13                      0                      0  \n",
       "2017-02-20                      0                      0  \n",
       "...                           ...                    ...  \n",
       "2020-06-09                      0                      0  \n",
       "2020-06-10                      0                      0  \n",
       "2020-06-17                      0                      0  \n",
       "2020-06-20                      0                      0  \n",
       "2020-06-23                      0                      0  \n",
       "\n",
       "[258 rows x 22 columns]"
      ]
     },
     "execution_count": 45,
     "metadata": {},
     "output_type": "execute_result"
    }
   ],
   "source": [
    "X_os, Y_os = os.fit_sample(Explicativas, Var_Dependiente)\n",
    "Explicativas\n",
    "#Var_Dependiente"
   ]
  },
  {
   "cell_type": "code",
   "execution_count": 46,
   "metadata": {
    "colab": {},
    "colab_type": "code",
    "executionInfo": {
     "elapsed": 13667,
     "status": "ok",
     "timestamp": 1594245569601,
     "user": {
      "displayName": "Carlos Alberto Galindo Rojas",
      "photoUrl": "https://lh3.googleusercontent.com/a-/AOh14Gj5JBL13GeQ-dXVWRyPNRmQqYgvAmHXhSs_kz_xeA=s64",
      "userId": "08125390419017637646"
     },
     "user_tz": 300
    },
    "id": "yxyIhACcP1no"
   },
   "outputs": [],
   "source": [
    "X_os=pd.DataFrame(X_os,columns=Explicativas.columns)"
   ]
  },
  {
   "cell_type": "code",
   "execution_count": 47,
   "metadata": {
    "colab": {
     "base_uri": "https://localhost:8080/",
     "height": 265
    },
    "colab_type": "code",
    "executionInfo": {
     "elapsed": 13612,
     "status": "ok",
     "timestamp": 1594245569604,
     "user": {
      "displayName": "Carlos Alberto Galindo Rojas",
      "photoUrl": "https://lh3.googleusercontent.com/a-/AOh14Gj5JBL13GeQ-dXVWRyPNRmQqYgvAmHXhSs_kz_xeA=s64",
      "userId": "08125390419017637646"
     },
     "user_tz": 300
    },
    "id": "o-wJATH8Nzxi",
    "outputId": "c88ef6a6-475d-4aad-9552-8df37272020e"
   },
   "outputs": [
    {
     "data": {
      "image/png": "[encoded data removed]",
      "text/plain": [
       "<Figure size 432x288 with 1 Axes>"
      ]
     },
     "metadata": {
      "needs_background": "light"
     },
     "output_type": "display_data"
    }
   ],
   "source": [
    "# clases balanceadas:\n",
    "fig, ax = plt.subplots()\n",
    "ax.hist(Y_os)\n",
    "plt.show()"
   ]
  },
  {
   "cell_type": "code",
   "execution_count": 48,
   "metadata": {
    "colab": {
     "base_uri": "https://localhost:8080/",
     "height": 782
    },
    "colab_type": "code",
    "executionInfo": {
     "elapsed": 13546,
     "status": "ok",
     "timestamp": 1594245569606,
     "user": {
      "displayName": "Carlos Alberto Galindo Rojas",
      "photoUrl": "https://lh3.googleusercontent.com/a-/AOh14Gj5JBL13GeQ-dXVWRyPNRmQqYgvAmHXhSs_kz_xeA=s64",
      "userId": "08125390419017637646"
     },
     "user_tz": 300
    },
    "id": "keGczZcjNzy7",
    "outputId": "475b7c1e-46ef-45d4-bb5a-60fb3349a150"
   },
   "outputs": [
    {
     "name": "stderr",
     "output_type": "stream",
     "text": [
      "C:\\ProgramData\\Anaconda3\\lib\\site-packages\\statsmodels\\discrete\\discrete_model.py:1747: RuntimeWarning: overflow encountered in exp\n",
      "  return 1/(1+np.exp(-X))\n",
      "C:\\ProgramData\\Anaconda3\\lib\\site-packages\\statsmodels\\discrete\\discrete_model.py:1800: RuntimeWarning: divide by zero encountered in log\n",
      "  return np.sum(np.log(self.cdf(q*np.dot(X,params))))\n"
     ]
    },
    {
     "name": "stdout",
     "output_type": "stream",
     "text": [
      "Warning: Maximum number of iterations has been exceeded.\n",
      "         Current function value: inf\n",
      "         Iterations: 35\n"
     ]
    },
    {
     "ename": "LinAlgError",
     "evalue": "Singular matrix",
     "output_type": "error",
     "traceback": [
      "\u001b[1;31m---------------------------------------------------------------------------\u001b[0m",
      "\u001b[1;31mLinAlgError\u001b[0m                               Traceback (most recent call last)",
      "\u001b[1;32m<ipython-input-48-d05558e6a0fd>\u001b[0m in \u001b[0;36m<module>\u001b[1;34m\u001b[0m\n\u001b[0;32m      1\u001b[0m \u001b[0mModeloLogit\u001b[0m \u001b[1;33m=\u001b[0m \u001b[0msm\u001b[0m\u001b[1;33m.\u001b[0m\u001b[0mLogit\u001b[0m\u001b[1;33m(\u001b[0m\u001b[0mY_os\u001b[0m\u001b[1;33m,\u001b[0m \u001b[0msm\u001b[0m\u001b[1;33m.\u001b[0m\u001b[0madd_constant\u001b[0m\u001b[1;33m(\u001b[0m\u001b[0mX_os\u001b[0m\u001b[1;33m)\u001b[0m\u001b[1;33m)\u001b[0m\u001b[1;33m\u001b[0m\u001b[1;33m\u001b[0m\u001b[0m\n\u001b[1;32m----> 2\u001b[1;33m \u001b[0mResultadosLogit\u001b[0m \u001b[1;33m=\u001b[0m \u001b[0mModeloLogit\u001b[0m\u001b[1;33m.\u001b[0m\u001b[0mfit\u001b[0m\u001b[1;33m(\u001b[0m\u001b[0msolver\u001b[0m\u001b[1;33m=\u001b[0m\u001b[1;34m'lbfgs'\u001b[0m\u001b[1;33m)\u001b[0m\u001b[1;33m\u001b[0m\u001b[1;33m\u001b[0m\u001b[0m\n\u001b[0m\u001b[0;32m      3\u001b[0m \u001b[0mprint\u001b[0m\u001b[1;33m(\u001b[0m\u001b[0mResultadosLogit\u001b[0m\u001b[1;33m.\u001b[0m\u001b[0msummary\u001b[0m\u001b[1;33m(\u001b[0m\u001b[1;33m)\u001b[0m\u001b[1;33m)\u001b[0m\u001b[1;33m\u001b[0m\u001b[1;33m\u001b[0m\u001b[0m\n",
      "\u001b[1;32mC:\\ProgramData\\Anaconda3\\lib\\site-packages\\statsmodels\\discrete\\discrete_model.py\u001b[0m in \u001b[0;36mfit\u001b[1;34m(self, start_params, method, maxiter, full_output, disp, callback, **kwargs)\u001b[0m\n\u001b[0;32m   1909\u001b[0m     def fit(self, start_params=None, method='newton', maxiter=35,\n\u001b[0;32m   1910\u001b[0m             full_output=1, disp=1, callback=None, **kwargs):\n\u001b[1;32m-> 1911\u001b[1;33m         bnryfit = super(Logit, self).fit(start_params=start_params,\n\u001b[0m\u001b[0;32m   1912\u001b[0m                 \u001b[0mmethod\u001b[0m\u001b[1;33m=\u001b[0m\u001b[0mmethod\u001b[0m\u001b[1;33m,\u001b[0m \u001b[0mmaxiter\u001b[0m\u001b[1;33m=\u001b[0m\u001b[0mmaxiter\u001b[0m\u001b[1;33m,\u001b[0m \u001b[0mfull_output\u001b[0m\u001b[1;33m=\u001b[0m\u001b[0mfull_output\u001b[0m\u001b[1;33m,\u001b[0m\u001b[1;33m\u001b[0m\u001b[1;33m\u001b[0m\u001b[0m\n\u001b[0;32m   1913\u001b[0m                 disp=disp, callback=callback, **kwargs)\n",
      "\u001b[1;32mC:\\ProgramData\\Anaconda3\\lib\\site-packages\\statsmodels\\discrete\\discrete_model.py\u001b[0m in \u001b[0;36mfit\u001b[1;34m(self, start_params, method, maxiter, full_output, disp, callback, **kwargs)\u001b[0m\n\u001b[0;32m    211\u001b[0m             \u001b[1;32mpass\u001b[0m  \u001b[1;31m# TODO: make a function factory to have multiple call-backs\u001b[0m\u001b[1;33m\u001b[0m\u001b[1;33m\u001b[0m\u001b[0m\n\u001b[0;32m    212\u001b[0m \u001b[1;33m\u001b[0m\u001b[0m\n\u001b[1;32m--> 213\u001b[1;33m         mlefit = super(DiscreteModel, self).fit(\n\u001b[0m\u001b[0;32m    214\u001b[0m             \u001b[0mstart_params\u001b[0m\u001b[1;33m=\u001b[0m\u001b[0mstart_params\u001b[0m\u001b[1;33m,\u001b[0m\u001b[1;33m\u001b[0m\u001b[1;33m\u001b[0m\u001b[0m\n\u001b[0;32m    215\u001b[0m             \u001b[0mmethod\u001b[0m\u001b[1;33m=\u001b[0m\u001b[0mmethod\u001b[0m\u001b[1;33m,\u001b[0m \u001b[0mmaxiter\u001b[0m\u001b[1;33m=\u001b[0m\u001b[0mmaxiter\u001b[0m\u001b[1;33m,\u001b[0m \u001b[0mfull_output\u001b[0m\u001b[1;33m=\u001b[0m\u001b[0mfull_output\u001b[0m\u001b[1;33m,\u001b[0m\u001b[1;33m\u001b[0m\u001b[1;33m\u001b[0m\u001b[0m\n",
      "\u001b[1;32mC:\\ProgramData\\Anaconda3\\lib\\site-packages\\statsmodels\\base\\model.py\u001b[0m in \u001b[0;36mfit\u001b[1;34m(self, start_params, method, maxiter, full_output, disp, fargs, callback, retall, skip_hessian, **kwargs)\u001b[0m\n\u001b[0;32m    531\u001b[0m             \u001b[0mHinv\u001b[0m \u001b[1;33m=\u001b[0m \u001b[0mcov_params_func\u001b[0m\u001b[1;33m(\u001b[0m\u001b[0mself\u001b[0m\u001b[1;33m,\u001b[0m \u001b[0mxopt\u001b[0m\u001b[1;33m,\u001b[0m \u001b[0mretvals\u001b[0m\u001b[1;33m)\u001b[0m\u001b[1;33m\u001b[0m\u001b[1;33m\u001b[0m\u001b[0m\n\u001b[0;32m    532\u001b[0m         \u001b[1;32melif\u001b[0m \u001b[0mmethod\u001b[0m \u001b[1;33m==\u001b[0m \u001b[1;34m'newton'\u001b[0m \u001b[1;32mand\u001b[0m \u001b[0mfull_output\u001b[0m\u001b[1;33m:\u001b[0m\u001b[1;33m\u001b[0m\u001b[1;33m\u001b[0m\u001b[0m\n\u001b[1;32m--> 533\u001b[1;33m             \u001b[0mHinv\u001b[0m \u001b[1;33m=\u001b[0m \u001b[0mnp\u001b[0m\u001b[1;33m.\u001b[0m\u001b[0mlinalg\u001b[0m\u001b[1;33m.\u001b[0m\u001b[0minv\u001b[0m\u001b[1;33m(\u001b[0m\u001b[1;33m-\u001b[0m\u001b[0mretvals\u001b[0m\u001b[1;33m[\u001b[0m\u001b[1;34m'Hessian'\u001b[0m\u001b[1;33m]\u001b[0m\u001b[1;33m)\u001b[0m \u001b[1;33m/\u001b[0m \u001b[0mnobs\u001b[0m\u001b[1;33m\u001b[0m\u001b[1;33m\u001b[0m\u001b[0m\n\u001b[0m\u001b[0;32m    534\u001b[0m         \u001b[1;32melif\u001b[0m \u001b[1;32mnot\u001b[0m \u001b[0mskip_hessian\u001b[0m\u001b[1;33m:\u001b[0m\u001b[1;33m\u001b[0m\u001b[1;33m\u001b[0m\u001b[0m\n\u001b[0;32m    535\u001b[0m             \u001b[0mH\u001b[0m \u001b[1;33m=\u001b[0m \u001b[1;33m-\u001b[0m\u001b[1;36m1\u001b[0m \u001b[1;33m*\u001b[0m \u001b[0mself\u001b[0m\u001b[1;33m.\u001b[0m\u001b[0mhessian\u001b[0m\u001b[1;33m(\u001b[0m\u001b[0mxopt\u001b[0m\u001b[1;33m)\u001b[0m\u001b[1;33m\u001b[0m\u001b[1;33m\u001b[0m\u001b[0m\n",
      "\u001b[1;32m<__array_function__ internals>\u001b[0m in \u001b[0;36minv\u001b[1;34m(*args, **kwargs)\u001b[0m\n",
      "\u001b[1;32mC:\\ProgramData\\Anaconda3\\lib\\site-packages\\numpy\\linalg\\linalg.py\u001b[0m in \u001b[0;36minv\u001b[1;34m(a)\u001b[0m\n\u001b[0;32m    545\u001b[0m     \u001b[0msignature\u001b[0m \u001b[1;33m=\u001b[0m \u001b[1;34m'D->D'\u001b[0m \u001b[1;32mif\u001b[0m \u001b[0misComplexType\u001b[0m\u001b[1;33m(\u001b[0m\u001b[0mt\u001b[0m\u001b[1;33m)\u001b[0m \u001b[1;32melse\u001b[0m \u001b[1;34m'd->d'\u001b[0m\u001b[1;33m\u001b[0m\u001b[1;33m\u001b[0m\u001b[0m\n\u001b[0;32m    546\u001b[0m     \u001b[0mextobj\u001b[0m \u001b[1;33m=\u001b[0m \u001b[0mget_linalg_error_extobj\u001b[0m\u001b[1;33m(\u001b[0m\u001b[0m_raise_linalgerror_singular\u001b[0m\u001b[1;33m)\u001b[0m\u001b[1;33m\u001b[0m\u001b[1;33m\u001b[0m\u001b[0m\n\u001b[1;32m--> 547\u001b[1;33m     \u001b[0mainv\u001b[0m \u001b[1;33m=\u001b[0m \u001b[0m_umath_linalg\u001b[0m\u001b[1;33m.\u001b[0m\u001b[0minv\u001b[0m\u001b[1;33m(\u001b[0m\u001b[0ma\u001b[0m\u001b[1;33m,\u001b[0m \u001b[0msignature\u001b[0m\u001b[1;33m=\u001b[0m\u001b[0msignature\u001b[0m\u001b[1;33m,\u001b[0m \u001b[0mextobj\u001b[0m\u001b[1;33m=\u001b[0m\u001b[0mextobj\u001b[0m\u001b[1;33m)\u001b[0m\u001b[1;33m\u001b[0m\u001b[1;33m\u001b[0m\u001b[0m\n\u001b[0m\u001b[0;32m    548\u001b[0m     \u001b[1;32mreturn\u001b[0m \u001b[0mwrap\u001b[0m\u001b[1;33m(\u001b[0m\u001b[0mainv\u001b[0m\u001b[1;33m.\u001b[0m\u001b[0mastype\u001b[0m\u001b[1;33m(\u001b[0m\u001b[0mresult_t\u001b[0m\u001b[1;33m,\u001b[0m \u001b[0mcopy\u001b[0m\u001b[1;33m=\u001b[0m\u001b[1;32mFalse\u001b[0m\u001b[1;33m)\u001b[0m\u001b[1;33m)\u001b[0m\u001b[1;33m\u001b[0m\u001b[1;33m\u001b[0m\u001b[0m\n\u001b[0;32m    549\u001b[0m \u001b[1;33m\u001b[0m\u001b[0m\n",
      "\u001b[1;32mC:\\ProgramData\\Anaconda3\\lib\\site-packages\\numpy\\linalg\\linalg.py\u001b[0m in \u001b[0;36m_raise_linalgerror_singular\u001b[1;34m(err, flag)\u001b[0m\n\u001b[0;32m     95\u001b[0m \u001b[1;33m\u001b[0m\u001b[0m\n\u001b[0;32m     96\u001b[0m \u001b[1;32mdef\u001b[0m \u001b[0m_raise_linalgerror_singular\u001b[0m\u001b[1;33m(\u001b[0m\u001b[0merr\u001b[0m\u001b[1;33m,\u001b[0m \u001b[0mflag\u001b[0m\u001b[1;33m)\u001b[0m\u001b[1;33m:\u001b[0m\u001b[1;33m\u001b[0m\u001b[1;33m\u001b[0m\u001b[0m\n\u001b[1;32m---> 97\u001b[1;33m     \u001b[1;32mraise\u001b[0m \u001b[0mLinAlgError\u001b[0m\u001b[1;33m(\u001b[0m\u001b[1;34m\"Singular matrix\"\u001b[0m\u001b[1;33m)\u001b[0m\u001b[1;33m\u001b[0m\u001b[1;33m\u001b[0m\u001b[0m\n\u001b[0m\u001b[0;32m     98\u001b[0m \u001b[1;33m\u001b[0m\u001b[0m\n\u001b[0;32m     99\u001b[0m \u001b[1;32mdef\u001b[0m \u001b[0m_raise_linalgerror_nonposdef\u001b[0m\u001b[1;33m(\u001b[0m\u001b[0merr\u001b[0m\u001b[1;33m,\u001b[0m \u001b[0mflag\u001b[0m\u001b[1;33m)\u001b[0m\u001b[1;33m:\u001b[0m\u001b[1;33m\u001b[0m\u001b[1;33m\u001b[0m\u001b[0m\n",
      "\u001b[1;31mLinAlgError\u001b[0m: Singular matrix"
     ]
    }
   ],
   "source": [
    "ModeloLogit = sm.Logit(Y_os, sm.add_constant(X_os))\n",
    "ResultadosLogit = ModeloLogit.fit(solver='lbfgs')\n",
    "print(ResultadosLogit.summary())"
   ]
  },
  {
   "cell_type": "code",
   "execution_count": null,
   "metadata": {
    "colab": {},
    "colab_type": "code",
    "executionInfo": {
     "elapsed": 13531,
     "status": "ok",
     "timestamp": 1594245569610,
     "user": {
      "displayName": "Carlos Alberto Galindo Rojas",
      "photoUrl": "https://lh3.googleusercontent.com/a-/AOh14Gj5JBL13GeQ-dXVWRyPNRmQqYgvAmHXhSs_kz_xeA=s64",
      "userId": "08125390419017637646"
     },
     "user_tz": 300
    },
    "id": "4jUKSTJDNzzy"
   },
   "outputs": [],
   "source": [
    "Predicciones = ResultadosLogit.predict(sm.add_constant(Explicativas))"
   ]
  },
  {
   "cell_type": "code",
   "execution_count": null,
   "metadata": {
    "colab": {},
    "colab_type": "code",
    "executionInfo": {
     "elapsed": 13503,
     "status": "ok",
     "timestamp": 1594245569612,
     "user": {
      "displayName": "Carlos Alberto Galindo Rojas",
      "photoUrl": "https://lh3.googleusercontent.com/a-/AOh14Gj5JBL13GeQ-dXVWRyPNRmQqYgvAmHXhSs_kz_xeA=s64",
      "userId": "08125390419017637646"
     },
     "user_tz": 300
    },
    "id": "CKH8DFV0Nzz8"
   },
   "outputs": [],
   "source": [
    "Predicciones = pd.DataFrame({\"Predicción puntual\":Predicciones})"
   ]
  },
  {
   "cell_type": "code",
   "execution_count": null,
   "metadata": {
    "colab": {},
    "colab_type": "code",
    "executionInfo": {
     "elapsed": 13485,
     "status": "ok",
     "timestamp": 1594245569615,
     "user": {
      "displayName": "Carlos Alberto Galindo Rojas",
      "photoUrl": "https://lh3.googleusercontent.com/a-/AOh14Gj5JBL13GeQ-dXVWRyPNRmQqYgvAmHXhSs_kz_xeA=s64",
      "userId": "08125390419017637646"
     },
     "user_tz": 300
    },
    "id": "bAjKdKKENz0a"
   },
   "outputs": [],
   "source": [
    "Predicciones[\"Categoría\"] = 0"
   ]
  },
  {
   "cell_type": "code",
   "execution_count": null,
   "metadata": {
    "colab": {
     "base_uri": "https://localhost:8080/",
     "height": 187
    },
    "colab_type": "code",
    "executionInfo": {
     "elapsed": 13410,
     "status": "ok",
     "timestamp": 1594245569617,
     "user": {
      "displayName": "Carlos Alberto Galindo Rojas",
      "photoUrl": "https://lh3.googleusercontent.com/a-/AOh14Gj5JBL13GeQ-dXVWRyPNRmQqYgvAmHXhSs_kz_xeA=s64",
      "userId": "08125390419017637646"
     },
     "user_tz": 300
    },
    "id": "8Q6iG3LANz0v",
    "outputId": "289cd203-40c9-425f-f208-b279a54a2307"
   },
   "outputs": [],
   "source": [
    "for i in range(len(Predicciones)):\n",
    "    if Predicciones[\"Predicción puntual\"][i] > 0.5:\n",
    "        Predicciones[\"Categoría\"][i] = 1\n",
    "    else: \n",
    "        Predicciones[\"Categoría\"][i] = 0"
   ]
  },
  {
   "cell_type": "code",
   "execution_count": null,
   "metadata": {
    "colab": {},
    "colab_type": "code",
    "executionInfo": {
     "elapsed": 13397,
     "status": "ok",
     "timestamp": 1594245569620,
     "user": {
      "displayName": "Carlos Alberto Galindo Rojas",
      "photoUrl": "https://lh3.googleusercontent.com/a-/AOh14Gj5JBL13GeQ-dXVWRyPNRmQqYgvAmHXhSs_kz_xeA=s64",
      "userId": "08125390419017637646"
     },
     "user_tz": 300
    },
    "id": "FyOKiAvYNz1B"
   },
   "outputs": [],
   "source": [
    "from sklearn.metrics import confusion_matrix"
   ]
  },
  {
   "cell_type": "code",
   "execution_count": null,
   "metadata": {
    "colab": {},
    "colab_type": "code",
    "executionInfo": {
     "elapsed": 13309,
     "status": "ok",
     "timestamp": 1594245569623,
     "user": {
      "displayName": "Carlos Alberto Galindo Rojas",
      "photoUrl": "https://lh3.googleusercontent.com/a-/AOh14Gj5JBL13GeQ-dXVWRyPNRmQqYgvAmHXhSs_kz_xeA=s64",
      "userId": "08125390419017637646"
     },
     "user_tz": 300
    },
    "id": "P_suAJMlNz1Q"
   },
   "outputs": [],
   "source": [
    "matriz_confusion = confusion_matrix(Var_Dependiente, Predicciones[\"Categoría\"])"
   ]
  },
  {
   "cell_type": "code",
   "execution_count": null,
   "metadata": {
    "colab": {},
    "colab_type": "code",
    "executionInfo": {
     "elapsed": 13299,
     "status": "ok",
     "timestamp": 1594245569626,
     "user": {
      "displayName": "Carlos Alberto Galindo Rojas",
      "photoUrl": "https://lh3.googleusercontent.com/a-/AOh14Gj5JBL13GeQ-dXVWRyPNRmQqYgvAmHXhSs_kz_xeA=s64",
      "userId": "08125390419017637646"
     },
     "user_tz": 300
    },
    "id": "4R_SHKfvNz1W"
   },
   "outputs": [],
   "source": [
    "Originales_Prediccion = pd.concat([Predicciones, pd.DataFrame({\"Categoría original\": Var_Dependiente})], axis = 1)"
   ]
  },
  {
   "cell_type": "code",
   "execution_count": null,
   "metadata": {
    "colab": {},
    "colab_type": "code",
    "executionInfo": {
     "elapsed": 13947,
     "status": "ok",
     "timestamp": 1594245570289,
     "user": {
      "displayName": "Carlos Alberto Galindo Rojas",
      "photoUrl": "https://lh3.googleusercontent.com/a-/AOh14Gj5JBL13GeQ-dXVWRyPNRmQqYgvAmHXhSs_kz_xeA=s64",
      "userId": "08125390419017637646"
     },
     "user_tz": 300
    },
    "id": "dKU81g2aNz1v"
   },
   "outputs": [],
   "source": [
    "Originales_Prediccion[\"Estado\"] = \"Ninguno\"\n",
    "for i in range(Originales_Prediccion.shape[0]):\n",
    "    if Originales_Prediccion.iloc[i, 1] == Originales_Prediccion.iloc[i,2]:\n",
    "        Originales_Prediccion.iloc[i, 3] = True\n",
    "    else:\n",
    "        Originales_Prediccion.iloc[i, 3] = False"
   ]
  },
  {
   "cell_type": "code",
   "execution_count": null,
   "metadata": {
    "colab": {
     "base_uri": "https://localhost:8080/",
     "height": 119
    },
    "colab_type": "code",
    "executionInfo": {
     "elapsed": 13910,
     "status": "ok",
     "timestamp": 1594245570293,
     "user": {
      "displayName": "Carlos Alberto Galindo Rojas",
      "photoUrl": "https://lh3.googleusercontent.com/a-/AOh14Gj5JBL13GeQ-dXVWRyPNRmQqYgvAmHXhSs_kz_xeA=s64",
      "userId": "08125390419017637646"
     },
     "user_tz": 300
    },
    "id": "x-rllK_aNz1-",
    "outputId": "dd6dfc60-9d4e-46d0-b235-79d6c3996b26"
   },
   "outputs": [],
   "source": [
    "print(\"Predicciones correctas: \", Originales_Prediccion[\"Estado\"].sum())\n",
    "print(\"Accuracy: \", round((((Originales_Prediccion[\"Estado\"].sum())/Originales_Prediccion.shape[0])*100),2), \"%\")\n",
    "print(\"Verdaderos positivos: \", matriz_confusion[1][1])\n",
    "print(\"Verdaderos negativos: \", matriz_confusion[0][0])\n",
    "print(\"Falsos positivos: \", matriz_confusion[0][1])\n",
    "print(\"Falsos negativos: \", matriz_confusion[1][0])"
   ]
  },
  {
   "cell_type": "code",
   "execution_count": null,
   "metadata": {
    "colab": {},
    "colab_type": "code",
    "executionInfo": {
     "elapsed": 13877,
     "status": "ok",
     "timestamp": 1594245570296,
     "user": {
      "displayName": "Carlos Alberto Galindo Rojas",
      "photoUrl": "https://lh3.googleusercontent.com/a-/AOh14Gj5JBL13GeQ-dXVWRyPNRmQqYgvAmHXhSs_kz_xeA=s64",
      "userId": "08125390419017637646"
     },
     "user_tz": 300
    },
    "id": "15yiYVgeNz2L"
   },
   "outputs": [],
   "source": [
    "import seaborn as sns"
   ]
  },
  {
   "cell_type": "code",
   "execution_count": null,
   "metadata": {
    "colab": {
     "base_uri": "https://localhost:8080/",
     "height": 295
    },
    "colab_type": "code",
    "executionInfo": {
     "elapsed": 13855,
     "status": "ok",
     "timestamp": 1594245570299,
     "user": {
      "displayName": "Carlos Alberto Galindo Rojas",
      "photoUrl": "https://lh3.googleusercontent.com/a-/AOh14Gj5JBL13GeQ-dXVWRyPNRmQqYgvAmHXhSs_kz_xeA=s64",
      "userId": "08125390419017637646"
     },
     "user_tz": 300
    },
    "id": "2Id2vS2LNz2h",
    "outputId": "ad166d0b-3666-4a4a-f1a7-cf5eb81f6c00"
   },
   "outputs": [],
   "source": [
    "fig, ax = plt.subplots()\n",
    "sns.heatmap(matriz_confusion, annot = True, square = True, \n",
    "            cmap = \"Blues\", vmin = 0, fmt = \"g\")\n",
    "ax.set(xlabel = \"Predicción\", ylabel = \"Real\", \n",
    "       title = \"Matriz de confusión\")\n",
    "plt.show()"
   ]
  },
  {
   "cell_type": "code",
   "execution_count": null,
   "metadata": {
    "colab": {},
    "colab_type": "code",
    "executionInfo": {
     "elapsed": 13825,
     "status": "ok",
     "timestamp": 1594245570302,
     "user": {
      "displayName": "Carlos Alberto Galindo Rojas",
      "photoUrl": "https://lh3.googleusercontent.com/a-/AOh14Gj5JBL13GeQ-dXVWRyPNRmQqYgvAmHXhSs_kz_xeA=s64",
      "userId": "08125390419017637646"
     },
     "user_tz": 300
    },
    "id": "taVONDzeNz3L"
   },
   "outputs": [],
   "source": [
    "from sklearn.metrics import classification_report"
   ]
  },
  {
   "cell_type": "code",
   "execution_count": null,
   "metadata": {
    "colab": {
     "base_uri": "https://localhost:8080/",
     "height": 456
    },
    "colab_type": "code",
    "executionInfo": {
     "elapsed": 13803,
     "status": "ok",
     "timestamp": 1594245570305,
     "user": {
      "displayName": "Carlos Alberto Galindo Rojas",
      "photoUrl": "https://lh3.googleusercontent.com/a-/AOh14Gj5JBL13GeQ-dXVWRyPNRmQqYgvAmHXhSs_kz_xeA=s64",
      "userId": "08125390419017637646"
     },
     "user_tz": 300
    },
    "id": "Y00mh_c2O0qY",
    "outputId": "1d03dfcd-abcd-429a-9e0c-3700743efad2"
   },
   "outputs": [],
   "source": [
    "X_os"
   ]
  },
  {
   "cell_type": "code",
   "execution_count": null,
   "metadata": {
    "colab": {
     "base_uri": "https://localhost:8080/",
     "height": 170
    },
    "colab_type": "code",
    "executionInfo": {
     "elapsed": 13728,
     "status": "ok",
     "timestamp": 1594245570308,
     "user": {
      "displayName": "Carlos Alberto Galindo Rojas",
      "photoUrl": "https://lh3.googleusercontent.com/a-/AOh14Gj5JBL13GeQ-dXVWRyPNRmQqYgvAmHXhSs_kz_xeA=s64",
      "userId": "08125390419017637646"
     },
     "user_tz": 300
    },
    "id": "2cpqZUNaNz3k",
    "outputId": "06761291-5b59-4a58-d151-5e0d60c780b6"
   },
   "outputs": [],
   "source": [
    "print(classification_report(Var_Dependiente, Predicciones[\"Categoría\"]))"
   ]
  },
  {
   "cell_type": "markdown",
   "metadata": {
    "colab_type": "text",
    "id": "Rjj_CKmTNz4e"
   },
   "source": [
    "**Recall**:\n",
    "\\begin{equation}\n",
    "\\frac{TP}{TP+FN}\n",
    "\\end{equation}\n",
    "\n",
    "**Precision**:\n",
    "\\begin{equation}\n",
    "\\frac{TN}{TN+FP}\n",
    "\\end{equation}"
   ]
  },
  {
   "cell_type": "code",
   "execution_count": null,
   "metadata": {},
   "outputs": [],
   "source": []
  },
  {
   "cell_type": "markdown",
   "metadata": {},
   "source": [
    "## Re-estructuración de variables (train-test)"
   ]
  },
  {
   "cell_type": "code",
   "execution_count": 49,
   "metadata": {},
   "outputs": [
    {
     "data": {
      "image/png": "[encoded data removed]",
      "text/plain": [
       "<Figure size 432x504 with 1 Axes>"
      ]
     },
     "metadata": {
      "needs_background": "light"
     },
     "output_type": "display_data"
    }
   ],
   "source": [
    "data = pd.read_excel('BD 2020-1.xlsx')\n",
    "numero_asistencias = data.groupby(\"Fecha\").count()[[\"Id_Asistencia\"]]\n",
    "numero_asistencias.rename(columns = {\"Id_Asistencia\": \"Número de asistencias\"}, inplace = True)\n",
    "info_explicativas = data[[\"Día de la semana\", \"Semestre\", \"Semana del semestre\", \"Fecha\"]].set_index(\"Fecha\")\n",
    "dataset_modelo = pd.concat([numero_asistencias, info_explicativas], axis = 1)\n",
    "dataset_modelo.drop_duplicates(inplace = True)\n",
    "\n",
    "dataset_modelo[\"Número de asistencias\"] = dataset_modelo[\"Número de asistencias\"].where(dataset_modelo[\"Número de asistencias\"]>=2, 1)\n",
    "dataset_modelo[\"Número de asistencias\"] = dataset_modelo[\"Número de asistencias\"].where(dataset_modelo[\"Número de asistencias\"] <2, 0)\n",
    "dataset_modelo[\"Semestre\"] = dataset_modelo[\"Semestre\"].map({\"2017-01\": 1, \n",
    "                                                             \"2017-02\": 2, \n",
    "                                                             \"2018-01\": 3, \n",
    "                                                             \"2018-02\": 4, \n",
    "                                                             \"2019-01\": 5, \n",
    "                                                             \"2019-02\": 6,\n",
    "                                                             \"2020-01\": 7,\n",
    "                                                             \"2020-02\": 8})\n",
    "dataset_modelo[\"Día de la semana\"] = dataset_modelo[\"Día de la semana\"].map({\"lunes\": 1, \n",
    "                                                             \"martes\": 2, \n",
    "                                                             \"miércoles\": 3, \n",
    "                                                             \"jueves\": 4, \n",
    "                                                             \"viernes\": 5, \n",
    "                                                             \"sábado\": 6})\n",
    "y = dataset_modelo[\"Número de asistencias\"]\n",
    "X = dataset_modelo.drop(columns = [\"Número de asistencias\"])\n",
    "\n",
    "#Muestra desbalanceada:\n",
    "\n",
    "plt.figure(figsize=(6, 7))\n",
    "splot = sns.countplot('Número de asistencias', data=dataset_modelo)\n",
    "for p in splot.patches:\n",
    "    splot.annotate(format(p.get_height(), '.0f'),\n",
    "               (p.get_x() + p.get_width() / 2.,p.get_height()), ha = 'center', va = 'center', xytext = (0, 10),\n",
    "               textcoords = 'offset points')"
   ]
  },
  {
   "cell_type": "code",
   "execution_count": 50,
   "metadata": {},
   "outputs": [
    {
     "data": {
      "image/png": "[encoded data removed]",
      "text/plain": [
       "<Figure size 432x504 with 1 Axes>"
      ]
     },
     "metadata": {
      "needs_background": "light"
     },
     "output_type": "display_data"
    }
   ],
   "source": [
    "# Muestra Y Balanceada\n",
    "X_train, X_test, y_train, y_test = train_test_split(X, y, test_size=0.20)\n",
    "sm = SMOTE(sampling_strategy='minority',  k_neighbors=1)\n",
    "X_train, y_train = sm.fit_sample(X_train, y_train)\n",
    "plt.figure(figsize=(6, 7))\n",
    "splot = sns.countplot(y_train)\n",
    "for p in splot.patches:\n",
    "    splot.annotate(format(p.get_height(), '.0f'),\n",
    "               (p.get_x() + p.get_width() / 2.,p.get_height()), ha = 'center', va = 'center', xytext = (0, 10),\n",
    "               textcoords = 'offset points')"
   ]
  },
  {
   "cell_type": "markdown",
   "metadata": {},
   "source": [
    "# Creación de los modelos\n",
    "\n",
    "Para que la creación de los modelos pudiera realizarse, unas líneas arriba se realizó la transformación de las categorías que comprendían la variable dependiente \"Numero de Asistencias\" de manera que se crea una variable binaria. Cuando se hable de 2 o más asistencias se observará el valor de \"1\" y en caso contrario \"0\".\n",
    "\n",
    "### <center> Regresión Logística </center>"
   ]
  },
  {
   "cell_type": "code",
   "execution_count": 51,
   "metadata": {},
   "outputs": [],
   "source": [
    "logit = LogisticRegression(solver='lbfgs')\n",
    "logit_model = logit.fit(X_train,y_train)\n",
    "logit_pred = logit_model.predict_log_proba(X_test)\n",
    "logit_roc_auc = roc_auc_score(y_test, logit_pred[:,1])"
   ]
  },
  {
   "cell_type": "markdown",
   "metadata": {},
   "source": [
    "### <center> Ingenuo de Bayes [Naive Bayes] </center>"
   ]
  },
  {
   "cell_type": "code",
   "execution_count": 52,
   "metadata": {},
   "outputs": [
    {
     "name": "stdout",
     "output_type": "stream",
     "text": [
      "100%|█████████████████████████████████████████████| 500/500 [00:11<00:00, 42.81trial/s, best loss: -0.4966101694915254]\n",
      "best:\n",
      "{'alpha': 1.4290193867775207}\n"
     ]
    }
   ],
   "source": [
    "def hyperopt_train_test(params):\n",
    "    clf = BernoulliNB(**params)\n",
    "    return cross_val_score(clf, X_train, y_train).mean()\n",
    "space4knn = {\n",
    "    'alpha': hp.uniform('alpha', 0.0, 2.0)\n",
    "}\n",
    "\n",
    "def f(params):\n",
    "    acc = hyperopt_train_test(params)\n",
    "    return {'loss': -acc, 'status': STATUS_OK}\n",
    "trials = Trials()\n",
    "best = fmin(f, space4knn, algo=tpe.suggest, max_evals=500, trials=trials)\n",
    "print('best:')\n",
    "print(best)"
   ]
  },
  {
   "cell_type": "code",
   "execution_count": 53,
   "metadata": {},
   "outputs": [],
   "source": [
    "NaiveBayes = BernoulliNB(alpha = best.get('alpha'))\n",
    "NB_model = NaiveBayes.fit(X_train,y_train)\n",
    "NB_pred = NB_model.predict_proba(X_test)\n",
    "NB_roc_auc = roc_auc_score(y_test, NB_pred[:,1])"
   ]
  },
  {
   "cell_type": "markdown",
   "metadata": {},
   "source": [
    "### <center> Árbol de Decisión [Decision Tree (DT)] </center>"
   ]
  },
  {
   "cell_type": "code",
   "execution_count": 54,
   "metadata": {},
   "outputs": [
    {
     "name": "stdout",
     "output_type": "stream",
     "text": [
      "100%|█████████████████████████████████████████████| 500/500 [00:11<00:00, 42.44trial/s, best loss: -0.8358854471069549]\n",
      "best:\n",
      "{'criterion': 1, 'max_depth': 12, 'max_features': 0}\n"
     ]
    }
   ],
   "source": [
    "def hyperopt_train_test(params):\n",
    "    clf = DecisionTreeClassifier(**params)\n",
    "    return cross_val_score(clf, X_train, y_train).mean()\n",
    "space4dt = {\n",
    "    'max_depth': hp.choice('max_depth', range(1,20)),\n",
    "    'max_features': hp.choice('max_features', range(1,4)),\n",
    "    'criterion': hp.choice('criterion', [\"gini\", \"entropy\"])\n",
    "}\n",
    "def f(params):\n",
    "    acc = hyperopt_train_test(params)\n",
    "    return {'loss': -acc, 'status': STATUS_OK}\n",
    "\n",
    "trials = Trials()\n",
    "best = fmin(f, space4dt, algo=tpe.suggest, max_evals=500, trials=trials)\n",
    "print('best:')\n",
    "print(best)"
   ]
  },
  {
   "cell_type": "code",
   "execution_count": 55,
   "metadata": {},
   "outputs": [],
   "source": [
    "DT = DecisionTreeClassifier(criterion = 'gini' if best.get('criterion') == 0 else 'entropy', max_depth = best.get('max_depth'), max_features = None if best.get('max_features') == 0 else best.get('max_features'))\n",
    "DT.fit(X_train,y_train)\n",
    "DT_pred = DT.predict_proba(X_test)\n",
    "DT_roc_auc = roc_auc_score(y_test, DT_pred[:,1])"
   ]
  },
  {
   "cell_type": "markdown",
   "metadata": {},
   "source": [
    "### <center> Bosque Aleatorio [Random Forest (RF)] </center>"
   ]
  },
  {
   "cell_type": "code",
   "execution_count": 56,
   "metadata": {},
   "outputs": [
    {
     "name": "stdout",
     "output_type": "stream",
     "text": [
      "100%|█████████████████████████████████████████████| 500/500 [00:46<00:00, 10.65trial/s, best loss: -0.8392168322618352]\n",
      "best:\n",
      "{'criterion': 1, 'max_depth': 17, 'max_features': 0, 'n_estimators': 18}\n"
     ]
    }
   ],
   "source": [
    "def hyperopt_train_test(params):\n",
    "    clf = RandomForestClassifier(**params)\n",
    "    return cross_val_score(clf, X_train, y_train).mean()\n",
    "space4rf = {\n",
    "    'max_depth': hp.choice('max_depth', range(1,20)),\n",
    "    'max_features': hp.choice('max_features', range(1,4)),\n",
    "    'n_estimators': hp.choice('n_estimators', range(1,20)),\n",
    "    'criterion': hp.choice('criterion', [\"gini\", \"entropy\"])\n",
    "}\n",
    "best = 0\n",
    "def f(params):\n",
    "    acc = hyperopt_train_test(params)\n",
    "    return {'loss': -acc, 'status': STATUS_OK}\n",
    "trials = Trials()\n",
    "best = fmin(f, space4rf, algo=tpe.suggest, max_evals=500, trials=trials)\n",
    "print('best:')\n",
    "print(best)"
   ]
  },
  {
   "cell_type": "code",
   "execution_count": 57,
   "metadata": {},
   "outputs": [],
   "source": [
    "RF = RandomForestClassifier(criterion = 'gini' if best.get('criterion') == 0 else 'entropy', max_depth = best.get('max_depth'), max_features = None if best.get('max_features') == 0 else best.get('max_features'), n_estimators = best.get('n_estimators'))\n",
    "RF.fit(X_train,y_train)\n",
    "RF_pred = RF.predict_proba(X_test)\n",
    "RF_roc_auc = roc_auc_score(y_test, RF_pred[:,1])"
   ]
  },
  {
   "cell_type": "markdown",
   "metadata": {},
   "source": [
    "### <center> Aumento del Gradiente [Gradient Boosting (GB)] </center>"
   ]
  },
  {
   "cell_type": "code",
   "execution_count": 58,
   "metadata": {},
   "outputs": [
    {
     "name": "stdout",
     "output_type": "stream",
     "text": [
      "100%|█████████████████████████████████████████████| 500/500 [01:03<00:00,  7.88trial/s, best loss: -0.8564582115721799]\n",
      "best:\n",
      "{'learning_rate': 0.13725438203388443, 'max_depth': 17, 'max_features': 0, 'n_estimators': 10}\n"
     ]
    }
   ],
   "source": [
    "def hyperopt_train_test(params):\n",
    "    clf = GradientBoostingClassifier(**params)\n",
    "    return cross_val_score(clf, X_train, y_train).mean()\n",
    "space4rf = {\n",
    "    'max_depth': hp.choice('max_depth', range(1,20)),\n",
    "    'max_features': hp.choice('max_features', range(1,4)),\n",
    "    'n_estimators': hp.choice('n_estimators', range(1,20)),\n",
    "    'learning_rate': hp.loguniform('learning_rate', np.log(0.01), np.log(1))}\n",
    "best = 0\n",
    "def f(params):\n",
    "    acc = hyperopt_train_test(params)\n",
    "    return {'loss': -acc, 'status': STATUS_OK}\n",
    "trials = Trials()\n",
    "best = fmin(f, space4rf, algo=tpe.suggest, max_evals=500, trials=trials)\n",
    "print('best:')\n",
    "print(best)"
   ]
  },
  {
   "cell_type": "code",
   "execution_count": 59,
   "metadata": {},
   "outputs": [],
   "source": [
    "GB = GradientBoostingClassifier(learning_rate = best.get('learning_rate'), max_depth = best.get('max_depth'), max_features = None if best.get('max_features') == 0 else best.get('max_features'), n_estimators = best.get('n_estimators'))\n",
    "GB.fit(X_train, y_train)\n",
    "GB_pred = GB.predict_proba(X_test)\n",
    "GB_roc_auc = roc_auc_score(y_test, GB_pred[:,1])"
   ]
  },
  {
   "cell_type": "markdown",
   "metadata": {},
   "source": [
    "### <center> XgBoost </center>"
   ]
  },
  {
   "cell_type": "code",
   "execution_count": 60,
   "metadata": {},
   "outputs": [
    {
     "name": "stdout",
     "output_type": "stream",
     "text": [
      "100%|█████████████████████████████████████████████| 500/500 [00:30<00:00, 16.19trial/s, best loss: -0.8084745762711864]\n",
      "best:\n",
      "{'learning_rate': 0.5222627929752868, 'max_depth': 16, 'n_estimators': 18}\n"
     ]
    }
   ],
   "source": [
    "def hyperopt_train_test(params):\n",
    "    clf = XGBClassifier(**params)\n",
    "    return cross_val_score(clf, X_train, y_train).mean()\n",
    "space4rf = {\n",
    "    'max_depth': hp.choice('max_depth', range(1,20)),\n",
    "    'n_estimators': hp.choice('n_estimators', range(1,20)),\n",
    "    'learning_rate': hp.loguniform('learning_rate', np.log(0.01), np.log(1))\n",
    "}\n",
    "best = 0\n",
    "def f(params):\n",
    "    acc = hyperopt_train_test(params)\n",
    "    return {'loss': -acc, 'status': STATUS_OK}\n",
    "trials = Trials()\n",
    "best = fmin(f, space4rf, algo=tpe.suggest, max_evals=500, trials=trials)\n",
    "print('best:')\n",
    "print(best)"
   ]
  },
  {
   "cell_type": "code",
   "execution_count": 61,
   "metadata": {},
   "outputs": [],
   "source": [
    "XGB=xgb.XGBClassifier(learning_rate = best.get('learning_rate'), max_depth = best.get('max_depth'), n_estimators = best.get('n_estimators'))\n",
    "XGB.fit(X_train,y_train)\n",
    "XGB_pred=XGB.predict_proba(X_test)\n",
    "XGB_roc_auc=roc_auc_score(y_test,XGB_pred[:,1])"
   ]
  },
  {
   "cell_type": "markdown",
   "metadata": {},
   "source": [
    "# Comparación de los modelos\n",
    "\n",
    "<h3><b> AUC </b></h3>\n",
    "\n",
    "Ahora bien, para realizar la comparación de los modelos se revisará el rendimiento de cada modelo bajo el cálculo de la <b> Curva de de Característica Operativa del Recepto (ROC curve)</b> de manera que el modelo que alcance el mayor valor respecto a la <b>Tasa de Verdaderos Positivos (TPR)</b> frente a la <b>Tasa de Falsos Positivos(FPR)</b> en la curva de decisión será tomado como el modelo que mejor pronostica la variable de respuesta binaria en nuestro caso.\n",
    "\n",
    "No obstante, revisar cada asignación de decisión posible en el <b>trade-off</b> entre la <b>TPR</b> y la <b>FPR</b> sería ineficiente. Por ello se procede a añadir el <b>Área Bajo la curva ROC (Under ROC curve Area - AUC)</b> mediante la cual se puede medir toda el área bidimensional por debajo de la curva ROC. El valor resultante para el <b>AUC</b> será interpretado como la probabilidad de que cada modelo clasifique un ejemplo positivo aleatorio más alto que un ejemplo negativo aleatorio. Es decir, un modelo cuyas predicciones siempre resultan incorrectas tiene un <b>AUC</b> de 0, mientras que otro modelo cuyas predicciones siempre resultan correctas tiene un <b>AUC</b> de 1."
   ]
  },
  {
   "cell_type": "code",
   "execution_count": 62,
   "metadata": {},
   "outputs": [
    {
     "name": "stdout",
     "output_type": "stream",
     "text": [
      "     Modelo           AUC Value\n",
      "Regresión Logit  :  0.49479166666666663\n",
      "Naïve Bayes      :  0.5\n",
      "Árbol de decisión:  0.4548611111111111\n",
      "Random Forest    :  0.6328125\n",
      "Gradient Boosting:  0.4722222222222222\n",
      "Xg Boost:           0.6493055555555556\n"
     ]
    }
   ],
   "source": [
    "def MeanSquareError(y_obs, y_pred):\n",
    "    ''' This function calculates efficiency of any model \n",
    "    y_pred: estimate value\n",
    "    y_obs: real value \n",
    "    # '''\n",
    "    mse = pow(y_obs - y_pred, 2).sum() / y_obs.shape[1]\n",
    "    return mse\n",
    "\n",
    "print('     Modelo        ', '  AUC Value')\n",
    "print('Regresión Logit  : ',logit_roc_auc)\n",
    "print('Naïve Bayes      : ',NB_roc_auc   )\n",
    "print('Árbol de decisión: ',DT_roc_auc   )\n",
    "print('Random Forest    : ',RF_roc_auc   )\n",
    "print('Gradient Boosting: ',GB_roc_auc   )\n",
    "print('Xg Boost:          ',XGB_roc_auc  )"
   ]
  },
  {
   "cell_type": "code",
   "execution_count": 63,
   "metadata": {},
   "outputs": [
    {
     "data": {
      "text/plain": [
       "<matplotlib.legend.Legend at 0x2c30a7e8fa0>"
      ]
     },
     "execution_count": 63,
     "metadata": {},
     "output_type": "execute_result"
    },
    {
     "data": {
      "image/png": "[encoded data removed]",
      "text/plain": [
       "<Figure size 1440x720 with 1 Axes>"
      ]
     },
     "metadata": {
      "needs_background": "light"
     },
     "output_type": "display_data"
    }
   ],
   "source": [
    "logit_fpr, logit_tpr, thresholds = roc_curve(y_test, logit_pred[:,1])\n",
    "NB_fpr, NB_tpr, thresholds       = roc_curve(y_test, NB_pred[:,1])\n",
    "DT_fpr, DT_tpr, thresholds       = roc_curve(y_test, DT_pred[:,1])\n",
    "RF_fpr, RF_tpr, thresholds       = roc_curve(y_test, RF_pred[:,1])\n",
    "GB_fpr, GB_tpr, thresholds       = roc_curve(y_test, GB_pred[:,1])\n",
    "XGB_fpr, XGB_tpr, thresholds     = roc_curve(y_test, XGB_pred[:,1])\n",
    "\n",
    "plt.figure(figsize=(20,10))\n",
    "plt.plot(logit_fpr, logit_tpr, label='Regresión Logística')\n",
    "plt.plot(NB_fpr, NB_tpr, label='NB')\n",
    "plt.plot(DT_fpr, DT_tpr, label='DT')\n",
    "plt.plot(RF_fpr, RF_tpr, label='RF')\n",
    "plt.plot(GB_fpr, GB_tpr, label='GB')\n",
    "plt.plot(XGB_fpr, XGB_tpr, label='XGB')\n",
    "plt.plot([0, 1], [0, 1],'r--')\n",
    "plt.xlabel('Tasa de Falsos Positivos')\n",
    "plt.ylabel('Tasa de Verdaderos Positivos')\n",
    "plt.title('Característica de funcionamiento del receptor (Curva ROC)')\n",
    "plt.legend(loc=\"lower right\")"
   ]
  },
  {
   "cell_type": "markdown",
   "metadata": {},
   "source": [
    "# Importancia de las variables\n",
    "\n",
    "Siendo <b>Random Forest</b> nuestro modelo ganador vale la pena revisar la importancia de las variables para garantizar una selección coherente al menos frente a nuestro segundo lugar <b>XGBoost</b>:\n",
    "\n",
    "<h3><b> Random Forest </b></h3>"
   ]
  },
  {
   "cell_type": "code",
   "execution_count": 64,
   "metadata": {},
   "outputs": [
    {
     "data": {
      "text/plain": [
       "Text(0.5, 1.0, 'Importancia de las Variables en el Modelo (Random Forest))')"
      ]
     },
     "execution_count": 64,
     "metadata": {},
     "output_type": "execute_result"
    },
    {
     "data": {
      "image/png": "[encoded data removed]",
      "text/plain": [
       "<Figure size 864x432 with 1 Axes>"
      ]
     },
     "metadata": {
      "needs_background": "light"
     },
     "output_type": "display_data"
    }
   ],
   "source": [
    "feature_importance = RF.feature_importances_\n",
    "sorted_idx = np.argsort(feature_importance)\n",
    "pos = np.arange(sorted_idx.shape[0]) + .5\n",
    "fig = plt.figure(figsize=(12, 6))\n",
    "plt.barh(pos, feature_importance[sorted_idx], align='center')\n",
    "plt.yticks(pos, np.array(X.columns)[sorted_idx])\n",
    "plt.title('Importancia de las Variables en el Modelo (Random Forest))')"
   ]
  },
  {
   "cell_type": "markdown",
   "metadata": {},
   "source": [
    "<h3><b> XGBoost </b></h3>"
   ]
  },
  {
   "cell_type": "code",
   "execution_count": 65,
   "metadata": {},
   "outputs": [
    {
     "data": {
      "text/plain": [
       "Text(0.5, 1.0, 'Importancia de las Variables en el Modelo (XGB))')"
      ]
     },
     "execution_count": 65,
     "metadata": {},
     "output_type": "execute_result"
    },
    {
     "data": {
      "image/png": "[encoded data removed]",
      "text/plain": [
       "<Figure size 864x432 with 1 Axes>"
      ]
     },
     "metadata": {
      "needs_background": "light"
     },
     "output_type": "display_data"
    }
   ],
   "source": [
    "feature_importance = XGB.feature_importances_\n",
    "sorted_idx = np.argsort(feature_importance)\n",
    "pos = np.arange(sorted_idx.shape[0]) + .5\n",
    "fig = plt.figure(figsize=(12, 6))\n",
    "plt.barh(pos, feature_importance[sorted_idx], align='center')\n",
    "plt.yticks(pos, np.array(X.columns)[sorted_idx])\n",
    "plt.title('Importancia de las Variables en el Modelo (XGB))')"
   ]
  },
  {
   "cell_type": "markdown",
   "metadata": {},
   "source": [
    "Se observa que a pesar de tener el valor F1_Score más alto, Random Forest está desperdiciando valor de nuestra variable teóricamente más importante (Día de la semana), dándole más importancia al \"Semestre\" lo cual resulta incoherente. Sucede así por la configuración misma del modelo y la poca cantidad de datos actuales que se tienen para alimentar al mismo.\n",
    "\n",
    "Por este motivo se procede a elegir el modelo XGBoost el cual resulta más coherente en su asignación de relevancia y en sus resultados observados en la comparativa de los modelos estimados.\n",
    "\n",
    "# Pronóstico de XGB"
   ]
  },
  {
   "cell_type": "code",
   "execution_count": 66,
   "metadata": {},
   "outputs": [
    {
     "data": {
      "text/plain": [
       "<matplotlib.collections.PathCollection at 0x2c30aa66a90>"
      ]
     },
     "execution_count": 66,
     "metadata": {},
     "output_type": "execute_result"
    },
    {
     "data": {
      "image/png": "[encoded data removed]",
      "text/plain": [
       "<Figure size 864x216 with 1 Axes>"
      ]
     },
     "metadata": {
      "needs_background": "light"
     },
     "output_type": "display_data"
    }
   ],
   "source": [
    "lop = lambda t: 1 if t > 0.5 else 0\n",
    "XGB_pred[:,-1] = np.array([lop(xi) for xi in XGB_pred[:,-1]])\n",
    "fig, ax = plt.subplots(figsize = (12,3))\n",
    "ax.scatter(y_test.index, y_test)\n",
    "ax.scatter(y_test.index, XGB_pred[:,-1], color = 'orange')"
   ]
  },
  {
   "cell_type": "code",
   "execution_count": null,
   "metadata": {},
   "outputs": [],
   "source": []
  },
  {
   "cell_type": "code",
   "execution_count": null,
   "metadata": {},
   "outputs": [],
   "source": []
  },
  {
   "cell_type": "markdown",
   "metadata": {
    "colab_type": "text",
    "id": "oKVvVq51H3QQ"
   },
   "source": [
    "# Uso del modelo"
   ]
  },
  {
   "cell_type": "code",
   "execution_count": 67,
   "metadata": {
    "colab": {},
    "colab_type": "code",
    "executionInfo": {
     "elapsed": 13668,
     "status": "ok",
     "timestamp": 1594245570313,
     "user": {
      "displayName": "Carlos Alberto Galindo Rojas",
      "photoUrl": "https://lh3.googleusercontent.com/a-/AOh14Gj5JBL13GeQ-dXVWRyPNRmQqYgvAmHXhSs_kz_xeA=s64",
      "userId": "08125390419017637646"
     },
     "user_tz": 300
    },
    "id": "fppgha1gH6iv"
   },
   "outputs": [],
   "source": [
    "def prediccion(dia, semana, semestre):\n",
    "    dia_de_referencia = \"Día de la semana_\"+ str(dia)\n",
    "    semana_de_referencia = \"Semana del semestre_\" + str(semana)\n",
    "    \n",
    "    dias = ['Día de la semana_jueves', 'Día de la semana_martes',\n",
    "            'Día de la semana_miércoles', 'Día de la semana_sábado',\n",
    "            'Día de la semana_viernes']\n",
    "    \n",
    "    semanas = ['Semana del semestre_10', 'Semana del semestre_11',\n",
    "               'Semana del semestre_12', 'Semana del semestre_13',\n",
    "               'Semana del semestre_14', 'Semana del semestre_15',\n",
    "               'Semana del semestre_16', 'Semana del semestre_17',\n",
    "               'Semana del semestre_18', 'Semana del semestre_19',\n",
    "               'Semana del semestre_3', 'Semana del semestre_4',\n",
    "               'Semana del semestre_5', 'Semana del semestre_6',\n",
    "               'Semana del semestre_7', 'Semana del semestre_8',\n",
    "               'Semana del semestre_9']\n",
    "    \n",
    "    X = pd.DataFrame({'Día de la semana_jueves': [0], 'Día de la semana_martes': [0],\n",
    "                      'Día de la semana_miércoles': [0], 'Día de la semana_sábado': [0],\n",
    "                      'Día de la semana_viernes': [0], 'Semana del semestre_10': [0],\n",
    "                      'Semana del semestre_11': [0], 'Semana del semestre_12': [0],\n",
    "                      'Semana del semestre_13': [0], 'Semana del semestre_14': [0],\n",
    "                      'Semana del semestre_15': [0], 'Semana del semestre_16': [0],\n",
    "                      'Semana del semestre_17': [0], 'Semana del semestre_18': [0],\n",
    "                      'Semana del semestre_19': [0], 'Semana del semestre_3': [0],\n",
    "                      'Semana del semestre_4': [0], 'Semana del semestre_5': [0],\n",
    "                      'Semana del semestre_6': [0], 'Semana del semestre_7': [0],\n",
    "                      'Semana del semestre_8': [0], 'Semana del semestre_9': [0]})\n",
    "    Z = pd.DataFrame({'Día de la semana_jueves': [0], 'Día de la semana_martes': [0],\n",
    "                      'Día de la semana_miércoles': [0], 'Día de la semana_sábado': [0],\n",
    "                      'Día de la semana_viernes': [0], 'Semana del semestre_10': [0],\n",
    "                      'Semana del semestre_11': [0], 'Semana del semestre_12': [0],\n",
    "                      'Semana del semestre_13': [0], 'Semana del semestre_14': [0],\n",
    "                      'Semana del semestre_15': [0], 'Semana del semestre_16': [0],\n",
    "                      'Semana del semestre_17': [0], 'Semana del semestre_18': [0],\n",
    "                      'Semana del semestre_19': [0], 'Semana del semestre_3': [0],\n",
    "                      'Semana del semestre_4': [0], 'Semana del semestre_5': [0],\n",
    "                      'Semana del semestre_6': [0], 'Semana del semestre_7': [0],\n",
    "                      'Semana del semestre_8': [0], 'Semana del semestre_9': [0]})\n",
    "    \n",
    "    Falso = pd.DataFrame({'Día de la semana_jueves': [1], 'Día de la semana_martes': [0],\n",
    "                          'Día de la semana_miércoles': [0], 'Día de la semana_sábado': [0],\n",
    "                          'Día de la semana_viernes': [0], 'Semana del semestre_10': [0],\n",
    "                          'Semana del semestre_11': [0], 'Semana del semestre_12': [0],\n",
    "                          'Semana del semestre_13': [0], 'Semana del semestre_14': [0],\n",
    "                          'Semana del semestre_15': [0], 'Semana del semestre_16': [0],\n",
    "                          'Semana del semestre_17': [0], 'Semana del semestre_18': [0],\n",
    "                          'Semana del semestre_19': [0], 'Semana del semestre_3': [0],\n",
    "                          'Semana del semestre_4': [0], 'Semana del semestre_5': [0],\n",
    "                          'Semana del semestre_6': [0], 'Semana del semestre_7': [0],\n",
    "                          'Semana del semestre_8': [0], 'Semana del semestre_9': [0]})\n",
    "    resultado = \"Nada\"\n",
    "    \n",
    "    if dia_de_referencia in dias:\n",
    "        X[dia_de_referencia] = 1\n",
    "    else:\n",
    "        resultado = \"Día incorrecto\"\n",
    "    \n",
    "    if semana_de_referencia in semanas:\n",
    "        X[semana_de_referencia] = 1\n",
    "    else:\n",
    "        resultado = \"Semana incorrecta\"\n",
    "    \n",
    "    if resultado in [\"Día incorrecto\", \"Semana incorrecta\"]:\n",
    "        resultado_final = resultado\n",
    "    else:\n",
    "        X = pd.concat([X, Falso])\n",
    "        prediccion = ResultadosLogit.predict(sm.add_constant(X))\n",
    "        prediccion = prediccion.reset_index(drop = True)\n",
    "        prediccion = prediccion[0]\n",
    "        if prediccion > 0.5:\n",
    "            resultado_final = \"Para este día se estiman más de dos asistencias\"\n",
    "        else:\n",
    "            resultado_final = \"Para este día se estiman dos o menos asistencias\"\n",
    "    return(resultado_final)"
   ]
  },
  {
   "cell_type": "code",
   "execution_count": 68,
   "metadata": {
    "colab": {
     "base_uri": "https://localhost:8080/",
     "height": 69
    },
    "colab_type": "code",
    "executionInfo": {
     "elapsed": 37369,
     "status": "ok",
     "timestamp": 1594246775634,
     "user": {
      "displayName": "Carlos Alberto Galindo Rojas",
      "photoUrl": "https://lh3.googleusercontent.com/a-/AOh14Gj5JBL13GeQ-dXVWRyPNRmQqYgvAmHXhSs_kz_xeA=s64",
      "userId": "08125390419017637646"
     },
     "user_tz": 300
    },
    "id": "ZH2mPKSQQX4o",
    "outputId": "d81e0bc0-5ba6-4c45-b868-6576b911efff"
   },
   "outputs": [
    {
     "name": "stdout",
     "output_type": "stream",
     "text": [
      "Ingrese el día de la semana para el que desea realizar la predicción:lunes\n",
      "Ingrese el número de la semana para el que desea realizar la predicción:48\n"
     ]
    },
    {
     "data": {
      "text/plain": [
       "'Semana incorrecta'"
      ]
     },
     "execution_count": 68,
     "metadata": {},
     "output_type": "execute_result"
    }
   ],
   "source": [
    "# PRONÓSTICO\n",
    "\n",
    "dia = input(\"Ingrese el día de la semana para el que desea realizar la predicción:\")\n",
    "semana = input(\"Ingrese el número de la semana para el que desea realizar la predicción:\")\n",
    "semestre=0\n",
    "prediccion(dia, semana,semestre)\n",
    "\n",
    "#Nota: el día debe entrar en minúscula con la tilde respectiva.\n",
    "#La semana debe ser superior a 2 y menor que 19"
   ]
  }
 ],
 "metadata": {
  "colab": {
   "name": "Pronóstico",
   "provenance": []
  },
  "kernelspec": {
   "display_name": "Python 3",
   "language": "python",
   "name": "python3"
  },
  "language_info": {
   "codemirror_mode": {
    "name": "ipython",
    "version": 3
   },
   "file_extension": ".py",
   "mimetype": "text/x-python",
   "name": "python",
   "nbconvert_exporter": "python",
   "pygments_lexer": "ipython3",
   "version": "3.8.3"
  }
 },
 "nbformat": 4,
 "nbformat_minor": 1
}
