{
  "nbformat": 4,
  "nbformat_minor": 0,
  "metadata": {
    "colab": {
      "name": "Pronóstico_FINAL_2020-2.ipynb",
      "provenance": []
    },
    "kernelspec": {
      "display_name": "Python 3",
      "language": "python",
      "name": "python3"
    },
    "language_info": {
      "codemirror_mode": {
        "name": "ipython",
        "version": 3
      },
      "file_extension": ".py",
      "mimetype": "text/x-python",
      "name": "python",
      "nbconvert_exporter": "python",
      "pygments_lexer": "ipython3",
      "version": "3.8.3"
    }
  },
  "cells": [
    {
      "cell_type": "markdown",
      "metadata": {
        "id": "M8WItGpcpj3W"
      },
      "source": [
        "# Importación de la base"
      ]
    },
    {
      "cell_type": "code",
      "metadata": {
        "colab": {
          "base_uri": "https://localhost:8080/"
        },
        "id": "DXInNVjdSwiI",
        "outputId": "ce3a83e1-3768-4241-f4e4-b1afa68ac101"
      },
      "source": [
        "from google.colab import drive\n",
        "drive.mount('/content/drive')"
      ],
      "execution_count": 1,
      "outputs": [
        {
          "output_type": "stream",
          "text": [
            "Mounted at /content/drive\n"
          ],
          "name": "stdout"
        }
      ]
    },
    {
      "cell_type": "code",
      "metadata": {
        "id": "CCToIIEBQQ_M"
      },
      "source": [
        "#pip install google"
      ],
      "execution_count": null,
      "outputs": []
    },
    {
      "cell_type": "code",
      "metadata": {
        "id": "PlvnDMGaQQ_N"
      },
      "source": [
        "#pip install xgboost"
      ],
      "execution_count": null,
      "outputs": []
    },
    {
      "cell_type": "code",
      "metadata": {
        "id": "vjPNrfOkQQ_O"
      },
      "source": [
        "#pip install imblearn"
      ],
      "execution_count": null,
      "outputs": []
    },
    {
      "cell_type": "code",
      "metadata": {
        "id": "O7gWFf0WQQ_P"
      },
      "source": [
        "#pip install hyperopt"
      ],
      "execution_count": null,
      "outputs": []
    },
    {
      "cell_type": "code",
      "metadata": {
        "id": "hQpQ-wQIQQ_S"
      },
      "source": [
        "#pip install graphviz"
      ],
      "execution_count": null,
      "outputs": []
    },
    {
      "cell_type": "code",
      "metadata": {
        "colab": {
          "base_uri": "https://localhost:8080/"
        },
        "id": "MpKYOsRONzjV",
        "outputId": "99d42913-b443-4e39-dc4a-2d6662fb757b"
      },
      "source": [
        "#Paquetes a usar\n",
        "import numpy as np\n",
        "import pandas as pd\n",
        "import matplotlib.pyplot as plt\n",
        "import statsmodels.api as sm"
      ],
      "execution_count": 3,
      "outputs": [
        {
          "output_type": "stream",
          "text": [
            "/usr/local/lib/python3.6/dist-packages/statsmodels/tools/_testing.py:19: FutureWarning: pandas.util.testing is deprecated. Use the functions in the public API at pandas.testing instead.\n",
            "  import pandas.util.testing as tm\n"
          ],
          "name": "stderr"
        }
      ]
    },
    {
      "cell_type": "code",
      "metadata": {
        "id": "grMMS4AaQQ_T"
      },
      "source": [
        "# Machine Learning Packages\n",
        "import xgboost as xgb\n",
        "from xgboost import XGBClassifier, plot_tree, plot_importance\n",
        "import seaborn as sns\n",
        "import math\n",
        "import statistics \n",
        "\n",
        "\n",
        "import warnings\n",
        "warnings.simplefilter(action='ignore', category=FutureWarning)\n",
        "\n",
        "from sklearn.utils import resample\n",
        "from sklearn.model_selection import train_test_split\n",
        "from imblearn.over_sampling import SMOTE\n",
        "from sklearn.model_selection import cross_val_score\n",
        "from sklearn.preprocessing import StandardScaler, MinMaxScaler\n",
        "from hyperopt import fmin, tpe, hp, STATUS_OK, Trials\n",
        "\n",
        "from sklearn.metrics import mean_squared_error\n",
        "\n",
        "from sklearn.linear_model import LogisticRegression\n",
        "from sklearn.naive_bayes import BernoulliNB\n",
        "from sklearn.neighbors import KNeighborsClassifier\n",
        "from sklearn.tree import DecisionTreeClassifier\n",
        "from sklearn.ensemble import RandomForestClassifier\n",
        "from sklearn.ensemble import GradientBoostingClassifier\n",
        "\n",
        "from sklearn.metrics import f1_score, roc_auc_score, roc_curve\n",
        "\n",
        "from sklearn.model_selection import GridSearchCV\n",
        "\n",
        "import graphviz"
      ],
      "execution_count": 4,
      "outputs": []
    },
    {
      "cell_type": "code",
      "metadata": {
        "colab": {
          "base_uri": "https://localhost:8080/",
          "height": 674
        },
        "id": "TefA7wFuqBZN",
        "outputId": "3461f219-d452-4d3d-d182-7ed924f4c5dd"
      },
      "source": [
        "#Base de datos:\n",
        "data = pd.read_excel('/content/drive/MyDrive/UIFCE/2020-II/Asistencias Docentes  2020-II/Modelo de pronóstico asistencias docentes/BD 2020-1.xlsx')\n",
        "#data=pd.read_excel('/content/drive/My Drive/UIFCE/Actividades 2020-1/Base de datos asistencias docentes/Base de datos definitiva.xlsx')\n",
        "data"
      ],
      "execution_count": 5,
      "outputs": [
        {
          "output_type": "execute_result",
          "data": {
            "text/html": [
              "<div>\n",
              "<style scoped>\n",
              "    .dataframe tbody tr th:only-of-type {\n",
              "        vertical-align: middle;\n",
              "    }\n",
              "\n",
              "    .dataframe tbody tr th {\n",
              "        vertical-align: top;\n",
              "    }\n",
              "\n",
              "    .dataframe thead th {\n",
              "        text-align: right;\n",
              "    }\n",
              "</style>\n",
              "<table border=\"1\" class=\"dataframe\">\n",
              "  <thead>\n",
              "    <tr style=\"text-align: right;\">\n",
              "      <th></th>\n",
              "      <th>Id_Asistencia</th>\n",
              "      <th>Materia</th>\n",
              "      <th>Software</th>\n",
              "      <th>Profesor Encargado</th>\n",
              "      <th>Programa Curricular</th>\n",
              "      <th>Nivel académico</th>\n",
              "      <th>Fecha</th>\n",
              "      <th>Día de la semana</th>\n",
              "      <th>Horario</th>\n",
              "      <th>Número de participantes</th>\n",
              "      <th>Semestre</th>\n",
              "      <th>Semana del semestre</th>\n",
              "    </tr>\n",
              "  </thead>\n",
              "  <tbody>\n",
              "    <tr>\n",
              "      <th>0</th>\n",
              "      <td>AD20170101</td>\n",
              "      <td>Fundamentos de Finanzas</td>\n",
              "      <td>Excel</td>\n",
              "      <td>Luis German Ome</td>\n",
              "      <td>Administración de Empresas</td>\n",
              "      <td>Pregrado</td>\n",
              "      <td>2017-02-06</td>\n",
              "      <td>lunes</td>\n",
              "      <td>18:00 - 20:00</td>\n",
              "      <td>NaN</td>\n",
              "      <td>2017-01</td>\n",
              "      <td>2</td>\n",
              "    </tr>\n",
              "    <tr>\n",
              "      <th>1</th>\n",
              "      <td>AD20170102</td>\n",
              "      <td>Estrategia de Mercados</td>\n",
              "      <td>Moodle</td>\n",
              "      <td>Alvaro Viña</td>\n",
              "      <td>Administración de Empresas</td>\n",
              "      <td>Pregrado</td>\n",
              "      <td>2017-02-08</td>\n",
              "      <td>miércoles</td>\n",
              "      <td>10:00 - 11:00</td>\n",
              "      <td>NaN</td>\n",
              "      <td>2017-01</td>\n",
              "      <td>2</td>\n",
              "    </tr>\n",
              "    <tr>\n",
              "      <th>2</th>\n",
              "      <td>AD20170103</td>\n",
              "      <td>Maestría en Administración</td>\n",
              "      <td>Moodle</td>\n",
              "      <td>Luis Alejandro Rodriguez</td>\n",
              "      <td>Maestría en Administración</td>\n",
              "      <td>Posgrado</td>\n",
              "      <td>2017-02-10</td>\n",
              "      <td>viernes</td>\n",
              "      <td>09:00 - 10:00</td>\n",
              "      <td>NaN</td>\n",
              "      <td>2017-01</td>\n",
              "      <td>2</td>\n",
              "    </tr>\n",
              "    <tr>\n",
              "      <th>3</th>\n",
              "      <td>AD20170104</td>\n",
              "      <td>Fundamentos de Finanzas</td>\n",
              "      <td>Excel</td>\n",
              "      <td>Luis German Ome</td>\n",
              "      <td>Administración de Empresas</td>\n",
              "      <td>Pregrado</td>\n",
              "      <td>2017-02-13</td>\n",
              "      <td>lunes</td>\n",
              "      <td>18:00 - 20:00</td>\n",
              "      <td>NaN</td>\n",
              "      <td>2017-01</td>\n",
              "      <td>3</td>\n",
              "    </tr>\n",
              "    <tr>\n",
              "      <th>4</th>\n",
              "      <td>AD20170105</td>\n",
              "      <td>Teoría Contemporanea de la Organización</td>\n",
              "      <td>Moodle</td>\n",
              "      <td>Alex Árias</td>\n",
              "      <td>Administración de Empresas</td>\n",
              "      <td>Pregrado</td>\n",
              "      <td>2017-02-13</td>\n",
              "      <td>lunes</td>\n",
              "      <td>10:00 - 11:00</td>\n",
              "      <td>NaN</td>\n",
              "      <td>2017-01</td>\n",
              "      <td>3</td>\n",
              "    </tr>\n",
              "    <tr>\n",
              "      <th>...</th>\n",
              "      <td>...</td>\n",
              "      <td>...</td>\n",
              "      <td>...</td>\n",
              "      <td>...</td>\n",
              "      <td>...</td>\n",
              "      <td>...</td>\n",
              "      <td>...</td>\n",
              "      <td>...</td>\n",
              "      <td>...</td>\n",
              "      <td>...</td>\n",
              "      <td>...</td>\n",
              "      <td>...</td>\n",
              "    </tr>\n",
              "    <tr>\n",
              "      <th>366</th>\n",
              "      <td>AD2020164</td>\n",
              "      <td>Revista Intercambio</td>\n",
              "      <td>Inkscape</td>\n",
              "      <td>NaN</td>\n",
              "      <td>NaN</td>\n",
              "      <td>NaN</td>\n",
              "      <td>2020-06-09</td>\n",
              "      <td>martes</td>\n",
              "      <td>14:00 - 16:00</td>\n",
              "      <td>4.0</td>\n",
              "      <td>2020-01</td>\n",
              "      <td>15</td>\n",
              "    </tr>\n",
              "    <tr>\n",
              "      <th>367</th>\n",
              "      <td>AD2020165</td>\n",
              "      <td>Sistemas de Información Gerencial</td>\n",
              "      <td>SAP</td>\n",
              "      <td>Henry Martinez Sarmiento</td>\n",
              "      <td>Administración de Empresas</td>\n",
              "      <td>Pregrado</td>\n",
              "      <td>2020-06-10</td>\n",
              "      <td>miércoles</td>\n",
              "      <td>14:00 - 16:00</td>\n",
              "      <td>38.0</td>\n",
              "      <td>2020-01</td>\n",
              "      <td>15</td>\n",
              "    </tr>\n",
              "    <tr>\n",
              "      <th>368</th>\n",
              "      <td>AD2020166</td>\n",
              "      <td>Sistemas de Información Gerencial</td>\n",
              "      <td>SAP</td>\n",
              "      <td>Henry Martinez Sarmiento</td>\n",
              "      <td>Administración de Empresas</td>\n",
              "      <td>Pregrado</td>\n",
              "      <td>2020-06-17</td>\n",
              "      <td>miércoles</td>\n",
              "      <td>14:00 - 16:00</td>\n",
              "      <td>38.0</td>\n",
              "      <td>2020-01</td>\n",
              "      <td>16</td>\n",
              "    </tr>\n",
              "    <tr>\n",
              "      <th>369</th>\n",
              "      <td>AD2020167</td>\n",
              "      <td>Requisitos del Sistema Integrado de Gestión pa...</td>\n",
              "      <td>Nvivo</td>\n",
              "      <td>PEC</td>\n",
              "      <td>NaN</td>\n",
              "      <td>NaN</td>\n",
              "      <td>2020-06-20</td>\n",
              "      <td>sábado</td>\n",
              "      <td>11:00 - 13:00</td>\n",
              "      <td>NaN</td>\n",
              "      <td>2020-01</td>\n",
              "      <td>16</td>\n",
              "    </tr>\n",
              "    <tr>\n",
              "      <th>370</th>\n",
              "      <td>AD2020168</td>\n",
              "      <td>Gestión de las Operaciones y la Producción II</td>\n",
              "      <td>SAP</td>\n",
              "      <td>Luis Alejandro Rodriguez</td>\n",
              "      <td>Gestión de las Operaciones y la Producción II</td>\n",
              "      <td>Pregrado</td>\n",
              "      <td>2020-06-23</td>\n",
              "      <td>martes</td>\n",
              "      <td>07:00 - 09:00</td>\n",
              "      <td>21.0</td>\n",
              "      <td>2020-01</td>\n",
              "      <td>17</td>\n",
              "    </tr>\n",
              "  </tbody>\n",
              "</table>\n",
              "<p>371 rows × 12 columns</p>\n",
              "</div>"
            ],
            "text/plain": [
              "    Id_Asistencia  ... Semana del semestre\n",
              "0      AD20170101  ...                   2\n",
              "1      AD20170102  ...                   2\n",
              "2      AD20170103  ...                   2\n",
              "3      AD20170104  ...                   3\n",
              "4      AD20170105  ...                   3\n",
              "..            ...  ...                 ...\n",
              "366     AD2020164  ...                  15\n",
              "367     AD2020165  ...                  15\n",
              "368     AD2020166  ...                  16\n",
              "369     AD2020167  ...                  16\n",
              "370     AD2020168  ...                  17\n",
              "\n",
              "[371 rows x 12 columns]"
            ]
          },
          "metadata": {
            "tags": []
          },
          "execution_count": 5
        }
      ]
    },
    {
      "cell_type": "code",
      "metadata": {
        "colab": {
          "base_uri": "https://localhost:8080/"
        },
        "id": "z9X5SuNHNzlK",
        "outputId": "4262b15e-5b9d-463b-b5ee-d0710ebd6d1a"
      },
      "source": [
        "data.info()"
      ],
      "execution_count": 6,
      "outputs": [
        {
          "output_type": "stream",
          "text": [
            "<class 'pandas.core.frame.DataFrame'>\n",
            "RangeIndex: 371 entries, 0 to 370\n",
            "Data columns (total 12 columns):\n",
            " #   Column                   Non-Null Count  Dtype         \n",
            "---  ------                   --------------  -----         \n",
            " 0   Id_Asistencia            371 non-null    object        \n",
            " 1   Materia                  371 non-null    object        \n",
            " 2   Software                 371 non-null    object        \n",
            " 3   Profesor Encargado       360 non-null    object        \n",
            " 4   Programa Curricular      368 non-null    object        \n",
            " 5   Nivel académico          355 non-null    object        \n",
            " 6   Fecha                    371 non-null    datetime64[ns]\n",
            " 7   Día de la semana         371 non-null    object        \n",
            " 8   Horario                  326 non-null    object        \n",
            " 9   Número de participantes  263 non-null    float64       \n",
            " 10  Semestre                 371 non-null    object        \n",
            " 11  Semana del semestre      371 non-null    int64         \n",
            "dtypes: datetime64[ns](1), float64(1), int64(1), object(9)\n",
            "memory usage: 34.9+ KB\n"
          ],
          "name": "stdout"
        }
      ]
    },
    {
      "cell_type": "markdown",
      "metadata": {
        "id": "Z3aUKPajNzll"
      },
      "source": [
        "# 1. Modelo de MCO"
      ]
    },
    {
      "cell_type": "code",
      "metadata": {
        "id": "leEQwsQsNzln"
      },
      "source": [
        "#numero_asistencias = data.groupby(\"Fecha\").count()[[\"Id_Asistencia\"]]"
      ],
      "execution_count": null,
      "outputs": []
    },
    {
      "cell_type": "code",
      "metadata": {
        "id": "a-dy4emdNzl0"
      },
      "source": [
        "#numero_asistencias.rename(columns = {\"Id_Asistencia\": \"Número de asistencias\"}, inplace = True)"
      ],
      "execution_count": null,
      "outputs": []
    },
    {
      "cell_type": "code",
      "metadata": {
        "colab": {
          "base_uri": "https://localhost:8080/",
          "height": 228
        },
        "id": "3SbWVG5dNzmg",
        "outputId": "fbe3cf14-7252-4c0e-d366-ed5bed158360"
      },
      "source": [
        "#fig, ax = plt.subplots(figsize = (12,3))\n",
        "#ax.scatter(numero_asistencias.index, numero_asistencias[\"Número de asistencias\"])"
      ],
      "execution_count": null,
      "outputs": [
        {
          "output_type": "execute_result",
          "data": {
            "text/plain": [
              "<matplotlib.collections.PathCollection at 0x2c308d5bac0>"
            ]
          },
          "metadata": {
            "tags": []
          },
          "execution_count": 13
        },
        {
          "output_type": "display_data",
          "data": {
            "image/png": "[encoded data removed]",
            "text/plain": [
              "<Figure size 864x216 with 1 Axes>"
            ]
          },
          "metadata": {
            "tags": [],
            "needs_background": "light"
          }
        }
      ]
    },
    {
      "cell_type": "code",
      "metadata": {
        "id": "7RaEeYHZNznJ"
      },
      "source": [
        "#info_explicativas = data[[\"Día de la semana\", \"Semestre\", \"Semana del semestre\", \"Fecha\"]].set_index(\"Fecha\")"
      ],
      "execution_count": null,
      "outputs": []
    },
    {
      "cell_type": "code",
      "metadata": {
        "id": "ePRZzohyNznX"
      },
      "source": [
        "#dataset_modelo = pd.concat([numero_asistencias, info_explicativas], axis = 1)"
      ],
      "execution_count": null,
      "outputs": []
    },
    {
      "cell_type": "code",
      "metadata": {
        "colab": {
          "base_uri": "https://localhost:8080/",
          "height": 235
        },
        "id": "ucbq-EzaNzoO",
        "outputId": "b378e3ba-613c-4529-8dcc-bfa5482c8fc8"
      },
      "source": [
        "#dataset_modelo.head()"
      ],
      "execution_count": null,
      "outputs": [
        {
          "output_type": "execute_result",
          "data": {
            "text/html": [
              "<div>\n",
              "<style scoped>\n",
              "    .dataframe tbody tr th:only-of-type {\n",
              "        vertical-align: middle;\n",
              "    }\n",
              "\n",
              "    .dataframe tbody tr th {\n",
              "        vertical-align: top;\n",
              "    }\n",
              "\n",
              "    .dataframe thead th {\n",
              "        text-align: right;\n",
              "    }\n",
              "</style>\n",
              "<table border=\"1\" class=\"dataframe\">\n",
              "  <thead>\n",
              "    <tr style=\"text-align: right;\">\n",
              "      <th></th>\n",
              "      <th>Número de asistencias</th>\n",
              "      <th>Día de la semana</th>\n",
              "      <th>Semestre</th>\n",
              "      <th>Semana del semestre</th>\n",
              "    </tr>\n",
              "    <tr>\n",
              "      <th>Fecha</th>\n",
              "      <th></th>\n",
              "      <th></th>\n",
              "      <th></th>\n",
              "      <th></th>\n",
              "    </tr>\n",
              "  </thead>\n",
              "  <tbody>\n",
              "    <tr>\n",
              "      <th>2017-02-06</th>\n",
              "      <td>1</td>\n",
              "      <td>lunes</td>\n",
              "      <td>2017-01</td>\n",
              "      <td>2</td>\n",
              "    </tr>\n",
              "    <tr>\n",
              "      <th>2017-02-08</th>\n",
              "      <td>1</td>\n",
              "      <td>miércoles</td>\n",
              "      <td>2017-01</td>\n",
              "      <td>2</td>\n",
              "    </tr>\n",
              "    <tr>\n",
              "      <th>2017-02-10</th>\n",
              "      <td>1</td>\n",
              "      <td>viernes</td>\n",
              "      <td>2017-01</td>\n",
              "      <td>2</td>\n",
              "    </tr>\n",
              "    <tr>\n",
              "      <th>2017-02-13</th>\n",
              "      <td>2</td>\n",
              "      <td>lunes</td>\n",
              "      <td>2017-01</td>\n",
              "      <td>3</td>\n",
              "    </tr>\n",
              "    <tr>\n",
              "      <th>2017-02-13</th>\n",
              "      <td>2</td>\n",
              "      <td>lunes</td>\n",
              "      <td>2017-01</td>\n",
              "      <td>3</td>\n",
              "    </tr>\n",
              "  </tbody>\n",
              "</table>\n",
              "</div>"
            ],
            "text/plain": [
              "            Número de asistencias Día de la semana Semestre  \\\n",
              "Fecha                                                         \n",
              "2017-02-06                      1            lunes  2017-01   \n",
              "2017-02-08                      1        miércoles  2017-01   \n",
              "2017-02-10                      1          viernes  2017-01   \n",
              "2017-02-13                      2            lunes  2017-01   \n",
              "2017-02-13                      2            lunes  2017-01   \n",
              "\n",
              "            Semana del semestre  \n",
              "Fecha                            \n",
              "2017-02-06                    2  \n",
              "2017-02-08                    2  \n",
              "2017-02-10                    2  \n",
              "2017-02-13                    3  \n",
              "2017-02-13                    3  "
            ]
          },
          "metadata": {
            "tags": []
          },
          "execution_count": 16
        }
      ]
    },
    {
      "cell_type": "code",
      "metadata": {
        "id": "LE1CnC_rNzog"
      },
      "source": [
        "#dataset_modelo.drop_duplicates(inplace = True)"
      ],
      "execution_count": null,
      "outputs": []
    },
    {
      "cell_type": "code",
      "metadata": {
        "colab": {
          "base_uri": "https://localhost:8080/",
          "height": 51
        },
        "id": "JGbRaBJBNzo-",
        "outputId": "87788afd-b060-4131-e54c-f23943ab1759"
      },
      "source": [
        "#dataset_modelo[\"Semestre\"].unique()"
      ],
      "execution_count": null,
      "outputs": [
        {
          "output_type": "execute_result",
          "data": {
            "text/plain": [
              "array(['2017-01', '2017-02', '2018-01', '2018-02', '2019-01', '2019-02',\n",
              "       '2020-01'], dtype=object)"
            ]
          },
          "metadata": {
            "tags": []
          },
          "execution_count": 18
        }
      ]
    },
    {
      "cell_type": "code",
      "metadata": {
        "id": "_wK1Ggq4Nzpm"
      },
      "source": [
        "# Mapear semestre:\n",
        "#dataset_modelo[\"Semestre\"] = dataset_modelo[\"Semestre\"].map({\"2017-01\": 1, \n",
        "#                                                             \"2017-02\": 2, \n",
        "#                                                             \"2018-01\": 3, \n",
        "#                                                             \"2018-02\": 4, \n",
        "#                                                             \"2019-01\": 5, \n",
        "#                                                             \"2019-02\": 6,\n",
        "#                                                             \"2020-01\": 7})"
      ],
      "execution_count": null,
      "outputs": []
    },
    {
      "cell_type": "code",
      "metadata": {
        "id": "hjo-Daj0Nzpw"
      },
      "source": [
        "# Convertir semana del semestre a categórica: \n",
        "#dataset_modelo[\"Semana del semestre\"] = dataset_modelo[\"Semana del semestre\"].astype(str)"
      ],
      "execution_count": null,
      "outputs": []
    },
    {
      "cell_type": "code",
      "metadata": {
        "id": "5ZcMnniANzp6"
      },
      "source": [
        "#dataset_modelo = pd.get_dummies(dataset_modelo)"
      ],
      "execution_count": null,
      "outputs": []
    },
    {
      "cell_type": "code",
      "metadata": {
        "id": "C9VPAwCnNzqw"
      },
      "source": [
        "#Dependiente = dataset_modelo[\"Número de asistencias\"]"
      ],
      "execution_count": null,
      "outputs": []
    },
    {
      "cell_type": "code",
      "metadata": {
        "id": "yVDwxykzNzq6"
      },
      "source": [
        "#Explicativas = dataset_modelo.loc[:, \"Semestre\":].drop(columns = [\"Día de la semana_lunes\", \"Semana del semestre_2\"])"
      ],
      "execution_count": null,
      "outputs": []
    },
    {
      "cell_type": "code",
      "metadata": {
        "colab": {
          "base_uri": "https://localhost:8080/",
          "height": 816
        },
        "id": "YYUgIrl-NzrS",
        "outputId": "322fa55b-bb99-4c50-d6ed-33e4f7574a40"
      },
      "source": [
        "#Modelo = sm.OLS(Dependiente, sm.add_constant(Explicativas))\n",
        "#Resultados = Modelo.fit()\n",
        "#print(Resultados.summary())"
      ],
      "execution_count": null,
      "outputs": [
        {
          "output_type": "stream",
          "text": [
            "                              OLS Regression Results                             \n",
            "=================================================================================\n",
            "Dep. Variable:     Número de asistencias   R-squared:                       0.096\n",
            "Model:                               OLS   Adj. R-squared:                  0.003\n",
            "Method:                    Least Squares   F-statistic:                     1.036\n",
            "Date:                   Sat, 14 Nov 2020   Prob (F-statistic):              0.421\n",
            "Time:                           17:54:59   Log-Likelihood:                -287.70\n",
            "No. Observations:                    258   AIC:                             625.4\n",
            "Df Residuals:                        233   BIC:                             714.2\n",
            "Df Model:                             24                                         \n",
            "Covariance Type:               nonrobust                                         \n",
            "==============================================================================================\n",
            "                                 coef    std err          t      P>|t|      [0.025      0.975]\n",
            "----------------------------------------------------------------------------------------------\n",
            "const                          1.0836      0.303      3.577      0.000       0.487       1.681\n",
            "Semestre                      -0.0312      0.024     -1.299      0.195      -0.079       0.016\n",
            "Día de la semana_jueves       -0.0093      0.179     -0.052      0.959      -0.362       0.344\n",
            "Día de la semana_martes        0.1505      0.167      0.900      0.369      -0.179       0.480\n",
            "Día de la semana_miércoles     0.1473      0.177      0.830      0.407      -0.202       0.497\n",
            "Día de la semana_sábado       -0.3091      0.187     -1.657      0.099      -0.677       0.058\n",
            "Día de la semana_viernes      -0.1906      0.160     -1.190      0.235      -0.506       0.125\n",
            "Semana del semestre_1          0.1152      0.454      0.253      0.800      -0.780       1.010\n",
            "Semana del semestre_10         0.5887      0.316      1.863      0.064      -0.034       1.211\n",
            "Semana del semestre_11         0.5648      0.323      1.750      0.081      -0.071       1.201\n",
            "Semana del semestre_12         0.2155      0.325      0.664      0.507      -0.424       0.855\n",
            "Semana del semestre_13         0.6187      0.338      1.828      0.069      -0.048       1.286\n",
            "Semana del semestre_14         0.7770      0.334      2.324      0.021       0.118       1.436\n",
            "Semana del semestre_15         0.4695      0.351      1.338      0.182      -0.222       1.161\n",
            "Semana del semestre_16         0.5539      0.382      1.451      0.148      -0.198       1.306\n",
            "Semana del semestre_17         0.3768      0.364      1.036      0.301      -0.340       1.093\n",
            "Semana del semestre_18        -0.0431      0.832     -0.052      0.959      -1.683       1.596\n",
            "Semana del semestre_19        -0.0882      0.530     -0.166      0.868      -1.132       0.956\n",
            "Semana del semestre_3          0.2533      0.386      0.656      0.513      -0.508       1.015\n",
            "Semana del semestre_4          0.6482      0.339      1.910      0.057      -0.020       1.317\n",
            "Semana del semestre_5          0.5807      0.366      1.587      0.114      -0.140       1.302\n",
            "Semana del semestre_6          0.3822      0.357      1.070      0.286      -0.321       1.086\n",
            "Semana del semestre_7          0.6355      0.324      1.960      0.051      -0.003       1.274\n",
            "Semana del semestre_8          0.6076      0.335      1.813      0.071      -0.053       1.268\n",
            "Semana del semestre_9          0.5119      0.326      1.572      0.117      -0.130       1.154\n",
            "==============================================================================\n",
            "Omnibus:                       89.802   Durbin-Watson:                   2.094\n",
            "Prob(Omnibus):                  0.000   Jarque-Bera (JB):              211.323\n",
            "Skew:                           1.676   Prob(JB):                     1.29e-46\n",
            "Kurtosis:                       5.903   Cond. No.                         114.\n",
            "==============================================================================\n",
            "\n",
            "Warnings:\n",
            "[1] Standard Errors assume that the covariance matrix of the errors is correctly specified.\n"
          ],
          "name": "stdout"
        }
      ]
    },
    {
      "cell_type": "code",
      "metadata": {
        "colab": {
          "base_uri": "https://localhost:8080/",
          "height": 228
        },
        "id": "bC_vaTYTNzrl",
        "outputId": "40102bd7-c48e-4a78-eac4-c4960b03025a"
      },
      "source": [
        "#fig, ax = plt.subplots(figsize = (12,3))\n",
        "#ax.scatter(numero_asistencias.index, numero_asistencias[\"Número de asistencias\"])\n",
        "#ax.scatter(Explicativas.index, Resultados.predict(), color = 'orange')"
      ],
      "execution_count": null,
      "outputs": [
        {
          "output_type": "execute_result",
          "data": {
            "text/plain": [
              "<matplotlib.collections.PathCollection at 0x2c309efa2e0>"
            ]
          },
          "metadata": {
            "tags": []
          },
          "execution_count": 25
        },
        {
          "output_type": "display_data",
          "data": {
            "image/png": "[encoded data removed]",
            "text/plain": [
              "<Figure size 864x216 with 1 Axes>"
            ]
          },
          "metadata": {
            "tags": [],
            "needs_background": "light"
          }
        }
      ]
    },
    {
      "cell_type": "code",
      "metadata": {
        "id": "0SeUjK7sNzrz"
      },
      "source": [
        "#Explicativas = Explicativas[['Día de la semana_jueves', 'Día de la semana_martes',\n",
        "                            'Día de la semana_miércoles', 'Día de la semana_sábado',\n",
        "                            'Día de la semana_viernes', 'Semana del semestre_10',\n",
        "                            'Semana del semestre_11', 'Semana del semestre_12',\n",
        "                            'Semana del semestre_13', 'Semana del semestre_14',\n",
        "                            'Semana del semestre_15', 'Semana del semestre_16',\n",
        "                            'Semana del semestre_17', 'Semana del semestre_18',\n",
        "                            'Semana del semestre_19', 'Semana del semestre_3',\n",
        "                            'Semana del semestre_4', 'Semana del semestre_5',\n",
        "                            'Semana del semestre_6', 'Semana del semestre_7',\n",
        "                            'Semana del semestre_8', 'Semana del semestre_9']]"
      ],
      "execution_count": null,
      "outputs": []
    },
    {
      "cell_type": "code",
      "metadata": {
        "colab": {
          "base_uri": "https://localhost:8080/",
          "height": 221
        },
        "id": "FA0zpjIxNzr8",
        "outputId": "fe5a918e-8dfe-4ccd-e8b3-dfb1bc4eeb50"
      },
      "source": [
        "#Explicativas.columns"
      ],
      "execution_count": null,
      "outputs": [
        {
          "output_type": "execute_result",
          "data": {
            "text/plain": [
              "Index(['Día de la semana_jueves', 'Día de la semana_martes',\n",
              "       'Día de la semana_miércoles', 'Día de la semana_sábado',\n",
              "       'Día de la semana_viernes', 'Semana del semestre_10',\n",
              "       'Semana del semestre_11', 'Semana del semestre_12',\n",
              "       'Semana del semestre_13', 'Semana del semestre_14',\n",
              "       'Semana del semestre_15', 'Semana del semestre_16',\n",
              "       'Semana del semestre_17', 'Semana del semestre_18',\n",
              "       'Semana del semestre_19', 'Semana del semestre_3',\n",
              "       'Semana del semestre_4', 'Semana del semestre_5',\n",
              "       'Semana del semestre_6', 'Semana del semestre_7',\n",
              "       'Semana del semestre_8', 'Semana del semestre_9'],\n",
              "      dtype='object')"
            ]
          },
          "metadata": {
            "tags": []
          },
          "execution_count": 27
        }
      ]
    },
    {
      "cell_type": "markdown",
      "metadata": {
        "id": "Td-NbWwZNzsW"
      },
      "source": [
        "# 2. Regresión Poisson:"
      ]
    },
    {
      "cell_type": "code",
      "metadata": {
        "id": "1UGe_DC0NzsY"
      },
      "source": [
        "#from patsy import dmatrices"
      ],
      "execution_count": 7,
      "outputs": []
    },
    {
      "cell_type": "code",
      "metadata": {
        "colab": {
          "base_uri": "https://localhost:8080/",
          "height": 231
        },
        "id": "w9Dayp5RNzsg",
        "outputId": "d43a645d-4d1c-4388-e606-0ae5260b4eea"
      },
      "source": [
        "#data_poisson = numero_asistencias\n",
        "#ds = numero_asistencias.index.to_series()\n",
        "#data_poisson['Mes'] = ds.dt.month\n",
        "#data_poisson['Dia_de_la_semana'] = ds.dt.dayofweek\n",
        "#data_poisson['Dia'] = ds.dt.day\n",
        "#data_poisson.rename(columns = {\"Número de asistencias\": \"Numero_de_asistencias\"}, \n",
        "#                    inplace = True)"
      ],
      "execution_count": 8,
      "outputs": [
        {
          "output_type": "error",
          "ename": "NameError",
          "evalue": "ignored",
          "traceback": [
            "\u001b[0;31m---------------------------------------------------------------------------\u001b[0m",
            "\u001b[0;31mNameError\u001b[0m                                 Traceback (most recent call last)",
            "\u001b[0;32m<ipython-input-8-999a27a86c37>\u001b[0m in \u001b[0;36m<module>\u001b[0;34m()\u001b[0m\n\u001b[0;32m----> 1\u001b[0;31m \u001b[0mdata_poisson\u001b[0m \u001b[0;34m=\u001b[0m \u001b[0mnumero_asistencias\u001b[0m\u001b[0;34m\u001b[0m\u001b[0;34m\u001b[0m\u001b[0m\n\u001b[0m\u001b[1;32m      2\u001b[0m \u001b[0mds\u001b[0m \u001b[0;34m=\u001b[0m \u001b[0mnumero_asistencias\u001b[0m\u001b[0;34m.\u001b[0m\u001b[0mindex\u001b[0m\u001b[0;34m.\u001b[0m\u001b[0mto_series\u001b[0m\u001b[0;34m(\u001b[0m\u001b[0;34m)\u001b[0m\u001b[0;34m\u001b[0m\u001b[0;34m\u001b[0m\u001b[0m\n\u001b[1;32m      3\u001b[0m \u001b[0mdata_poisson\u001b[0m\u001b[0;34m[\u001b[0m\u001b[0;34m'Mes'\u001b[0m\u001b[0;34m]\u001b[0m \u001b[0;34m=\u001b[0m \u001b[0mds\u001b[0m\u001b[0;34m.\u001b[0m\u001b[0mdt\u001b[0m\u001b[0;34m.\u001b[0m\u001b[0mmonth\u001b[0m\u001b[0;34m\u001b[0m\u001b[0;34m\u001b[0m\u001b[0m\n\u001b[1;32m      4\u001b[0m \u001b[0mdata_poisson\u001b[0m\u001b[0;34m[\u001b[0m\u001b[0;34m'Dia_de_la_semana'\u001b[0m\u001b[0;34m]\u001b[0m \u001b[0;34m=\u001b[0m \u001b[0mds\u001b[0m\u001b[0;34m.\u001b[0m\u001b[0mdt\u001b[0m\u001b[0;34m.\u001b[0m\u001b[0mdayofweek\u001b[0m\u001b[0;34m\u001b[0m\u001b[0;34m\u001b[0m\u001b[0m\n\u001b[1;32m      5\u001b[0m \u001b[0mdata_poisson\u001b[0m\u001b[0;34m[\u001b[0m\u001b[0;34m'Dia'\u001b[0m\u001b[0;34m]\u001b[0m \u001b[0;34m=\u001b[0m \u001b[0mds\u001b[0m\u001b[0;34m.\u001b[0m\u001b[0mdt\u001b[0m\u001b[0;34m.\u001b[0m\u001b[0mday\u001b[0m\u001b[0;34m\u001b[0m\u001b[0;34m\u001b[0m\u001b[0m\n",
            "\u001b[0;31mNameError\u001b[0m: name 'numero_asistencias' is not defined"
          ]
        }
      ]
    },
    {
      "cell_type": "code",
      "metadata": {
        "id": "IW7-aM7nNzsu"
      },
      "source": [
        "#data_poisson"
      ],
      "execution_count": null,
      "outputs": []
    },
    {
      "cell_type": "code",
      "metadata": {
        "id": "UX8HFfsXNztD"
      },
      "source": [
        "#expr = \"\"\"Numero_de_asistencias ~ Dia  + Dia_de_la_semana + Mes\"\"\""
      ],
      "execution_count": null,
      "outputs": []
    },
    {
      "cell_type": "code",
      "metadata": {
        "id": "W4VCRo1qNztP"
      },
      "source": [
        "#y_train, X_train = dmatrices(expr, data_poisson, return_type='dataframe')"
      ],
      "execution_count": null,
      "outputs": []
    },
    {
      "cell_type": "code",
      "metadata": {
        "id": "nsqlTNobNztf"
      },
      "source": [
        "#Modelo_Poisson = sm.GLM(y_train, X_train, family=sm.families.Poisson())\n",
        "#Resultados_Poisson = Modelo_Poisson.fit()\n",
        "#print(Resultados_Poisson.summary())"
      ],
      "execution_count": null,
      "outputs": []
    },
    {
      "cell_type": "code",
      "metadata": {
        "id": "QY8JPD09Nztp"
      },
      "source": [
        "#Predicciones_Poisson = Resultados_Poisson.get_prediction(X_train)\n",
        "#Predicciones_Poisson_summary_frame = Predicciones_Poisson.summary_frame()"
      ],
      "execution_count": null,
      "outputs": []
    },
    {
      "cell_type": "code",
      "metadata": {
        "id": "uH_OX_QTNzuh"
      },
      "source": [
        "#prediccion_de_cuenta = Predicciones_Poisson_summary_frame['mean']\n",
        "#verdadera_cuenta = y_train['Numero_de_asistencias']\n",
        "#fig, ax = plt.subplots(figsize = (12,3))\n",
        "#fig.suptitle('Predicción vs verdaderos valores')\n",
        "#ax.scatter(X_train.index, prediccion_de_cuenta, color = 'red', label='Predicción')\n",
        "#ax.scatter(X_train.index, verdadera_cuenta, color = 'darkblue', label='Verdaderos')\n",
        "#plt.legend()\n",
        "#plt.show()"
      ],
      "execution_count": null,
      "outputs": []
    },
    {
      "cell_type": "code",
      "metadata": {
        "id": "MRseBydQNzus"
      },
      "source": [
        "#fig, ax = plt.subplots(figsize = (8,5))\n",
        "#fig.suptitle('Predicción vs verdaderos valores')\n",
        "#ax.scatter(prediccion_de_cuenta, verdadera_cuenta, color = 'green')\n",
        "#plt.show()"
      ],
      "execution_count": null,
      "outputs": []
    },
    {
      "cell_type": "markdown",
      "metadata": {
        "id": "TVR01XqqNzu_"
      },
      "source": [
        "# 3. Regresión logística:"
      ]
    },
    {
      "cell_type": "code",
      "metadata": {
        "id": "zzYCFNkfNzvB"
      },
      "source": [
        "#Dependiente = dataset_modelo[[\"Número de asistencias\"]]"
      ],
      "execution_count": null,
      "outputs": []
    },
    {
      "cell_type": "code",
      "metadata": {
        "colab": {
          "base_uri": "https://localhost:8080/",
          "height": 357
        },
        "id": "3utjmshKNzvk",
        "outputId": "1fb1670e-825e-463d-f460-09005e61be7f"
      },
      "source": [
        "#Explicativas.head()"
      ],
      "execution_count": null,
      "outputs": [
        {
          "output_type": "execute_result",
          "data": {
            "text/html": [
              "<div>\n",
              "<style scoped>\n",
              "    .dataframe tbody tr th:only-of-type {\n",
              "        vertical-align: middle;\n",
              "    }\n",
              "\n",
              "    .dataframe tbody tr th {\n",
              "        vertical-align: top;\n",
              "    }\n",
              "\n",
              "    .dataframe thead th {\n",
              "        text-align: right;\n",
              "    }\n",
              "</style>\n",
              "<table border=\"1\" class=\"dataframe\">\n",
              "  <thead>\n",
              "    <tr style=\"text-align: right;\">\n",
              "      <th></th>\n",
              "      <th>Día de la semana_jueves</th>\n",
              "      <th>Día de la semana_martes</th>\n",
              "      <th>Día de la semana_miércoles</th>\n",
              "      <th>Día de la semana_sábado</th>\n",
              "      <th>Día de la semana_viernes</th>\n",
              "      <th>Semana del semestre_10</th>\n",
              "      <th>Semana del semestre_11</th>\n",
              "      <th>Semana del semestre_12</th>\n",
              "      <th>Semana del semestre_13</th>\n",
              "      <th>Semana del semestre_14</th>\n",
              "      <th>...</th>\n",
              "      <th>Semana del semestre_17</th>\n",
              "      <th>Semana del semestre_18</th>\n",
              "      <th>Semana del semestre_19</th>\n",
              "      <th>Semana del semestre_3</th>\n",
              "      <th>Semana del semestre_4</th>\n",
              "      <th>Semana del semestre_5</th>\n",
              "      <th>Semana del semestre_6</th>\n",
              "      <th>Semana del semestre_7</th>\n",
              "      <th>Semana del semestre_8</th>\n",
              "      <th>Semana del semestre_9</th>\n",
              "    </tr>\n",
              "    <tr>\n",
              "      <th>Fecha</th>\n",
              "      <th></th>\n",
              "      <th></th>\n",
              "      <th></th>\n",
              "      <th></th>\n",
              "      <th></th>\n",
              "      <th></th>\n",
              "      <th></th>\n",
              "      <th></th>\n",
              "      <th></th>\n",
              "      <th></th>\n",
              "      <th></th>\n",
              "      <th></th>\n",
              "      <th></th>\n",
              "      <th></th>\n",
              "      <th></th>\n",
              "      <th></th>\n",
              "      <th></th>\n",
              "      <th></th>\n",
              "      <th></th>\n",
              "      <th></th>\n",
              "      <th></th>\n",
              "    </tr>\n",
              "  </thead>\n",
              "  <tbody>\n",
              "    <tr>\n",
              "      <th>2017-02-06</th>\n",
              "      <td>0</td>\n",
              "      <td>0</td>\n",
              "      <td>0</td>\n",
              "      <td>0</td>\n",
              "      <td>0</td>\n",
              "      <td>0</td>\n",
              "      <td>0</td>\n",
              "      <td>0</td>\n",
              "      <td>0</td>\n",
              "      <td>0</td>\n",
              "      <td>...</td>\n",
              "      <td>0</td>\n",
              "      <td>0</td>\n",
              "      <td>0</td>\n",
              "      <td>0</td>\n",
              "      <td>0</td>\n",
              "      <td>0</td>\n",
              "      <td>0</td>\n",
              "      <td>0</td>\n",
              "      <td>0</td>\n",
              "      <td>0</td>\n",
              "    </tr>\n",
              "    <tr>\n",
              "      <th>2017-02-08</th>\n",
              "      <td>0</td>\n",
              "      <td>0</td>\n",
              "      <td>1</td>\n",
              "      <td>0</td>\n",
              "      <td>0</td>\n",
              "      <td>0</td>\n",
              "      <td>0</td>\n",
              "      <td>0</td>\n",
              "      <td>0</td>\n",
              "      <td>0</td>\n",
              "      <td>...</td>\n",
              "      <td>0</td>\n",
              "      <td>0</td>\n",
              "      <td>0</td>\n",
              "      <td>0</td>\n",
              "      <td>0</td>\n",
              "      <td>0</td>\n",
              "      <td>0</td>\n",
              "      <td>0</td>\n",
              "      <td>0</td>\n",
              "      <td>0</td>\n",
              "    </tr>\n",
              "    <tr>\n",
              "      <th>2017-02-10</th>\n",
              "      <td>0</td>\n",
              "      <td>0</td>\n",
              "      <td>0</td>\n",
              "      <td>0</td>\n",
              "      <td>1</td>\n",
              "      <td>0</td>\n",
              "      <td>0</td>\n",
              "      <td>0</td>\n",
              "      <td>0</td>\n",
              "      <td>0</td>\n",
              "      <td>...</td>\n",
              "      <td>0</td>\n",
              "      <td>0</td>\n",
              "      <td>0</td>\n",
              "      <td>0</td>\n",
              "      <td>0</td>\n",
              "      <td>0</td>\n",
              "      <td>0</td>\n",
              "      <td>0</td>\n",
              "      <td>0</td>\n",
              "      <td>0</td>\n",
              "    </tr>\n",
              "    <tr>\n",
              "      <th>2017-02-13</th>\n",
              "      <td>0</td>\n",
              "      <td>0</td>\n",
              "      <td>0</td>\n",
              "      <td>0</td>\n",
              "      <td>0</td>\n",
              "      <td>0</td>\n",
              "      <td>0</td>\n",
              "      <td>0</td>\n",
              "      <td>0</td>\n",
              "      <td>0</td>\n",
              "      <td>...</td>\n",
              "      <td>0</td>\n",
              "      <td>0</td>\n",
              "      <td>0</td>\n",
              "      <td>1</td>\n",
              "      <td>0</td>\n",
              "      <td>0</td>\n",
              "      <td>0</td>\n",
              "      <td>0</td>\n",
              "      <td>0</td>\n",
              "      <td>0</td>\n",
              "    </tr>\n",
              "    <tr>\n",
              "      <th>2017-02-20</th>\n",
              "      <td>0</td>\n",
              "      <td>0</td>\n",
              "      <td>0</td>\n",
              "      <td>0</td>\n",
              "      <td>0</td>\n",
              "      <td>0</td>\n",
              "      <td>0</td>\n",
              "      <td>0</td>\n",
              "      <td>0</td>\n",
              "      <td>0</td>\n",
              "      <td>...</td>\n",
              "      <td>0</td>\n",
              "      <td>0</td>\n",
              "      <td>0</td>\n",
              "      <td>0</td>\n",
              "      <td>1</td>\n",
              "      <td>0</td>\n",
              "      <td>0</td>\n",
              "      <td>0</td>\n",
              "      <td>0</td>\n",
              "      <td>0</td>\n",
              "    </tr>\n",
              "  </tbody>\n",
              "</table>\n",
              "<p>5 rows × 22 columns</p>\n",
              "</div>"
            ],
            "text/plain": [
              "            Día de la semana_jueves  Día de la semana_martes  \\\n",
              "Fecha                                                          \n",
              "2017-02-06                        0                        0   \n",
              "2017-02-08                        0                        0   \n",
              "2017-02-10                        0                        0   \n",
              "2017-02-13                        0                        0   \n",
              "2017-02-20                        0                        0   \n",
              "\n",
              "            Día de la semana_miércoles  Día de la semana_sábado  \\\n",
              "Fecha                                                             \n",
              "2017-02-06                           0                        0   \n",
              "2017-02-08                           1                        0   \n",
              "2017-02-10                           0                        0   \n",
              "2017-02-13                           0                        0   \n",
              "2017-02-20                           0                        0   \n",
              "\n",
              "            Día de la semana_viernes  Semana del semestre_10  \\\n",
              "Fecha                                                          \n",
              "2017-02-06                         0                       0   \n",
              "2017-02-08                         0                       0   \n",
              "2017-02-10                         1                       0   \n",
              "2017-02-13                         0                       0   \n",
              "2017-02-20                         0                       0   \n",
              "\n",
              "            Semana del semestre_11  Semana del semestre_12  \\\n",
              "Fecha                                                        \n",
              "2017-02-06                       0                       0   \n",
              "2017-02-08                       0                       0   \n",
              "2017-02-10                       0                       0   \n",
              "2017-02-13                       0                       0   \n",
              "2017-02-20                       0                       0   \n",
              "\n",
              "            Semana del semestre_13  Semana del semestre_14  ...  \\\n",
              "Fecha                                                       ...   \n",
              "2017-02-06                       0                       0  ...   \n",
              "2017-02-08                       0                       0  ...   \n",
              "2017-02-10                       0                       0  ...   \n",
              "2017-02-13                       0                       0  ...   \n",
              "2017-02-20                       0                       0  ...   \n",
              "\n",
              "            Semana del semestre_17  Semana del semestre_18  \\\n",
              "Fecha                                                        \n",
              "2017-02-06                       0                       0   \n",
              "2017-02-08                       0                       0   \n",
              "2017-02-10                       0                       0   \n",
              "2017-02-13                       0                       0   \n",
              "2017-02-20                       0                       0   \n",
              "\n",
              "            Semana del semestre_19  Semana del semestre_3  \\\n",
              "Fecha                                                       \n",
              "2017-02-06                       0                      0   \n",
              "2017-02-08                       0                      0   \n",
              "2017-02-10                       0                      0   \n",
              "2017-02-13                       0                      1   \n",
              "2017-02-20                       0                      0   \n",
              "\n",
              "            Semana del semestre_4  Semana del semestre_5  \\\n",
              "Fecha                                                      \n",
              "2017-02-06                      0                      0   \n",
              "2017-02-08                      0                      0   \n",
              "2017-02-10                      0                      0   \n",
              "2017-02-13                      0                      0   \n",
              "2017-02-20                      1                      0   \n",
              "\n",
              "            Semana del semestre_6  Semana del semestre_7  \\\n",
              "Fecha                                                      \n",
              "2017-02-06                      0                      0   \n",
              "2017-02-08                      0                      0   \n",
              "2017-02-10                      0                      0   \n",
              "2017-02-13                      0                      0   \n",
              "2017-02-20                      0                      0   \n",
              "\n",
              "            Semana del semestre_8  Semana del semestre_9  \n",
              "Fecha                                                     \n",
              "2017-02-06                      0                      0  \n",
              "2017-02-08                      0                      0  \n",
              "2017-02-10                      0                      0  \n",
              "2017-02-13                      0                      0  \n",
              "2017-02-20                      0                      0  \n",
              "\n",
              "[5 rows x 22 columns]"
            ]
          },
          "metadata": {
            "tags": []
          },
          "execution_count": 38
        }
      ]
    },
    {
      "cell_type": "code",
      "metadata": {
        "colab": {
          "base_uri": "https://localhost:8080/",
          "height": 997
        },
        "id": "hwNkDt5XNzvu",
        "outputId": "b48fbbfe-b185-4e12-b77b-2a685d214c05"
      },
      "source": [
        "#Dependiente[\"Categoría\"] = 1\n",
        "#Dependiente[\"Categoría\"] = Dependiente[\"Categoría\"].where(Dependiente[\"Número de asistencias\"]>2, 0)\n",
        "#Dependiente[Dependiente['Categoría']==1]"
      ],
      "execution_count": null,
      "outputs": [
        {
          "output_type": "stream",
          "text": [
            "<ipython-input-39-cd2f4cece594>:1: SettingWithCopyWarning: \n",
            "A value is trying to be set on a copy of a slice from a DataFrame.\n",
            "Try using .loc[row_indexer,col_indexer] = value instead\n",
            "\n",
            "See the caveats in the documentation: https://pandas.pydata.org/pandas-docs/stable/user_guide/indexing.html#returning-a-view-versus-a-copy\n",
            "  Dependiente[\"Categoría\"] = 1\n",
            "<ipython-input-39-cd2f4cece594>:2: SettingWithCopyWarning: \n",
            "A value is trying to be set on a copy of a slice from a DataFrame.\n",
            "Try using .loc[row_indexer,col_indexer] = value instead\n",
            "\n",
            "See the caveats in the documentation: https://pandas.pydata.org/pandas-docs/stable/user_guide/indexing.html#returning-a-view-versus-a-copy\n",
            "  Dependiente[\"Categoría\"] = Dependiente[\"Categoría\"].where(Dependiente[\"Número de asistencias\"]>2, 0)\n"
          ],
          "name": "stderr"
        },
        {
          "output_type": "execute_result",
          "data": {
            "text/html": [
              "<div>\n",
              "<style scoped>\n",
              "    .dataframe tbody tr th:only-of-type {\n",
              "        vertical-align: middle;\n",
              "    }\n",
              "\n",
              "    .dataframe tbody tr th {\n",
              "        vertical-align: top;\n",
              "    }\n",
              "\n",
              "    .dataframe thead th {\n",
              "        text-align: right;\n",
              "    }\n",
              "</style>\n",
              "<table border=\"1\" class=\"dataframe\">\n",
              "  <thead>\n",
              "    <tr style=\"text-align: right;\">\n",
              "      <th></th>\n",
              "      <th>Número de asistencias</th>\n",
              "      <th>Categoría</th>\n",
              "    </tr>\n",
              "    <tr>\n",
              "      <th>Fecha</th>\n",
              "      <th></th>\n",
              "      <th></th>\n",
              "    </tr>\n",
              "  </thead>\n",
              "  <tbody>\n",
              "    <tr>\n",
              "      <th>2017-03-15</th>\n",
              "      <td>4</td>\n",
              "      <td>1</td>\n",
              "    </tr>\n",
              "    <tr>\n",
              "      <th>2017-03-22</th>\n",
              "      <td>3</td>\n",
              "      <td>1</td>\n",
              "    </tr>\n",
              "    <tr>\n",
              "      <th>2017-04-20</th>\n",
              "      <td>3</td>\n",
              "      <td>1</td>\n",
              "    </tr>\n",
              "    <tr>\n",
              "      <th>2017-04-27</th>\n",
              "      <td>5</td>\n",
              "      <td>1</td>\n",
              "    </tr>\n",
              "    <tr>\n",
              "      <th>2017-05-04</th>\n",
              "      <td>3</td>\n",
              "      <td>1</td>\n",
              "    </tr>\n",
              "    <tr>\n",
              "      <th>2017-05-08</th>\n",
              "      <td>4</td>\n",
              "      <td>1</td>\n",
              "    </tr>\n",
              "    <tr>\n",
              "      <th>2017-05-15</th>\n",
              "      <td>3</td>\n",
              "      <td>1</td>\n",
              "    </tr>\n",
              "    <tr>\n",
              "      <th>2017-05-22</th>\n",
              "      <td>3</td>\n",
              "      <td>1</td>\n",
              "    </tr>\n",
              "    <tr>\n",
              "      <th>2017-10-02</th>\n",
              "      <td>3</td>\n",
              "      <td>1</td>\n",
              "    </tr>\n",
              "    <tr>\n",
              "      <th>2017-10-06</th>\n",
              "      <td>4</td>\n",
              "      <td>1</td>\n",
              "    </tr>\n",
              "    <tr>\n",
              "      <th>2017-10-09</th>\n",
              "      <td>3</td>\n",
              "      <td>1</td>\n",
              "    </tr>\n",
              "    <tr>\n",
              "      <th>2017-10-13</th>\n",
              "      <td>3</td>\n",
              "      <td>1</td>\n",
              "    </tr>\n",
              "    <tr>\n",
              "      <th>2017-11-04</th>\n",
              "      <td>4</td>\n",
              "      <td>1</td>\n",
              "    </tr>\n",
              "    <tr>\n",
              "      <th>2018-04-10</th>\n",
              "      <td>3</td>\n",
              "      <td>1</td>\n",
              "    </tr>\n",
              "    <tr>\n",
              "      <th>2019-05-15</th>\n",
              "      <td>3</td>\n",
              "      <td>1</td>\n",
              "    </tr>\n",
              "    <tr>\n",
              "      <th>2019-05-17</th>\n",
              "      <td>3</td>\n",
              "      <td>1</td>\n",
              "    </tr>\n",
              "    <tr>\n",
              "      <th>2019-05-22</th>\n",
              "      <td>3</td>\n",
              "      <td>1</td>\n",
              "    </tr>\n",
              "    <tr>\n",
              "      <th>2019-05-24</th>\n",
              "      <td>3</td>\n",
              "      <td>1</td>\n",
              "    </tr>\n",
              "    <tr>\n",
              "      <th>2019-05-28</th>\n",
              "      <td>4</td>\n",
              "      <td>1</td>\n",
              "    </tr>\n",
              "    <tr>\n",
              "      <th>2019-09-17</th>\n",
              "      <td>3</td>\n",
              "      <td>1</td>\n",
              "    </tr>\n",
              "    <tr>\n",
              "      <th>2019-10-01</th>\n",
              "      <td>3</td>\n",
              "      <td>1</td>\n",
              "    </tr>\n",
              "    <tr>\n",
              "      <th>2019-10-22</th>\n",
              "      <td>4</td>\n",
              "      <td>1</td>\n",
              "    </tr>\n",
              "    <tr>\n",
              "      <th>2019-10-29</th>\n",
              "      <td>3</td>\n",
              "      <td>1</td>\n",
              "    </tr>\n",
              "    <tr>\n",
              "      <th>2020-03-25</th>\n",
              "      <td>3</td>\n",
              "      <td>1</td>\n",
              "    </tr>\n",
              "    <tr>\n",
              "      <th>2020-03-26</th>\n",
              "      <td>3</td>\n",
              "      <td>1</td>\n",
              "    </tr>\n",
              "    <tr>\n",
              "      <th>2020-04-01</th>\n",
              "      <td>3</td>\n",
              "      <td>1</td>\n",
              "    </tr>\n",
              "    <tr>\n",
              "      <th>2020-05-13</th>\n",
              "      <td>3</td>\n",
              "      <td>1</td>\n",
              "    </tr>\n",
              "    <tr>\n",
              "      <th>2020-05-28</th>\n",
              "      <td>3</td>\n",
              "      <td>1</td>\n",
              "    </tr>\n",
              "    <tr>\n",
              "      <th>2020-06-02</th>\n",
              "      <td>3</td>\n",
              "      <td>1</td>\n",
              "    </tr>\n",
              "  </tbody>\n",
              "</table>\n",
              "</div>"
            ],
            "text/plain": [
              "            Número de asistencias  Categoría\n",
              "Fecha                                       \n",
              "2017-03-15                      4          1\n",
              "2017-03-22                      3          1\n",
              "2017-04-20                      3          1\n",
              "2017-04-27                      5          1\n",
              "2017-05-04                      3          1\n",
              "2017-05-08                      4          1\n",
              "2017-05-15                      3          1\n",
              "2017-05-22                      3          1\n",
              "2017-10-02                      3          1\n",
              "2017-10-06                      4          1\n",
              "2017-10-09                      3          1\n",
              "2017-10-13                      3          1\n",
              "2017-11-04                      4          1\n",
              "2018-04-10                      3          1\n",
              "2019-05-15                      3          1\n",
              "2019-05-17                      3          1\n",
              "2019-05-22                      3          1\n",
              "2019-05-24                      3          1\n",
              "2019-05-28                      4          1\n",
              "2019-09-17                      3          1\n",
              "2019-10-01                      3          1\n",
              "2019-10-22                      4          1\n",
              "2019-10-29                      3          1\n",
              "2020-03-25                      3          1\n",
              "2020-03-26                      3          1\n",
              "2020-04-01                      3          1\n",
              "2020-05-13                      3          1\n",
              "2020-05-28                      3          1\n",
              "2020-06-02                      3          1"
            ]
          },
          "metadata": {
            "tags": []
          },
          "execution_count": 39
        }
      ]
    },
    {
      "cell_type": "code",
      "metadata": {
        "id": "nZcvQZRBNzv2"
      },
      "source": [
        "#Var_Dependiente = Dependiente[\"Categoría\"]"
      ],
      "execution_count": null,
      "outputs": []
    },
    {
      "cell_type": "code",
      "metadata": {
        "id": "HxpNHgRJNzwX"
      },
      "source": [
        "# Balanceo de clases:"
      ],
      "execution_count": null,
      "outputs": []
    },
    {
      "cell_type": "code",
      "metadata": {
        "id": "R2vp3_WBQQ_p"
      },
      "source": [
        "#pip install imblearn --user"
      ],
      "execution_count": null,
      "outputs": []
    },
    {
      "cell_type": "code",
      "metadata": {
        "id": "DnkhaCGfNzwo"
      },
      "source": [
        "#from imblearn.over_sampling import SMOTE"
      ],
      "execution_count": null,
      "outputs": []
    },
    {
      "cell_type": "code",
      "metadata": {
        "id": "FJpCdOEJNzw3"
      },
      "source": [
        "#os = SMOTE(random_state=0)"
      ],
      "execution_count": null,
      "outputs": []
    },
    {
      "cell_type": "code",
      "metadata": {
        "colab": {
          "base_uri": "https://localhost:8080/",
          "height": 691
        },
        "id": "lLJriHQfNzxC",
        "outputId": "7f7b5966-0d28-4146-f23f-d962df64deae"
      },
      "source": [
        "#X_os, Y_os = os.fit_sample(Explicativas, Var_Dependiente)\n",
        "#Explicativas\n",
        "#Var_Dependiente"
      ],
      "execution_count": null,
      "outputs": [
        {
          "output_type": "execute_result",
          "data": {
            "text/html": [
              "<div>\n",
              "<style scoped>\n",
              "    .dataframe tbody tr th:only-of-type {\n",
              "        vertical-align: middle;\n",
              "    }\n",
              "\n",
              "    .dataframe tbody tr th {\n",
              "        vertical-align: top;\n",
              "    }\n",
              "\n",
              "    .dataframe thead th {\n",
              "        text-align: right;\n",
              "    }\n",
              "</style>\n",
              "<table border=\"1\" class=\"dataframe\">\n",
              "  <thead>\n",
              "    <tr style=\"text-align: right;\">\n",
              "      <th></th>\n",
              "      <th>Día de la semana_jueves</th>\n",
              "      <th>Día de la semana_martes</th>\n",
              "      <th>Día de la semana_miércoles</th>\n",
              "      <th>Día de la semana_sábado</th>\n",
              "      <th>Día de la semana_viernes</th>\n",
              "      <th>Semana del semestre_10</th>\n",
              "      <th>Semana del semestre_11</th>\n",
              "      <th>Semana del semestre_12</th>\n",
              "      <th>Semana del semestre_13</th>\n",
              "      <th>Semana del semestre_14</th>\n",
              "      <th>...</th>\n",
              "      <th>Semana del semestre_17</th>\n",
              "      <th>Semana del semestre_18</th>\n",
              "      <th>Semana del semestre_19</th>\n",
              "      <th>Semana del semestre_3</th>\n",
              "      <th>Semana del semestre_4</th>\n",
              "      <th>Semana del semestre_5</th>\n",
              "      <th>Semana del semestre_6</th>\n",
              "      <th>Semana del semestre_7</th>\n",
              "      <th>Semana del semestre_8</th>\n",
              "      <th>Semana del semestre_9</th>\n",
              "    </tr>\n",
              "    <tr>\n",
              "      <th>Fecha</th>\n",
              "      <th></th>\n",
              "      <th></th>\n",
              "      <th></th>\n",
              "      <th></th>\n",
              "      <th></th>\n",
              "      <th></th>\n",
              "      <th></th>\n",
              "      <th></th>\n",
              "      <th></th>\n",
              "      <th></th>\n",
              "      <th></th>\n",
              "      <th></th>\n",
              "      <th></th>\n",
              "      <th></th>\n",
              "      <th></th>\n",
              "      <th></th>\n",
              "      <th></th>\n",
              "      <th></th>\n",
              "      <th></th>\n",
              "      <th></th>\n",
              "      <th></th>\n",
              "    </tr>\n",
              "  </thead>\n",
              "  <tbody>\n",
              "    <tr>\n",
              "      <th>2017-02-06</th>\n",
              "      <td>0</td>\n",
              "      <td>0</td>\n",
              "      <td>0</td>\n",
              "      <td>0</td>\n",
              "      <td>0</td>\n",
              "      <td>0</td>\n",
              "      <td>0</td>\n",
              "      <td>0</td>\n",
              "      <td>0</td>\n",
              "      <td>0</td>\n",
              "      <td>...</td>\n",
              "      <td>0</td>\n",
              "      <td>0</td>\n",
              "      <td>0</td>\n",
              "      <td>0</td>\n",
              "      <td>0</td>\n",
              "      <td>0</td>\n",
              "      <td>0</td>\n",
              "      <td>0</td>\n",
              "      <td>0</td>\n",
              "      <td>0</td>\n",
              "    </tr>\n",
              "    <tr>\n",
              "      <th>2017-02-08</th>\n",
              "      <td>0</td>\n",
              "      <td>0</td>\n",
              "      <td>1</td>\n",
              "      <td>0</td>\n",
              "      <td>0</td>\n",
              "      <td>0</td>\n",
              "      <td>0</td>\n",
              "      <td>0</td>\n",
              "      <td>0</td>\n",
              "      <td>0</td>\n",
              "      <td>...</td>\n",
              "      <td>0</td>\n",
              "      <td>0</td>\n",
              "      <td>0</td>\n",
              "      <td>0</td>\n",
              "      <td>0</td>\n",
              "      <td>0</td>\n",
              "      <td>0</td>\n",
              "      <td>0</td>\n",
              "      <td>0</td>\n",
              "      <td>0</td>\n",
              "    </tr>\n",
              "    <tr>\n",
              "      <th>2017-02-10</th>\n",
              "      <td>0</td>\n",
              "      <td>0</td>\n",
              "      <td>0</td>\n",
              "      <td>0</td>\n",
              "      <td>1</td>\n",
              "      <td>0</td>\n",
              "      <td>0</td>\n",
              "      <td>0</td>\n",
              "      <td>0</td>\n",
              "      <td>0</td>\n",
              "      <td>...</td>\n",
              "      <td>0</td>\n",
              "      <td>0</td>\n",
              "      <td>0</td>\n",
              "      <td>0</td>\n",
              "      <td>0</td>\n",
              "      <td>0</td>\n",
              "      <td>0</td>\n",
              "      <td>0</td>\n",
              "      <td>0</td>\n",
              "      <td>0</td>\n",
              "    </tr>\n",
              "    <tr>\n",
              "      <th>2017-02-13</th>\n",
              "      <td>0</td>\n",
              "      <td>0</td>\n",
              "      <td>0</td>\n",
              "      <td>0</td>\n",
              "      <td>0</td>\n",
              "      <td>0</td>\n",
              "      <td>0</td>\n",
              "      <td>0</td>\n",
              "      <td>0</td>\n",
              "      <td>0</td>\n",
              "      <td>...</td>\n",
              "      <td>0</td>\n",
              "      <td>0</td>\n",
              "      <td>0</td>\n",
              "      <td>1</td>\n",
              "      <td>0</td>\n",
              "      <td>0</td>\n",
              "      <td>0</td>\n",
              "      <td>0</td>\n",
              "      <td>0</td>\n",
              "      <td>0</td>\n",
              "    </tr>\n",
              "    <tr>\n",
              "      <th>2017-02-20</th>\n",
              "      <td>0</td>\n",
              "      <td>0</td>\n",
              "      <td>0</td>\n",
              "      <td>0</td>\n",
              "      <td>0</td>\n",
              "      <td>0</td>\n",
              "      <td>0</td>\n",
              "      <td>0</td>\n",
              "      <td>0</td>\n",
              "      <td>0</td>\n",
              "      <td>...</td>\n",
              "      <td>0</td>\n",
              "      <td>0</td>\n",
              "      <td>0</td>\n",
              "      <td>0</td>\n",
              "      <td>1</td>\n",
              "      <td>0</td>\n",
              "      <td>0</td>\n",
              "      <td>0</td>\n",
              "      <td>0</td>\n",
              "      <td>0</td>\n",
              "    </tr>\n",
              "    <tr>\n",
              "      <th>...</th>\n",
              "      <td>...</td>\n",
              "      <td>...</td>\n",
              "      <td>...</td>\n",
              "      <td>...</td>\n",
              "      <td>...</td>\n",
              "      <td>...</td>\n",
              "      <td>...</td>\n",
              "      <td>...</td>\n",
              "      <td>...</td>\n",
              "      <td>...</td>\n",
              "      <td>...</td>\n",
              "      <td>...</td>\n",
              "      <td>...</td>\n",
              "      <td>...</td>\n",
              "      <td>...</td>\n",
              "      <td>...</td>\n",
              "      <td>...</td>\n",
              "      <td>...</td>\n",
              "      <td>...</td>\n",
              "      <td>...</td>\n",
              "      <td>...</td>\n",
              "    </tr>\n",
              "    <tr>\n",
              "      <th>2020-06-09</th>\n",
              "      <td>0</td>\n",
              "      <td>1</td>\n",
              "      <td>0</td>\n",
              "      <td>0</td>\n",
              "      <td>0</td>\n",
              "      <td>0</td>\n",
              "      <td>0</td>\n",
              "      <td>0</td>\n",
              "      <td>0</td>\n",
              "      <td>0</td>\n",
              "      <td>...</td>\n",
              "      <td>0</td>\n",
              "      <td>0</td>\n",
              "      <td>0</td>\n",
              "      <td>0</td>\n",
              "      <td>0</td>\n",
              "      <td>0</td>\n",
              "      <td>0</td>\n",
              "      <td>0</td>\n",
              "      <td>0</td>\n",
              "      <td>0</td>\n",
              "    </tr>\n",
              "    <tr>\n",
              "      <th>2020-06-10</th>\n",
              "      <td>0</td>\n",
              "      <td>0</td>\n",
              "      <td>1</td>\n",
              "      <td>0</td>\n",
              "      <td>0</td>\n",
              "      <td>0</td>\n",
              "      <td>0</td>\n",
              "      <td>0</td>\n",
              "      <td>0</td>\n",
              "      <td>0</td>\n",
              "      <td>...</td>\n",
              "      <td>0</td>\n",
              "      <td>0</td>\n",
              "      <td>0</td>\n",
              "      <td>0</td>\n",
              "      <td>0</td>\n",
              "      <td>0</td>\n",
              "      <td>0</td>\n",
              "      <td>0</td>\n",
              "      <td>0</td>\n",
              "      <td>0</td>\n",
              "    </tr>\n",
              "    <tr>\n",
              "      <th>2020-06-17</th>\n",
              "      <td>0</td>\n",
              "      <td>0</td>\n",
              "      <td>1</td>\n",
              "      <td>0</td>\n",
              "      <td>0</td>\n",
              "      <td>0</td>\n",
              "      <td>0</td>\n",
              "      <td>0</td>\n",
              "      <td>0</td>\n",
              "      <td>0</td>\n",
              "      <td>...</td>\n",
              "      <td>0</td>\n",
              "      <td>0</td>\n",
              "      <td>0</td>\n",
              "      <td>0</td>\n",
              "      <td>0</td>\n",
              "      <td>0</td>\n",
              "      <td>0</td>\n",
              "      <td>0</td>\n",
              "      <td>0</td>\n",
              "      <td>0</td>\n",
              "    </tr>\n",
              "    <tr>\n",
              "      <th>2020-06-20</th>\n",
              "      <td>0</td>\n",
              "      <td>0</td>\n",
              "      <td>0</td>\n",
              "      <td>1</td>\n",
              "      <td>0</td>\n",
              "      <td>0</td>\n",
              "      <td>0</td>\n",
              "      <td>0</td>\n",
              "      <td>0</td>\n",
              "      <td>0</td>\n",
              "      <td>...</td>\n",
              "      <td>0</td>\n",
              "      <td>0</td>\n",
              "      <td>0</td>\n",
              "      <td>0</td>\n",
              "      <td>0</td>\n",
              "      <td>0</td>\n",
              "      <td>0</td>\n",
              "      <td>0</td>\n",
              "      <td>0</td>\n",
              "      <td>0</td>\n",
              "    </tr>\n",
              "    <tr>\n",
              "      <th>2020-06-23</th>\n",
              "      <td>0</td>\n",
              "      <td>1</td>\n",
              "      <td>0</td>\n",
              "      <td>0</td>\n",
              "      <td>0</td>\n",
              "      <td>0</td>\n",
              "      <td>0</td>\n",
              "      <td>0</td>\n",
              "      <td>0</td>\n",
              "      <td>0</td>\n",
              "      <td>...</td>\n",
              "      <td>1</td>\n",
              "      <td>0</td>\n",
              "      <td>0</td>\n",
              "      <td>0</td>\n",
              "      <td>0</td>\n",
              "      <td>0</td>\n",
              "      <td>0</td>\n",
              "      <td>0</td>\n",
              "      <td>0</td>\n",
              "      <td>0</td>\n",
              "    </tr>\n",
              "  </tbody>\n",
              "</table>\n",
              "<p>258 rows × 22 columns</p>\n",
              "</div>"
            ],
            "text/plain": [
              "            Día de la semana_jueves  Día de la semana_martes  \\\n",
              "Fecha                                                          \n",
              "2017-02-06                        0                        0   \n",
              "2017-02-08                        0                        0   \n",
              "2017-02-10                        0                        0   \n",
              "2017-02-13                        0                        0   \n",
              "2017-02-20                        0                        0   \n",
              "...                             ...                      ...   \n",
              "2020-06-09                        0                        1   \n",
              "2020-06-10                        0                        0   \n",
              "2020-06-17                        0                        0   \n",
              "2020-06-20                        0                        0   \n",
              "2020-06-23                        0                        1   \n",
              "\n",
              "            Día de la semana_miércoles  Día de la semana_sábado  \\\n",
              "Fecha                                                             \n",
              "2017-02-06                           0                        0   \n",
              "2017-02-08                           1                        0   \n",
              "2017-02-10                           0                        0   \n",
              "2017-02-13                           0                        0   \n",
              "2017-02-20                           0                        0   \n",
              "...                                ...                      ...   \n",
              "2020-06-09                           0                        0   \n",
              "2020-06-10                           1                        0   \n",
              "2020-06-17                           1                        0   \n",
              "2020-06-20                           0                        1   \n",
              "2020-06-23                           0                        0   \n",
              "\n",
              "            Día de la semana_viernes  Semana del semestre_10  \\\n",
              "Fecha                                                          \n",
              "2017-02-06                         0                       0   \n",
              "2017-02-08                         0                       0   \n",
              "2017-02-10                         1                       0   \n",
              "2017-02-13                         0                       0   \n",
              "2017-02-20                         0                       0   \n",
              "...                              ...                     ...   \n",
              "2020-06-09                         0                       0   \n",
              "2020-06-10                         0                       0   \n",
              "2020-06-17                         0                       0   \n",
              "2020-06-20                         0                       0   \n",
              "2020-06-23                         0                       0   \n",
              "\n",
              "            Semana del semestre_11  Semana del semestre_12  \\\n",
              "Fecha                                                        \n",
              "2017-02-06                       0                       0   \n",
              "2017-02-08                       0                       0   \n",
              "2017-02-10                       0                       0   \n",
              "2017-02-13                       0                       0   \n",
              "2017-02-20                       0                       0   \n",
              "...                            ...                     ...   \n",
              "2020-06-09                       0                       0   \n",
              "2020-06-10                       0                       0   \n",
              "2020-06-17                       0                       0   \n",
              "2020-06-20                       0                       0   \n",
              "2020-06-23                       0                       0   \n",
              "\n",
              "            Semana del semestre_13  Semana del semestre_14  ...  \\\n",
              "Fecha                                                       ...   \n",
              "2017-02-06                       0                       0  ...   \n",
              "2017-02-08                       0                       0  ...   \n",
              "2017-02-10                       0                       0  ...   \n",
              "2017-02-13                       0                       0  ...   \n",
              "2017-02-20                       0                       0  ...   \n",
              "...                            ...                     ...  ...   \n",
              "2020-06-09                       0                       0  ...   \n",
              "2020-06-10                       0                       0  ...   \n",
              "2020-06-17                       0                       0  ...   \n",
              "2020-06-20                       0                       0  ...   \n",
              "2020-06-23                       0                       0  ...   \n",
              "\n",
              "            Semana del semestre_17  Semana del semestre_18  \\\n",
              "Fecha                                                        \n",
              "2017-02-06                       0                       0   \n",
              "2017-02-08                       0                       0   \n",
              "2017-02-10                       0                       0   \n",
              "2017-02-13                       0                       0   \n",
              "2017-02-20                       0                       0   \n",
              "...                            ...                     ...   \n",
              "2020-06-09                       0                       0   \n",
              "2020-06-10                       0                       0   \n",
              "2020-06-17                       0                       0   \n",
              "2020-06-20                       0                       0   \n",
              "2020-06-23                       1                       0   \n",
              "\n",
              "            Semana del semestre_19  Semana del semestre_3  \\\n",
              "Fecha                                                       \n",
              "2017-02-06                       0                      0   \n",
              "2017-02-08                       0                      0   \n",
              "2017-02-10                       0                      0   \n",
              "2017-02-13                       0                      1   \n",
              "2017-02-20                       0                      0   \n",
              "...                            ...                    ...   \n",
              "2020-06-09                       0                      0   \n",
              "2020-06-10                       0                      0   \n",
              "2020-06-17                       0                      0   \n",
              "2020-06-20                       0                      0   \n",
              "2020-06-23                       0                      0   \n",
              "\n",
              "            Semana del semestre_4  Semana del semestre_5  \\\n",
              "Fecha                                                      \n",
              "2017-02-06                      0                      0   \n",
              "2017-02-08                      0                      0   \n",
              "2017-02-10                      0                      0   \n",
              "2017-02-13                      0                      0   \n",
              "2017-02-20                      1                      0   \n",
              "...                           ...                    ...   \n",
              "2020-06-09                      0                      0   \n",
              "2020-06-10                      0                      0   \n",
              "2020-06-17                      0                      0   \n",
              "2020-06-20                      0                      0   \n",
              "2020-06-23                      0                      0   \n",
              "\n",
              "            Semana del semestre_6  Semana del semestre_7  \\\n",
              "Fecha                                                      \n",
              "2017-02-06                      0                      0   \n",
              "2017-02-08                      0                      0   \n",
              "2017-02-10                      0                      0   \n",
              "2017-02-13                      0                      0   \n",
              "2017-02-20                      0                      0   \n",
              "...                           ...                    ...   \n",
              "2020-06-09                      0                      0   \n",
              "2020-06-10                      0                      0   \n",
              "2020-06-17                      0                      0   \n",
              "2020-06-20                      0                      0   \n",
              "2020-06-23                      0                      0   \n",
              "\n",
              "            Semana del semestre_8  Semana del semestre_9  \n",
              "Fecha                                                     \n",
              "2017-02-06                      0                      0  \n",
              "2017-02-08                      0                      0  \n",
              "2017-02-10                      0                      0  \n",
              "2017-02-13                      0                      0  \n",
              "2017-02-20                      0                      0  \n",
              "...                           ...                    ...  \n",
              "2020-06-09                      0                      0  \n",
              "2020-06-10                      0                      0  \n",
              "2020-06-17                      0                      0  \n",
              "2020-06-20                      0                      0  \n",
              "2020-06-23                      0                      0  \n",
              "\n",
              "[258 rows x 22 columns]"
            ]
          },
          "metadata": {
            "tags": []
          },
          "execution_count": 45
        }
      ]
    },
    {
      "cell_type": "code",
      "metadata": {
        "id": "yxyIhACcP1no"
      },
      "source": [
        "#X_os=pd.DataFrame(X_os,columns=Explicativas.columns)"
      ],
      "execution_count": null,
      "outputs": []
    },
    {
      "cell_type": "code",
      "metadata": {
        "colab": {
          "base_uri": "https://localhost:8080/",
          "height": 265
        },
        "id": "o-wJATH8Nzxi",
        "outputId": "c88ef6a6-475d-4aad-9552-8df37272020e"
      },
      "source": [
        "# clases balanceadas:\n",
        "#fig, ax = plt.subplots()\n",
        "#ax.hist(Y_os)\n",
        "#plt.show()"
      ],
      "execution_count": null,
      "outputs": [
        {
          "output_type": "display_data",
          "data": {
            "image/png": "[encoded data removed]",
            "text/plain": [
              "<Figure size 432x288 with 1 Axes>"
            ]
          },
          "metadata": {
            "tags": [],
            "needs_background": "light"
          }
        }
      ]
    },
    {
      "cell_type": "code",
      "metadata": {
        "id": "keGczZcjNzy7"
      },
      "source": [
        "#ModeloLogit = sm.Logit(Y_os, sm.add_constant(X_os))\n",
        "#ResultadosLogit = ModeloLogit.fit(solver='lbfgs')\n",
        "#print(ResultadosLogit.summary())"
      ],
      "execution_count": null,
      "outputs": []
    },
    {
      "cell_type": "code",
      "metadata": {
        "id": "4jUKSTJDNzzy"
      },
      "source": [
        "#Predicciones = ResultadosLogit.predict(sm.add_constant(Explicativas))"
      ],
      "execution_count": null,
      "outputs": []
    },
    {
      "cell_type": "code",
      "metadata": {
        "id": "CKH8DFV0Nzz8"
      },
      "source": [
        "#Predicciones = pd.DataFrame({\"Predicción puntual\":Predicciones})"
      ],
      "execution_count": null,
      "outputs": []
    },
    {
      "cell_type": "code",
      "metadata": {
        "id": "bAjKdKKENz0a"
      },
      "source": [
        "#Predicciones[\"Categoría\"] = 0"
      ],
      "execution_count": null,
      "outputs": []
    },
    {
      "cell_type": "code",
      "metadata": {
        "id": "8Q6iG3LANz0v"
      },
      "source": [
        "#for i in range(len(Predicciones)):\n",
        "#    if Predicciones[\"Predicción puntual\"][i] > 0.5:\n",
        "#        Predicciones[\"Categoría\"][i] = 1\n",
        "#    else: \n",
        "#        Predicciones[\"Categoría\"][i] = 0"
      ],
      "execution_count": null,
      "outputs": []
    },
    {
      "cell_type": "code",
      "metadata": {
        "id": "FyOKiAvYNz1B"
      },
      "source": [
        "#from sklearn.metrics import confusion_matrix"
      ],
      "execution_count": null,
      "outputs": []
    },
    {
      "cell_type": "code",
      "metadata": {
        "id": "P_suAJMlNz1Q"
      },
      "source": [
        "#matriz_confusion = confusion_matrix(Var_Dependiente, Predicciones[\"Categoría\"])"
      ],
      "execution_count": null,
      "outputs": []
    },
    {
      "cell_type": "code",
      "metadata": {
        "id": "4R_SHKfvNz1W"
      },
      "source": [
        "#Originales_Prediccion = pd.concat([Predicciones, pd.DataFrame({\"Categoría original\": Var_Dependiente})], axis = 1)"
      ],
      "execution_count": null,
      "outputs": []
    },
    {
      "cell_type": "code",
      "metadata": {
        "id": "dKU81g2aNz1v"
      },
      "source": [
        "#Originales_Prediccion[\"Estado\"] = \"Ninguno\"\n",
        "#for i in range(Originales_Prediccion.shape[0]):\n",
        "#    if Originales_Prediccion.iloc[i, 1] == Originales_Prediccion.iloc[i,2]:\n",
        "#        Originales_Prediccion.iloc[i, 3] = True\n",
        "#    else:\n",
        "#        Originales_Prediccion.iloc[i, 3] = False"
      ],
      "execution_count": null,
      "outputs": []
    },
    {
      "cell_type": "code",
      "metadata": {
        "id": "x-rllK_aNz1-"
      },
      "source": [
        "#print(\"Predicciones correctas: \", Originales_Prediccion[\"Estado\"].sum())\n",
        "#print(\"Accuracy: \", round((((Originales_Prediccion[\"Estado\"].sum())/Originales_Prediccion.shape[0])*100),2), \"%\")\n",
        "#print(\"Verdaderos positivos: \", matriz_confusion[1][1])\n",
        "#print(\"Verdaderos negativos: \", matriz_confusion[0][0])\n",
        "#print(\"Falsos positivos: \", matriz_confusion[0][1])\n",
        "#print(\"Falsos negativos: \", matriz_confusion[1][0])"
      ],
      "execution_count": null,
      "outputs": []
    },
    {
      "cell_type": "code",
      "metadata": {
        "id": "15yiYVgeNz2L"
      },
      "source": [
        "#import seaborn as sns"
      ],
      "execution_count": null,
      "outputs": []
    },
    {
      "cell_type": "code",
      "metadata": {
        "id": "2Id2vS2LNz2h"
      },
      "source": [
        "###fig, ax = plt.subplots()\n",
        "#sns.heatmap(matriz_confusion, annot = True, square = True, \n",
        "#            cmap = \"Blues\", vmin = 0, fmt = \"g\")\n",
        "#ax.set(xlabel = \"Predicción\", ylabel = \"Real\", \n",
        "#       title = \"Matriz de confusión\")\n",
        "#plt.show()"
      ],
      "execution_count": null,
      "outputs": []
    },
    {
      "cell_type": "code",
      "metadata": {
        "id": "taVONDzeNz3L"
      },
      "source": [
        "#from sklearn.metrics import classification_report"
      ],
      "execution_count": null,
      "outputs": []
    },
    {
      "cell_type": "code",
      "metadata": {
        "id": "Y00mh_c2O0qY"
      },
      "source": [
        "#X_os"
      ],
      "execution_count": null,
      "outputs": []
    },
    {
      "cell_type": "code",
      "metadata": {
        "id": "2cpqZUNaNz3k"
      },
      "source": [
        "#print(classification_report(Var_Dependiente, Predicciones[\"Categoría\"]))"
      ],
      "execution_count": null,
      "outputs": []
    },
    {
      "cell_type": "markdown",
      "metadata": {
        "id": "Rjj_CKmTNz4e"
      },
      "source": [
        "**Recall**:\n",
        "\\begin{equation}\n",
        "\\frac{TP}{TP+FN}\n",
        "\\end{equation}\n",
        "\n",
        "**Precision**:\n",
        "\\begin{equation}\n",
        "\\frac{TN}{TN+FP}\n",
        "\\end{equation}"
      ]
    },
    {
      "cell_type": "markdown",
      "metadata": {
        "id": "9zJHrWPEQQ_w"
      },
      "source": [
        "## Re-estructuración de variables (train-test)"
      ]
    },
    {
      "cell_type": "code",
      "metadata": {
        "colab": {
          "base_uri": "https://localhost:8080/",
          "height": 442
        },
        "id": "n0epNnXOQQ_w",
        "outputId": "cc162b8f-26e6-4d93-b82b-a1736a49f53f"
      },
      "source": [
        "data = pd.read_excel('/content/drive/MyDrive/UIFCE/2020-II/Asistencias Docentes  2020-II/Modelo de pronóstico asistencias docentes/BD 2020-1.xlsx')\n",
        "numero_asistencias = data.groupby(\"Fecha\").count()[[\"Id_Asistencia\"]]\n",
        "numero_asistencias.rename(columns = {\"Id_Asistencia\": \"Número de asistencias\"}, inplace = True)\n",
        "info_explicativas = data[[\"Día de la semana\", \"Semestre\", \"Semana del semestre\", \"Fecha\"]].set_index(\"Fecha\")\n",
        "dataset_modelo = pd.concat([numero_asistencias, info_explicativas], axis = 1)\n",
        "dataset_modelo.drop_duplicates(inplace = True)\n",
        "\n",
        "dataset_modelo[\"Número de asistencias\"] = dataset_modelo[\"Número de asistencias\"].where(dataset_modelo[\"Número de asistencias\"]>=2, 1)\n",
        "dataset_modelo[\"Número de asistencias\"] = dataset_modelo[\"Número de asistencias\"].where(dataset_modelo[\"Número de asistencias\"] <2, 0)\n",
        "dataset_modelo[\"Semestre\"] = dataset_modelo[\"Semestre\"].map({\"2017-01\": 1, \n",
        "                                                             \"2017-02\": 2, \n",
        "                                                             \"2018-01\": 3, \n",
        "                                                             \"2018-02\": 4, \n",
        "                                                             \"2019-01\": 5, \n",
        "                                                             \"2019-02\": 6,\n",
        "                                                             \"2020-01\": 7,\n",
        "                                                             \"2020-02\": 8})\n",
        "dataset_modelo[\"Día de la semana\"] = dataset_modelo[\"Día de la semana\"].map({\"lunes\": 1, \n",
        "                                                             \"martes\": 2, \n",
        "                                                             \"miércoles\": 3, \n",
        "                                                             \"jueves\": 4, \n",
        "                                                             \"viernes\": 5, \n",
        "                                                             \"sábado\": 6})\n",
        "y = dataset_modelo[\"Número de asistencias\"]\n",
        "X = dataset_modelo.drop(columns = [\"Número de asistencias\"])\n",
        "\n",
        "#Muestra desbalanceada:\n",
        "\n",
        "plt.figure(figsize=(6, 7))\n",
        "splot = sns.countplot('Número de asistencias', data=dataset_modelo)\n",
        "for p in splot.patches:\n",
        "    splot.annotate(format(p.get_height(), '.0f'),\n",
        "               (p.get_x() + p.get_width() / 2.,p.get_height()), ha = 'center', va = 'center', xytext = (0, 10),\n",
        "               textcoords = 'offset points')"
      ],
      "execution_count": 9,
      "outputs": [
        {
          "output_type": "display_data",
          "data": {
            "image/png": "[encoded data removed]",
            "text/plain": [
              "<Figure size 432x504 with 1 Axes>"
            ]
          },
          "metadata": {
            "tags": [],
            "needs_background": "light"
          }
        }
      ]
    },
    {
      "cell_type": "code",
      "metadata": {
        "colab": {
          "base_uri": "https://localhost:8080/",
          "height": 428
        },
        "id": "7t6oWlGbQQ_x",
        "outputId": "1bbc93c0-847a-49d2-8ccf-6cc0ae6a9307"
      },
      "source": [
        "# Muestra Y Balanceada\n",
        "X_train, X_test, y_train, y_test = train_test_split(X, y, test_size=0.20)\n",
        "\n",
        "sm = SMOTE(sampling_strategy='minority',  k_neighbors=1)\n",
        "X_train, y_train = sm.fit_sample(X_train, y_train)\n",
        "plt.figure(figsize=(6, 7))\n",
        "splot = sns.countplot(y_train)\n",
        "for p in splot.patches:\n",
        "    splot.annotate(format(p.get_height(), '.0f'),\n",
        "               (p.get_x() + p.get_width() / 2.,p.get_height()), ha = 'center', va = 'center', xytext = (0, 10),\n",
        "               textcoords = 'offset points')\n",
        "  \n",
        "X_train = pd.DataFrame(data = X_train,   \n",
        "                  columns =  X_test.columns.to_list())"
      ],
      "execution_count": 52,
      "outputs": [
        {
          "output_type": "display_data",
          "data": {
            "image/png": "[encoded data removed]",
            "text/plain": [
              "<Figure size 432x504 with 1 Axes>"
            ]
          },
          "metadata": {
            "tags": [],
            "needs_background": "light"
          }
        }
      ]
    },
    {
      "cell_type": "markdown",
      "metadata": {
        "id": "4yCeqJlaQQ_y"
      },
      "source": [
        "# Creación de los modelos\n",
        "\n",
        "Para que la creación de los modelos pudiera realizarse, unas líneas arriba se realizó la transformación de las categorías que comprendían la variable dependiente \"Numero de Asistencias\" de manera que se crea una variable binaria. Cuando se hable de 2 o más asistencias se observará el valor de \"1\" y en caso contrario \"0\".\n",
        "\n",
        "### <center> Regresión Logística </center>"
      ]
    },
    {
      "cell_type": "code",
      "metadata": {
        "id": "g1Vmf0QxQQ_y"
      },
      "source": [
        "#logit = LogisticRegression(solver='lbfgs')\n",
        "#logit_model = logit.fit(X_train,y_train)\n",
        "#logit_pred = logit_model.predict_log_proba(X_test)\n",
        "#logit_roc_auc = roc_auc_score(y_test, logit_pred[:,1])"
      ],
      "execution_count": 11,
      "outputs": []
    },
    {
      "cell_type": "markdown",
      "metadata": {
        "id": "VaBHIDQlQQ_z"
      },
      "source": [
        "### <center> Ingenuo de Bayes [Naive Bayes] </center>"
      ]
    },
    {
      "cell_type": "code",
      "metadata": {
        "colab": {
          "base_uri": "https://localhost:8080/"
        },
        "id": "fqLgbpUsQQ_z",
        "outputId": "18afce8b-07c5-4ef4-c56c-6ccfcda17add"
      },
      "source": [
        "#def hyperopt_train_test(params):\n",
        "#    clf = BernoulliNB(**params)\n",
        "#    return cross_val_score(clf, X_train, y_train).mean()\n",
        "#space4knn = {\n",
        "#    'alpha': hp.uniform('alpha', 0.0, 2.0)\n",
        "#}\n",
        "#\n",
        "#def f(params):\n",
        "#    acc = hyperopt_train_test(params)\n",
        "#    return {'loss': -acc, 'status': STATUS_OK}\n",
        "##trials = Trials()\n",
        "#best = fmin(f, space4knn, algo=tpe.suggest, max_evals=500, trials=trials)\n",
        "#print('best:')\n",
        "#print(best)"
      ],
      "execution_count": 12,
      "outputs": [
        {
          "output_type": "stream",
          "text": [
            "100%|██████████| 500/500 [00:05<00:00, 85.50it/s, best loss: -0.4964912280701754]\n",
            "best:\n",
            "{'alpha': 1.877279012115285}\n"
          ],
          "name": "stdout"
        }
      ]
    },
    {
      "cell_type": "code",
      "metadata": {
        "id": "g33aGpzEQQ_0"
      },
      "source": [
        "#NaiveBayes = BernoulliNB(alpha = best.get('alpha'))\n",
        "#NB_model = NaiveBayes.fit(X_train,y_train)\n",
        "#NB_pred = NB_model.predict_proba(X_test)\n",
        "#NB_roc_auc = roc_auc_score(y_test, NB_pred[:,1])"
      ],
      "execution_count": 13,
      "outputs": []
    },
    {
      "cell_type": "markdown",
      "metadata": {
        "id": "8yD7VCHQQQ_1"
      },
      "source": [
        "### <center> Árbol de Decisión [Decision Tree (DT)] </center>"
      ]
    },
    {
      "cell_type": "code",
      "metadata": {
        "id": "hxvyju11QQ_1"
      },
      "source": [
        "#def hyperopt_train_test(params):\n",
        "#    clf = DecisionTreeClassifier(**params)\n",
        "#    return cross_val_score(clf, X_train, y_train).mean()\n",
        "#space4dt = {\n",
        "#    'max_depth': hp.choice('max_depth', range(1,20)),\n",
        "#    'max_features': hp.choice('max_features', range(1,4)),\n",
        "#    'criterion': hp.choice('criterion', [\"gini\", \"entropy\"])\n",
        "#}\n",
        "#def f(params):\n",
        "#    acc = hyperopt_train_test(params)\n",
        "#    return {'loss': -acc, 'status': STATUS_OK}\n",
        "#\n",
        "#trials = Trials()\n",
        "#best = fmin(f, space4dt, algo=tpe.suggest, max_evals=500, trials=trials)\n",
        "#print('best:')\n",
        "#print(best)"
      ],
      "execution_count": null,
      "outputs": []
    },
    {
      "cell_type": "code",
      "metadata": {
        "id": "UvNFV7dmQQ_2"
      },
      "source": [
        "#DT = DecisionTreeClassifier(criterion = 'gini' if best.get('criterion') == 0 else 'entropy', max_depth = best.get('max_depth'), max_features = None if best.get('max_features') == 0 else best.get('max_features'))\n",
        "#DT.fit(X_train,y_train)\n",
        "#DT_pred = DT.predict_proba(X_test)\n",
        "#DT_roc_auc = roc_auc_score(y_test, DT_pred[:,1])"
      ],
      "execution_count": null,
      "outputs": []
    },
    {
      "cell_type": "markdown",
      "metadata": {
        "id": "zMSZtmSNQQ_2"
      },
      "source": [
        "### <center> Bosque Aleatorio [Random Forest (RF)] </center>"
      ]
    },
    {
      "cell_type": "code",
      "metadata": {
        "id": "bZHO_XLaQQ_2"
      },
      "source": [
        "#def hyperopt_train_test(params):\n",
        "#    clf = RandomForestClassifier(**params)\n",
        "#    return cross_val_score(clf, X_train, y_train).mean()\n",
        "#space4rf = {\n",
        "#    'max_depth': hp.choice('max_depth', range(1,20)),\n",
        "#    'max_features': hp.choice('max_features', range(1,4)),\n",
        "#    'n_estimators': hp.choice('n_estimators', range(1,20)),\n",
        "#    'criterion': hp.choice('criterion', [\"gini\", \"entropy\"])\n",
        "#}\n",
        "#best = 0\n",
        "#def f(params):\n",
        "#    acc = hyperopt_train_test(params)\n",
        "#    return {'loss': -acc, 'status': STATUS_OK}\n",
        "#trials = Trials()\n",
        "#best = fmin(f, space4rf, algo=tpe.suggest, max_evals=500, trials=trials)\n",
        "#print('best:')\n",
        "#print(best)"
      ],
      "execution_count": null,
      "outputs": []
    },
    {
      "cell_type": "code",
      "metadata": {
        "id": "cnnDF8o5QQ_3"
      },
      "source": [
        "#RF = RandomForestClassifier(criterion = 'gini' if best.get('criterion') == 0 else 'entropy', max_depth = best.get('max_depth'), max_features = None if best.get('max_features') == 0 else best.get('max_features'), n_estimators = best.get('n_estimators'))\n",
        "#RF.fit(X_train,y_train)\n",
        "#RF_pred = RF.predict_proba(X_test)\n",
        "#RF_roc_auc = roc_auc_score(y_test, RF_pred[:,1])"
      ],
      "execution_count": null,
      "outputs": []
    },
    {
      "cell_type": "markdown",
      "metadata": {
        "id": "5DVt9BgsQQ_3"
      },
      "source": [
        "### <center> Aumento del Gradiente [Gradient Boosting (GB)] </center>"
      ]
    },
    {
      "cell_type": "code",
      "metadata": {
        "id": "g_QQSxwvQQ_6"
      },
      "source": [
        "#def hyperopt_train_test(params):\n",
        "#    clf = GradientBoostingClassifier(**params)\n",
        "#    return cross_val_score(clf, X_train, y_train).mean()\n",
        "#space4rf = {\n",
        "#    'max_depth': hp.choice('max_depth', range(1,20)),\n",
        "#    'max_features': hp.choice('max_features', range(1,4)),\n",
        "#    'n_estimators': hp.choice('n_estimators', range(1,20)),\n",
        "#    'learning_rate': hp.loguniform('learning_rate', np.log(0.01), np.log(1))}\n",
        "#best = 0\n",
        "#def f(params):\n",
        "#    acc = hyperopt_train_test(params)\n",
        "#    return {'loss': -acc, 'status': STATUS_OK}\n",
        "#trials = Trials()\n",
        "#best = fmin(f, space4rf, algo=tpe.suggest, max_evals=500, trials=trials)\n",
        "#print('best:')\n",
        "#print(best)"
      ],
      "execution_count": null,
      "outputs": []
    },
    {
      "cell_type": "code",
      "metadata": {
        "id": "WUgm8CzhQQ_7"
      },
      "source": [
        "#GB = GradientBoostingClassifier(learning_rate = best.get('learning_rate'), max_depth = best.get('max_depth'), max_features = None if best.get('max_features') == 0 else best.get('max_features'), n_estimators = best.get('n_estimators'))\n",
        "#GB.fit(X_train, y_train)\n",
        "#GB_pred = GB.predict_proba(X_test)\n",
        "#GB_roc_auc = roc_auc_score(y_test, GB_pred[:,1])"
      ],
      "execution_count": null,
      "outputs": []
    },
    {
      "cell_type": "markdown",
      "metadata": {
        "id": "T8bIUByfQQ_7"
      },
      "source": [
        "### <center> XgBoost </center>"
      ]
    },
    {
      "cell_type": "code",
      "metadata": {
        "colab": {
          "base_uri": "https://localhost:8080/"
        },
        "id": "cHrv5VqTQQ_8",
        "outputId": "ad4735c8-8b90-4acb-a271-6ebb3cb7f545"
      },
      "source": [
        "def hyperopt_train_test(params):\n",
        "    clf = XGBClassifier(**params)\n",
        "    return cross_val_score(clf, X_train, y_train).mean()\n",
        "space4rf = {\n",
        "    'max_depth': hp.choice('max_depth', range(1,20)),\n",
        "    'n_estimators': hp.choice('n_estimators', range(1,20)),\n",
        "    'learning_rate': hp.loguniform('learning_rate', np.log(0.01), np.log(1))\n",
        "}\n",
        "best = 0\n",
        "def f(params):\n",
        "    acc = hyperopt_train_test(params)\n",
        "    return {'loss': -acc, 'status': STATUS_OK}\n",
        "trials = Trials()\n",
        "best = fmin(f, space4rf, algo=tpe.suggest, max_evals=500, trials=trials)\n",
        "print('best:')\n",
        "print(best)"
      ],
      "execution_count": 15,
      "outputs": [
        {
          "output_type": "stream",
          "text": [
            "100%|██████████| 500/500 [00:26<00:00, 18.87it/s, best loss: -0.8023593466424682]\n",
            "best:\n",
            "{'learning_rate': 0.13563025062249195, 'max_depth': 15, 'n_estimators': 18}\n"
          ],
          "name": "stdout"
        }
      ]
    },
    {
      "cell_type": "code",
      "metadata": {
        "id": "pgB0t8B_QQ_9"
      },
      "source": [
        "#XGB=xgb.XGBClassifier(learning_rate = best.get('learning_rate'), max_depth = best.get('max_depth'), n_estimators = best.get('n_estimators'))\n",
        "#XGB.fit(X_train,y_train)\n",
        "#XGB_pred=XGB.predict_proba(X_test)\n",
        "#XGB_roc_auc=roc_auc_score(y_test,XGB_pred[:,1])"
      ],
      "execution_count": 56,
      "outputs": []
    },
    {
      "cell_type": "markdown",
      "metadata": {
        "id": "mm5LZT3wQQ_9"
      },
      "source": [
        "# Comparación de los modelos\n",
        "\n",
        "<h3><b> AUC </b></h3>\n",
        "\n",
        "Ahora bien, para realizar la comparación de los modelos se revisará el rendimiento de cada modelo bajo el cálculo de la <b> Curva de de Característica Operativa del Recepto (ROC curve)</b> de manera que el modelo que alcance el mayor valor respecto a la <b>Tasa de Verdaderos Positivos (TPR)</b> frente a la <b>Tasa de Falsos Positivos(FPR)</b> en la curva de decisión será tomado como el modelo que mejor pronostica la variable de respuesta binaria en nuestro caso.\n",
        "\n",
        "No obstante, revisar cada asignación de decisión posible en el <b>trade-off</b> entre la <b>TPR</b> y la <b>FPR</b> sería ineficiente. Por ello se procede a añadir el <b>Área Bajo la curva ROC (Under ROC curve Area - AUC)</b> mediante la cual se puede medir toda el área bidimensional por debajo de la curva ROC. El valor resultante para el <b>AUC</b> será interpretado como la probabilidad de que cada modelo clasifique un ejemplo positivo aleatorio más alto que un ejemplo negativo aleatorio. Es decir, un modelo cuyas predicciones siempre resultan incorrectas tiene un <b>AUC</b> de 0, mientras que otro modelo cuyas predicciones siempre resultan correctas tiene un <b>AUC</b> de 1."
      ]
    },
    {
      "cell_type": "code",
      "metadata": {
        "id": "fui0X9cKQQ_9"
      },
      "source": [
        "#def MeanSquareError(y_obs, y_pred):\n",
        "#    ''' This function calculates efficiency of any model \n",
        "#    y_pred: estimate value\n",
        "#    y_obs: real value \n",
        "#    # '''\n",
        "#    mse = pow(y_obs - y_pred, 2).sum() / y_obs.shape[1]\n",
        "#    return mse\n",
        "\n",
        "#print('     Modelo        ', '  AUC Value')\n",
        "#print('Regresión Logit  : ',logit_roc_auc)\n",
        "#print('Naïve Bayes      : ',NB_roc_auc   )\n",
        "#print('Árbol de decisión: ',DT_roc_auc   )\n",
        "#print('Random Forest    : ',RF_roc_auc   )\n",
        "#print('Gradient Boosting: ',GB_roc_auc   )\n",
        "#print('Xg Boost:          ',XGB_roc_auc  )"
      ],
      "execution_count": null,
      "outputs": []
    },
    {
      "cell_type": "code",
      "metadata": {
        "colab": {
          "base_uri": "https://localhost:8080/",
          "height": 638
        },
        "id": "hsBeEtHYQQ_-",
        "outputId": "39d84094-3684-48a6-d40a-94e77a642af2"
      },
      "source": [
        "#logit_fpr, logit_tpr, thresholds = roc_curve(y_test, logit_pred[:,1])\n",
        "#NB_fpr, NB_tpr, thresholds       = roc_curve(y_test, NB_pred[:,1])\n",
        "#DT_fpr, DT_tpr, thresholds       = roc_curve(y_test, DT_pred[:,1])\n",
        "#RF_fpr, RF_tpr, thresholds       = roc_curve(y_test, RF_pred[:,1])\n",
        "#GB_fpr, GB_tpr, thresholds       = roc_curve(y_test, GB_pred[:,1])\n",
        "#XGB_fpr, XGB_tpr, thresholds     = roc_curve(y_test, XGB_pred[:,1])\n",
        "\n",
        "#plt.figure(figsize=(20,10))\n",
        "#plt.plot(logit_fpr, logit_tpr, label='Regresión Logística')\n",
        "#plt.plot(NB_fpr, NB_tpr, label='NB')\n",
        "#plt.plot(DT_fpr, DT_tpr, label='DT')\n",
        "#plt.plot(RF_fpr, RF_tpr, label='RF')\n",
        "#plt.plot(GB_fpr, GB_tpr, label='GB')\n",
        "#plt.plot(XGB_fpr, XGB_tpr, label='XGB')\n",
        "#plt.plot([0, 1], [0, 1],'r--')\n",
        "#plt.xlabel('Tasa de Falsos Positivos')\n",
        "#plt.ylabel('Tasa de Verdaderos Positivos')\n",
        "#plt.title('Característica de funcionamiento del receptor (Curva ROC)')\n",
        "#plt.legend(loc=\"lower right\")"
      ],
      "execution_count": 57,
      "outputs": [
        {
          "output_type": "execute_result",
          "data": {
            "text/plain": [
              "<matplotlib.legend.Legend at 0x7f8d4ab8f7f0>"
            ]
          },
          "metadata": {
            "tags": []
          },
          "execution_count": 57
        },
        {
          "output_type": "display_data",
          "data": {
            "image/png": "[encoded data removed]",
            "text/plain": [
              "<Figure size 1440x720 with 1 Axes>"
            ]
          },
          "metadata": {
            "tags": [],
            "needs_background": "light"
          }
        }
      ]
    },
    {
      "cell_type": "markdown",
      "metadata": {
        "id": "7BFy_ZOoQQ_-"
      },
      "source": [
        "# Importancia de las variables\n",
        "\n",
        "Siendo <b>Random Forest</b> nuestro modelo ganador vale la pena revisar la importancia de las variables para garantizar una selección coherente al menos frente a nuestro segundo lugar <b>XGBoost</b>:\n",
        "\n",
        "<h3><b> Random Forest </b></h3>"
      ]
    },
    {
      "cell_type": "code",
      "metadata": {
        "id": "JdHyEgMFQQ_-"
      },
      "source": [
        "#feature_importance = RF.feature_importances_\n",
        "#sorted_idx = np.argsort(feature_importance)\n",
        "#pos = np.arange(sorted_idx.shape[0]) + .5\n",
        "#fig = plt.figure(figsize=(12, 6))\n",
        "#plt.barh(pos, feature_importance[sorted_idx], align='center')\n",
        "#plt.yticks(pos, np.array(X.columns)[sorted_idx])\n",
        "#plt.title('Importancia de las Variables en el Modelo (Random Forest))')"
      ],
      "execution_count": null,
      "outputs": []
    },
    {
      "cell_type": "markdown",
      "metadata": {
        "id": "5iqYQ1UTQQ__"
      },
      "source": [
        "<h3><b> XGBoost </b></h3>"
      ]
    },
    {
      "cell_type": "code",
      "metadata": {
        "colab": {
          "base_uri": "https://localhost:8080/",
          "height": 407
        },
        "id": "M06Q_oxFQQ__",
        "outputId": "4903ca2b-2fbe-47fc-bae7-bbb3f026ac47"
      },
      "source": [
        "#feature_importance = XGB.feature_importances_\n",
        "#sorted_idx = np.argsort(feature_importance)\n",
        "#pos = np.arange(sorted_idx.shape[0]) + .5\n",
        "#fig = plt.figure(figsize=(12, 6))\n",
        "#plt.barh(pos, feature_importance[sorted_idx], align='center')\n",
        "#plt.yticks(pos, np.array(X.columns)[sorted_idx])\n",
        "#plt.title('Importancia de las Variables en el Modelo (XGB))')"
      ],
      "execution_count": 58,
      "outputs": [
        {
          "output_type": "execute_result",
          "data": {
            "text/plain": [
              "Text(0.5, 1.0, 'Importancia de las Variables en el Modelo (XGB))')"
            ]
          },
          "metadata": {
            "tags": []
          },
          "execution_count": 58
        },
        {
          "output_type": "display_data",
          "data": {
            "image/png": "[encoded data removed]",
            "text/plain": [
              "<Figure size 864x432 with 1 Axes>"
            ]
          },
          "metadata": {
            "tags": [],
            "needs_background": "light"
          }
        }
      ]
    },
    {
      "cell_type": "markdown",
      "metadata": {
        "id": "KyX3NYjmQRAA"
      },
      "source": [
        "Se observa que a pesar de tener el valor F1_Score más alto, Random Forest está desperdiciando valor de nuestra variable teóricamente más importante (Día de la semana), dándole más importancia al \"Semestre\" lo cual resulta incoherente. Sucede así por la configuración misma del modelo y la poca cantidad de datos actuales que se tienen para alimentar al mismo.\n",
        "\n",
        "Por este motivo se procede a elegir el modelo XGBoost el cual resulta más coherente en su asignación de relevancia y en sus resultados observados en la comparativa de los modelos estimados.\n",
        "\n",
        "# Pronóstico con XGB"
      ]
    },
    {
      "cell_type": "code",
      "metadata": {
        "colab": {
          "base_uri": "https://localhost:8080/",
          "height": 228
        },
        "id": "-ko_C_6-QRAA",
        "outputId": "8ef860e3-7fce-4edf-9afb-f00a13a61795"
      },
      "source": [
        "#comportamiento Y_obser vs Y_estimada\n",
        "#lop = lambda t: 1 if t > 0.5 else 0\n",
        "#XGB_pred[:,-1] = np.array([lop(xi) for xi in XGB_pred[:,-1]])\n",
        "#fig, ax = plt.subplots(figsize = (12,3))\n",
        "#ax.scatter(y_test.index, y_test)\n",
        "#ax.scatter(y_test.index, XGB_pred[:,-1], color = 'orange')"
      ],
      "execution_count": 59,
      "outputs": [
        {
          "output_type": "execute_result",
          "data": {
            "text/plain": [
              "<matplotlib.collections.PathCollection at 0x7f8d4aad3ef0>"
            ]
          },
          "metadata": {
            "tags": []
          },
          "execution_count": 59
        },
        {
          "output_type": "display_data",
          "data": {
            "image/png": "[encoded data removed]",
            "text/plain": [
              "<Figure size 864x216 with 1 Axes>"
            ]
          },
          "metadata": {
            "tags": [],
            "needs_background": "light"
          }
        }
      ]
    },
    {
      "cell_type": "markdown",
      "metadata": {
        "id": "GXGctHfUpwN4"
      },
      "source": [
        "Cargue y exportación de los datos para el siguiente semestre"
      ]
    },
    {
      "cell_type": "code",
      "metadata": {
        "colab": {
          "base_uri": "https://localhost:8080/",
          "height": 235
        },
        "id": "NkgBvD8IbHa_",
        "outputId": "6489545b-0842-4838-ffc4-0680e0ddf373"
      },
      "source": [
        "NUEVA = pd.read_excel('/content/drive/MyDrive/UIFCE/2020-II/Asistencias Docentes  2020-II/Modelo de pronóstico asistencias docentes/fechas a pronosticar.xlsx')\r\n",
        "NUEVA = NUEVA[['Día de la semana', 'Semestre', 'Semana del semestre']].set_index(NUEVA['Fecha'])\r\n",
        "NUEVA.head()"
      ],
      "execution_count": 83,
      "outputs": [
        {
          "output_type": "execute_result",
          "data": {
            "text/html": [
              "<div>\n",
              "<style scoped>\n",
              "    .dataframe tbody tr th:only-of-type {\n",
              "        vertical-align: middle;\n",
              "    }\n",
              "\n",
              "    .dataframe tbody tr th {\n",
              "        vertical-align: top;\n",
              "    }\n",
              "\n",
              "    .dataframe thead th {\n",
              "        text-align: right;\n",
              "    }\n",
              "</style>\n",
              "<table border=\"1\" class=\"dataframe\">\n",
              "  <thead>\n",
              "    <tr style=\"text-align: right;\">\n",
              "      <th></th>\n",
              "      <th>Día de la semana</th>\n",
              "      <th>Semestre</th>\n",
              "      <th>Semana del semestre</th>\n",
              "    </tr>\n",
              "    <tr>\n",
              "      <th>Fecha</th>\n",
              "      <th></th>\n",
              "      <th></th>\n",
              "      <th></th>\n",
              "    </tr>\n",
              "  </thead>\n",
              "  <tbody>\n",
              "    <tr>\n",
              "      <th>2021-02-22</th>\n",
              "      <td>1</td>\n",
              "      <td>8</td>\n",
              "      <td>1</td>\n",
              "    </tr>\n",
              "    <tr>\n",
              "      <th>2021-02-23</th>\n",
              "      <td>2</td>\n",
              "      <td>8</td>\n",
              "      <td>1</td>\n",
              "    </tr>\n",
              "    <tr>\n",
              "      <th>2021-02-24</th>\n",
              "      <td>3</td>\n",
              "      <td>8</td>\n",
              "      <td>1</td>\n",
              "    </tr>\n",
              "    <tr>\n",
              "      <th>2021-02-25</th>\n",
              "      <td>4</td>\n",
              "      <td>8</td>\n",
              "      <td>1</td>\n",
              "    </tr>\n",
              "    <tr>\n",
              "      <th>2021-02-26</th>\n",
              "      <td>5</td>\n",
              "      <td>8</td>\n",
              "      <td>1</td>\n",
              "    </tr>\n",
              "  </tbody>\n",
              "</table>\n",
              "</div>"
            ],
            "text/plain": [
              "            Día de la semana  Semestre  Semana del semestre\n",
              "Fecha                                                      \n",
              "2021-02-22                 1         8                    1\n",
              "2021-02-23                 2         8                    1\n",
              "2021-02-24                 3         8                    1\n",
              "2021-02-25                 4         8                    1\n",
              "2021-02-26                 5         8                    1"
            ]
          },
          "metadata": {
            "tags": []
          },
          "execution_count": 83
        }
      ]
    },
    {
      "cell_type": "markdown",
      "metadata": {
        "id": "sbsktPj2p24P"
      },
      "source": [
        "Ya cargados ahora se calculará el pronóstico y se exportará el archivo como CSV para su fácil lectura"
      ]
    },
    {
      "cell_type": "code",
      "metadata": {
        "colab": {
          "base_uri": "https://localhost:8080/",
          "height": 235
        },
        "id": "hGRjC-tXZjYK",
        "outputId": "70e138de-2343-484a-c353-11282241e774"
      },
      "source": [
        "#aquí se ejecuta el modelo para pronosticar el siguiente semestre y se exporta el pronóstico al drive\r\n",
        "\r\n",
        "XGB=xgb.XGBClassifier(learning_rate = best.get('learning_rate'), max_depth = best.get('max_depth'), n_estimators = best.get('n_estimators'))\r\n",
        "XGB.fit(X,y) #aqui ya entra toda la data de semestres anteriores\r\n",
        "XGB_pred=XGB.predict_proba(NUEVA)\r\n",
        "lop = lambda t: 1 if t > 0.5 else 0\r\n",
        "Estimacion = np.array([lop(xi) for xi in XGB_pred[:,-1]])\r\n",
        "BASE = pd.concat([X, NUEVA]).merge(pd.concat([y, pd.DataFrame(Estimacion, index= NUEVA.index)]), left_index=True, right_index=True).rename(columns = {0:'Respuesta'})\r\n",
        "BASE.to_csv('/content/drive/MyDrive/UIFCE/2020-II/Asistencias Docentes  2020-II/Modelo de pronóstico asistencias docentes/Pronostico para 2021-1.csv', index = True)\r\n",
        "BASE.tail()"
      ],
      "execution_count": 120,
      "outputs": [
        {
          "output_type": "execute_result",
          "data": {
            "text/html": [
              "<div>\n",
              "<style scoped>\n",
              "    .dataframe tbody tr th:only-of-type {\n",
              "        vertical-align: middle;\n",
              "    }\n",
              "\n",
              "    .dataframe tbody tr th {\n",
              "        vertical-align: top;\n",
              "    }\n",
              "\n",
              "    .dataframe thead th {\n",
              "        text-align: right;\n",
              "    }\n",
              "</style>\n",
              "<table border=\"1\" class=\"dataframe\">\n",
              "  <thead>\n",
              "    <tr style=\"text-align: right;\">\n",
              "      <th></th>\n",
              "      <th>Día de la semana</th>\n",
              "      <th>Semestre</th>\n",
              "      <th>Semana del semestre</th>\n",
              "      <th>Respuesta</th>\n",
              "    </tr>\n",
              "    <tr>\n",
              "      <th>Fecha</th>\n",
              "      <th></th>\n",
              "      <th></th>\n",
              "      <th></th>\n",
              "      <th></th>\n",
              "    </tr>\n",
              "  </thead>\n",
              "  <tbody>\n",
              "    <tr>\n",
              "      <th>2021-06-29</th>\n",
              "      <td>2</td>\n",
              "      <td>8</td>\n",
              "      <td>19</td>\n",
              "      <td>1</td>\n",
              "    </tr>\n",
              "    <tr>\n",
              "      <th>2021-06-30</th>\n",
              "      <td>3</td>\n",
              "      <td>8</td>\n",
              "      <td>19</td>\n",
              "      <td>1</td>\n",
              "    </tr>\n",
              "    <tr>\n",
              "      <th>2021-07-01</th>\n",
              "      <td>4</td>\n",
              "      <td>8</td>\n",
              "      <td>19</td>\n",
              "      <td>1</td>\n",
              "    </tr>\n",
              "    <tr>\n",
              "      <th>2021-07-02</th>\n",
              "      <td>5</td>\n",
              "      <td>8</td>\n",
              "      <td>19</td>\n",
              "      <td>1</td>\n",
              "    </tr>\n",
              "    <tr>\n",
              "      <th>2021-07-03</th>\n",
              "      <td>6</td>\n",
              "      <td>8</td>\n",
              "      <td>19</td>\n",
              "      <td>1</td>\n",
              "    </tr>\n",
              "  </tbody>\n",
              "</table>\n",
              "</div>"
            ],
            "text/plain": [
              "            Día de la semana  Semestre  Semana del semestre  Respuesta\n",
              "Fecha                                                                 \n",
              "2021-06-29                 2         8                   19          1\n",
              "2021-06-30                 3         8                   19          1\n",
              "2021-07-01                 4         8                   19          1\n",
              "2021-07-02                 5         8                   19          1\n",
              "2021-07-03                 6         8                   19          1"
            ]
          },
          "metadata": {
            "tags": []
          },
          "execution_count": 120
        }
      ]
    },
    {
      "cell_type": "markdown",
      "metadata": {
        "id": "oKVvVq51H3QQ"
      },
      "source": [
        "# Uso del modelo"
      ]
    },
    {
      "cell_type": "code",
      "metadata": {
        "id": "fppgha1gH6iv"
      },
      "source": [
        "# def prediccion(dia, semana, semestre):\n",
        "#     dia_de_referencia = \"Día de la semana_\"+ str(dia)\n",
        "#     semana_de_referencia = \"Semana del semestre_\" + str(semana)\n",
        "    \n",
        "#     dias = ['Día de la semana_jueves', 'Día de la semana_martes',\n",
        "#             'Día de la semana_miércoles', 'Día de la semana_sábado',\n",
        "#             'Día de la semana_viernes']\n",
        "    \n",
        "#     semanas = ['Semana del semestre_10', 'Semana del semestre_11',\n",
        "#                'Semana del semestre_12', 'Semana del semestre_13',\n",
        "#                'Semana del semestre_14', 'Semana del semestre_15',\n",
        "#                'Semana del semestre_16', 'Semana del semestre_17',\n",
        "#                'Semana del semestre_18', 'Semana del semestre_19',\n",
        "#                'Semana del semestre_3', 'Semana del semestre_4',\n",
        "#                'Semana del semestre_5', 'Semana del semestre_6',\n",
        "#                'Semana del semestre_7', 'Semana del semestre_8',\n",
        "#                'Semana del semestre_9']\n",
        "    \n",
        "#     X = pd.DataFrame({'Día de la semana_jueves': [0], 'Día de la semana_martes': [0],\n",
        "#                       'Día de la semana_miércoles': [0], 'Día de la semana_sábado': [0],\n",
        "#                       'Día de la semana_viernes': [0], 'Semana del semestre_10': [0],\n",
        "#                       'Semana del semestre_11': [0], 'Semana del semestre_12': [0],\n",
        "#                       'Semana del semestre_13': [0], 'Semana del semestre_14': [0],\n",
        "#                       'Semana del semestre_15': [0], 'Semana del semestre_16': [0],\n",
        "#                       'Semana del semestre_17': [0], 'Semana del semestre_18': [0],\n",
        "#                       'Semana del semestre_19': [0], 'Semana del semestre_3': [0],\n",
        "#                       'Semana del semestre_4': [0], 'Semana del semestre_5': [0],\n",
        "#                       'Semana del semestre_6': [0], 'Semana del semestre_7': [0],\n",
        "#                       'Semana del semestre_8': [0], 'Semana del semestre_9': [0]})\n",
        "#     Z = pd.DataFrame({'Día de la semana_jueves': [0], 'Día de la semana_martes': [0],\n",
        "#                       'Día de la semana_miércoles': [0], 'Día de la semana_sábado': [0],\n",
        "#                       'Día de la semana_viernes': [0], 'Semana del semestre_10': [0],\n",
        "#                       'Semana del semestre_11': [0], 'Semana del semestre_12': [0],\n",
        "#                       'Semana del semestre_13': [0], 'Semana del semestre_14': [0],\n",
        "#                       'Semana del semestre_15': [0], 'Semana del semestre_16': [0],\n",
        "#                       'Semana del semestre_17': [0], 'Semana del semestre_18': [0],\n",
        "#                       'Semana del semestre_19': [0], 'Semana del semestre_3': [0],\n",
        "#                       'Semana del semestre_4': [0], 'Semana del semestre_5': [0],\n",
        "#                       'Semana del semestre_6': [0], 'Semana del semestre_7': [0],\n",
        "#                       'Semana del semestre_8': [0], 'Semana del semestre_9': [0]})\n",
        "    \n",
        "#     Falso = pd.DataFrame({'Día de la semana_jueves': [1], 'Día de la semana_martes': [0],\n",
        "#                           'Día de la semana_miércoles': [0], 'Día de la semana_sábado': [0],\n",
        "#                           'Día de la semana_viernes': [0], 'Semana del semestre_10': [0],\n",
        "#                           'Semana del semestre_11': [0], 'Semana del semestre_12': [0],\n",
        "#                           'Semana del semestre_13': [0], 'Semana del semestre_14': [0],\n",
        "#                           'Semana del semestre_15': [0], 'Semana del semestre_16': [0],\n",
        "#                           'Semana del semestre_17': [0], 'Semana del semestre_18': [0],\n",
        "#                           'Semana del semestre_19': [0], 'Semana del semestre_3': [0],\n",
        "#                           'Semana del semestre_4': [0], 'Semana del semestre_5': [0],\n",
        "#                           'Semana del semestre_6': [0], 'Semana del semestre_7': [0],\n",
        "#                           'Semana del semestre_8': [0], 'Semana del semestre_9': [0]})\n",
        "#     resultado = \"Nada\"\n",
        "    \n",
        "#     if dia_de_referencia in dias:\n",
        "#         X[dia_de_referencia] = 1\n",
        "#     else:\n",
        "#         resultado = \"Día incorrecto\"\n",
        "    \n",
        "#     if semana_de_referencia in semanas:\n",
        "#         X[semana_de_referencia] = 1\n",
        "#     else:\n",
        "#         resultado = \"Semana incorrecta\"\n",
        "    \n",
        "#     if resultado in [\"Día incorrecto\", \"Semana incorrecta\"]:\n",
        "#         resultado_final = resultado\n",
        "#     else:\n",
        "#         X = pd.concat([X, Falso])\n",
        "#         prediccion = ResultadosLogit.predict(sm.add_constant(X))\n",
        "#         prediccion = prediccion.reset_index(drop = True)\n",
        "#         prediccion = prediccion[0]\n",
        "#         if prediccion > 0.5:\n",
        "#             resultado_final = \"Para este día se estiman más de dos asistencias\"\n",
        "#         else:\n",
        "#             resultado_final = \"Para este día se estiman dos o menos asistencias\"\n",
        "#     return(resultado_final)"
      ],
      "execution_count": 123,
      "outputs": []
    },
    {
      "cell_type": "code",
      "metadata": {
        "id": "ZH2mPKSQQX4o"
      },
      "source": [
        "# PRONÓSTICO\n",
        "\n",
        "#dia = input(\"Ingrese el día de la semana para el que desea realizar la predicción:\")\n",
        "#semana = input(\"Ingrese el número de la semana para el que desea realizar la predicción:\")\n",
        "#semestre=0\n",
        "#prediccion(dia, semana,semestre)\n",
        "\n",
        "#Nota: el día debe entrar en minúscula con la tilde respectiva.\n",
        "#La semana debe ser superior a 2 y menor que 19"
      ],
      "execution_count": null,
      "outputs": []
    }
  ]
}